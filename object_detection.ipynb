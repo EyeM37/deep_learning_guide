{
  "cells": [
    {
      "cell_type": "markdown",
      "metadata": {
        "id": "N6ZDpd9XzFeN"
      },
      "source": [
        "##### Copyright 2018 The TensorFlow Hub Authors.\n",
        "\n",
        "Licensed under the Apache License, Version 2.0 (the \"License\");"
      ]
    },
    {
      "cell_type": "code",
      "execution_count": null,
      "metadata": {
        "cellView": "both",
        "id": "KUu4vOt5zI9d"
      },
      "outputs": [],
      "source": [
        "# Copyright 2018 The TensorFlow Hub Authors. All Rights Reserved.\n",
        "#\n",
        "# Licensed under the Apache License, Version 2.0 (the \"License\");\n",
        "# you may not use this file except in compliance with the License.\n",
        "# You may obtain a copy of the License at\n",
        "#\n",
        "#     http://www.apache.org/licenses/LICENSE-2.0\n",
        "#\n",
        "# Unless required by applicable law or agreed to in writing, software\n",
        "# distributed under the License is distributed on an \"AS IS\" BASIS,\n",
        "# WITHOUT WARRANTIES OR CONDITIONS OF ANY KIND, either express or implied.\n",
        "# See the License for the specific language governing permissions and\n",
        "# limitations under the License.\n",
        "# =============================================================================="
      ]
    },
    {
      "cell_type": "markdown",
      "metadata": {
        "id": "CxmDMK4yupqg"
      },
      "source": [
        "# Object Detection\n"
      ]
    },
    {
      "cell_type": "markdown",
      "metadata": {
        "id": "MfBg1C5NB3X0"
      },
      "source": [
        "<table class=\"tfo-notebook-buttons\" align=\"left\">\n",
        "  <td>\n",
        "    <a target=\"_blank\" href=\"https://www.tensorflow.org/hub/tutorials/object_detection\"><img src=\"https://www.tensorflow.org/images/tf_logo_32px.png\" />View on TensorFlow.org</a>\n",
        "  </td>\n",
        "  <td>\n",
        "    <a target=\"_blank\" href=\"https://colab.research.google.com/github/tensorflow/docs/blob/master/site/en/hub/tutorials/object_detection.ipynb\"><img src=\"https://www.tensorflow.org/images/colab_logo_32px.png\" />Run in Google Colab</a>\n",
        "  </td>\n",
        "  <td>\n",
        "    <a target=\"_blank\" href=\"https://github.com/tensorflow/docs/blob/master/site/en/hub/tutorials/object_detection.ipynb\"><img src=\"https://www.tensorflow.org/images/GitHub-Mark-32px.png\" />View on GitHub</a>\n",
        "  </td>\n",
        "  <td>\n",
        "    <a href=\"https://storage.googleapis.com/tensorflow_docs/docs/site/en/hub/tutorials/object_detection.ipynb\"><img src=\"https://www.tensorflow.org/images/download_logo_32px.png\" />Download notebook</a>\n",
        "  </td>\n",
        "  <td>\n",
        "    <a href=\"https://tfhub.dev/s?q=google%2Ffaster_rcnn%2Fopenimages_v4%2Finception_resnet_v2%2F1%20OR%20google%2Ffaster_rcnn%2Fopenimages_v4%2Finception_resnet_v2%2F1\"><img src=\"https://www.tensorflow.org/images/hub_logo_32px.png\" />See TF Hub models</a>\n",
        "  </td>\n",
        "</table>"
      ]
    },
    {
      "cell_type": "markdown",
      "metadata": {
        "id": "Sy553YSVmYiK"
      },
      "source": [
        "This Colab demonstrates use of a TF-Hub module trained to perform object detection."
      ]
    },
    {
      "cell_type": "markdown",
      "metadata": {
        "id": "v4XGxDrCkeip"
      },
      "source": [
        "## Setup\n"
      ]
    },
    {
      "cell_type": "code",
      "execution_count": null,
      "metadata": {
        "id": "6cPY9Ou4sWs_"
      },
      "outputs": [],
      "source": [
        "# @title นำเข้าไลบรารีที่จำเป็น\n",
        "# ส่วนนี้เป็นการนำเข้าไลบรารี (libraries) และกำหนดฟังก์ชันที่จำเป็นต่อการใช้งาน\n",
        "\n",
        "# สำหรับรันงาน inference บน TF-Hub module\n",
        "import tensorflow as tf           # ไลบรารีหลักสำหรับ Deep Learning/Machine Learning\n",
        "import tensorflow_hub as hub      # ไลบรารีสำหรับเรียกใช้งานโมเดลสำเร็จรูปจาก TF-Hub\n",
        "\n",
        "# สำหรับดาวน์โหลดรูปภาพและประมวลผลรูปภาพ\n",
        "import matplotlib.pyplot as plt   # ไลบรารีสำหรับสร้างกราฟและแสดงผลรูปภาพ\n",
        "import tempfile                   # ไลบรารีสำหรับจัดการไฟล์ชั่วคราว\n",
        "from six.moves.urllib.request import urlopen  # สำหรับดาวน์โหลดข้อมูลจาก URL\n",
        "from six import BytesIO           # สำหรับจัดการข้อมูลให้อยู่ในรูป Bytes\n",
        "\n",
        "# สำหรับวาดรูปลงไปบนรูปภาพ\n",
        "import numpy as np                # ไลบรารีสำหรับการคำนวณแบบเมทริกซ์และอาเรย์\n",
        "from PIL import Image             # ไลบรารีสำหรับจัดการและประมวลผลรูปภาพ\n",
        "from PIL import ImageColor        # สำหรับแปลงชื่อสีเป็นค่า RGB\n",
        "from PIL import ImageDraw         # สำหรับวาดเส้นและรูปทรงบนรูปภาพ\n",
        "from PIL import ImageFont         # สำหรับวาดตัวอักษรบนรูปภาพ\n",
        "from PIL import ImageOps          # สำหรับปรับแต่งรูปภาพ เช่น ครอบ (crop), ใส่ขอบ (border)\n",
        "\n",
        "# สำหรับวัดระยะเวลาในการทำ inference\n",
        "import time\n",
        "\n",
        "# พิมพ์เวอร์ชันของ TensorFlow\n",
        "print(tf.__version__)\n",
        "\n",
        "# ตรวจสอบว่า GPU ที่ใช้ได้มีอะไรบ้าง\n",
        "print(\"The following GPU devices are available: %s\" % tf.test.gpu_device_name())\n"
      ]
    },
    {
      "cell_type": "markdown",
      "metadata": {
        "id": "ZGkrXGy62409"
      },
      "source": [
        "## ตัวอย่างการใช้"
      ]
    },
    {
      "cell_type": "markdown",
      "metadata": {
        "id": "vlA3CftFpRiW"
      },
      "source": [
        "### ฟังก์ชันช่วยในการดาวน์โหลดรูปภาพ.\n",
        "\n",
        "Code นี้ประยุกต์จาก [TF object detection API](https://github.com/tensorflow/models/blob/master/research/object_detection/utils/visualization_utils.py) การใช้งานเบื้องต้น"
      ]
    },
    {
      "cell_type": "code",
      "execution_count": null,
      "metadata": {
        "id": "D9IwDpOtpIHW"
      },
      "outputs": [],
      "source": [
        "def display_image(image):\n",
        "  \"\"\"\n",
        "  ฟังก์ชันสำหรับแสดงรูปภาพโดยใช้ matplotlib\n",
        "\n",
        "  Arguments:\n",
        "    image : รูปภาพที่อยู่ในรูปแบบ numpy array หรือรูปภาพในรูปแบบที่สามารถนำมาแสดงได้ด้วย plt.imshow\n",
        "  \"\"\"\n",
        "  fig = plt.figure(figsize=(20, 15))  # กำหนดขนาดของ figure\n",
        "  plt.grid(False)                     # ปิดการแสดงเส้นตาราง\n",
        "  plt.imshow(image)                   # แสดงรูปภาพ\n",
        "\n",
        "\n",
        "def download_and_resize_image(url, new_width=256, new_height=256, display=False):\n",
        "  \"\"\"\n",
        "  ฟังก์ชันสำหรับดาวน์โหลดรูปภาพจาก URL และทำการปรับขนาดรูปภาพ\n",
        "\n",
        "  Arguments:\n",
        "    url        : URL ของรูปภาพที่ต้องการดาวน์โหลด\n",
        "    new_width  : ความกว้างใหม่ของรูปภาพ (หน่วยเป็นพิกเซล)\n",
        "    new_height : ความสูงใหม่ของรูปภาพ (หน่วยเป็นพิกเซล)\n",
        "    display    : ถ้าเป็น True จะเรียกใช้ฟังก์ชัน display_image เพื่อแสดงรูปภาพ\n",
        "\n",
        "  Returns:\n",
        "    filename   : ชื่อไฟล์ (path) ที่บันทึกรูปภาพ\n",
        "  \"\"\"\n",
        "  _, filename = tempfile.mkstemp(suffix=\".jpg\")  # สร้างไฟล์ชั่วคราวพร้อมนามสกุล \".jpg\"\n",
        "  response = urlopen(url)                        # เปิด URL เพื่อดาวน์โหลดไฟล์รูปภาพ\n",
        "  image_data = response.read()                   # อ่านข้อมูลรูปภาพ\n",
        "  image_data = BytesIO(image_data)               # แปลงข้อมูลให้อยู่ในรูป BytesIO\n",
        "  pil_image = Image.open(image_data)             # เปิดรูปภาพด้วย PIL\n",
        "  # ปรับขนาดรูปภาพให้พอดีกับ (new_width, new_height) โดยใช้ ImageOps.fit และ Image.LANCZOS\n",
        "  pil_image = ImageOps.fit(pil_image, (new_width, new_height), Image.LANCZOS)\n",
        "  pil_image_rgb = pil_image.convert(\"RGB\")       # แปลงรูปเป็นโหมด RGB\n",
        "  pil_image_rgb.save(filename, format=\"JPEG\", quality=90)  # บันทึกเป็นไฟล์ JPEG\n",
        "  print(\"Image downloaded to %s.\" % filename)    # แสดงข้อความไฟล์ที่บันทึก\n",
        "  if display:\n",
        "    display_image(pil_image)                     # ถ้า display=True ให้เรียกฟังก์ชันแสดงรูปภาพ\n",
        "  return filename\n",
        "\n",
        "\n",
        "def draw_bounding_box_on_image(image,\n",
        "                               ymin,\n",
        "                               xmin,\n",
        "                               ymax,\n",
        "                               xmax,\n",
        "                               color,\n",
        "                               font,\n",
        "                               thickness=4,\n",
        "                               display_str_list=()):\n",
        "  \"\"\"\n",
        "  ฟังก์ชันสำหรับวาดกรอบสี่เหลี่ยม (bounding box) พร้อมข้อความกำกับ ลงบนรูปภาพ\n",
        "\n",
        "  Arguments:\n",
        "    image           : รูปภาพที่ต้องการวาดกรอบ\n",
        "    ymin, xmin      : ค่า y และ x ของจุดเริ่มต้นด้านบนซ้ายของกรอบ (normalized value ระหว่าง 0-1)\n",
        "    ymax, xmax      : ค่า y และ x ของจุดสิ้นสุดด้านล่างขวาของกรอบ (normalized value ระหว่าง 0-1)\n",
        "    color           : สีของกรอบ (ค่า string หรือค่า RGBA)\n",
        "    font            : ฟอนต์ที่ใช้ในการเขียนข้อความ\n",
        "    thickness       : ความหนาของเส้นกรอบ\n",
        "    display_str_list: รายการข้อความที่ต้องการแสดงภายในกรอบ\n",
        "  \"\"\"\n",
        "  draw = ImageDraw.Draw(image)       # สร้างวัตถุสำหรับวาด (Draw object) บนรูปภาพ\n",
        "  im_width, im_height = image.size   # ได้ขนาดความกว้างและความสูงของรูปภาพ\n",
        "  # คำนวณตำแหน่งขอบซ้าย, ขวา, บน, ล่าง ของกรอบ ให้อยู่ในหน่วยพิกเซล\n",
        "  (left, right, top, bottom) = (xmin * im_width,\n",
        "                                xmax * im_width,\n",
        "                                ymin * im_height,\n",
        "                                ymax * im_height)\n",
        "  # วาดเส้นกรอบสี่เหลี่ยมด้วย draw.line\n",
        "  draw.line([(left, top), (left, bottom), (right, bottom), (right, top), (left, top)],\n",
        "            width=thickness, fill=color)\n",
        "\n",
        "  # คำนวณความสูงของข้อความแต่ละอันเพื่อจัดวางข้อความไม่ให้เลยขอบของกรอบ\n",
        "  display_str_heights = [font.getbbox(ds)[3] for ds in display_str_list]\n",
        "  total_display_str_height = (1 + 2 * 0.05) * sum(display_str_heights)\n",
        "\n",
        "  # เลือกตำแหน่งวางข้อความว่าควรอยู่เหนือหรือใต้ขอบบนของกรอบ\n",
        "  if top > total_display_str_height:\n",
        "    text_bottom = top\n",
        "  else:\n",
        "    text_bottom = top + total_display_str_height\n",
        "\n",
        "  # วนลูปข้อความจากอันหลังสุดไปยังอันแรก เพื่อนำมาเรียงต่อกัน\n",
        "  for display_str in display_str_list[::-1]:\n",
        "    bbox = font.getbbox(display_str)     # ได้ขนาดของ bounding box ของข้อความ\n",
        "    text_width, text_height = bbox[2], bbox[3]\n",
        "    margin = np.ceil(0.05 * text_height) # เว้นขอบด้านบนและล่าง\n",
        "    # วาดพื้นหลังสีเดียวกับกรอบ เพื่อให้ข้อความอ่านง่าย\n",
        "    draw.rectangle([(left, text_bottom - text_height - 2 * margin),\n",
        "                    (left + text_width, text_bottom)],\n",
        "                   fill=color)\n",
        "    # วาดข้อความลงบนรูปภาพ\n",
        "    draw.text((left + margin, text_bottom - text_height - margin),\n",
        "              display_str,\n",
        "              fill=\"black\",\n",
        "              font=font)\n",
        "    # ปรับตำแหน่ง text_bottom สำหรับข้อความถัดไป\n",
        "    text_bottom -= text_height - 2 * margin\n",
        "\n",
        "\n",
        "def draw_boxes(image, boxes, class_names, scores, max_boxes=10, min_score=0.1):\n",
        "  \"\"\"\n",
        "  ฟังก์ชันสำหรับวาดกรอบ (bounding box) พร้อมชื่อคลาสและคะแนนความเชื่อมั่นลงบนรูปภาพ\n",
        "\n",
        "  Arguments:\n",
        "    image       : รูปภาพ (numpy array) ที่ต้องการวาดกรอบ\n",
        "    boxes       : อาเรย์ของพิกัดกรอบ bounding box (ymin, xmin, ymax, xmax) ในรูปแบบ normalized\n",
        "    class_names : อาเรย์หรือ list ของชื่อคลาสที่ตรวจจับได้\n",
        "    scores      : อาเรย์ของคะแนนความเชื่อมั่น (confidence score)\n",
        "    max_boxes   : จำนวนกรอบสูงสุดที่จะวาดลงบนรูปภาพ\n",
        "    min_score   : เกณฑ์คะแนนขั้นต่ำของความเชื่อมั่น (confidence score) ที่จะนำมาวาด\n",
        "  \"\"\"\n",
        "  # สร้างลิสต์สีทั้งหมดที่มีใน ImageColor.colormap\n",
        "  colors = list(ImageColor.colormap.values())\n",
        "\n",
        "  # พยายามโหลดฟอนต์จาก path ที่กำหนด\n",
        "  try:\n",
        "    font = ImageFont.truetype(\n",
        "      \"/usr/share/fonts/truetype/liberation/LiberationSansNarrow-Regular.ttf\",\n",
        "      25\n",
        "    )\n",
        "  except IOError:\n",
        "    # ถ้าไม่มีฟอนต์ดังกล่าว ให้ใช้ฟอนต์เริ่มต้นของ PIL\n",
        "    print(\"Font not found, using default font.\")\n",
        "    font = ImageFont.load_default()\n",
        "\n",
        "  # วนลูปกรอบทั้งหมด แต่ไม่เกิน max_boxes\n",
        "  for i in range(min(boxes.shape[0], max_boxes)):\n",
        "    if scores[i] >= min_score:  # ถ้าคะแนนมากกว่าหรือเท่ากับเกณฑ์ขั้นต่ำ\n",
        "      ymin, xmin, ymax, xmax = tuple(boxes[i])\n",
        "      # แปลงชื่อคลาส (bytes) เป็น string แล้วคำนวณเปอร์เซ็นต์คะแนน\n",
        "      display_str = \"{}: {}%\".format(\n",
        "          class_names[i].decode(\"ascii\"),\n",
        "          int(100 * scores[i])\n",
        "      )\n",
        "      # เลือกสีของกรอบ (hash ของชื่อคลาส mod จำนวนสีที่มี)\n",
        "      color = colors[hash(class_names[i]) % len(colors)]\n",
        "      # แปลง numpy array ให้เป็นรูปภาพแบบ PIL เพื่อวาดกรอบ\n",
        "      image_pil = Image.fromarray(np.uint8(image)).convert(\"RGB\")\n",
        "      draw_bounding_box_on_image(\n",
        "          image_pil,\n",
        "          ymin,\n",
        "          xmin,\n",
        "          ymax,\n",
        "          xmax,\n",
        "          color,\n",
        "          font,\n",
        "          display_str_list=[display_str]\n",
        "      )\n",
        "      # หลังจากวาดกรอบเสร็จ ให้อัปเดตอาเรย์ภาพเดิมด้วยข้อมูลจาก image_pil\n",
        "      np.copyto(image, np.array(image_pil))\n",
        "\n",
        "  return image\n"
      ]
    },
    {
      "cell_type": "markdown",
      "metadata": {
        "id": "D19UCu9Q2-_8"
      },
      "source": [
        "## การใช้งานโมดูล\n",
        "\n",
        "โหลดรูปภาพสาธารณจาก  Open Images v4 บันทึกลงในเครื่อง (Colab) , และแสดงผล"
      ]
    },
    {
      "cell_type": "code",
      "execution_count": null,
      "metadata": {
        "id": "YLWNhjUY1mhg"
      },
      "outputs": [],
      "source": [
        "# By Heiko Gorski, Source: https://commons.wikimedia.org/wiki/File:Naxos_Taverna.jpg\n",
        "# กำหนด URL ของรูปภาพที่ต้องการดาวน์โหลด\n",
        "image_url = \"https://upload.wikimedia.org/wikipedia/commons/6/60/Naxos_Taverna.jpg\"  #@param\n",
        "\n",
        "# ดาวน์โหลดรูปภาพและปรับขนาดเป็น 1280 x 856 โดยการเรียกฟังก์ชัน download_and_resize_image\n",
        "# และสั่งให้แสดงรูปภาพหลังดาวน์โหลด (display=True)\n",
        "downloaded_image_path = download_and_resize_image(image_url, 1280, 856, True)\n"
      ]
    },
    {
      "cell_type": "markdown",
      "metadata": {
        "id": "t-VdfLbC1w51"
      },
      "source": [
        "เลือก โมเดล Object detection และใช้กับรูปภาพที่ดาวน์โหลดมา\n",
        " โมดูลมีให้เลือกคือ:\n",
        "* **FasterRCNN+InceptionResNet V2**: มีความแม่นยำสูง,\n",
        "* **ssd+mobilenet V2**: ขนาดเล็กและทำงานเร็ว."
      ]
    },
    {
      "cell_type": "code",
      "execution_count": null,
      "metadata": {
        "id": "uazJ5ASc2_QE"
      },
      "outputs": [],
      "source": [
        "# module_handle คือ URL ของโมเดลที่ต้องการโหลดจาก TF-Hub\n",
        "module_handle = \"https://tfhub.dev/google/faster_rcnn/openimages_v4/inception_resnet_v2/1\"  #@param [\"https://tfhub.dev/google/openimages_v4/ssd/mobilenet_v2/1\", \"https://tfhub.dev/google/faster_rcnn/openimages_v4/inception_resnet_v2/1\"]\n",
        "\n",
        "# โหลดโมเดลจาก TF-Hub โดยใช้ module_handle และเข้าถึง signature ชื่อ 'default' เพื่อใช้งานโมเดล\n",
        "detector = hub.load(module_handle).signatures['default']\n"
      ]
    },
    {
      "cell_type": "code",
      "execution_count": null,
      "metadata": {
        "id": "znW8Fq1EC0x7"
      },
      "outputs": [],
      "source": [
        "def load_img(path):\n",
        "  \"\"\"\n",
        "  ฟังก์ชันสำหรับโหลดรูปภาพจากไฟล์\n",
        "\n",
        "  Arguments:\n",
        "    path : ที่อยู่ของไฟล์รูปภาพ (path หรือ URL ของรูปภาพใน local)\n",
        "\n",
        "  Returns:\n",
        "    img  : Tensor ที่แสดงถึงรูปภาพในรูปแบบ RGB\n",
        "  \"\"\"\n",
        "  img = tf.io.read_file(path)             # อ่านไฟล์รูปภาพจาก path\n",
        "  img = tf.image.decode_jpeg(img, channels=3)  # แปลงข้อมูลรูปภาพเป็น JPEG โดยกำหนดให้มี 3 ช่องสี (RGB)\n",
        "  return img\n"
      ]
    },
    {
      "cell_type": "code",
      "execution_count": null,
      "metadata": {
        "id": "kwGJV96WWBLH"
      },
      "outputs": [],
      "source": [
        "def run_detector(detector, path):\n",
        "  \"\"\"\n",
        "  ฟังก์ชันสำหรับรันโมเดลตรวจจับวัตถุ (object detection) บนรูปภาพที่กำหนด\n",
        "  และแสดงผลการตรวจจับพร้อมกรอบสี่เหลี่ยม (bounding boxes) และชื่อวัตถุบนรูปภาพ\n",
        "\n",
        "  Arguments:\n",
        "    detector : โมเดลที่โหลดมาจาก TF-Hub ซึ่งมี signature 'default' สำหรับตรวจจับวัตถุ\n",
        "    path     : path หรือที่อยู่ของไฟล์รูปภาพที่จะทำการตรวจจับ\n",
        "  \"\"\"\n",
        "  # โหลดรูปภาพจากไฟล์\n",
        "  img = load_img(path)\n",
        "\n",
        "  # แปลงค่าพิกเซลของรูปภาพให้อยู่ในช่วง [0,1] และเพิ่มมิติ batch ด้านหน้า [tf.newaxis, ...]\n",
        "  converted_img  = tf.image.convert_image_dtype(img, tf.float32)[tf.newaxis, ...]\n",
        "\n",
        "  # เริ่มต้นจับเวลาสำหรับการทำ inference\n",
        "  start_time = time.time()\n",
        "  # ส่งรูปภาพ (converted_img) เข้าโมเดล detector เพื่อให้โมเดลตรวจจับวัตถุ\n",
        "  result = detector(converted_img)\n",
        "  # สิ้นสุดการจับเวลา\n",
        "  end_time = time.time()\n",
        "\n",
        "  # แปลงผลลัพธ์ที่ได้จาก Tensor ให้เป็น numpy array (เพื่อให้ง่ายต่อการประมวลผลต่อ)\n",
        "  result = {key: value.numpy() for key, value in result.items()}\n",
        "\n",
        "  # พิมพ์จำนวนวัตถุที่ตรวจจับได้ และเวลาที่ใช้ในการทำ inference\n",
        "  print(\"Found %d objects.\" % len(result[\"detection_scores\"]))\n",
        "  print(\"Inference time: \", end_time - start_time)\n",
        "\n",
        "  # วาดกรอบสี่เหลี่ยม (bounding boxes) และชื่อวัตถุบนรูปภาพ\n",
        "  image_with_boxes = draw_boxes(\n",
        "      img.numpy(),\n",
        "      result[\"detection_boxes\"],\n",
        "      result[\"detection_class_entities\"],\n",
        "      result[\"detection_scores\"]\n",
        "  )\n",
        "\n",
        "  # แสดงรูปภาพที่มีกรอบสี่เหลี่ยมและชื่อวัตถุ\n",
        "  display_image(image_with_boxes)\n"
      ]
    },
    {
      "cell_type": "code",
      "execution_count": null,
      "metadata": {
        "id": "vchaUW1XDodD"
      },
      "outputs": [],
      "source": [
        "# เรียกใช้ฟังก์ชัน run_detector เพื่อรันโมเดลตรวจจับวัตถุบนรูปภาพที่ดาวน์โหลดมา\n",
        "run_detector(detector, downloaded_image_path)\n"
      ]
    },
    {
      "cell_type": "markdown",
      "metadata": {
        "id": "WUUY3nfRX7VF"
      },
      "source": [
        "### ลองกับรูปอื่นๆ\n",
        "ตัวอย่างการทดสอบโมเดลกับรูปภาพอื่น ๆ หลายใบ พร้อมดูเวลาที่ใช้ในการทำ inference\n"
      ]
    },
    {
      "cell_type": "code",
      "execution_count": null,
      "metadata": {
        "id": "rubdr2JXfsa1"
      },
      "outputs": [],
      "source": [
        "# กำหนดรายการ URL ของรูปภาพเพิ่มเติม เพื่อนำมาทำการตรวจจับวัตถุ (object detection)\n",
        "image_urls = [\n",
        "    # Source: https://commons.wikimedia.org/wiki/File:The_Coleoptera_of_the_British_islands_(Plate_125)_(8592917784).jpg\n",
        "    \"https://upload.wikimedia.org/wikipedia/commons/1/1b/The_Coleoptera_of_the_British_islands_%28Plate_125%29_%288592917784%29.jpg\",\n",
        "    # By Américo Toledano, Source: https://commons.wikimedia.org/wiki/File:Biblioteca_Maim%C3%B3nides,_Campus_Universitario_de_Rabanales_007.jpg\n",
        "    \"https://upload.wikimedia.org/wikipedia/commons/thumb/0/0d/Biblioteca_Maim%C3%B3nides%2C_Campus_Universitario_de_Rabanales_007.jpg/1024px-Biblioteca_Maim%C3%B3nides%2C_Campus_Universitario_de_Rabanales_007.jpg\",\n",
        "    # Source: https://commons.wikimedia.org/wiki/File:The_smaller_British_birds_(8053836633).jpg\n",
        "    \"https://upload.wikimedia.org/wikipedia/commons/0/09/The_smaller_British_birds_%288053836633%29.jpg\",\n",
        "]\n",
        "\n",
        "def detect_img(image_url):\n",
        "  \"\"\"\n",
        "  ฟังก์ชันสำหรับ:\n",
        "    1) ดาวน์โหลดและปรับขนาดรูปภาพจาก image_url\n",
        "    2) รันโมเดลตรวจจับวัตถุ (detector) บนรูปภาพดังกล่าว\n",
        "    3) แสดงผลการตรวจจับและเวลาที่ใช้ในการทำ inference\n",
        "\n",
        "  Arguments:\n",
        "    image_url : URL ของรูปภาพที่ต้องการนำมาทำการตรวจจับ\n",
        "  \"\"\"\n",
        "  start_time = time.time()  # เริ่มต้นจับเวลาการประมวลผล\n",
        "\n",
        "  # ดาวน์โหลดรูปภาพและปรับขนาดเป็น 640 x 480 พิกเซล\n",
        "  image_path = download_and_resize_image(image_url, 640, 480)\n",
        "\n",
        "  # รันโมเดลตรวจจับวัตถุที่โหลดไว้ก่อนหน้า (detector)\n",
        "  run_detector(detector, image_path)\n",
        "\n",
        "  end_time = time.time()  # สิ้นสุดการจับเวลาการประมวลผล\n",
        "\n",
        "  # แสดงผลเวลา (หน่วยเป็นวินาที) ที่ใช้ในการทำ inference\n",
        "  print(\"Inference time:\", end_time - start_time)"
      ]
    },
    {
      "cell_type": "code",
      "execution_count": null,
      "metadata": {
        "id": "otPnrxMKIrj5"
      },
      "outputs": [],
      "source": [
        "detect_img(image_urls[0])"
      ]
    },
    {
      "cell_type": "code",
      "execution_count": null,
      "metadata": {
        "id": "H5F7DkD5NtOx"
      },
      "outputs": [],
      "source": [
        "detect_img(image_urls[1])"
      ]
    },
    {
      "cell_type": "code",
      "execution_count": null,
      "metadata": {
        "id": "DZ18R7dWNyoU"
      },
      "outputs": [],
      "source": [
        "detect_img(image_urls[2])"
      ]
    },
    {
      "cell_type": "markdown",
      "source": [
        "**ให้นักศึกษาทดลองนำรูปภาพของตัวเองมาทดลองทำ Object Detection จากตัวอย่าง Code ด้านบน**"
      ],
      "metadata": {
        "id": "zBZdY4WbgEjZ"
      }
    },
    {
      "cell_type": "code",
      "source": [
        "### เขียน Code สำหรับ Object detection รูปของตัวเอง\n"
      ],
      "metadata": {
        "id": "jOm_h35BgQGo"
      },
      "execution_count": null,
      "outputs": []
    }
  ],
  "metadata": {
    "accelerator": "GPU",
    "colab": {
      "toc_visible": true,
      "provenance": []
    },
    "kernelspec": {
      "display_name": "Python 3",
      "name": "python3"
    }
  },
  "nbformat": 4,
  "nbformat_minor": 0
}