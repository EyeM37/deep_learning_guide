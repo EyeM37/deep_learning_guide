{
  "nbformat": 4,
  "nbformat_minor": 0,
  "metadata": {
    "colab": {
      "name": "PDL-05.ipynb",
      "provenance": [],
      "collapsed_sections": []
    },
    "kernelspec": {
      "name": "python3",
      "display_name": "Python 3"
    },
    "language_info": {
      "name": "python"
    }
  },
  "cells": [
    {
      "cell_type": "code",
      "execution_count": 1,
      "metadata": {
        "id": "Wvqqj4d_H3w-"
      },
      "outputs": [],
      "source": [
        "import numpy as np\n",
        "import pandas as pd\n",
        "from matplotlib import pyplot as plt  \n",
        "from sklearn.datasets import make_blobs\n",
        "import plotly\n",
        "import plotly.graph_objs as go"
      ]
    },
    {
      "cell_type": "code",
      "source": [
        "def create_nn_model(x, y, l):\n",
        "    input_layer = x\n",
        "    weights1 = np.random.uniform(-1, 1, (input_layer.shape[1], 4))\n",
        "    \n",
        "    weights2 = np.random.uniform(-1, 1, (4, 1))\n",
        "    label = y\n",
        "    output_layer = np.zeros(y.shape)\n",
        "    learning_rate = l\n",
        "    \n",
        "    return {'input_layer': input_layer, 'weights1': weights1, 'weights2': weights2, 'label': label, 'output_layer': output_layer, 'learning_rate': learning_rate}"
      ],
      "metadata": {
        "id": "G8kyuk52IZxG"
      },
      "execution_count": 2,
      "outputs": []
    },
    {
      "cell_type": "code",
      "source": [
        "x, y = make_blobs(n_samples=10, centers=2, n_features=3)\n",
        "\n",
        "y = np.expand_dims(y, axis=1)\n",
        "x.shape, y.shape"
      ],
      "metadata": {
        "colab": {
          "base_uri": "https://localhost:8080/"
        },
        "id": "0QG40kWfIfIp",
        "outputId": "5a36fe9b-f7db-461c-d892-0b93bf8f3125"
      },
      "execution_count": 3,
      "outputs": [
        {
          "output_type": "execute_result",
          "data": {
            "text/plain": [
              "((10, 3), (10, 1))"
            ]
          },
          "metadata": {},
          "execution_count": 3
        }
      ]
    },
    {
      "cell_type": "code",
      "source": [
        "learning_rate = 0.1\n",
        "\n",
        "model = create_nn_model(x, y, learning_rate)"
      ],
      "metadata": {
        "id": "fRKyRa8JIihj"
      },
      "execution_count": 4,
      "outputs": []
    },
    {
      "cell_type": "code",
      "source": [
        "model['input_layer'].shape"
      ],
      "metadata": {
        "colab": {
          "base_uri": "https://localhost:8080/"
        },
        "id": "R-gZC4xAIlAY",
        "outputId": "190f24ba-8e1d-4bdb-f20b-9ed3f07dab90"
      },
      "execution_count": 5,
      "outputs": [
        {
          "output_type": "execute_result",
          "data": {
            "text/plain": [
              "(10, 3)"
            ]
          },
          "metadata": {},
          "execution_count": 5
        }
      ]
    },
    {
      "cell_type": "code",
      "source": [
        "model['input_layer']"
      ],
      "metadata": {
        "colab": {
          "base_uri": "https://localhost:8080/"
        },
        "id": "_PnsyLPjIm0x",
        "outputId": "2c6eb883-1b12-4ace-b2a6-9a3a49bbab2b"
      },
      "execution_count": 6,
      "outputs": [
        {
          "output_type": "execute_result",
          "data": {
            "text/plain": [
              "array([[ 5.54814281, -1.51450266,  8.558644  ],\n",
              "       [ 7.12279685, -0.668284  ,  9.38931493],\n",
              "       [-5.04342613, -0.27484999, -6.23688144],\n",
              "       [ 5.411357  , -0.34101995,  8.15913109],\n",
              "       [ 6.83908217, -2.65496536,  6.95943256],\n",
              "       [-5.88572205, -0.45473389, -6.75765872],\n",
              "       [-6.86242932, -0.33713297, -8.02965261],\n",
              "       [-4.4260451 ,  0.05682522, -7.90837899],\n",
              "       [-6.32299774, -2.69505995, -5.33118162],\n",
              "       [ 5.81164929, -1.96459213,  8.77658496]])"
            ]
          },
          "metadata": {},
          "execution_count": 6
        }
      ]
    },
    {
      "cell_type": "code",
      "source": [
        "model['weights1'].shape"
      ],
      "metadata": {
        "colab": {
          "base_uri": "https://localhost:8080/"
        },
        "id": "Goqgb5M9Io0D",
        "outputId": "ff8d1806-06b9-4ee1-d5c0-9c48f8dbc0a9"
      },
      "execution_count": 7,
      "outputs": [
        {
          "output_type": "execute_result",
          "data": {
            "text/plain": [
              "(3, 4)"
            ]
          },
          "metadata": {},
          "execution_count": 7
        }
      ]
    },
    {
      "cell_type": "code",
      "source": [
        "model['weights1']"
      ],
      "metadata": {
        "colab": {
          "base_uri": "https://localhost:8080/"
        },
        "id": "EBqcdMYrIqtc",
        "outputId": "b9606630-62a0-4bda-c1a4-d8ab0c2f89cf"
      },
      "execution_count": 8,
      "outputs": [
        {
          "output_type": "execute_result",
          "data": {
            "text/plain": [
              "array([[-0.33220646, -0.59250386, -0.38102847, -0.33109529],\n",
              "       [-0.20794196, -0.09595286,  0.65213365,  0.15493682],\n",
              "       [ 0.68703055, -0.18593218, -0.96530758,  0.71930204]])"
            ]
          },
          "metadata": {},
          "execution_count": 8
        }
      ]
    },
    {
      "cell_type": "code",
      "source": [
        "model['weights2'].shape"
      ],
      "metadata": {
        "colab": {
          "base_uri": "https://localhost:8080/"
        },
        "id": "Y92j2vyBIspl",
        "outputId": "930b19dc-8393-47c4-e713-1a0f5362e876"
      },
      "execution_count": 9,
      "outputs": [
        {
          "output_type": "execute_result",
          "data": {
            "text/plain": [
              "(4, 1)"
            ]
          },
          "metadata": {},
          "execution_count": 9
        }
      ]
    },
    {
      "cell_type": "code",
      "source": [
        "model['weights2']"
      ],
      "metadata": {
        "colab": {
          "base_uri": "https://localhost:8080/"
        },
        "id": "O_0JM7kjIulX",
        "outputId": "ef93fbfd-6a0b-406f-ad04-00ce339d215c"
      },
      "execution_count": 10,
      "outputs": [
        {
          "output_type": "execute_result",
          "data": {
            "text/plain": [
              "array([[-0.00271053],\n",
              "       [-0.80223561],\n",
              "       [ 0.49178362],\n",
              "       [-0.54258082]])"
            ]
          },
          "metadata": {},
          "execution_count": 10
        }
      ]
    },
    {
      "cell_type": "code",
      "source": [
        "model['label'].shape"
      ],
      "metadata": {
        "colab": {
          "base_uri": "https://localhost:8080/"
        },
        "id": "CvK2Vi7KIw8k",
        "outputId": "2c4524ea-1d2a-4235-ab6f-e4286221dcac"
      },
      "execution_count": 11,
      "outputs": [
        {
          "output_type": "execute_result",
          "data": {
            "text/plain": [
              "(10, 1)"
            ]
          },
          "metadata": {},
          "execution_count": 11
        }
      ]
    },
    {
      "cell_type": "code",
      "source": [
        "model['output_layer'].shape"
      ],
      "metadata": {
        "colab": {
          "base_uri": "https://localhost:8080/"
        },
        "id": "CGI1jCoGIy8K",
        "outputId": "f484449a-870b-4128-c25c-12fcee565f4e"
      },
      "execution_count": 12,
      "outputs": [
        {
          "output_type": "execute_result",
          "data": {
            "text/plain": [
              "(10, 1)"
            ]
          },
          "metadata": {},
          "execution_count": 12
        }
      ]
    },
    {
      "cell_type": "code",
      "source": [
        "model['output_layer'] #ŷ"
      ],
      "metadata": {
        "colab": {
          "base_uri": "https://localhost:8080/"
        },
        "id": "uLTqoZrzI1Bq",
        "outputId": "2711d88b-f85b-4b16-a999-39c86bab637d"
      },
      "execution_count": 13,
      "outputs": [
        {
          "output_type": "execute_result",
          "data": {
            "text/plain": [
              "array([[0.],\n",
              "       [0.],\n",
              "       [0.],\n",
              "       [0.],\n",
              "       [0.],\n",
              "       [0.],\n",
              "       [0.],\n",
              "       [0.],\n",
              "       [0.],\n",
              "       [0.]])"
            ]
          },
          "metadata": {},
          "execution_count": 13
        }
      ]
    },
    {
      "cell_type": "code",
      "source": [
        "def sigmoid(x):\n",
        "    return 1.0/(1+ np.exp(-x))\n",
        "\n",
        "def sigmoid_derivative(x):\n",
        "    return x * (1.0 - x)"
      ],
      "metadata": {
        "id": "tA68Fm2cI3gU"
      },
      "execution_count": 14,
      "outputs": []
    },
    {
      "cell_type": "code",
      "source": [
        "def loss(model):\n",
        "    return sum((model['label'] - model['output_layer'])**2)"
      ],
      "metadata": {
        "id": "g6kUDQWiI7Me"
      },
      "execution_count": 15,
      "outputs": []
    },
    {
      "cell_type": "code",
      "source": [
        "def feedforward(model):\n",
        "    model['layer1'] = sigmoid(np.dot(model['input_layer'], model['weights1']))\n",
        "    model['output_layer'] = sigmoid(np.dot(model['layer1'], model['weights2']))               "
      ],
      "metadata": {
        "id": "qITnAF_CI-HB"
      },
      "execution_count": 16,
      "outputs": []
    },
    {
      "cell_type": "code",
      "source": [
        "def backprop(model):\n",
        "    d_weights2 = np.dot(model['layer1'].T, (2*(model['label']- model['output_layer']) * sigmoid_derivative(model['output_layer'])))\n",
        "    d_weights1 = np.dot(model['input_layer'].T,  (np.dot(2*(model['label'] - model['output_layer']) * sigmoid_derivative(model['output_layer']), model['weights2'].T) * sigmoid_derivative(model['layer1'])))\n",
        "    \n",
        "    model['weights2'] += model['learning_rate']*d_weights2\n",
        "    model['weights1'] += model['learning_rate']*d_weights1"
      ],
      "metadata": {
        "id": "BaZQkdDIJAHx"
      },
      "execution_count": 17,
      "outputs": []
    },
    {
      "cell_type": "markdown",
      "source": [
        "# **Train Model**"
      ],
      "metadata": {
        "id": "YBJeC4MqJGUg"
      }
    },
    {
      "cell_type": "code",
      "source": [
        "history=[]\n",
        "epoch = 500\n",
        "\n",
        "for i in range(epoch):\n",
        "    feedforward(model)\n",
        "    backprop(model)\n",
        "    history.append(loss(model))"
      ],
      "metadata": {
        "id": "rDsgwFpEJCmB"
      },
      "execution_count": 18,
      "outputs": []
    },
    {
      "cell_type": "code",
      "source": [
        "df = pd.DataFrame(history, columns=['loss'])\n",
        "df.head()"
      ],
      "metadata": {
        "colab": {
          "base_uri": "https://localhost:8080/",
          "height": 206
        },
        "id": "yq-GUK_9JJou",
        "outputId": "d57babf1-8329-44a2-dcfa-7ec03826dbda"
      },
      "execution_count": 19,
      "outputs": [
        {
          "output_type": "execute_result",
          "data": {
            "text/html": [
              "\n",
              "  <div id=\"df-2a29146d-f8a1-4d29-93d3-b50db167f009\">\n",
              "    <div class=\"colab-df-container\">\n",
              "      <div>\n",
              "<style scoped>\n",
              "    .dataframe tbody tr th:only-of-type {\n",
              "        vertical-align: middle;\n",
              "    }\n",
              "\n",
              "    .dataframe tbody tr th {\n",
              "        vertical-align: top;\n",
              "    }\n",
              "\n",
              "    .dataframe thead th {\n",
              "        text-align: right;\n",
              "    }\n",
              "</style>\n",
              "<table border=\"1\" class=\"dataframe\">\n",
              "  <thead>\n",
              "    <tr style=\"text-align: right;\">\n",
              "      <th></th>\n",
              "      <th>loss</th>\n",
              "    </tr>\n",
              "  </thead>\n",
              "  <tbody>\n",
              "    <tr>\n",
              "      <th>0</th>\n",
              "      <td>2.862143</td>\n",
              "    </tr>\n",
              "    <tr>\n",
              "      <th>1</th>\n",
              "      <td>2.292443</td>\n",
              "    </tr>\n",
              "    <tr>\n",
              "      <th>2</th>\n",
              "      <td>1.826204</td>\n",
              "    </tr>\n",
              "    <tr>\n",
              "      <th>3</th>\n",
              "      <td>1.467495</td>\n",
              "    </tr>\n",
              "    <tr>\n",
              "      <th>4</th>\n",
              "      <td>1.201951</td>\n",
              "    </tr>\n",
              "  </tbody>\n",
              "</table>\n",
              "</div>\n",
              "      <button class=\"colab-df-convert\" onclick=\"convertToInteractive('df-2a29146d-f8a1-4d29-93d3-b50db167f009')\"\n",
              "              title=\"Convert this dataframe to an interactive table.\"\n",
              "              style=\"display:none;\">\n",
              "        \n",
              "  <svg xmlns=\"http://www.w3.org/2000/svg\" height=\"24px\"viewBox=\"0 0 24 24\"\n",
              "       width=\"24px\">\n",
              "    <path d=\"M0 0h24v24H0V0z\" fill=\"none\"/>\n",
              "    <path d=\"M18.56 5.44l.94 2.06.94-2.06 2.06-.94-2.06-.94-.94-2.06-.94 2.06-2.06.94zm-11 1L8.5 8.5l.94-2.06 2.06-.94-2.06-.94L8.5 2.5l-.94 2.06-2.06.94zm10 10l.94 2.06.94-2.06 2.06-.94-2.06-.94-.94-2.06-.94 2.06-2.06.94z\"/><path d=\"M17.41 7.96l-1.37-1.37c-.4-.4-.92-.59-1.43-.59-.52 0-1.04.2-1.43.59L10.3 9.45l-7.72 7.72c-.78.78-.78 2.05 0 2.83L4 21.41c.39.39.9.59 1.41.59.51 0 1.02-.2 1.41-.59l7.78-7.78 2.81-2.81c.8-.78.8-2.07 0-2.86zM5.41 20L4 18.59l7.72-7.72 1.47 1.35L5.41 20z\"/>\n",
              "  </svg>\n",
              "      </button>\n",
              "      \n",
              "  <style>\n",
              "    .colab-df-container {\n",
              "      display:flex;\n",
              "      flex-wrap:wrap;\n",
              "      gap: 12px;\n",
              "    }\n",
              "\n",
              "    .colab-df-convert {\n",
              "      background-color: #E8F0FE;\n",
              "      border: none;\n",
              "      border-radius: 50%;\n",
              "      cursor: pointer;\n",
              "      display: none;\n",
              "      fill: #1967D2;\n",
              "      height: 32px;\n",
              "      padding: 0 0 0 0;\n",
              "      width: 32px;\n",
              "    }\n",
              "\n",
              "    .colab-df-convert:hover {\n",
              "      background-color: #E2EBFA;\n",
              "      box-shadow: 0px 1px 2px rgba(60, 64, 67, 0.3), 0px 1px 3px 1px rgba(60, 64, 67, 0.15);\n",
              "      fill: #174EA6;\n",
              "    }\n",
              "\n",
              "    [theme=dark] .colab-df-convert {\n",
              "      background-color: #3B4455;\n",
              "      fill: #D2E3FC;\n",
              "    }\n",
              "\n",
              "    [theme=dark] .colab-df-convert:hover {\n",
              "      background-color: #434B5C;\n",
              "      box-shadow: 0px 1px 3px 1px rgba(0, 0, 0, 0.15);\n",
              "      filter: drop-shadow(0px 1px 2px rgba(0, 0, 0, 0.3));\n",
              "      fill: #FFFFFF;\n",
              "    }\n",
              "  </style>\n",
              "\n",
              "      <script>\n",
              "        const buttonEl =\n",
              "          document.querySelector('#df-2a29146d-f8a1-4d29-93d3-b50db167f009 button.colab-df-convert');\n",
              "        buttonEl.style.display =\n",
              "          google.colab.kernel.accessAllowed ? 'block' : 'none';\n",
              "\n",
              "        async function convertToInteractive(key) {\n",
              "          const element = document.querySelector('#df-2a29146d-f8a1-4d29-93d3-b50db167f009');\n",
              "          const dataTable =\n",
              "            await google.colab.kernel.invokeFunction('convertToInteractive',\n",
              "                                                     [key], {});\n",
              "          if (!dataTable) return;\n",
              "\n",
              "          const docLinkHtml = 'Like what you see? Visit the ' +\n",
              "            '<a target=\"_blank\" href=https://colab.research.google.com/notebooks/data_table.ipynb>data table notebook</a>'\n",
              "            + ' to learn more about interactive tables.';\n",
              "          element.innerHTML = '';\n",
              "          dataTable['output_type'] = 'display_data';\n",
              "          await google.colab.output.renderOutput(dataTable, element);\n",
              "          const docLink = document.createElement('div');\n",
              "          docLink.innerHTML = docLinkHtml;\n",
              "          element.appendChild(docLink);\n",
              "        }\n",
              "      </script>\n",
              "    </div>\n",
              "  </div>\n",
              "  "
            ],
            "text/plain": [
              "       loss\n",
              "0  2.862143\n",
              "1  2.292443\n",
              "2  1.826204\n",
              "3  1.467495\n",
              "4  1.201951"
            ]
          },
          "metadata": {},
          "execution_count": 19
        }
      ]
    },
    {
      "cell_type": "code",
      "source": [
        "h1 = go.Scatter(y=df['loss'], \n",
        "                    mode=\"lines\", line=dict(\n",
        "                    width=2,\n",
        "                    color='blue'),\n",
        "                    name=\"loss\")\n",
        "\n",
        "data = [h1]\n",
        "\n",
        "layout1 = go.Layout(title='Loss',\n",
        "                   xaxis=dict(title='Epochs'),\n",
        "                   yaxis=dict(title=''))\n",
        "fig1 = go.Figure(data, layout=layout1)\n",
        "plotly.offline.iplot(fig1)"
      ],
      "metadata": {
        "colab": {
          "base_uri": "https://localhost:8080/",
          "height": 542
        },
        "id": "iOOuh2TIJLnA",
        "outputId": "1345cbc1-af06-485c-d064-ac55126cb64e"
      },
      "execution_count": 20,
      "outputs": [
        {
          "output_type": "display_data",
          "data": {
            "text/html": [
              "<html>\n",
              "<head><meta charset=\"utf-8\" /></head>\n",
              "<body>\n",
              "    <div>\n",
              "            <script src=\"https://cdnjs.cloudflare.com/ajax/libs/mathjax/2.7.5/MathJax.js?config=TeX-AMS-MML_SVG\"></script><script type=\"text/javascript\">if (window.MathJax) {MathJax.Hub.Config({SVG: {font: \"STIX-Web\"}});}</script>\n",
              "                <script type=\"text/javascript\">window.PlotlyConfig = {MathJaxConfig: 'local'};</script>\n",
              "        <script src=\"https://cdn.plot.ly/plotly-latest.min.js\"></script>    \n",
              "            <div id=\"6a5a0f20-c52a-46cf-aaf0-75dff79fdb10\" class=\"plotly-graph-div\" style=\"height:525px; width:100%;\"></div>\n",
              "            <script type=\"text/javascript\">\n",
              "                \n",
              "                    window.PLOTLYENV=window.PLOTLYENV || {};\n",
              "                    \n",
              "                if (document.getElementById(\"6a5a0f20-c52a-46cf-aaf0-75dff79fdb10\")) {\n",
              "                    Plotly.newPlot(\n",
              "                        '6a5a0f20-c52a-46cf-aaf0-75dff79fdb10',\n",
              "                        [{\"line\": {\"color\": \"blue\", \"width\": 2}, \"mode\": \"lines\", \"name\": \"loss\", \"type\": \"scatter\", \"y\": [2.8621433661962596, 2.292443170579198, 1.8262041717254915, 1.467494971411916, 1.201951171156511, 1.0050157873600665, 0.8542981646320875, 0.7349210701219515, 0.6382553083527683, 0.55912990799891, 0.4939858018883425, 0.4400694746359686, 0.3951597209422457, 0.3574683612420204, 0.32557373708128684, 0.29835629665749436, 0.2749378104731832, 0.25462875070543645, 0.23688550284758828, 0.22127685257912855, 0.20745826280073218, 0.19515231219500176, 0.18413385599153176, 0.1742187494692936, 0.1652552420646775, 0.15711737147256713, 0.14969985918031697, 0.1429141382318143, 0.13668523970448218, 0.130949334651325, 0.12565177976894054, 0.12074555286448012, 0.11618999204976914, 0.11194977320991936, 0.10799407564210488, 0.10429589725444455, 0.10083148937720914, 0.09757988780839842, 0.09452252173039864, 0.0916428859862157, 0.08892626518066749, 0.08635950038650403, 0.08393079104562116, 0.08162952607928187, 0.07944613934722461, 0.07737198549071266, 0.0753992329099158, 0.07352077120045597, 0.07173013083744843, 0.07002141327104956, 0.0683892299033819, 0.06682864866676981, 0.06533514712850405, 0.06390457121654657, 0.06253309880056149, 0.06121720747888448, 0.05995364601889591, 0.0587394089792426, 0.05757171411028965, 0.056447982186352955, 0.055365818971528404, 0.05432299906179359, 0.05331745138075645, 0.05234724613596784, 0.05141058306793975, 0.05050578084560059, 0.04963126748045092, 0.04878557164761899, 0.047967314815766174, 0.04717520409966703, 0.04640802575958432, 0.04566463928049075, 0.044943971971961975, 0.044245014036340145, 0.04356681405868653, 0.04290847487721776, 0.0422691497974654, 0.041648039117383115, 0.04104438693413878, 0.040457478206421926, 0.03988663604882857, 0.03933121923730222, 0.038790619906751124, 0.03826426142385885, 0.03775159641979575, 0.03725210496903779, 0.036765292901839795, 0.03629069023910349, 0.03582784973944836, 0.03537634554924928, 0.03493577194725917, 0.034505742176206076, 0.03408588735444036, 0.033675855461330666, 0.03327531039066634, 0.032883931066825876, 0.032501410618928125, 0.03212745560859183, 0.03176178530730358, 0.03140413101972703, 0.03105423544959627, 0.03071185210510894, 0.030376744740989066, 0.03004868683461705, 0.029727461093833823, 0.029412858994214027, 0.029104680343778156, 0.028802732873269836, 0.02850683185027037, 0.028216799715552986, 0.027932465740200682, 0.027653665702123225, 0.02738024158070768, 0.027112041268432814, 0.026848918298360676, 0.02659073158649887, 0.026337345188097626, 0.02608862806701427, 0.025844453877336283, 0.025604700756512843, 0.025369251129295573, 0.025137991521836447, 0.024910812385338224, 0.024687607928688588, 0.024468275959552983, 0.024252717733431534, 0.02404083781021977, 0.023832543917843837, 0.023627746822566513, 0.023426360205588553, 0.023228300545592027, 0.023033487006896287, 0.022841841332916415, 0.022653287744634515, 0.022467752843811164, 0.022285165520682413, 0.02210545686590146, 0.02192856008650036, 0.02175441042565961, 0.021582945086086363, 0.02141410315681419, 0.02124782554324764, 0.021084054900285802, 0.02092273556836793, 0.02076381351229429, 0.020607236262682682, 0.020452952859929666, 0.020300913800552635, 0.020151070985796077, 0.02000337767239133, 0.019857788425366053, 0.019714259072804278, 0.019572746662464183, 0.01943320942016586, 0.019295606709864497, 0.01915989899533143, 0.01902604780336713, 0.01889401568847615, 0.018763766198936355, 0.018635263844198904, 0.018508474063559124, 0.018383363196040274, 0.018259898451436416, 0.018138047882462843, 0.01801778035796454, 0.017899065537137097, 0.017781873844714878, 0.017666176447085298, 0.017551945229288414, 0.017439152772865056, 0.017327772334515778, 0.017217777825537683, 0.017109143792005524, 0.01700184539566621, 0.016895858395516865, 0.01679115913003849, 0.016687724500057607, 0.016585531952210995, 0.016484559462988317, 0.01638478552332952, 0.016286189123754936, 0.01618874974000616, 0.016092447319178044, 0.015997262266321987, 0.015903175431502197, 0.015810168097286935, 0.015718221966658088, 0.015627319151322823, 0.015537442160411722, 0.015448573889548688, 0.01536069761027869, 0.015273796959839122, 0.015187855931262786, 0.015102858863799274, 0.015018790433643214, 0.014935635644958117, 0.014853379821184462, 0.014772008596622319, 0.014691507908277663, 0.014611863987963505, 0.01453306335464601, 0.014455092807027534, 0.01437793941635721, 0.014301590519461818, 0.014226033711988583, 0.01415125684185257, 0.01407724800288194, 0.014003995528653071, 0.013931487986510295, 0.013859714171762958, 0.013788663102053976, 0.013718324011893986, 0.013648686347355521, 0.01357973976092188, 0.013511474106484947, 0.013443879434487823, 0.013376945987206575, 0.013310664194167064, 0.013245024667692045, 0.013180018198574487, 0.01311563575187271, 0.01305186846282353, 0.012988707632869781, 0.01292614472579788, 0.012864171363982588, 0.012802779324735182, 0.012741960536751638, 0.012681707076658, 0.01262201116564956, 0.012562865166220762, 0.012504261578983846, 0.012446193039572085, 0.012388652315626174, 0.012331632303860567, 0.01227512602720769, 0.012219126632037256, 0.012163627385448367, 0.01210862167263303, 0.012054102994307501, 0.012000064964210782, 0.011946501306667351, 0.011893405854212636, 0.011840772545279142, 0.011788595421941774, 0.011736868627719964, 0.01168558640543571, 0.01163474309512542, 0.011584333132003796, 0.011534351044479092, 0.01148479145221717, 0.01143564906425367, 0.011386918677152922, 0.01133859517321176, 0.011290673518707443, 0.011243148762188172, 0.01119601603280511, 0.011149270538684832, 0.0111029075653407, 0.011056922474122505, 0.011011310700703106, 0.010966067753601068, 0.01092118921273824, 0.01087667072803146, 0.010832508018017401, 0.010788696868509452, 0.010745233131286175, 0.01070211272281002, 0.010659331622975922, 0.010616885873888565, 0.010574771578667928, 0.010532984900281967, 0.010491522060406221, 0.01045037933830895, 0.010409553069761879, 0.010369039645975265, 0.010328835512556986, 0.01028893716849496, 0.010249341165162166, 0.01021004410534386, 0.010171042642286441, 0.010132333478766898, 0.010093913366183302, 0.010055779103664725, 0.010017927537200846, 0.009980355558790361, 0.009943060105607969, 0.00990603815918926, 0.009869286744633082, 0.009832802929821322, 0.009796583824654842, 0.009760626580306124, 0.009724928388487746, 0.009689486480735877, 0.009654298127709538, 0.009619360638504012, 0.009584671359978869, 0.009550227676100134, 0.009516027007295771, 0.009482066809824876, 0.009448344575159662, 0.009414857829380206, 0.009381604132581694, 0.009348581078293705, 0.009315786292911306, 0.009283217435137766, 0.009250872195438414, 0.009218748295505732, 0.009186843487734915, 0.009155155554710208, 0.00912368230870126, 0.009092421591169766, 0.009061371272285585, 0.009030529250452647, 0.008999893451844238, 0.008969461829947083, 0.008939232365114824, 0.00890920306412987, 0.008879371959773874, 0.008849737110406476, 0.008820296599552501, 0.008791048535496568, 0.008761991050885942, 0.008733122302340855, 0.008704440470072142, 0.008675943757506355, 0.008647630390917833, 0.008619498619067792, 0.008591546712850149, 0.008563772964944268, 0.008536175689473745, 0.008508753221672015, 0.008481503917553954, 0.008454426153593528, 0.008427518326407714, 0.008400778852445787, 0.008374206167684741, 0.008347798727330148, 0.008321555005522412, 0.008295473495048314, 0.008269552707058276, 0.008243791170787954, 0.008218187433285706, 0.00819274005914425, 0.008167447630237667, 0.008142308745462753, 0.00811732202048536, 0.008092486087490726, 0.008067799594938793, 0.008043261207323522, 0.008018869604936533, 0.00799462348363488, 0.007970521554613, 0.007946562544178613, 0.00792274519353237, 0.007899068258551528, 0.00787553050957739, 0.00785213073120625, 0.007828867722084104, 0.007805740294704777, 0.007782747275211589, 0.007759887503202365, 0.007737159831537893, 0.007714563126153354, 0.0076920962658733605, 0.007669758142229669, 0.007647547659282303, 0.007625463733443653, 0.007603505293305374, 0.0075816712794681395, 0.007559960644374603, 0.007538372352144603, 0.007516905378413655, 0.007495558710173609, 0.007474331345616325, 0.00745322229397965, 0.007432230575396204, 0.007411355220744271, 0.007390595271501461, 0.007369949779600598, 0.007349417807287916, 0.00732899842698368, 0.007308690721144921, 0.0072884937821304395, 0.007268406712068072, 0.007248428622723871, 0.007228558635373518, 0.007208795880675899, 0.00718913949854834, 0.007169588638044223, 0.007150142457232172, 0.007130800123077504, 0.00711156081132523, 0.007092423706385075, 0.007073388001218212, 0.007054452897225836, 0.007035617604139414, 0.007016881339912607, 0.006998243330615055, 0.0069797028103274926, 0.0069612590210388035, 0.006942911212544364, 0.0069246586423462346, 0.006906500575554624, 0.0068884362847910175, 0.006870465050092659, 0.00685258615881868, 0.006834798905557389, 0.006817102592035122, 0.006799496527026467, 0.006781980026265823, 0.006764552412360193, 0.006747213014703406, 0.0067299611693916305, 0.006712796219139897, 0.006695717513200253, 0.0066787244072807825, 0.006661816263466075, 0.006644992450138621, 0.006628252341901617, 0.006611595319502716, 0.006595020769758986, 0.0065785280854829065, 0.006562116665409509, 0.006545785914124515, 0.006529535241993526, 0.006513364065092312, 0.006497271805137951, 0.006481257889421185, 0.0064653217507394875, 0.006449462827331215, 0.006433680562810829, 0.006417974406104789, 0.00640234381138854, 0.006386788238024319, 0.006371307150499829, 0.006355900018367866, 0.0063405663161867085, 0.006325305523461303, 0.006310117124585529, 0.006295000608784869, 0.006279955470060274, 0.006264981207132468, 0.006250077323387381, 0.0062352433268220205, 0.006220478729991206, 0.006205783049955158, 0.0061911558082276205, 0.006176596530724816, 0.006162104747715017, 0.006147679993768945, 0.006133321807710618, 0.006119029732569199, 0.006104803315531071, 0.006090642107892944, 0.00607654566501549, 0.0060625135462773596, 0.006048545315030197, 0.006034640538554045, 0.006020798788013321, 0.00600701963841349, 0.0059933026685582425, 0.005979647461007361, 0.0059660536020348836, 0.005952520681588136, 0.005939048293247067, 0.005925636034184346, 0.0059122835051257025, 0.0058989903103110084, 0.005885756057455862, 0.005872580357713477, 0.005859462825637329, 0.005846403079144128, 0.005833400739477288, 0.005820455431170925, 0.005807566782014231, 0.005794734423016468, 0.005781957988372225, 0.005769237115427233, 0.005756571444644585, 0.005743960619571457, 0.005731404286806103, 0.0057189020959654245, 0.005706453699652898, 0.005694058753426869, 0.005681716915769252, 0.005669427848054755, 0.0056571912145203075, 0.0056450066822350195, 0.00563287392107041, 0.005620792603671065, 0.005608762405425687, 0.00559678300443844, 0.005584854081500719, 0.005572975320063213, 0.005561146406208349, 0.005549367028623035, 0.005537636878571876, 0.005525955649870465, 0.0055143230388592715, 0.00550273874437771]}],\n",
              "                        {\"template\": {\"data\": {\"bar\": [{\"error_x\": {\"color\": \"#2a3f5f\"}, \"error_y\": {\"color\": \"#2a3f5f\"}, \"marker\": {\"line\": {\"color\": \"#E5ECF6\", \"width\": 0.5}}, \"type\": \"bar\"}], \"barpolar\": [{\"marker\": {\"line\": {\"color\": \"#E5ECF6\", \"width\": 0.5}}, \"type\": \"barpolar\"}], \"carpet\": [{\"aaxis\": {\"endlinecolor\": \"#2a3f5f\", \"gridcolor\": \"white\", \"linecolor\": \"white\", \"minorgridcolor\": \"white\", \"startlinecolor\": \"#2a3f5f\"}, \"baxis\": {\"endlinecolor\": \"#2a3f5f\", \"gridcolor\": \"white\", \"linecolor\": \"white\", \"minorgridcolor\": \"white\", \"startlinecolor\": \"#2a3f5f\"}, \"type\": \"carpet\"}], \"choropleth\": [{\"colorbar\": {\"outlinewidth\": 0, \"ticks\": \"\"}, \"type\": \"choropleth\"}], \"contour\": [{\"colorbar\": {\"outlinewidth\": 0, \"ticks\": \"\"}, \"colorscale\": [[0.0, \"#0d0887\"], [0.1111111111111111, \"#46039f\"], [0.2222222222222222, \"#7201a8\"], [0.3333333333333333, \"#9c179e\"], [0.4444444444444444, \"#bd3786\"], [0.5555555555555556, \"#d8576b\"], [0.6666666666666666, \"#ed7953\"], [0.7777777777777778, \"#fb9f3a\"], [0.8888888888888888, \"#fdca26\"], [1.0, \"#f0f921\"]], \"type\": \"contour\"}], \"contourcarpet\": [{\"colorbar\": {\"outlinewidth\": 0, \"ticks\": \"\"}, \"type\": \"contourcarpet\"}], \"heatmap\": [{\"colorbar\": {\"outlinewidth\": 0, \"ticks\": \"\"}, \"colorscale\": [[0.0, \"#0d0887\"], [0.1111111111111111, \"#46039f\"], [0.2222222222222222, \"#7201a8\"], [0.3333333333333333, \"#9c179e\"], [0.4444444444444444, \"#bd3786\"], [0.5555555555555556, \"#d8576b\"], [0.6666666666666666, \"#ed7953\"], [0.7777777777777778, \"#fb9f3a\"], [0.8888888888888888, \"#fdca26\"], [1.0, \"#f0f921\"]], \"type\": \"heatmap\"}], \"heatmapgl\": [{\"colorbar\": {\"outlinewidth\": 0, \"ticks\": \"\"}, \"colorscale\": [[0.0, \"#0d0887\"], [0.1111111111111111, \"#46039f\"], [0.2222222222222222, \"#7201a8\"], [0.3333333333333333, \"#9c179e\"], [0.4444444444444444, \"#bd3786\"], [0.5555555555555556, \"#d8576b\"], [0.6666666666666666, \"#ed7953\"], [0.7777777777777778, \"#fb9f3a\"], [0.8888888888888888, \"#fdca26\"], [1.0, \"#f0f921\"]], \"type\": \"heatmapgl\"}], \"histogram\": [{\"marker\": {\"colorbar\": {\"outlinewidth\": 0, \"ticks\": \"\"}}, \"type\": \"histogram\"}], \"histogram2d\": [{\"colorbar\": {\"outlinewidth\": 0, \"ticks\": \"\"}, \"colorscale\": [[0.0, \"#0d0887\"], [0.1111111111111111, \"#46039f\"], [0.2222222222222222, \"#7201a8\"], [0.3333333333333333, \"#9c179e\"], [0.4444444444444444, \"#bd3786\"], [0.5555555555555556, \"#d8576b\"], [0.6666666666666666, \"#ed7953\"], [0.7777777777777778, \"#fb9f3a\"], [0.8888888888888888, \"#fdca26\"], [1.0, \"#f0f921\"]], \"type\": \"histogram2d\"}], \"histogram2dcontour\": [{\"colorbar\": {\"outlinewidth\": 0, \"ticks\": \"\"}, \"colorscale\": [[0.0, \"#0d0887\"], [0.1111111111111111, \"#46039f\"], [0.2222222222222222, \"#7201a8\"], [0.3333333333333333, \"#9c179e\"], [0.4444444444444444, \"#bd3786\"], [0.5555555555555556, \"#d8576b\"], [0.6666666666666666, \"#ed7953\"], [0.7777777777777778, \"#fb9f3a\"], [0.8888888888888888, \"#fdca26\"], [1.0, \"#f0f921\"]], \"type\": \"histogram2dcontour\"}], \"mesh3d\": [{\"colorbar\": {\"outlinewidth\": 0, \"ticks\": \"\"}, \"type\": \"mesh3d\"}], \"parcoords\": [{\"line\": {\"colorbar\": {\"outlinewidth\": 0, \"ticks\": \"\"}}, \"type\": \"parcoords\"}], \"pie\": [{\"automargin\": true, \"type\": \"pie\"}], \"scatter\": [{\"marker\": {\"colorbar\": {\"outlinewidth\": 0, \"ticks\": \"\"}}, \"type\": \"scatter\"}], \"scatter3d\": [{\"line\": {\"colorbar\": {\"outlinewidth\": 0, \"ticks\": \"\"}}, \"marker\": {\"colorbar\": {\"outlinewidth\": 0, \"ticks\": \"\"}}, \"type\": \"scatter3d\"}], \"scattercarpet\": [{\"marker\": {\"colorbar\": {\"outlinewidth\": 0, \"ticks\": \"\"}}, \"type\": \"scattercarpet\"}], \"scattergeo\": [{\"marker\": {\"colorbar\": {\"outlinewidth\": 0, \"ticks\": \"\"}}, \"type\": \"scattergeo\"}], \"scattergl\": [{\"marker\": {\"colorbar\": {\"outlinewidth\": 0, \"ticks\": \"\"}}, \"type\": \"scattergl\"}], \"scattermapbox\": [{\"marker\": {\"colorbar\": {\"outlinewidth\": 0, \"ticks\": \"\"}}, \"type\": \"scattermapbox\"}], \"scatterpolar\": [{\"marker\": {\"colorbar\": {\"outlinewidth\": 0, \"ticks\": \"\"}}, \"type\": \"scatterpolar\"}], \"scatterpolargl\": [{\"marker\": {\"colorbar\": {\"outlinewidth\": 0, \"ticks\": \"\"}}, \"type\": \"scatterpolargl\"}], \"scatterternary\": [{\"marker\": {\"colorbar\": {\"outlinewidth\": 0, \"ticks\": \"\"}}, \"type\": \"scatterternary\"}], \"surface\": [{\"colorbar\": {\"outlinewidth\": 0, \"ticks\": \"\"}, \"colorscale\": [[0.0, \"#0d0887\"], [0.1111111111111111, \"#46039f\"], [0.2222222222222222, \"#7201a8\"], [0.3333333333333333, \"#9c179e\"], [0.4444444444444444, \"#bd3786\"], [0.5555555555555556, \"#d8576b\"], [0.6666666666666666, \"#ed7953\"], [0.7777777777777778, \"#fb9f3a\"], [0.8888888888888888, \"#fdca26\"], [1.0, \"#f0f921\"]], \"type\": \"surface\"}], \"table\": [{\"cells\": {\"fill\": {\"color\": \"#EBF0F8\"}, \"line\": {\"color\": \"white\"}}, \"header\": {\"fill\": {\"color\": \"#C8D4E3\"}, \"line\": {\"color\": \"white\"}}, \"type\": \"table\"}]}, \"layout\": {\"annotationdefaults\": {\"arrowcolor\": \"#2a3f5f\", \"arrowhead\": 0, \"arrowwidth\": 1}, \"coloraxis\": {\"colorbar\": {\"outlinewidth\": 0, \"ticks\": \"\"}}, \"colorscale\": {\"diverging\": [[0, \"#8e0152\"], [0.1, \"#c51b7d\"], [0.2, \"#de77ae\"], [0.3, \"#f1b6da\"], [0.4, \"#fde0ef\"], [0.5, \"#f7f7f7\"], [0.6, \"#e6f5d0\"], [0.7, \"#b8e186\"], [0.8, \"#7fbc41\"], [0.9, \"#4d9221\"], [1, \"#276419\"]], \"sequential\": [[0.0, \"#0d0887\"], [0.1111111111111111, \"#46039f\"], [0.2222222222222222, \"#7201a8\"], [0.3333333333333333, \"#9c179e\"], [0.4444444444444444, \"#bd3786\"], [0.5555555555555556, \"#d8576b\"], [0.6666666666666666, \"#ed7953\"], [0.7777777777777778, \"#fb9f3a\"], [0.8888888888888888, \"#fdca26\"], [1.0, \"#f0f921\"]], \"sequentialminus\": [[0.0, \"#0d0887\"], [0.1111111111111111, \"#46039f\"], [0.2222222222222222, \"#7201a8\"], [0.3333333333333333, \"#9c179e\"], [0.4444444444444444, \"#bd3786\"], [0.5555555555555556, \"#d8576b\"], [0.6666666666666666, \"#ed7953\"], [0.7777777777777778, \"#fb9f3a\"], [0.8888888888888888, \"#fdca26\"], [1.0, \"#f0f921\"]]}, \"colorway\": [\"#636efa\", \"#EF553B\", \"#00cc96\", \"#ab63fa\", \"#FFA15A\", \"#19d3f3\", \"#FF6692\", \"#B6E880\", \"#FF97FF\", \"#FECB52\"], \"font\": {\"color\": \"#2a3f5f\"}, \"geo\": {\"bgcolor\": \"white\", \"lakecolor\": \"white\", \"landcolor\": \"#E5ECF6\", \"showlakes\": true, \"showland\": true, \"subunitcolor\": \"white\"}, \"hoverlabel\": {\"align\": \"left\"}, \"hovermode\": \"closest\", \"mapbox\": {\"style\": \"light\"}, \"paper_bgcolor\": \"white\", \"plot_bgcolor\": \"#E5ECF6\", \"polar\": {\"angularaxis\": {\"gridcolor\": \"white\", \"linecolor\": \"white\", \"ticks\": \"\"}, \"bgcolor\": \"#E5ECF6\", \"radialaxis\": {\"gridcolor\": \"white\", \"linecolor\": \"white\", \"ticks\": \"\"}}, \"scene\": {\"xaxis\": {\"backgroundcolor\": \"#E5ECF6\", \"gridcolor\": \"white\", \"gridwidth\": 2, \"linecolor\": \"white\", \"showbackground\": true, \"ticks\": \"\", \"zerolinecolor\": \"white\"}, \"yaxis\": {\"backgroundcolor\": \"#E5ECF6\", \"gridcolor\": \"white\", \"gridwidth\": 2, \"linecolor\": \"white\", \"showbackground\": true, \"ticks\": \"\", \"zerolinecolor\": \"white\"}, \"zaxis\": {\"backgroundcolor\": \"#E5ECF6\", \"gridcolor\": \"white\", \"gridwidth\": 2, \"linecolor\": \"white\", \"showbackground\": true, \"ticks\": \"\", \"zerolinecolor\": \"white\"}}, \"shapedefaults\": {\"line\": {\"color\": \"#2a3f5f\"}}, \"ternary\": {\"aaxis\": {\"gridcolor\": \"white\", \"linecolor\": \"white\", \"ticks\": \"\"}, \"baxis\": {\"gridcolor\": \"white\", \"linecolor\": \"white\", \"ticks\": \"\"}, \"bgcolor\": \"#E5ECF6\", \"caxis\": {\"gridcolor\": \"white\", \"linecolor\": \"white\", \"ticks\": \"\"}}, \"title\": {\"x\": 0.05}, \"xaxis\": {\"automargin\": true, \"gridcolor\": \"white\", \"linecolor\": \"white\", \"ticks\": \"\", \"title\": {\"standoff\": 15}, \"zerolinecolor\": \"white\", \"zerolinewidth\": 2}, \"yaxis\": {\"automargin\": true, \"gridcolor\": \"white\", \"linecolor\": \"white\", \"ticks\": \"\", \"title\": {\"standoff\": 15}, \"zerolinecolor\": \"white\", \"zerolinewidth\": 2}}}, \"title\": {\"text\": \"Loss\"}, \"xaxis\": {\"title\": {\"text\": \"Epochs\"}}, \"yaxis\": {\"title\": {\"text\": \"\"}}},\n",
              "                        {\"responsive\": true}\n",
              "                    ).then(function(){\n",
              "                            \n",
              "var gd = document.getElementById('6a5a0f20-c52a-46cf-aaf0-75dff79fdb10');\n",
              "var x = new MutationObserver(function (mutations, observer) {{\n",
              "        var display = window.getComputedStyle(gd).display;\n",
              "        if (!display || display === 'none') {{\n",
              "            console.log([gd, 'removed!']);\n",
              "            Plotly.purge(gd);\n",
              "            observer.disconnect();\n",
              "        }}\n",
              "}});\n",
              "\n",
              "// Listen for the removal of the full notebook cells\n",
              "var notebookContainer = gd.closest('#notebook-container');\n",
              "if (notebookContainer) {{\n",
              "    x.observe(notebookContainer, {childList: true});\n",
              "}}\n",
              "\n",
              "// Listen for the clearing of the current output cell\n",
              "var outputEl = gd.closest('.output');\n",
              "if (outputEl) {{\n",
              "    x.observe(outputEl, {childList: true});\n",
              "}}\n",
              "\n",
              "                        })\n",
              "                };\n",
              "                \n",
              "            </script>\n",
              "        </div>\n",
              "</body>\n",
              "</html>"
            ]
          },
          "metadata": {}
        }
      ]
    },
    {
      "cell_type": "code",
      "source": [
        ""
      ],
      "metadata": {
        "id": "2LoBkSG_JONN"
      },
      "execution_count": 20,
      "outputs": []
    }
  ]
}