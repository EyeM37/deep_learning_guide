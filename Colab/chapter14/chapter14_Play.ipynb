{
  "nbformat": 4,
  "nbformat_minor": 0,
  "metadata": {
    "colab": {
      "name": "PDL_14_Play.ipynb",
      "provenance": [],
      "collapsed_sections": [],
      "machine_shape": "hm"
    },
    "kernelspec": {
      "name": "python3",
      "display_name": "Python 3"
    },
    "language_info": {
      "name": "python"
    },
    "accelerator": "GPU"
  },
  "cells": [
    {
      "cell_type": "code",
      "source": [
        "import tensorflow as tf\n",
        "\n",
        "import matplotlib.pyplot as plt\n",
        "import matplotlib as mpl\n",
        "\n",
        "import cv2\n",
        "import os\n",
        "import pickle as pic\n",
        "from collections import deque\n",
        "import sys\n",
        "\n",
        "loss_function = tf.keras.losses.Huber()\n",
        "initializer = tf.keras.initializers.VarianceScaling(scale=2.0)"
      ],
      "metadata": {
        "id": "R0jXQtRmbw2-"
      },
      "execution_count": null,
      "outputs": []
    },
    {
      "cell_type": "code",
      "source": [
        "!nvidia-smi"
      ],
      "metadata": {
        "id": "xw6lrrnqZwQt"
      },
      "execution_count": null,
      "outputs": []
    },
    {
      "cell_type": "code",
      "source": [
        "from psutil import *\n",
        "\n",
        "cpu_count()"
      ],
      "metadata": {
        "id": "OINe8fuBZwr5"
      },
      "execution_count": null,
      "outputs": []
    },
    {
      "cell_type": "code",
      "source": [
        "!cat /proc/cpuinfo"
      ],
      "metadata": {
        "id": "RXJl5UCNZ7lf"
      },
      "execution_count": null,
      "outputs": []
    },
    {
      "cell_type": "code",
      "source": [
        "from google.colab import drive\n",
        "drive.mount('/content/drive')"
      ],
      "metadata": {
        "id": "MRiADiLaaCd5"
      },
      "execution_count": null,
      "outputs": []
    },
    {
      "cell_type": "code",
      "source": [
        "os.chdir(\"drive/My Drive/colabpro_drive\")"
      ],
      "metadata": {
        "id": "VRq5JcymaGPJ"
      },
      "execution_count": null,
      "outputs": []
    },
    {
      "cell_type": "code",
      "source": [
        "pwd"
      ],
      "metadata": {
        "id": "ShQFr0FQbZtQ"
      },
      "execution_count": null,
      "outputs": []
    },
    {
      "cell_type": "code",
      "source": [
        "!apt update\n",
        "!apt install xvfb"
      ],
      "metadata": {
        "id": "yMt4Yt2xb6Av"
      },
      "execution_count": null,
      "outputs": []
    },
    {
      "cell_type": "code",
      "source": [
        "nb_path = \"/content/drive/My Drive/colabpro_drive/lib\"\n",
        "\n",
        "sys.path.append(nb_path)\n",
        "\n",
        "# !pip install pyvirtualdisplay --target=\"{nb_path}\" --upgrade \n",
        "\n",
        "import pyvirtualdisplay\n",
        "from gym.wrappers import Monitor\n",
        "import glob\n",
        "import io\n",
        "import base64\n",
        "from IPython import display as ipythondisplay\n",
        "from IPython.display import HTML"
      ],
      "metadata": {
        "id": "KG-ncH3pb8V5"
      },
      "execution_count": null,
      "outputs": []
    },
    {
      "cell_type": "code",
      "source": [
        "d = pyvirtualdisplay.Display()\n",
        "d.start()"
      ],
      "metadata": {
        "id": "OaB82NpwcEsW"
      },
      "execution_count": null,
      "outputs": []
    },
    {
      "cell_type": "code",
      "source": [
        "def show_video():\n",
        "  mp4list = glob.glob('video/*.mp4')\n",
        "  if len(mp4list) > 0:\n",
        "    mp4 = mp4list[0]\n",
        "    video = io.open(mp4, 'r+b').read()\n",
        "    encoded = base64.b64encode(video)\n",
        "    ipythondisplay.display(HTML(data='''<video alt=\"test\" autoplay loop controls style=\"height: 400px;\">\n",
        "      <source src=\"data:video/mp4;base64,{0}\" type=\"video/mp4\" />\n",
        "      </video>'''.format(encoded.decode('ascii'))))\n",
        "  else: \n",
        "    print(\"Could not find video\")\n",
        "    \n",
        "\n",
        "def wrap_env(env):\n",
        "  env = Monitor(env, './video', force=True)\n",
        "  return env"
      ],
      "metadata": {
        "id": "BX-4zyCtcIKu"
      },
      "execution_count": null,
      "outputs": []
    },
    {
      "cell_type": "code",
      "source": [
        "import gym\n",
        "import cv2\n",
        "import numpy as np\n",
        "\n",
        "import plotly.graph_objs as go\n",
        "import pickle as p\n",
        "\n",
        "from sklearn.manifold import TSNE\n",
        "\n",
        "import pandas as pd\n",
        "import plotly.express as px\n",
        "\n",
        "import tensorflow as tf\n",
        "load_model = tf.keras.models.load_model"
      ],
      "metadata": {
        "id": "02oT0yrDcMjz"
      },
      "execution_count": null,
      "outputs": []
    },
    {
      "cell_type": "code",
      "source": [
        "with open('reward_history', 'rb') as file:\n",
        "    history = p.load(file)"
      ],
      "metadata": {
        "id": "EcsIuT35cRBr"
      },
      "execution_count": null,
      "outputs": []
    },
    {
      "cell_type": "code",
      "source": [
        "h1 = go.Scatter(y=history, \n",
        "                    mode=\"lines\", line=dict(\n",
        "                    width=2,\n",
        "                    color='blue'),\n",
        "                    name=\"reward\"\n",
        "                   )\n",
        "\n",
        "data = [h1]\n",
        "layout1 = go.Layout(title='Total Reward',\n",
        "                   xaxis=dict(title='Episode'),\n",
        "                   yaxis=dict(title=''))\n",
        "fig1 = go.Figure(data = data, layout=layout1)\n",
        "fig1.show(renderer=\"colab\")"
      ],
      "metadata": {
        "id": "6SBgeMmlcTey"
      },
      "execution_count": null,
      "outputs": []
    },
    {
      "cell_type": "code",
      "source": [
        "def screen_pixel_preprocess(observation):\n",
        "    s = cv2.cvtColor(observation, cv2.COLOR_BGR2GRAY)\n",
        "    s = cv2.resize(s, (0, 0), fx=0.5, fy=0.5, interpolation = cv2.INTER_AREA) \n",
        "    # cv2.imwrite('image.png',s) \n",
        "    s = s/236.0\n",
        "    return s\n",
        "\n",
        "def update_state(state,observation):\n",
        "    ds_observation = screen_pixel_preprocess(observation)\n",
        "    state.append(ds_observation)\n",
        "    if len(state) > 4:\n",
        "        del state[:1]\n",
        "\n",
        "def predict_action(model, s):\n",
        "    return np.argmax(model.predict(np.array([np.stack((s[0],s[1],s[2],s[3]),axis=2)]))[0])"
      ],
      "metadata": {
        "id": "q7KFrftEFTOi"
      },
      "execution_count": null,
      "outputs": []
    },
    {
      "cell_type": "code",
      "source": [
        "model = load_model('model/model-700.h5')\n",
        "model.summary()"
      ],
      "metadata": {
        "id": "eqIfVFocFfpY"
      },
      "execution_count": null,
      "outputs": []
    },
    {
      "cell_type": "code",
      "source": [
        "!wget http://www.atarimania.com/roms/Roms.rar\n",
        "!mkdir ROM\n",
        "!unrar e Roms.rar ROM\n",
        "!python -m atari_py.import_roms ROM"
      ],
      "metadata": {
        "id": "nS_C88HPFjX6"
      },
      "execution_count": null,
      "outputs": []
    },
    {
      "cell_type": "code",
      "source": [
        "env = wrap_env(gym.make('Pong-v0'))\n",
        "observation = env.reset()\n",
        "state = []\n",
        "update_state(state,observation)\n",
        "\n",
        "while True:\n",
        "    env.render()\n",
        "    if len(state) < 4:\n",
        "        action = env.action_space.sample()\n",
        "    else:\n",
        "        action = predict_action(model, state)\n",
        "    \n",
        "    observation, reward, done, _ = env.step(action)\n",
        "\n",
        "    update_state(state,observation)\n",
        "    if done: \n",
        "        break\n",
        "\n",
        "env.close()\n",
        "show_video()"
      ],
      "metadata": {
        "id": "SRquow93FwfS"
      },
      "execution_count": null,
      "outputs": []
    },
    {
      "cell_type": "markdown",
      "source": [
        "# **Show the State**"
      ],
      "metadata": {
        "id": "WFk09tQ1GCbL"
      }
    },
    {
      "cell_type": "code",
      "source": [
        "intermediate_model = tf.keras.models.Model(inputs=model.inputs, outputs=model.layers[3].output)\n",
        "intermediate_model.summary()"
      ],
      "metadata": {
        "id": "zQYbFsimF5vR"
      },
      "execution_count": null,
      "outputs": []
    },
    {
      "cell_type": "code",
      "source": [
        "def predict_action(model, intermediate_model, s):\n",
        "    vector = intermediate_model.predict(np.array([np.stack((s[0],s[1],s[2],s[3]),axis=2)]))[0]\n",
        "    return np.argmax(model.predict(np.array([np.stack((s[0],s[1],s[2],s[3]),axis=2)]))[0]), vector"
      ],
      "metadata": {
        "id": "paLl82iSGS2i"
      },
      "execution_count": null,
      "outputs": []
    },
    {
      "cell_type": "code",
      "source": [
        "env = wrap_env(gym.make('Pong-v0'))\n",
        "\n",
        "feature_vector = []\n",
        "y = []\n",
        "point = 0\n",
        "num_frame = 0\n",
        "\n",
        "observation = env.reset()\n",
        "state = []\n",
        "update_state(state,observation)\n",
        "\n",
        "while True:\n",
        "    if len(state) < 4:\n",
        "        action = env.action_space.sample()\n",
        "    else:\n",
        "        action, vector = predict_action(model, intermediate_model, state)\n",
        "        feature_vector.append(vector)\n",
        "        y.append(point) \n",
        "\n",
        "        num_frame+=1\n",
        "\n",
        "    observation, reward, done, _ = env.step(action)\n",
        "    if reward != 0:\n",
        "        point+=1\n",
        "\n",
        "        for i in range(len(y) - num_frame, len(y)):\n",
        "            y[i] = y[i]*reward\n",
        "            \n",
        "        num_frame = 0\n",
        "    update_state(state,observation)\n",
        "    \n",
        "    if done: \n",
        "        break\n",
        "            \n",
        "env.close()\n",
        "show_video()"
      ],
      "metadata": {
        "id": "6ZlIw1daGVpv"
      },
      "execution_count": null,
      "outputs": []
    },
    {
      "cell_type": "code",
      "source": [
        "len(feature_vector), feature_vector[0].shape"
      ],
      "metadata": {
        "id": "9jVZD2IkGbHq"
      },
      "execution_count": null,
      "outputs": []
    },
    {
      "cell_type": "code",
      "source": [
        "tsne = TSNE(random_state = 99, n_components=2,verbose=1, n_iter=3000).fit_transform(feature_vector)\n",
        "tsne.shape"
      ],
      "metadata": {
        "id": "Sj4alLvLGf1v"
      },
      "execution_count": null,
      "outputs": []
    },
    {
      "cell_type": "code",
      "source": [
        "tsne_pd = pd.DataFrame(tsne, columns=['x', 'y'])\n",
        "y_pd = pd.DataFrame(y, columns=['point'])\n",
        "\n",
        "df = pd.concat([tsne_pd, y_pd], axis=1)\n",
        "df[\"point\"] = df[\"point\"].astype(str)\n",
        "\n",
        "fig = px.scatter(df, x=\"x\", y=\"y\", color=\"point\")\n",
        "fig.update_layout(autosize=False, width=1200, height=600)"
      ],
      "metadata": {
        "id": "XKPF-ctmGjLK"
      },
      "execution_count": null,
      "outputs": []
    },
    {
      "cell_type": "code",
      "source": [
        ""
      ],
      "metadata": {
        "id": "svWg-iUBG0T4"
      },
      "execution_count": null,
      "outputs": []
    }
  ]
}