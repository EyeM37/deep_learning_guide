{
  "nbformat": 4,
  "nbformat_minor": 0,
  "metadata": {
    "colab": {
      "name": "PDL_11.ipynb",
      "provenance": [],
      "collapsed_sections": [],
      "machine_shape": "hm"
    },
    "kernelspec": {
      "name": "python3",
      "display_name": "Python 3"
    },
    "language_info": {
      "name": "python"
    },
    "accelerator": "GPU"
  },
  "cells": [
    {
      "cell_type": "code",
      "execution_count": null,
      "metadata": {
        "id": "JvTNSIRBb_L8"
      },
      "outputs": [],
      "source": [
        "from math import log, log2\n",
        "import numpy as np\n",
        "import pandas as pd\n",
        "import plotly.express as px\n",
        "import plotly.graph_objects as go\n",
        "\n",
        "import tensorflow as tf"
      ]
    },
    {
      "cell_type": "code",
      "source": [
        "p = 0.1\n",
        "h = -log2(p)\n",
        "\n",
        "print('p(x)=%.3f, information: %.3f bits' % (p, h))\n",
        "\n",
        "p = 0.5\n",
        "h = -log2(p)\n",
        "\n",
        "print('p(x)=%.3f, information: %.3f bits' % (p, h))"
      ],
      "metadata": {
        "id": "kxFLg8OrctMz"
      },
      "execution_count": null,
      "outputs": []
    },
    {
      "cell_type": "code",
      "source": [
        "probs = [0.1, 0.2, 0.3, 0.4, 0.5, 0.6, 0.7, 0.8, 0.9, 1.0]\n",
        "info = [-log2(p) for p in probs]"
      ],
      "metadata": {
        "id": "XO2VnOhEc9tn"
      },
      "execution_count": null,
      "outputs": []
    },
    {
      "cell_type": "code",
      "source": [
        "df = pd.DataFrame(list(zip(probs, info)), columns =['Probability', 'Information'])\n",
        "df"
      ],
      "metadata": {
        "id": "MHAUIYHsdACX"
      },
      "execution_count": null,
      "outputs": []
    },
    {
      "cell_type": "code",
      "source": [
        "fig = px.line(df, x='Probability', y='Information', title='Probability vs Information')\n",
        "fig.show()"
      ],
      "metadata": {
        "id": "HkagvgSPdCXs"
      },
      "execution_count": null,
      "outputs": []
    },
    {
      "cell_type": "markdown",
      "source": [
        "# **Entropy**"
      ],
      "metadata": {
        "id": "qrb8AuNVdLqm"
      }
    },
    {
      "cell_type": "code",
      "source": [
        "P = [1/6, 1/6, 1/6, 1/6, 1/6, 1/6]\n",
        "entropy = -sum([p * log2(p) for p in P])\n",
        "print('entropy: %.3f bits' % entropy)"
      ],
      "metadata": {
        "id": "9odG9LK3dFeC"
      },
      "execution_count": null,
      "outputs": []
    },
    {
      "cell_type": "code",
      "source": [
        "def entropy(events, ets=1e-15):\n",
        "    return -sum([p * log2(p + ets) for p in events])\n",
        " \n",
        "probs = [0.0, 0.1, 0.2, 0.3, 0.4, 0.5]\n",
        "dists = [[p, 1.0 - p] for p in probs]\n",
        "ents = [entropy(d) for d in dists]"
      ],
      "metadata": {
        "id": "SRoAffCPdenR"
      },
      "execution_count": null,
      "outputs": []
    },
    {
      "cell_type": "code",
      "source": [
        "df = pd.DataFrame(list(zip(probs, ents)), columns =['Probability Distribution', 'Entropy (bits)'])"
      ],
      "metadata": {
        "id": "_er4r9Wed5cX"
      },
      "execution_count": null,
      "outputs": []
    },
    {
      "cell_type": "code",
      "source": [
        "fig = px.line(df, x='Probability Distribution', y='Entropy (bits)', title='Probability Distribution vs Entropy')\n",
        "fig.update_xaxes(ticktext=[str(d) for d in dists], tickvals = probs)"
      ],
      "metadata": {
        "id": "DFVAWTs-d-D-"
      },
      "execution_count": null,
      "outputs": []
    },
    {
      "cell_type": "markdown",
      "source": [
        "# **Cross-Entropy**"
      ],
      "metadata": {
        "id": "WFLYXoMceP7g"
      }
    },
    {
      "cell_type": "code",
      "source": [
        "events = ['A', 'B', 'C', 'D']\n",
        "p = [1/2, 1/4, 1/8, 1/8]\n",
        "q = [1/8, 1/4, 1/2, 1/8]"
      ],
      "metadata": {
        "id": "Q4TnCQZ9eNef"
      },
      "execution_count": null,
      "outputs": []
    },
    {
      "cell_type": "code",
      "source": [
        "fig = go.Figure(data=[\n",
        "    go.Bar(name='Probability Distribution เก่า (p)', x=events, y=p, text=p, textposition='auto'),\n",
        "    go.Bar(name='Probability Distribution ใหม่ (q)', x=events, y=q, text=q, textposition='auto')\n",
        "])\n",
        "\n",
        "fig.update_layout(barmode='group')"
      ],
      "metadata": {
        "id": "HVXla5d1etPz"
      },
      "execution_count": null,
      "outputs": []
    },
    {
      "cell_type": "code",
      "source": [
        "def cross_entropy(p, q):\n",
        "    return -sum([q[i]*log2(p[i]) for i in range(len(p))])"
      ],
      "metadata": {
        "id": "P96CSycfe0ay"
      },
      "execution_count": null,
      "outputs": []
    },
    {
      "cell_type": "code",
      "source": [
        "ce = cross_entropy(p, q)\n",
        "print('H(P, Q): %.3f bits' % ce)"
      ],
      "metadata": {
        "id": "qiSOCjrre5jv"
      },
      "execution_count": null,
      "outputs": []
    },
    {
      "cell_type": "markdown",
      "source": [
        "# **Binary Classification Loss Functions**"
      ],
      "metadata": {
        "id": "YlTcwZBcfhv8"
      }
    },
    {
      "cell_type": "code",
      "source": [
        "def sigmoid(x):\n",
        "    return 1.0/(1+ np.exp(-x))\n",
        "\n",
        "data = 25\n",
        "result = sigmoid(data)\n",
        "\n",
        "print(result)"
      ],
      "metadata": {
        "id": "kO7d0KXPe7Ju"
      },
      "execution_count": null,
      "outputs": []
    },
    {
      "cell_type": "markdown",
      "source": [
        "# **Binary Crossentropy Loss**"
      ],
      "metadata": {
        "id": "v6OJjkUMfpUw"
      }
    },
    {
      "cell_type": "code",
      "source": [
        "events = ['Class 0', 'Class 1']\n",
        "actual = [1, 0, 1, 1, 0]\n",
        "predicted = [0.7, 0.45, 0.9, 0.5, 0.3]\n",
        "\n",
        "index = 0\n",
        "p = [1-actual[index], actual[index]]\n",
        "q = [1-predicted[index], predicted[index]]"
      ],
      "metadata": {
        "id": "qxEurn6ffnih"
      },
      "execution_count": null,
      "outputs": []
    },
    {
      "cell_type": "code",
      "source": [
        "fig = go.Figure(data=[\n",
        "    go.Bar(name='Actual Probability Distribution', x=events, y=p, text=p, textposition='auto'),\n",
        "    go.Bar(name='Predicted Probability Distribution', x=events, y=q, text=list(np.round(q,2)), textposition='auto')\n",
        "])\n",
        "\n",
        "fig.update_layout(barmode='group', title='Record 1')"
      ],
      "metadata": {
        "id": "W6-9421ffuP1"
      },
      "execution_count": null,
      "outputs": []
    },
    {
      "cell_type": "code",
      "source": [
        "index = 1\n",
        "p = [1-actual[index], actual[index]]\n",
        "q = [1-predicted[index], predicted[index]]"
      ],
      "metadata": {
        "id": "WgAJUtKmfwr4"
      },
      "execution_count": null,
      "outputs": []
    },
    {
      "cell_type": "code",
      "source": [
        "fig = go.Figure(data=[\n",
        "    go.Bar(name='Actual Probability Distribution', x=events, y=p, text=p, textposition='auto'),\n",
        "    go.Bar(name='Predicted Probability Distribution', x=events, y=q, text=q, textposition='auto')\n",
        "])\n",
        "\n",
        "fig.update_layout(barmode='group', title='Record 2')"
      ],
      "metadata": {
        "id": "w3YRayRkfzIm"
      },
      "execution_count": null,
      "outputs": []
    },
    {
      "cell_type": "code",
      "source": [
        "index = 2\n",
        "p = [1-actual[index], actual[index]]\n",
        "q = [1-predicted[index], predicted[index]]"
      ],
      "metadata": {
        "id": "CZGZR7K_f0vm"
      },
      "execution_count": null,
      "outputs": []
    },
    {
      "cell_type": "code",
      "source": [
        "fig = go.Figure(data=[\n",
        "    go.Bar(name='Actual Probability Distribution', x=events, y=p, text=p, textposition='auto'),\n",
        "    go.Bar(name='Predicted Probability Distribution', x=events, y=q, text=np.round(q,2), textposition='auto')\n",
        "])\n",
        "\n",
        "fig.update_layout(barmode='group', title='Record 3')"
      ],
      "metadata": {
        "id": "E-CJBjuMf3kw"
      },
      "execution_count": null,
      "outputs": []
    },
    {
      "cell_type": "code",
      "source": [
        "index = 3\n",
        "p = [1-actual[index], actual[index]]\n",
        "q = [1-predicted[index], predicted[index]]"
      ],
      "metadata": {
        "id": "eoiUyDjmf5fT"
      },
      "execution_count": null,
      "outputs": []
    },
    {
      "cell_type": "code",
      "source": [
        "fig = go.Figure(data=[\n",
        "    go.Bar(name='Actual Probability Distribution', x=events, y=p, text=p, textposition='auto'),\n",
        "    go.Bar(name='Predicted Probability Distribution', x=events, y=q, text=q, textposition='auto')\n",
        "])\n",
        "\n",
        "fig.update_layout(barmode='group', title='Record 4')"
      ],
      "metadata": {
        "id": "ezXzM672f7ab"
      },
      "execution_count": null,
      "outputs": []
    },
    {
      "cell_type": "code",
      "source": [
        "index = 4\n",
        "p = [1-actual[index], actual[index]]\n",
        "q = [1-predicted[index], predicted[index]]"
      ],
      "metadata": {
        "id": "j1MtW1sef9J_"
      },
      "execution_count": null,
      "outputs": []
    },
    {
      "cell_type": "code",
      "source": [
        "fig = go.Figure(data=[\n",
        "    go.Bar(name='Actual Probability Distribution', x=events, y=p, text=p, textposition='auto'),\n",
        "    go.Bar(name='Predicted Probability Distribution', x=events, y=q, text=q, textposition='auto')\n",
        "])\n",
        "\n",
        "fig.update_layout(barmode='group', title='Record 5')"
      ],
      "metadata": {
        "id": "RimISytUf_bd"
      },
      "execution_count": null,
      "outputs": []
    },
    {
      "cell_type": "code",
      "source": [
        "def binary_cross_entropy_loss(actual, predicted):\n",
        "    sum = 0\n",
        "    for i in range(len(actual)):\n",
        "        sum=sum+actual[i]*log(predicted[i])+(1-actual[i])*log(1-predicted[i])\n",
        "                           \n",
        "    return -sum/len(actual)\n",
        "\n",
        "binary_cross_entropy_loss(actual, predicted)"
      ],
      "metadata": {
        "id": "iqAYCiJ2gBkJ"
      },
      "execution_count": null,
      "outputs": []
    },
    {
      "cell_type": "code",
      "source": [
        "loss = tf.keras.losses.binary_crossentropy(actual, predicted)\n",
        "loss.numpy()"
      ],
      "metadata": {
        "id": "aD0js8xfgHPX"
      },
      "execution_count": null,
      "outputs": []
    },
    {
      "cell_type": "code",
      "source": [
        "actual = [1, 0, 1, 1, 0]\n",
        "predicted = [1.0, 0.0, 1.0, 1.0, 0.0]\n",
        "\n",
        "loss = tf.keras.losses.binary_crossentropy(actual, predicted)\n",
        "loss.numpy()"
      ],
      "metadata": {
        "id": "d3iK6RSjgI0H"
      },
      "execution_count": null,
      "outputs": []
    },
    {
      "cell_type": "markdown",
      "source": [
        "# **Example : Train Model แบบ Binary Classification**"
      ],
      "metadata": {
        "id": "Ji2zR5rTgN99"
      }
    },
    {
      "cell_type": "code",
      "source": [
        "to_categorical = tf.keras.utils.to_categorical\n",
        "from tensorflow.keras.utils import to_categorical\n",
        "\n",
        "import plotly\n",
        "import plotly.graph_objs as go\n",
        "import plotly.express as px\n",
        "\n",
        "from sklearn.datasets import make_circles\n",
        "from sklearn.datasets import make_blobs\n",
        "from sklearn.model_selection import train_test_split\n",
        "\n",
        "import pandas as pd"
      ],
      "metadata": {
        "id": "IWfQBoJrgK2e"
      },
      "execution_count": null,
      "outputs": []
    },
    {
      "cell_type": "code",
      "source": [
        "x, y =  make_circles(n_samples=5000, noise=0.1, random_state=1)"
      ],
      "metadata": {
        "id": "gsdOpLBygXEX"
      },
      "execution_count": null,
      "outputs": []
    },
    {
      "cell_type": "code",
      "source": [
        "x_train, x_val, y_train, y_val = train_test_split(x, y, test_size=0.4, shuffle= True)\n",
        "x_train.shape, x_val.shape, y_train.shape, y_val.shape"
      ],
      "metadata": {
        "id": "gH6ygQE3gZTz"
      },
      "execution_count": null,
      "outputs": []
    },
    {
      "cell_type": "code",
      "source": [
        "x_train_pd = pd.DataFrame(x_train, columns=['x', 'y'])\n",
        "y_train_pd = pd.DataFrame(y_train, columns=['class'], dtype='str')\n",
        "\n",
        "df = pd.concat([x_train_pd, y_train_pd], axis=1)"
      ],
      "metadata": {
        "id": "fnj16IypgcGe"
      },
      "execution_count": null,
      "outputs": []
    },
    {
      "cell_type": "code",
      "source": [
        "fig = px.scatter(df, x=\"x\", y=\"y\", color=\"class\")\n",
        "fig.show()"
      ],
      "metadata": {
        "id": "Yi_oHC8xgeWV"
      },
      "execution_count": null,
      "outputs": []
    },
    {
      "cell_type": "code",
      "source": [
        "model = tf.keras.models.Sequential()\n",
        "model.add(tf.keras.layers.Dense(60, input_dim=2, activation='relu', kernel_initializer='he_uniform'))\n",
        "model.add(tf.keras.layers.Dropout(0.2))\n",
        "model.add(tf.keras.layers.Dense(1, activation='sigmoid'))"
      ],
      "metadata": {
        "id": "2WjHh9ScggDQ"
      },
      "execution_count": null,
      "outputs": []
    },
    {
      "cell_type": "code",
      "source": [
        "opt = tf.keras.optimizers.SGD(learning_rate=0.01, momentum=0.9)\n",
        "model.compile(loss='binary_crossentropy', optimizer=opt, metrics=['accuracy'])"
      ],
      "metadata": {
        "id": "wNxGa5Iwgjxi"
      },
      "execution_count": null,
      "outputs": []
    },
    {
      "cell_type": "code",
      "source": [
        "his = model.fit(x_train, y_train, validation_data=(x_val, y_val), epochs=2000, verbose=1, batch_size = 256)"
      ],
      "metadata": {
        "id": "k1AfJcUDgnwg"
      },
      "execution_count": null,
      "outputs": []
    },
    {
      "cell_type": "code",
      "source": [
        "h1 = go.Scatter(y=his.history['loss'], \n",
        "                    mode=\"lines\",\n",
        "                    line=dict(\n",
        "                        width=2,\n",
        "                        color='blue'),\n",
        "                        name=\"loss\"\n",
        "                   )\n",
        "h2 = go.Scatter(y=his.history['val_loss'], \n",
        "                    mode=\"lines\",\n",
        "                    line=dict(\n",
        "                        width=2,\n",
        "                        color='red'),\n",
        "                        name=\"val_loss\"\n",
        "                   )\n",
        "\n",
        "data = [h1,h2]\n",
        "layout1 = go.Layout(title='Loss',\n",
        "                   xaxis=dict(title='epochs'),\n",
        "                   yaxis=dict(title=''))\n",
        "fig1 = go.Figure(data = data, layout=layout1)\n",
        "plotly.offline.iplot(fig1)"
      ],
      "metadata": {
        "id": "pbu9T_ekgqBZ"
      },
      "execution_count": null,
      "outputs": []
    },
    {
      "cell_type": "code",
      "source": [
        "h1 = go.Scatter(y=his.history['accuracy'], \n",
        "                    mode=\"lines\", line=dict(\n",
        "                    width=2,\n",
        "                    color='blue'),\n",
        "                    name=\"acc\"\n",
        "                   )\n",
        "h2 = go.Scatter(y=his.history['val_accuracy'], \n",
        "                    mode=\"lines\", line=dict(\n",
        "                    width=2,\n",
        "                    color='red'),\n",
        "                    name=\"val_acc\"\n",
        "                   )\n",
        "\n",
        "data = [h1,h2]\n",
        "layout1 = go.Layout(title='Accuracy',\n",
        "                   xaxis=dict(title='epochs'),\n",
        "                   yaxis=dict(title=''))\n",
        "fig1 = go.Figure(data = data, layout=layout1)\n",
        "plotly.offline.iplot(fig1)"
      ],
      "metadata": {
        "id": "tUtYEcsLgzXt"
      },
      "execution_count": null,
      "outputs": []
    },
    {
      "cell_type": "code",
      "source": [
        "_, train_acc = model.evaluate(x_train, y_train, verbose=0)\n",
        "_, val_acc = model.evaluate(x_val, y_val, verbose=0)\n",
        "print('Train: %.4f, Validation: %.4f' % (train_acc, val_acc))"
      ],
      "metadata": {
        "id": "nPY1WFD-g3e4"
      },
      "execution_count": null,
      "outputs": []
    },
    {
      "cell_type": "code",
      "source": [
        "res = model.predict(x_train)\n",
        "print(res[:10])"
      ],
      "metadata": {
        "id": "jN_NpKifg6Bu"
      },
      "execution_count": null,
      "outputs": []
    },
    {
      "cell_type": "markdown",
      "source": [
        "# **Multi-Class Classification Loss Functions**"
      ],
      "metadata": {
        "id": "KpvKyOBqhiQW"
      }
    },
    {
      "cell_type": "code",
      "source": [
        "def softmax(vector):\n",
        "    e = np.exp(vector)\n",
        "    return e/e.sum()\n",
        " \n",
        "data = [1, 3, 2.5]\n",
        "result = softmax(data)\n",
        "\n",
        "print(result)\n",
        "print(sum(result))"
      ],
      "metadata": {
        "id": "yWdWpqIihfc_"
      },
      "execution_count": null,
      "outputs": []
    },
    {
      "cell_type": "code",
      "source": [
        "events = ['Class 0', 'Class 1', 'Class 2']\n",
        "actual = [[1, 0, 0], [0, 1, 0], [0, 0, 1]]\n",
        "predicted = [[0.9, 0.05, 0.05], [0.05, 0.89, 0.06], [0.05, 0.01, 0.94]]\n",
        "\n",
        "p = actual[0]\n",
        "q = predicted[0]"
      ],
      "metadata": {
        "id": "JaonBFXOhols"
      },
      "execution_count": null,
      "outputs": []
    },
    {
      "cell_type": "code",
      "source": [
        "fig = go.Figure(data=[\n",
        "    go.Bar(name='Actual Probability Distribution', x=events, y=p, text=p, textposition='auto'),\n",
        "    go.Bar(name='Predicted Probability Distribution', x=events, y=q, text=q, textposition='auto')\n",
        "])\n",
        "\n",
        "fig.update_layout(barmode='group', title='Record 1')"
      ],
      "metadata": {
        "id": "PZWctpYrhujW"
      },
      "execution_count": null,
      "outputs": []
    },
    {
      "cell_type": "code",
      "source": [
        "p = actual[1]\n",
        "q = predicted[1]\n",
        "\n",
        "fig = go.Figure(data=[\n",
        "    go.Bar(name='Actual Probability Distribution', x=events, y=p, text=p, textposition='auto'),\n",
        "    go.Bar(name='Predicted Probability Distribution', x=events, y=q, text=q, textposition='auto')\n",
        "])\n",
        "\n",
        "fig.update_layout(barmode='group', title='Record 2')"
      ],
      "metadata": {
        "id": "r9-B31jihzBz"
      },
      "execution_count": null,
      "outputs": []
    },
    {
      "cell_type": "code",
      "source": [
        "p = actual[2]\n",
        "q = predicted[2]\n",
        "\n",
        "fig = go.Figure(data=[\n",
        "    go.Bar(name='Actual Probability Distribution', x=events, y=p, text=p, textposition='auto'),\n",
        "    go.Bar(name='Predicted Probability Distribution', x=events, y=q, text=q, textposition='auto')\n",
        "])\n",
        "\n",
        "fig.update_layout(barmode='group', title='Record 3')"
      ],
      "metadata": {
        "id": "coYzCTNUh2a7"
      },
      "execution_count": null,
      "outputs": []
    },
    {
      "cell_type": "code",
      "source": [
        "def categorical_cross_entropy(actual, predicted):\n",
        "    sum = 0.0\n",
        "    for i in range(len(actual)):\n",
        "        for j in range(len(actual[i])):\n",
        "            sum += actual[i][j] * log(1e-15 + predicted[i][j])\n",
        "    mean = 1.0 / len(actual) * sum\n",
        "    return -mean\n",
        "\n",
        "np.around(categorical_cross_entropy(actual, predicted),5)"
      ],
      "metadata": {
        "id": "q0QVRucqh6OE"
      },
      "execution_count": null,
      "outputs": []
    },
    {
      "cell_type": "code",
      "source": [
        "cce = tf.keras.losses.CategoricalCrossentropy()\n",
        "np.around(cce(actual, predicted).numpy(),5)"
      ],
      "metadata": {
        "id": "WBlViEVHiBVI"
      },
      "execution_count": null,
      "outputs": []
    },
    {
      "cell_type": "markdown",
      "source": [
        "# Train Model แบบ Multi-Class Classification"
      ],
      "metadata": {
        "id": "csG_v5fpiQys"
      }
    },
    {
      "cell_type": "code",
      "source": [
        "x, y = make_blobs(n_samples=1000, centers=3, n_features=2, cluster_std=2, random_state=2)"
      ],
      "metadata": {
        "id": "bTQknPDTiDwI"
      },
      "execution_count": null,
      "outputs": []
    },
    {
      "cell_type": "code",
      "source": [
        "y = to_categorical(y)\n",
        "y[:10]"
      ],
      "metadata": {
        "id": "6Q6PRBJLiYrg"
      },
      "execution_count": null,
      "outputs": []
    },
    {
      "cell_type": "code",
      "source": [
        "x_train, x_val, y_train, y_val = train_test_split(x, y, test_size=0.5, shuffle= True)\n",
        "x_train.shape, x_val.shape, y_train.shape, y_val.shape"
      ],
      "metadata": {
        "id": "OSzbJAMyibT5"
      },
      "execution_count": null,
      "outputs": []
    },
    {
      "cell_type": "code",
      "source": [
        "y = np.argmax(y_train,axis=1)\n",
        "\n",
        "x_train_pd = pd.DataFrame(x_train, columns=['x', 'y'])\n",
        "y_train_pd = pd.DataFrame(y, columns=['class'], dtype='str')\n",
        "df = pd.concat([x_train_pd, y_train_pd], axis=1)"
      ],
      "metadata": {
        "id": "tDzE-cPkifRd"
      },
      "execution_count": null,
      "outputs": []
    },
    {
      "cell_type": "code",
      "source": [
        "fig = px.scatter(df, x=\"x\", y=\"y\", color=\"class\")\n",
        "fig.show()"
      ],
      "metadata": {
        "id": "XLoeftbBiimq"
      },
      "execution_count": null,
      "outputs": []
    },
    {
      "cell_type": "code",
      "source": [
        "model = tf.keras.models.Sequential()\n",
        "model.add(tf.keras.layers.Dense(60, input_dim=2, activation='relu', kernel_initializer='he_uniform'))\n",
        "model.add(tf.keras.layers.Dropout(0.2))\n",
        "model.add(tf.keras.layers.Dense(3, activation='softmax'))"
      ],
      "metadata": {
        "id": "ylUdMYbbilTI"
      },
      "execution_count": null,
      "outputs": []
    },
    {
      "cell_type": "code",
      "source": [
        "opt =  tf.keras.optimizers.SGD(learning_rate=0.01, momentum=0.9)\n",
        "model.compile(loss='categorical_crossentropy', optimizer=opt, metrics=['accuracy'])"
      ],
      "metadata": {
        "id": "tI87q5XMinqP"
      },
      "execution_count": null,
      "outputs": []
    },
    {
      "cell_type": "code",
      "source": [
        "his = model.fit(x_train, y_train, validation_data=(x_val, y_val), epochs=1000, verbose=1, batch_size = 128)"
      ],
      "metadata": {
        "id": "pXwW3nexivzS"
      },
      "execution_count": null,
      "outputs": []
    },
    {
      "cell_type": "code",
      "source": [
        "h1 = go.Scatter(y=his.history['loss'], \n",
        "                    mode=\"lines\",\n",
        "                    line=dict(\n",
        "                        width=2,\n",
        "                        color='blue'),\n",
        "                        name=\"loss\"\n",
        "                   )\n",
        "h2 = go.Scatter(y=his.history['val_loss'], \n",
        "                    mode=\"lines\",\n",
        "                    line=dict(\n",
        "                        width=2,\n",
        "                        color='red'),\n",
        "                        name=\"val_loss\"\n",
        "                   )\n",
        "\n",
        "data = [h1,h2]\n",
        "layout1 = go.Layout(title='Loss',\n",
        "                   xaxis=dict(title='epochs'),\n",
        "                   yaxis=dict(title=''))\n",
        "fig1 = go.Figure(data = data, layout=layout1)\n",
        "plotly.offline.iplot(fig1)"
      ],
      "metadata": {
        "id": "_LE28z7Hi2Lr"
      },
      "execution_count": null,
      "outputs": []
    },
    {
      "cell_type": "code",
      "source": [
        "h1 = go.Scatter(y=his.history['accuracy'], \n",
        "                    mode=\"lines\",\n",
        "                    line=dict(\n",
        "                        width=2,\n",
        "                        color='blue'),\n",
        "                        name=\"acc\"\n",
        "                   )\n",
        "h2 = go.Scatter(y=his.history['val_accuracy'], \n",
        "                    mode=\"lines\",\n",
        "                    line=dict(\n",
        "                        width=2,\n",
        "                        color='red'),\n",
        "                        name=\"val_acc\"\n",
        "                   )\n",
        "\n",
        "data = [h1,h2]\n",
        "layout1 = go.Layout(title='Accuracy',\n",
        "                   xaxis=dict(title='epochs'),\n",
        "                   yaxis=dict(title=''))\n",
        "fig1 = go.Figure(data = data, layout=layout1)\n",
        "plotly.offline.iplot(fig1)"
      ],
      "metadata": {
        "id": "7TCV8nDQi6Fn"
      },
      "execution_count": null,
      "outputs": []
    },
    {
      "cell_type": "code",
      "source": [
        "_, train_acc = model.evaluate(x_train, y_train, verbose=0)\n",
        "_, val_acc = model.evaluate(x_val, y_val, verbose=0)\n",
        "print('Train: %.4f, Validation: %.4f' % (train_acc, val_acc))"
      ],
      "metadata": {
        "id": "7NewlaL9i9A4"
      },
      "execution_count": null,
      "outputs": []
    },
    {
      "cell_type": "code",
      "source": [
        "res = model.predict(x_train)\n",
        "print(np.round(res[:10],3))"
      ],
      "metadata": {
        "id": "iebSaB5QjCPC"
      },
      "execution_count": null,
      "outputs": []
    },
    {
      "cell_type": "markdown",
      "source": [
        "# **Sparse Categorical Crossentropy Loss**\n"
      ],
      "metadata": {
        "id": "AW_wk3lLjhGY"
      }
    },
    {
      "cell_type": "markdown",
      "source": [
        "# Example"
      ],
      "metadata": {
        "id": "DQRzilh7jwKO"
      }
    },
    {
      "cell_type": "code",
      "source": [
        "x, y = make_blobs(n_samples=10000, centers=20, n_features=2, cluster_std=0.1, random_state=2)"
      ],
      "metadata": {
        "id": "A07tQKonjFcC"
      },
      "execution_count": null,
      "outputs": []
    },
    {
      "cell_type": "code",
      "source": [
        "x_train, x_val, y_train, y_val = train_test_split(x, y, test_size=0.5, shuffle= True)\n",
        "x_train.shape, x_val.shape, y_train.shape, y_val.shape"
      ],
      "metadata": {
        "id": "2_zlnTAfkiv-"
      },
      "execution_count": null,
      "outputs": []
    },
    {
      "cell_type": "code",
      "source": [
        "x_train_pd = pd.DataFrame(x_train, columns=['x', 'y'])\n",
        "y_train_pd = pd.DataFrame(y_train, columns=['class'], dtype='str')\n",
        "\n",
        "df = pd.concat([x_train_pd, y_train_pd], axis=1)"
      ],
      "metadata": {
        "id": "1LmU_asdkjpX"
      },
      "execution_count": null,
      "outputs": []
    },
    {
      "cell_type": "code",
      "source": [
        "fig = px.scatter(df, x=\"x\", y=\"y\", color=\"class\")\n",
        "fig.show()"
      ],
      "metadata": {
        "id": "_XnCvYsmknQ6"
      },
      "execution_count": null,
      "outputs": []
    },
    {
      "cell_type": "code",
      "source": [
        "model = tf.keras.models.Sequential()\n",
        "model.add(tf.keras.layers.Dense(60, input_dim=2, activation='relu', kernel_initializer='he_uniform'))\n",
        "model.add(tf.keras.layers.Dropout(0.2))\n",
        "model.add(tf.keras.layers.Dense(20, activation='softmax'))"
      ],
      "metadata": {
        "id": "-rJdE_SEkscI"
      },
      "execution_count": null,
      "outputs": []
    },
    {
      "cell_type": "code",
      "source": [
        "opt = tf.keras.optimizers.SGD(learning_rate=0.01, momentum=0.9)\n",
        "model.compile(loss='sparse_categorical_crossentropy', optimizer=opt, metrics=['accuracy'])"
      ],
      "metadata": {
        "id": "CRW1XloZkwzv"
      },
      "execution_count": null,
      "outputs": []
    },
    {
      "cell_type": "code",
      "source": [
        "his = model.fit(x_train, y_train, validation_data=(x_val, y_val), epochs=1000, verbose=1, batch_size = 128)"
      ],
      "metadata": {
        "id": "XzIQ9GJ7k7A-"
      },
      "execution_count": null,
      "outputs": []
    },
    {
      "cell_type": "code",
      "source": [
        "h1 = go.Scatter(y=his.history['loss'], \n",
        "                    mode=\"lines\",\n",
        "                    line=dict(\n",
        "                        width=2,\n",
        "                        color='blue'),\n",
        "                        name=\"loss\"\n",
        "                   )\n",
        "h2 = go.Scatter(y=his.history['val_loss'], \n",
        "                    mode=\"lines\",\n",
        "                    line=dict(\n",
        "                        width=2,\n",
        "                        color='red'),\n",
        "                        name=\"val_loss\"\n",
        "                   )\n",
        "\n",
        "data = [h1,h2]\n",
        "layout1 = go.Layout(title='Loss',\n",
        "                   xaxis=dict(title='epochs'),\n",
        "                   yaxis=dict(title=''))\n",
        "fig1 = go.Figure(data = data, layout=layout1)\n",
        "plotly.offline.iplot(fig1)"
      ],
      "metadata": {
        "id": "iT2CR3uQk-r2"
      },
      "execution_count": null,
      "outputs": []
    },
    {
      "cell_type": "code",
      "source": [
        "h1 = go.Scatter(y=his.history['accuracy'], \n",
        "                    mode=\"lines\",\n",
        "                    line=dict(\n",
        "                        width=2,\n",
        "                        color='blue'),\n",
        "                        name=\"acc\"\n",
        "                   )\n",
        "h2 = go.Scatter(y=his.history['val_accuracy'], \n",
        "                    mode=\"lines\",\n",
        "                    line=dict(\n",
        "                        width=2,\n",
        "                        color='red'),\n",
        "                        name=\"val_acc\"\n",
        "                   )\n",
        "\n",
        "data = [h1,h2]\n",
        "layout1 = go.Layout(title='Accuracy',\n",
        "                   xaxis=dict(title='epochs'),\n",
        "                   yaxis=dict(title=''))\n",
        "fig1 = go.Figure(data = data, layout=layout1)\n",
        "plotly.offline.iplot(fig1)"
      ],
      "metadata": {
        "id": "ssF9X8H7lGbU"
      },
      "execution_count": null,
      "outputs": []
    },
    {
      "cell_type": "code",
      "source": [
        "_, train_acc = model.evaluate(x_train, y_train, verbose=0)\n",
        "_, val_acc = model.evaluate(x_val, y_val, verbose=0)\n",
        "print('Train: %.4f, Validation: %.4f' % (train_acc, val_acc))"
      ],
      "metadata": {
        "id": "_LZ_nN1zlKD8"
      },
      "execution_count": null,
      "outputs": []
    },
    {
      "cell_type": "code",
      "source": [
        "res = model.predict(x_train)\n",
        "print(np.round(res[:1],3))"
      ],
      "metadata": {
        "id": "BxG9JhF5lMG4"
      },
      "execution_count": null,
      "outputs": []
    },
    {
      "cell_type": "code",
      "source": [
        ""
      ],
      "metadata": {
        "id": "m2xIQ6cylqiu"
      },
      "execution_count": null,
      "outputs": []
    }
  ]
}