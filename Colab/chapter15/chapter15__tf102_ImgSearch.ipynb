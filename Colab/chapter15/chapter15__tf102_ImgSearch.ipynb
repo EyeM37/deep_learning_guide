{
  "nbformat": 4,
  "nbformat_minor": 0,
  "metadata": {
    "colab": {
      "name": "chapter15_ tf102_ImgSearch.ipynb",
      "provenance": [],
      "collapsed_sections": [],
      "machine_shape": "hm"
    },
    "kernelspec": {
      "name": "python3",
      "display_name": "Python 3"
    },
    "language_info": {
      "name": "python"
    },
    "accelerator": "GPU"
  },
  "cells": [
    {
      "cell_type": "code",
      "execution_count": null,
      "metadata": {
        "id": "fALeIBm4MdS6"
      },
      "outputs": [],
      "source": [
        "!pip install kaggle"
      ]
    },
    {
      "cell_type": "code",
      "source": [
        "from google.colab import files\n",
        "files.upload()"
      ],
      "metadata": {
        "id": "X3yJukIWM_rj"
      },
      "execution_count": null,
      "outputs": []
    },
    {
      "cell_type": "code",
      "source": [
        "!mkdir kaggle"
      ],
      "metadata": {
        "id": "AvJ8tlmjNM0l"
      },
      "execution_count": null,
      "outputs": []
    },
    {
      "cell_type": "code",
      "source": [
        "!mv kaggle.json kaggle"
      ],
      "metadata": {
        "id": "_0E-Gc19NeNI"
      },
      "execution_count": null,
      "outputs": []
    },
    {
      "cell_type": "code",
      "source": [
        "!chmod 600 /content/kaggle/kaggle.json"
      ],
      "metadata": {
        "id": "NzmzOVnnNgEE"
      },
      "execution_count": null,
      "outputs": []
    },
    {
      "cell_type": "code",
      "source": [
        "import os\n",
        "os.environ['KAGGLE_CONFIG_DIR'] = \"/content/kaggle\""
      ],
      "metadata": {
        "id": "n6d5q3pBNiTl"
      },
      "execution_count": null,
      "outputs": []
    },
    {
      "cell_type": "code",
      "source": [
        "!kaggle datasets download -d ikarus777/best-artworks-of-all-time"
      ],
      "metadata": {
        "id": "08aq3R8pNk5S"
      },
      "execution_count": null,
      "outputs": []
    },
    {
      "cell_type": "code",
      "source": [
        "!mkdir artworks && unzip -q best-artworks-of-all-time.zip -d artworks"
      ],
      "metadata": {
        "id": "6YX3qlysNw-E"
      },
      "execution_count": null,
      "outputs": []
    },
    {
      "cell_type": "code",
      "source": [
        "import numpy as np\n",
        "import tensorflow as tf\n",
        "\n",
        "load_img = tf.keras.preprocessing.image.load_img\n",
        "img_to_array = tf.keras.preprocessing.image.img_to_array\n",
        "ImageDataGenerator = tf.keras.preprocessing.image.ImageDataGenerator\n",
        "\n",
        "Adam = tf.keras.optimizers.Adam"
      ],
      "metadata": {
        "id": "KgDdJBuwO1E0"
      },
      "execution_count": null,
      "outputs": []
    },
    {
      "cell_type": "code",
      "source": [
        "import copy\n",
        "import glob\n",
        "import pickle as pic\n",
        "from sklearn.neighbors import NearestNeighbors\n",
        "import matplotlib.pyplot as plt\n",
        "\n",
        "import plotly\n",
        "import plotly.graph_objs as go\n",
        "from plotly import tools"
      ],
      "metadata": {
        "id": "ctbbSethOl3j"
      },
      "execution_count": null,
      "outputs": []
    },
    {
      "cell_type": "code",
      "source": [
        "image_path = glob.glob('artworks/images/images/*/*.jpg')\n",
        "len(image_path)"
      ],
      "metadata": {
        "id": "tN_qeedbN7P6"
      },
      "execution_count": null,
      "outputs": []
    },
    {
      "cell_type": "code",
      "source": [
        "vgg16_model = tf.keras.applications.VGG16(weights='imagenet', include_top=False)"
      ],
      "metadata": {
        "id": "SzLXR87wOAB6"
      },
      "execution_count": null,
      "outputs": []
    },
    {
      "cell_type": "code",
      "source": [
        "image_dataset = []\n",
        "\n",
        "for path in image_path:\n",
        "    image = load_img(path, target_size=(224, 224))\n",
        "    image = img_to_array(image)\n",
        "    image = np.expand_dims(image, axis=0)\n",
        "    image =  tf.keras.applications.vgg16.preprocess_input(image)\n",
        "    image_dataset.append(image)"
      ],
      "metadata": {
        "id": "cVEOZ255OC9f"
      },
      "execution_count": null,
      "outputs": []
    },
    {
      "cell_type": "code",
      "source": [
        "feature_list = []\n",
        "\n",
        "for image in image_dataset:\n",
        "    feature = vgg16_model.predict(image)\n",
        "    feature = feature.flatten()\n",
        "    feature_list.append(feature)"
      ],
      "metadata": {
        "id": "l_yWQwgjOGa3"
      },
      "execution_count": null,
      "outputs": []
    },
    {
      "cell_type": "code",
      "source": [
        "def save_feature(filename, feature):\n",
        "    with open(filename, 'wb') as file:\n",
        "       pic.dump(feature, file)"
      ],
      "metadata": {
        "id": "SkyrqEDRPGwq"
      },
      "execution_count": null,
      "outputs": []
    },
    {
      "cell_type": "code",
      "source": [
        "filename = 'feature_list.pkl'\n",
        "save_feature(filename, feature_list)"
      ],
      "metadata": {
        "id": "1HA9QEMFPJM6"
      },
      "execution_count": null,
      "outputs": []
    },
    {
      "cell_type": "code",
      "source": [
        "!ls feature_list.pkl -al"
      ],
      "metadata": {
        "id": "RCZmrVk_Pdu2"
      },
      "execution_count": null,
      "outputs": []
    },
    {
      "cell_type": "code",
      "source": [
        "def load_feature(filename):\n",
        "    with open(filename, 'rb') as file:\n",
        "        feature = pic.load(file)\n",
        "        return feature"
      ],
      "metadata": {
        "id": "PbQ54GDWPgs5"
      },
      "execution_count": null,
      "outputs": []
    },
    {
      "cell_type": "code",
      "source": [
        "feature_list_hdd = load_feature(filename)"
      ],
      "metadata": {
        "id": "73S8pPLgPj6u"
      },
      "execution_count": null,
      "outputs": []
    },
    {
      "cell_type": "code",
      "source": [
        "path = 'artworks/images/images/Vincent_van_Gogh/Vincent_van_Gogh_1.jpg'\n",
        "\n",
        "query_image = load_img(path, target_size=(224, 224))\n",
        "query_image"
      ],
      "metadata": {
        "id": "kt30vcKiPnz4"
      },
      "execution_count": null,
      "outputs": []
    },
    {
      "cell_type": "code",
      "source": [
        "query_image = img_to_array(query_image)\n",
        "query_image = np.expand_dims(query_image, axis=0)\n",
        "query_image =  tf.keras.applications.vgg16.preprocess_input(query_image)\n",
        "\n",
        "query_feature = vgg16_model.predict(query_image)\n",
        "query_feature = query_feature.flatten()"
      ],
      "metadata": {
        "id": "QjEl-tAwPrO2"
      },
      "execution_count": null,
      "outputs": []
    },
    {
      "cell_type": "code",
      "source": [
        "nbrs = NearestNeighbors(n_neighbors=10, metric='cosine').fit(feature_list_hdd)"
      ],
      "metadata": {
        "id": "pfer0tqhPwrZ"
      },
      "execution_count": null,
      "outputs": []
    },
    {
      "cell_type": "code",
      "source": [
        "distances, indices = nbrs.kneighbors([query_feature])"
      ],
      "metadata": {
        "id": "_mFs0oMlPzZc"
      },
      "execution_count": null,
      "outputs": []
    },
    {
      "cell_type": "code",
      "source": [
        "sub = 0\n",
        "for i in indices[0]:\n",
        "    if image_path[i] != path:\n",
        "        ax = plt.subplot(3, 3, 1 + sub)\n",
        "        sub+=1\n",
        "        \n",
        "        ax.set_xticks([])\n",
        "        ax.set_yticks([])\n",
        "        \n",
        "        result_image = load_img(image_path[i], target_size=(224, 224))\n",
        "        plt.imshow(result_image)  \n",
        "        \n",
        "plt.savefig('result.png', dpi = 300)"
      ],
      "metadata": {
        "id": "QME7X3N8P3j6"
      },
      "execution_count": null,
      "outputs": []
    },
    {
      "cell_type": "code",
      "source": [
        "vgg16_model = tf.keras.applications.VGG16(weights='imagenet', include_top=False, pooling='avg')"
      ],
      "metadata": {
        "id": "TmkyT6vYP5WL"
      },
      "execution_count": null,
      "outputs": []
    },
    {
      "cell_type": "code",
      "source": [
        "avg_feature_list = []\n",
        "\n",
        "for image in image_dataset:\n",
        "    feature = vgg16_model.predict(image)\n",
        "    feature = feature.flatten()\n",
        "    avg_feature_list.append(feature)"
      ],
      "metadata": {
        "id": "qZPdKGOLP656"
      },
      "execution_count": null,
      "outputs": []
    },
    {
      "cell_type": "code",
      "source": [
        "filename = 'avg_feature_list.pkl'\n",
        "save_feature(filename, avg_feature_list)"
      ],
      "metadata": {
        "id": "T7SB119HP8h1"
      },
      "execution_count": null,
      "outputs": []
    },
    {
      "cell_type": "code",
      "source": [
        "!ls avg_feature_list.pkl -al"
      ],
      "metadata": {
        "id": "tauRVYj5P_Lu"
      },
      "execution_count": null,
      "outputs": []
    },
    {
      "cell_type": "code",
      "source": [
        "avg_feature_list_hdd = load_feature(filename)"
      ],
      "metadata": {
        "id": "AAO7kODyQAn9"
      },
      "execution_count": null,
      "outputs": []
    },
    {
      "cell_type": "code",
      "source": [
        "query_feature = vgg16_model.predict(query_image)\n",
        "query_feature = query_feature.flatten()"
      ],
      "metadata": {
        "id": "ilAAnyzTQCqb"
      },
      "execution_count": null,
      "outputs": []
    },
    {
      "cell_type": "code",
      "source": [
        "nbrs = NearestNeighbors(n_neighbors=10, metric='cosine').fit(avg_feature_list_hdd)"
      ],
      "metadata": {
        "id": "-CiUQqnuQF2U"
      },
      "execution_count": null,
      "outputs": []
    },
    {
      "cell_type": "code",
      "source": [
        "distances, indices = nbrs.kneighbors([query_feature])"
      ],
      "metadata": {
        "id": "_DFR3hZyQHw8"
      },
      "execution_count": null,
      "outputs": []
    },
    {
      "cell_type": "code",
      "source": [
        "sub = 0\n",
        "for i in indices[0]:\n",
        "    if image_path[i] != path:\n",
        "        ax = plt.subplot(3, 3, 1 + sub)\n",
        "        sub+=1\n",
        "        \n",
        "        ax.set_xticks([])\n",
        "        ax.set_yticks([])\n",
        "        \n",
        "        result_image = load_img(image_path[i], target_size=(224, 224))\n",
        "        plt.imshow(result_image)  \n",
        "        \n",
        "plt.savefig('result.png', dpi = 300)"
      ],
      "metadata": {
        "id": "Q7AlEmKhQJHT"
      },
      "execution_count": null,
      "outputs": []
    },
    {
      "cell_type": "code",
      "source": [
        ""
      ],
      "metadata": {
        "id": "0nFgWNWZWb5h"
      },
      "execution_count": null,
      "outputs": []
    }
  ]
}