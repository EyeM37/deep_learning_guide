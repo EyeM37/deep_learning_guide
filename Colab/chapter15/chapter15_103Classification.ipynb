{
  "nbformat": 4,
  "nbformat_minor": 0,
  "metadata": {
    "colab": {
      "name": "chapter15_103Classification.ipynb",
      "provenance": [],
      "collapsed_sections": [],
      "machine_shape": "hm"
    },
    "kernelspec": {
      "name": "python3",
      "display_name": "Python 3"
    },
    "language_info": {
      "name": "python"
    },
    "accelerator": "GPU"
  },
  "cells": [
    {
      "cell_type": "code",
      "source": [
        "!pip install kaggle"
      ],
      "metadata": {
        "id": "aZCJAxLwfl5s"
      },
      "execution_count": null,
      "outputs": []
    },
    {
      "cell_type": "code",
      "source": [
        "from google.colab import files\n",
        "files.upload()"
      ],
      "metadata": {
        "id": "prFNM-T4fmci"
      },
      "execution_count": null,
      "outputs": []
    },
    {
      "cell_type": "code",
      "source": [
        "!mkdir kaggle"
      ],
      "metadata": {
        "id": "8ygwz_zQfxp-"
      },
      "execution_count": null,
      "outputs": []
    },
    {
      "cell_type": "code",
      "source": [
        "!mv kaggle.json kaggle"
      ],
      "metadata": {
        "id": "0f2KJvWaf1A8"
      },
      "execution_count": null,
      "outputs": []
    },
    {
      "cell_type": "code",
      "source": [
        "!chmod 600 /content/kaggle/kaggle.json"
      ],
      "metadata": {
        "id": "03gg5Nsqf4LO"
      },
      "execution_count": null,
      "outputs": []
    },
    {
      "cell_type": "code",
      "source": [
        "import os\n",
        "os.environ['KAGGLE_CONFIG_DIR'] = \"/content/kaggle\""
      ],
      "metadata": {
        "id": "l8A9BhSZf7Bv"
      },
      "execution_count": null,
      "outputs": []
    },
    {
      "cell_type": "code",
      "source": [
        "!kaggle datasets download -d ikarus777/best-artworks-of-all-time"
      ],
      "metadata": {
        "id": "npGNNFlef-ik"
      },
      "execution_count": null,
      "outputs": []
    },
    {
      "cell_type": "code",
      "source": [
        "!mkdir artworks && unzip -q best-artworks-of-all-time.zip -d artworks"
      ],
      "metadata": {
        "id": "BLDxwMfrgCZN"
      },
      "execution_count": null,
      "outputs": []
    },
    {
      "cell_type": "code",
      "source": [
        "import numpy as np\n",
        "import tensorflow as tf"
      ],
      "metadata": {
        "id": "OEXTC9SKbrh3"
      },
      "execution_count": null,
      "outputs": []
    },
    {
      "cell_type": "code",
      "execution_count": null,
      "metadata": {
        "id": "URyscumbY0yp"
      },
      "outputs": [],
      "source": [
        "ReduceLROnPlateau = tf.keras.callbacks.ReduceLROnPlateau\n",
        "ModelCheckpoint = tf.keras.callbacks.ModelCheckpoint\n",
        "load_model = tf.keras.models.load_model\n",
        "\n",
        "load_img = tf.keras.preprocessing.image.load_img\n",
        "img_to_array = tf.keras.preprocessing.image.img_to_array\n",
        "ImageDataGenerator = tf.keras.preprocessing.image.ImageDataGenerator\n",
        "\n",
        "Adam = tf.keras.optimizers.Adam\n",
        "import pandas as pd"
      ]
    },
    {
      "cell_type": "code",
      "source": [
        "import plotly\n",
        "import plotly.graph_objs as go\n",
        "from plotly import tools"
      ],
      "metadata": {
        "id": "p_yT2jMwm4yy"
      },
      "execution_count": null,
      "outputs": []
    },
    {
      "cell_type": "markdown",
      "source": [
        "# **การทดลอง S3**"
      ],
      "metadata": {
        "id": "3al2nC1aibwG"
      }
    },
    {
      "cell_type": "code",
      "source": [
        "vgg16_model = tf.keras.applications.VGG16(weights='imagenet', include_top=True, input_shape=(224, 224, 3))"
      ],
      "metadata": {
        "id": "ujFJK-mRY-SF"
      },
      "execution_count": null,
      "outputs": []
    },
    {
      "cell_type": "code",
      "source": [
        "vgg16_model.trainable = False"
      ],
      "metadata": {
        "id": "BVA2AGdrc8H1"
      },
      "execution_count": null,
      "outputs": []
    },
    {
      "cell_type": "code",
      "source": [
        "vgg16_model.summary()"
      ],
      "metadata": {
        "id": "TqX5oh7GdFYr"
      },
      "execution_count": null,
      "outputs": []
    },
    {
      "cell_type": "code",
      "source": [
        "vgg16_model = tf.keras.models.Model(inputs=vgg16_model.inputs, outputs=vgg16_model.layers[-2].output)\n",
        "vgg16_model.summary()"
      ],
      "metadata": {
        "id": "3cW1o-tJdG5Z"
      },
      "execution_count": null,
      "outputs": []
    },
    {
      "cell_type": "code",
      "source": [
        "output = tf.keras.layers.Dense(11, activation='softmax')(vgg16_model.layers[-1].output)\n",
        "model = tf.keras.Model(inputs=vgg16_model.inputs, outputs=output)"
      ],
      "metadata": {
        "id": "_YrhPG0Kda_3"
      },
      "execution_count": null,
      "outputs": []
    },
    {
      "cell_type": "code",
      "source": [
        "adam_optimizer = Adam(learning_rate=0.0001)\n",
        "model.compile(loss='categorical_crossentropy', optimizer=adam_optimizer, metrics=['accuracy'])\n",
        "\n",
        "model.summary()"
      ],
      "metadata": {
        "id": "aDOHz2Oedevr"
      },
      "execution_count": null,
      "outputs": []
    },
    {
      "cell_type": "code",
      "source": [
        "artists_df = pd.read_csv('artworks/artists.csv')\n",
        "artists_df.head()"
      ],
      "metadata": {
        "id": "yKq_G_uLeBpR"
      },
      "execution_count": null,
      "outputs": []
    },
    {
      "cell_type": "code",
      "source": [
        "artists_df.sort_values(by=['paintings'], ascending=False, inplace=True)\n",
        "artists_df.head(15)"
      ],
      "metadata": {
        "id": "QtKqx61Ee1O3"
      },
      "execution_count": null,
      "outputs": []
    },
    {
      "cell_type": "code",
      "source": [
        "artists_top = artists_df[artists_df['paintings'] >= 200].reset_index()\n",
        "artists_top.shape"
      ],
      "metadata": {
        "id": "cWaumS5Ogl71"
      },
      "execution_count": null,
      "outputs": []
    },
    {
      "cell_type": "code",
      "source": [
        "artists_top = artists_top[['name', 'paintings']]\n",
        "artists_top.head()"
      ],
      "metadata": {
        "id": "ff0OedLigtRn"
      },
      "execution_count": null,
      "outputs": []
    },
    {
      "cell_type": "code",
      "source": [
        "artists_top['class_weight'] = artists_top.paintings.sum()/(artists_top.shape[0] * artists_top.paintings)\n",
        "artists_top"
      ],
      "metadata": {
        "id": "zuMPa5cMgxqV"
      },
      "execution_count": null,
      "outputs": []
    },
    {
      "cell_type": "code",
      "source": [
        "class_weights = artists_top['class_weight'].to_dict()\n",
        "class_weights"
      ],
      "metadata": {
        "id": "leEr1gb_g0cN"
      },
      "execution_count": null,
      "outputs": []
    },
    {
      "cell_type": "code",
      "source": [
        "artists_top['name']"
      ],
      "metadata": {
        "id": "kmw-OhOcg3j0"
      },
      "execution_count": null,
      "outputs": []
    },
    {
      "cell_type": "code",
      "source": [
        "artists_top_name = artists_top['name'].str.replace(' ', '_')\n",
        "artists_top_name"
      ],
      "metadata": {
        "id": "Tsm2lSk0g5n4"
      },
      "execution_count": null,
      "outputs": []
    },
    {
      "cell_type": "code",
      "source": [
        "artists_class = artists_top_name.tolist()\n",
        "artists_class"
      ],
      "metadata": {
        "id": "SR1uh2BJg8iz"
      },
      "execution_count": null,
      "outputs": []
    },
    {
      "cell_type": "code",
      "source": [
        "datagen = ImageDataGenerator(validation_split=0.2,\n",
        "                             preprocessing_function=tf.keras.applications.vgg16.preprocess_input,\n",
        "                             horizontal_flip=True)\n",
        "\n",
        "valid_datagen=ImageDataGenerator(validation_split=0.2,\n",
        "                                 preprocessing_function=tf.keras.applications.vgg16.preprocess_input)"
      ],
      "metadata": {
        "id": "GjBbVo9fhCtq"
      },
      "execution_count": null,
      "outputs": []
    },
    {
      "cell_type": "code",
      "source": [
        "train_artworks = datagen.flow_from_directory('artworks/images/images',\n",
        "                                      subset='training',\n",
        "                                      class_mode='categorical',\n",
        "                                      target_size=(224, 224),\n",
        "                                      color_mode='rgb',\n",
        "                                      batch_size=64,\n",
        "                                      shuffle=False,\n",
        "                                      seed=99,\n",
        "                                      classes=artists_class)"
      ],
      "metadata": {
        "id": "sw9SYLVBhHDf"
      },
      "execution_count": null,
      "outputs": []
    },
    {
      "cell_type": "code",
      "source": [
        "batch_x, batch_y = train_artworks.next()\n",
        "print('Batch shape=%s, min=%.3f, max=%.3f' % (batch_x.shape, batch_x.min(), batch_x.max()))"
      ],
      "metadata": {
        "id": "0K-qw6J0hojk"
      },
      "execution_count": null,
      "outputs": []
    },
    {
      "cell_type": "code",
      "source": [
        "validate_artworks = valid_datagen.flow_from_directory('artworks/images/images',\n",
        "                                      subset='validation',\n",
        "                                      class_mode='categorical',\n",
        "                                      target_size=(224, 224),\n",
        "                                      color_mode='rgb',\n",
        "                                      batch_size=64,\n",
        "                                      shuffle=False,\n",
        "                                      seed=99,\n",
        "                                      classes=artists_class)"
      ],
      "metadata": {
        "id": "KyETnE7jhrY8"
      },
      "execution_count": null,
      "outputs": []
    },
    {
      "cell_type": "code",
      "source": [
        "batch_x, batch_y = validate_artworks.next()\n",
        "print('Batch shape=%s, min=%.3f, max=%.3f' % (batch_x.shape, batch_x.min(), batch_x.max()))"
      ],
      "metadata": {
        "id": "SQ6rBdsRhuek"
      },
      "execution_count": null,
      "outputs": []
    },
    {
      "cell_type": "code",
      "source": [
        "batch_y.shape"
      ],
      "metadata": {
        "id": "AtchT_johxX9"
      },
      "execution_count": null,
      "outputs": []
    },
    {
      "cell_type": "code",
      "source": [
        "SPE_TRAIN = train_artworks.n//train_artworks.batch_size\n",
        "SPE_VALID = validate_artworks.n//validate_artworks.batch_size\n",
        "SPE_TRAIN, SPE_VALID"
      ],
      "metadata": {
        "id": "tL12AfeNh1E0"
      },
      "execution_count": null,
      "outputs": []
    },
    {
      "cell_type": "code",
      "source": [
        "rlrp = ReduceLROnPlateau(monitor='val_loss', factor=0.1, patience=3)\n",
        "\n",
        "filepath=\"weights_best_s3.h5\"\n",
        "checkpoint = ModelCheckpoint(filepath, monitor='val_loss', verbose=1, save_best_only=True, mode='min')\n",
        "\n",
        "callbacks_list = [checkpoint, rlrp]"
      ],
      "metadata": {
        "id": "b1pJLn5yh3F7"
      },
      "execution_count": null,
      "outputs": []
    },
    {
      "cell_type": "code",
      "source": [
        "history = model.fit(train_artworks,\n",
        "                    validation_data=validate_artworks,\n",
        "                    epochs=20,\n",
        "                    steps_per_epoch= SPE_TRAIN,\n",
        "                    validation_steps=SPE_VALID,\n",
        "                    shuffle=True,\n",
        "                    verbose = 1,\n",
        "                    class_weight=class_weights,\n",
        "                    callbacks=callbacks_list)"
      ],
      "metadata": {
        "id": "-q9uD-K5h7_U"
      },
      "execution_count": null,
      "outputs": []
    },
    {
      "cell_type": "code",
      "source": [
        "h1 = go.Scatter(y=history.history['loss'], \n",
        "                    mode=\"lines\",\n",
        "                    line=dict(\n",
        "                      width=2,\n",
        "                      color='blue'),\n",
        "                      name=\"loss\"\n",
        "                   )\n",
        "h2 = go.Scatter(y=history.history['val_loss'], \n",
        "                    mode=\"lines\",\n",
        "                    line=dict(\n",
        "                      width=2,\n",
        "                      color='red'),\n",
        "                      name=\"val_loss\"\n",
        "                   )\n",
        "\n",
        "data = [h1, h2]\n",
        "layout1 = go.Layout(title='Loss',\n",
        "                   xaxis=dict(title='epochs'),\n",
        "                   yaxis=dict(title=''))\n",
        "fig1 = go.Figure(data = data, layout=layout1)\n",
        "fig1.show()"
      ],
      "metadata": {
        "id": "V45yj6ZWh-7l"
      },
      "execution_count": null,
      "outputs": []
    },
    {
      "cell_type": "code",
      "source": [
        "h1 = go.Scatter(y=history.history['accuracy'], \n",
        "                    mode=\"lines\",\n",
        "                    line=dict(\n",
        "                      width=2,\n",
        "                      color='blue'),\n",
        "                      name=\"loss\"\n",
        "                   )\n",
        "h2 = go.Scatter(y=history.history['val_accuracy'], \n",
        "                    mode=\"lines\",\n",
        "                    line=dict(\n",
        "                      width=2,\n",
        "                      color='red'),\n",
        "                      name=\"val_loss\"\n",
        "                   )\n",
        "\n",
        "data = [h1, h2]\n",
        "layout1 = go.Layout(title='Accuracy',\n",
        "                   xaxis=dict(title='epochs'),\n",
        "                   yaxis=dict(title=''))\n",
        "fig1 = go.Figure(data = data, layout=layout1)\n",
        "fig1.show()"
      ],
      "metadata": {
        "id": "R508CoZsiDsj"
      },
      "execution_count": null,
      "outputs": []
    },
    {
      "cell_type": "code",
      "source": [
        "model = load_model(filepath)\n",
        "score = model.evaluate(validate_artworks, verbose=1)"
      ],
      "metadata": {
        "id": "5Dd8iluYiG9V"
      },
      "execution_count": null,
      "outputs": []
    },
    {
      "cell_type": "markdown",
      "source": [
        "# **การทดลอง S4**"
      ],
      "metadata": {
        "id": "mfUa9zNEiOl4"
      }
    },
    {
      "cell_type": "code",
      "source": [
        "vgg16_model = tf.keras.applications.VGG16(weights='imagenet', include_top=True, input_shape=(224, 224, 3))"
      ],
      "metadata": {
        "id": "Ib_OwSRHiUGc"
      },
      "execution_count": null,
      "outputs": []
    },
    {
      "cell_type": "code",
      "source": [
        "vgg16_model.trainable = False"
      ],
      "metadata": {
        "id": "Tntfq8c6lBAd"
      },
      "execution_count": null,
      "outputs": []
    },
    {
      "cell_type": "code",
      "source": [
        "vgg16_model = tf.keras.Model(inputs=vgg16_model.inputs, outputs=vgg16_model.layers[-2].output)"
      ],
      "metadata": {
        "id": "_VE_Lxd7lDGi"
      },
      "execution_count": null,
      "outputs": []
    },
    {
      "cell_type": "code",
      "source": [
        "vgg16_model.get_layer('fc2').trainable = True\n",
        "vgg16_model.get_layer('fc1').trainable = True"
      ],
      "metadata": {
        "id": "wv1BUydIlFI5"
      },
      "execution_count": null,
      "outputs": []
    },
    {
      "cell_type": "code",
      "source": [
        "output = tf.keras.layers.Dense(11, activation='softmax')(vgg16_model.layers[-1].output)\n",
        "model = tf.keras.Model(inputs=vgg16_model.inputs, outputs=output)"
      ],
      "metadata": {
        "id": "0j7qi_ZKlGvP"
      },
      "execution_count": null,
      "outputs": []
    },
    {
      "cell_type": "code",
      "source": [
        "adam_optimizer = Adam(learning_rate=0.00001)\n",
        "\n",
        "model.compile(loss='categorical_crossentropy', optimizer=adam_optimizer, metrics=['accuracy'])\n",
        "model.summary()"
      ],
      "metadata": {
        "id": "bi85xJoblKzq"
      },
      "execution_count": null,
      "outputs": []
    },
    {
      "cell_type": "code",
      "source": [
        "filepath=\"weights_best_s4.h5\"\n",
        "checkpoint = ModelCheckpoint(filepath, monitor='val_loss', verbose=1, save_best_only=True, mode='min')\n",
        "\n",
        "callbacks_list = [checkpoint, rlrp]"
      ],
      "metadata": {
        "id": "1UuF0yeMlOGh"
      },
      "execution_count": null,
      "outputs": []
    },
    {
      "cell_type": "code",
      "source": [
        "history2 = model.fit(train_artworks,\n",
        "                    validation_data=validate_artworks,\n",
        "                    epochs=20,\n",
        "                    steps_per_epoch= SPE_TRAIN,\n",
        "                    validation_steps=SPE_VALID,\n",
        "                    shuffle=True,\n",
        "                    verbose = 1,\n",
        "                    class_weight=class_weights,\n",
        "                    callbacks=callbacks_list)"
      ],
      "metadata": {
        "id": "K6aAhmDGlSEV"
      },
      "execution_count": null,
      "outputs": []
    },
    {
      "cell_type": "code",
      "source": [
        "h1 = go.Scatter(y=history2.history['loss'], \n",
        "                    mode=\"lines\",\n",
        "                    line=dict(\n",
        "                      width=2,\n",
        "                      color='blue'),\n",
        "                      name=\"loss\"\n",
        "                   )\n",
        "h2 = go.Scatter(y=history2.history['val_loss'], \n",
        "                    mode=\"lines\",\n",
        "                    line=dict(\n",
        "                      width=2,\n",
        "                      color='red'),\n",
        "                      name=\"val_loss\"\n",
        "                   )\n",
        "\n",
        "data = [h1, h2]\n",
        "layout1 = go.Layout(title='Loss',\n",
        "                   xaxis=dict(title='epochs'),\n",
        "                   yaxis=dict(title=''))\n",
        "fig1 = go.Figure(data = data, layout=layout1)\n",
        "fig1.show()"
      ],
      "metadata": {
        "id": "jOiJxcFIlV5-"
      },
      "execution_count": null,
      "outputs": []
    },
    {
      "cell_type": "code",
      "source": [
        "h1 = go.Scatter(y=history2.history['accuracy'], \n",
        "                    mode=\"lines\",\n",
        "                    line=dict(\n",
        "                      width=2,\n",
        "                      color='blue'),\n",
        "                      name=\"loss\"\n",
        "                   )\n",
        "h2 = go.Scatter(y=history2.history['val_accuracy'], \n",
        "                    mode=\"lines\",\n",
        "                    line=dict(\n",
        "                      width=2,\n",
        "                      color='red'),\n",
        "                      name=\"val_loss\"\n",
        "                   )\n",
        "\n",
        "data = [h1, h2]\n",
        "layout1 = go.Layout(title='Accuracy',\n",
        "                   xaxis=dict(title='epochs'),\n",
        "                   yaxis=dict(title=''))\n",
        "fig1 = go.Figure(data = data, layout=layout1)\n",
        "fig1.show()"
      ],
      "metadata": {
        "id": "vqzPXVVNlXxy"
      },
      "execution_count": null,
      "outputs": []
    },
    {
      "cell_type": "code",
      "source": [
        "model = load_model(filepath)\n",
        "score = model.evaluate(validate_artworks, verbose=1)"
      ],
      "metadata": {
        "id": "aWn0E3cBlbBw"
      },
      "execution_count": null,
      "outputs": []
    },
    {
      "cell_type": "markdown",
      "source": [
        "# **การทดลอง S5**"
      ],
      "metadata": {
        "id": "nNj7PZ-2ljQR"
      }
    },
    {
      "cell_type": "code",
      "source": [
        "vgg16_model = tf.keras.applications.VGG16(weights='imagenet', include_top=True, input_shape=(224, 224, 3))"
      ],
      "metadata": {
        "id": "T34XAzBzlltZ"
      },
      "execution_count": null,
      "outputs": []
    },
    {
      "cell_type": "code",
      "source": [
        "vgg16_model.trainable = False"
      ],
      "metadata": {
        "id": "dvHeZttzlook"
      },
      "execution_count": null,
      "outputs": []
    },
    {
      "cell_type": "code",
      "source": [
        "vgg16_model = tf.keras.Model(inputs=vgg16_model.inputs, outputs=vgg16_model.layers[-2].output)"
      ],
      "metadata": {
        "id": "-Eg1lXdslqME"
      },
      "execution_count": null,
      "outputs": []
    },
    {
      "cell_type": "code",
      "source": [
        "output = tf.keras.layers.Dense(11, activation='softmax')(vgg16_model.layers[-1].output)\n",
        "model = tf.keras.Model(inputs=vgg16_model.inputs, outputs=output)"
      ],
      "metadata": {
        "id": "qiETtRydlscC"
      },
      "execution_count": null,
      "outputs": []
    },
    {
      "cell_type": "code",
      "source": [
        "for layer in model.layers[10:]:\n",
        "    layer.trainable = True"
      ],
      "metadata": {
        "id": "cpLQgHF8lvCk"
      },
      "execution_count": null,
      "outputs": []
    },
    {
      "cell_type": "code",
      "source": [
        "adam_optimizer = Adam(learning_rate=0.00001)\n",
        "\n",
        "model.compile(loss='categorical_crossentropy', optimizer=adam_optimizer, metrics=['accuracy'])\n",
        "model.summary()"
      ],
      "metadata": {
        "id": "J4MBAJ1poQda"
      },
      "execution_count": null,
      "outputs": []
    },
    {
      "cell_type": "code",
      "source": [
        "filepath=\"weights_best_s5.h5\"\n",
        "checkpoint = ModelCheckpoint(filepath, monitor='val_loss', verbose=1, save_best_only=True, mode='min')\n",
        "\n",
        "callbacks_list = [checkpoint, rlrp]"
      ],
      "metadata": {
        "id": "1KcXmm8VoUq2"
      },
      "execution_count": null,
      "outputs": []
    },
    {
      "cell_type": "code",
      "source": [
        "history3 = model.fit(train_artworks,\n",
        "                    validation_data=validate_artworks,\n",
        "                    epochs=20,\n",
        "                    steps_per_epoch= SPE_TRAIN,\n",
        "                    validation_steps=SPE_VALID,\n",
        "                    shuffle=True,\n",
        "                    verbose = 1,\n",
        "                    class_weight=class_weights,\n",
        "                    callbacks=callbacks_list)"
      ],
      "metadata": {
        "id": "nbQpIDX9oXpb"
      },
      "execution_count": null,
      "outputs": []
    },
    {
      "cell_type": "code",
      "source": [
        "h1 = go.Scatter(y=history3.history['loss'], \n",
        "                    mode=\"lines\",\n",
        "                    line=dict(\n",
        "                      width=2,\n",
        "                      color='blue'),\n",
        "                      name=\"loss\"\n",
        "                   )\n",
        "h2 = go.Scatter(y=history3.history['val_loss'], \n",
        "                    mode=\"lines\",\n",
        "                      line=dict(\n",
        "                      width=2,\n",
        "                      color='red'),\n",
        "                      name=\"val_loss\"\n",
        "                   )\n",
        "\n",
        "data = [h1, h2]\n",
        "layout1 = go.Layout(title='Loss',\n",
        "                   xaxis=dict(title='epochs'),\n",
        "                   yaxis=dict(title=''))\n",
        "fig1 = go.Figure(data = data, layout=layout1)\n",
        "fig1.show()"
      ],
      "metadata": {
        "id": "EAXXV1ERoaek"
      },
      "execution_count": null,
      "outputs": []
    },
    {
      "cell_type": "code",
      "source": [
        "h1 = go.Scatter(y=history3.history['accuracy'], \n",
        "                    mode=\"lines\",\n",
        "                    line=dict(\n",
        "                      width=2,\n",
        "                      color='blue'),\n",
        "                      name=\"loss\"\n",
        "                   )\n",
        "h2 = go.Scatter(y=history3.history['val_accuracy'], \n",
        "                    mode=\"lines\",\n",
        "                    line=dict(\n",
        "                    width=2,\n",
        "                    color='red'),\n",
        "                    name=\"val_loss\"\n",
        "                   )\n",
        "\n",
        "data = [h1, h2]\n",
        "layout1 = go.Layout(title='Accuracy',\n",
        "                   xaxis=dict(title='epochs'),\n",
        "                   yaxis=dict(title=''))\n",
        "fig1 = go.Figure(data = data, layout=layout1)\n",
        "fig1.show()"
      ],
      "metadata": {
        "id": "Bk9teD-lodDa"
      },
      "execution_count": null,
      "outputs": []
    },
    {
      "cell_type": "code",
      "source": [
        "model = load_model(filepath)\n",
        "score = model.evaluate(validate_artworks, verbose=1)"
      ],
      "metadata": {
        "id": "vQqCsenTogxp"
      },
      "execution_count": null,
      "outputs": []
    },
    {
      "cell_type": "markdown",
      "source": [
        "# **การทดลอง S6**"
      ],
      "metadata": {
        "id": "t21NYjw3ojoZ"
      }
    },
    {
      "cell_type": "code",
      "source": [
        "vgg16_model = tf.keras.applications.VGG16(weights='imagenet', include_top=True, input_shape=(224, 224, 3))"
      ],
      "metadata": {
        "id": "M5KtFjg6onOY"
      },
      "execution_count": null,
      "outputs": []
    },
    {
      "cell_type": "code",
      "source": [
        "vgg16_model.trainable = True"
      ],
      "metadata": {
        "id": "Ku2Y4bo2oo9N"
      },
      "execution_count": null,
      "outputs": []
    },
    {
      "cell_type": "code",
      "source": [
        "vgg16_model = tf.keras.Model(inputs=vgg16_model.inputs, outputs=vgg16_model.layers[-2].output)"
      ],
      "metadata": {
        "id": "U9O3Gl0goqQ3"
      },
      "execution_count": null,
      "outputs": []
    },
    {
      "cell_type": "code",
      "source": [
        "output = tf.keras.layers.Dense(11, activation='softmax')(vgg16_model.layers[-1].output)\n",
        "model = tf.keras.Model(inputs=vgg16_model.inputs, outputs=output)"
      ],
      "metadata": {
        "id": "4f-Y5OsMotsD"
      },
      "execution_count": null,
      "outputs": []
    },
    {
      "cell_type": "code",
      "source": [
        "adam_optimizer = Adam(learning_rate=0.00001)\n",
        "\n",
        "model.compile(loss='categorical_crossentropy', optimizer=adam_optimizer, metrics=['accuracy'])\n",
        "model.summary()"
      ],
      "metadata": {
        "id": "y1WeaGFxowgG"
      },
      "execution_count": null,
      "outputs": []
    },
    {
      "cell_type": "code",
      "source": [
        "filepath=\"weights_best_s6.h5\"\n",
        "checkpoint = ModelCheckpoint(filepath, monitor='val_loss', verbose=1, save_best_only=True, mode='min')\n",
        "\n",
        "callbacks_list = [checkpoint, rlrp]"
      ],
      "metadata": {
        "id": "EkCZq3HOoyX5"
      },
      "execution_count": null,
      "outputs": []
    },
    {
      "cell_type": "code",
      "source": [
        "history4 = model.fit(train_artworks,\n",
        "                    validation_data=validate_artworks,\n",
        "                    epochs=20,\n",
        "                    steps_per_epoch= SPE_TRAIN,\n",
        "                    validation_steps=SPE_VALID,\n",
        "                    shuffle=True,\n",
        "                    verbose = 1,\n",
        "                    class_weight=class_weights,\n",
        "                    callbacks=callbacks_list)"
      ],
      "metadata": {
        "id": "YT-s8grvo0yj"
      },
      "execution_count": null,
      "outputs": []
    },
    {
      "cell_type": "code",
      "source": [
        "h1 = go.Scatter(y=history4.history['loss'], \n",
        "                    mode=\"lines\",\n",
        "                    line=dict(\n",
        "                      width=2,\n",
        "                      color='blue'),\n",
        "                      name=\"loss\"\n",
        "                   )\n",
        "h2 = go.Scatter(y=history4.history['val_loss'], \n",
        "                    mode=\"lines\",\n",
        "                    line=dict(\n",
        "                      width=2,\n",
        "                      color='red'),\n",
        "                      name=\"val_loss\"\n",
        "                   )\n",
        "\n",
        "data = [h1, h2]\n",
        "layout1 = go.Layout(title='Loss',\n",
        "                   xaxis=dict(title='epochs'),\n",
        "                   yaxis=dict(title=''))\n",
        "fig1 = go.Figure(data = data, layout=layout1)\n",
        "fig1.show()"
      ],
      "metadata": {
        "id": "9YJSoqR6o3IU"
      },
      "execution_count": null,
      "outputs": []
    },
    {
      "cell_type": "code",
      "source": [
        "h1 = go.Scatter(y=history4.history['accuracy'], \n",
        "                    mode=\"lines\",\n",
        "                    line=dict(\n",
        "                      width=2,\n",
        "                      color='blue'),\n",
        "                      name=\"loss\"\n",
        "                   )\n",
        "h2 = go.Scatter(y=history4.history['val_accuracy'], \n",
        "                    mode=\"lines\",\n",
        "                    line=dict(\n",
        "                      width=2,\n",
        "                      color='red'),\n",
        "                      name=\"val_loss\"\n",
        "                   )\n",
        "\n",
        "data = [h1, h2]\n",
        "layout1 = go.Layout(title='Accuracy',\n",
        "                   xaxis=dict(title='epochs'),\n",
        "                   yaxis=dict(title=''))\n",
        "fig1 = go.Figure(data = data, layout=layout1)\n",
        "fig1.show()"
      ],
      "metadata": {
        "id": "ZUT30rt1o5dL"
      },
      "execution_count": null,
      "outputs": []
    },
    {
      "cell_type": "code",
      "source": [
        "model = load_model(filepath)\n",
        "score = model.evaluate(validate_artworks, verbose=1)"
      ],
      "metadata": {
        "id": "V1kL5011o8xY"
      },
      "execution_count": null,
      "outputs": []
    },
    {
      "cell_type": "code",
      "source": [
        ""
      ],
      "metadata": {
        "id": "jgPnTt1dtAQy"
      },
      "execution_count": null,
      "outputs": []
    }
  ]
}