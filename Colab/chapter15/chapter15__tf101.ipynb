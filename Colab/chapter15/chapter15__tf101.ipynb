{
  "nbformat": 4,
  "nbformat_minor": 0,
  "metadata": {
    "colab": {
      "name": "chapter15_ tf101.ipynb",
      "provenance": [],
      "collapsed_sections": [],
      "machine_shape": "hm"
    },
    "kernelspec": {
      "name": "python3",
      "display_name": "Python 3"
    },
    "language_info": {
      "name": "python"
    },
    "accelerator": "GPU"
  },
  "cells": [
    {
      "cell_type": "code",
      "execution_count": null,
      "metadata": {
        "id": "_i4rspdXIrcw"
      },
      "outputs": [],
      "source": [
        "!nvidia-smi"
      ]
    },
    {
      "cell_type": "code",
      "source": [
        "import numpy as np\n",
        "import tensorflow as tf\n",
        "\n",
        "load_img = tf.keras.preprocessing.image.load_img\n",
        "img_to_array = tf.keras.preprocessing.image.img_to_array\n",
        "ImageDataGenerator = tf.keras.preprocessing.image.ImageDataGenerator\n",
        "\n",
        "Adam = tf.keras.optimizers.Adam\n",
        "\n",
        "import copy\n",
        "import glob\n",
        "import pickle as pic\n",
        "from sklearn.neighbors import NearestNeighbors\n",
        "import matplotlib.pyplot as plt\n",
        "\n",
        "import plotly\n",
        "import plotly.graph_objs as go\n",
        "from plotly import tools"
      ],
      "metadata": {
        "id": "2uoyPiwQJVOL"
      },
      "execution_count": null,
      "outputs": []
    },
    {
      "cell_type": "code",
      "source": [
        "vgg16_input_image = load_img('cat/cat.jpg', target_size=(224, 224))\n",
        "vgg16_input_image"
      ],
      "metadata": {
        "id": "-_5K-k3kJ-aj"
      },
      "execution_count": null,
      "outputs": []
    },
    {
      "cell_type": "code",
      "source": [
        "resnet_input_image = copy.deepcopy(vgg16_input_image)"
      ],
      "metadata": {
        "id": "-y0fbx76KStI"
      },
      "execution_count": null,
      "outputs": []
    },
    {
      "cell_type": "code",
      "source": [
        "nasnetlarge_input_image = load_img('cat/cat.jpg', target_size=(331, 331))\n",
        "nasnetlarge_input_image"
      ],
      "metadata": {
        "id": "AcLR6fqQKWp2"
      },
      "execution_count": null,
      "outputs": []
    },
    {
      "cell_type": "code",
      "source": [
        "vgg16_input_image = img_to_array(vgg16_input_image)\n",
        "resnet_input_image = img_to_array(resnet_input_image)\n",
        "nasnetlarge_input_image = img_to_array(nasnetlarge_input_image)\n",
        "\n",
        "vgg16_input_image.shape, resnet_input_image.shape, nasnetlarge_input_image.shape"
      ],
      "metadata": {
        "id": "OgTPirUHKYtq"
      },
      "execution_count": null,
      "outputs": []
    },
    {
      "cell_type": "code",
      "source": [
        "vgg16_input_image = np.expand_dims(vgg16_input_image, axis=0)\n",
        "resnet_input_image = np.expand_dims(resnet_input_image, axis=0)\n",
        "nasnetlarge_input_image = np.expand_dims(nasnetlarge_input_image, axis=0)\n",
        "\n",
        "vgg16_input_image.shape, resnet_input_image.shape, nasnetlarge_input_image.shape"
      ],
      "metadata": {
        "id": "Vx_WTTf-KcNK"
      },
      "execution_count": null,
      "outputs": []
    },
    {
      "cell_type": "code",
      "source": [
        "vgg16_input_image.min(), vgg16_input_image.max(), resnet_input_image.min(), resnet_input_image.max(), nasnetlarge_input_image.min(), nasnetlarge_input_image.max()"
      ],
      "metadata": {
        "id": "zrkkMwACKgmt"
      },
      "execution_count": null,
      "outputs": []
    },
    {
      "cell_type": "code",
      "source": [
        "vgg16_input_image =  tf.keras.applications.vgg16.preprocess_input(vgg16_input_image)\n",
        "vgg16_input_image.min(), vgg16_input_image.max()"
      ],
      "metadata": {
        "id": "RzM6KkwvKjpw"
      },
      "execution_count": null,
      "outputs": []
    },
    {
      "cell_type": "code",
      "source": [
        "resnet_input_image =  tf.keras.applications.resnet_v2.preprocess_input(resnet_input_image)\n",
        "resnet_input_image.min(), resnet_input_image.max()"
      ],
      "metadata": {
        "id": "A88_h3ejKmJa"
      },
      "execution_count": null,
      "outputs": []
    },
    {
      "cell_type": "code",
      "source": [
        "nasnetlarge_input_image =  tf.keras.applications.nasnet.preprocess_input(nasnetlarge_input_image)\n",
        "nasnetlarge_input_image.min(), nasnetlarge_input_image.max()"
      ],
      "metadata": {
        "id": "f8PjriAVKoXn"
      },
      "execution_count": null,
      "outputs": []
    },
    {
      "cell_type": "code",
      "source": [
        "vgg16_model = tf.keras.applications.VGG16(weights='imagenet', include_top=True)\n",
        "resnet_model = tf.keras.applications.ResNet152V2(weights='imagenet', include_top=True)\n",
        "nasnetlarge_model = tf.keras.applications.NASNetLarge(weights='imagenet', include_top=True)\n"
      ],
      "metadata": {
        "id": "fb3xrRjxKqyG"
      },
      "execution_count": null,
      "outputs": []
    },
    {
      "cell_type": "code",
      "source": [
        "result = vgg16_model.predict(vgg16_input_image)\n",
        "result.shape"
      ],
      "metadata": {
        "id": "UN48ScNQKuCt"
      },
      "execution_count": null,
      "outputs": []
    },
    {
      "cell_type": "code",
      "source": [
        "label = tf.keras.applications.vgg16.decode_predictions(result)\n",
        "label"
      ],
      "metadata": {
        "id": "uxIn2rlSKzZt"
      },
      "execution_count": null,
      "outputs": []
    },
    {
      "cell_type": "code",
      "source": [
        "label = label[0][0]\n",
        "print('%s (%.2f%%)' % (label[1], label[2]*100))"
      ],
      "metadata": {
        "id": "zzLq4k88K44s"
      },
      "execution_count": null,
      "outputs": []
    },
    {
      "cell_type": "code",
      "source": [
        "result = resnet_model.predict(resnet_input_image )\n",
        "result.shape"
      ],
      "metadata": {
        "id": "_22cpNSMK9lL"
      },
      "execution_count": null,
      "outputs": []
    },
    {
      "cell_type": "code",
      "source": [
        "label = tf.keras.applications.resnet_v2.decode_predictions(result)\n",
        "label"
      ],
      "metadata": {
        "id": "SWPqEaX7LAMZ"
      },
      "execution_count": null,
      "outputs": []
    },
    {
      "cell_type": "code",
      "source": [
        "label = label[0][0]\n",
        "print('%s (%.2f%%)' % (label[1], label[2]*100))"
      ],
      "metadata": {
        "id": "NDvqu_bKLC4T"
      },
      "execution_count": null,
      "outputs": []
    },
    {
      "cell_type": "code",
      "source": [
        "result = nasnetlarge_model.predict(nasnetlarge_input_image)\n",
        "result.shape"
      ],
      "metadata": {
        "id": "IXTG-A5eLFlQ"
      },
      "execution_count": null,
      "outputs": []
    },
    {
      "cell_type": "code",
      "source": [
        "label = tf.keras.applications.nasnet.decode_predictions(result)\n",
        "label"
      ],
      "metadata": {
        "id": "McP4Cfq1LIF2"
      },
      "execution_count": null,
      "outputs": []
    },
    {
      "cell_type": "code",
      "source": [
        "label = label[0][0]\n",
        "print('%s (%.2f%%)' % (label[1], label[2]*100))"
      ],
      "metadata": {
        "id": "dRTp85W0LLiW"
      },
      "execution_count": null,
      "outputs": []
    },
    {
      "cell_type": "code",
      "source": [
        ""
      ],
      "metadata": {
        "id": "eNQaCNk8LNx2"
      },
      "execution_count": null,
      "outputs": []
    }
  ]
}