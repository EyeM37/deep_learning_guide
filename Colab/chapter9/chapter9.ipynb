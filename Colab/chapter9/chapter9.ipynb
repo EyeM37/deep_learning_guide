{
  "nbformat": 4,
  "nbformat_minor": 0,
  "metadata": {
    "colab": {
      "name": "PDL_09.ipynb",
      "provenance": [],
      "collapsed_sections": []
    },
    "kernelspec": {
      "name": "python3",
      "display_name": "Python 3"
    },
    "language_info": {
      "name": "python"
    },
    "accelerator": "GPU"
  },
  "cells": [
    {
      "cell_type": "code",
      "execution_count": null,
      "metadata": {
        "id": "atlD-wktCzw0"
      },
      "outputs": [],
      "source": [
        "import tensorflow as tf\n",
        "\n",
        "load_img = tf.keras.preprocessing.image.load_img\n",
        "img_to_array = tf.keras.preprocessing.image.img_to_array\n",
        "array_to_img = tf.keras.preprocessing.image.array_to_img\n",
        "Adam = tf.keras.optimizers.Adam\n",
        "fashion_mnist = tf.keras.datasets.fashion_mnist\n",
        "to_categorical = tf.keras.utils.to_categorical\n",
        "ImageDataGenerator = tf.keras.preprocessing.image.ImageDataGenerator\n",
        "ModelCheckpoint = tf.keras.callbacks.ModelCheckpoint\n",
        "load_model = tf.keras.models.load_model\n",
        "\n",
        "from sklearn.model_selection import train_test_split\n",
        "import numpy as np\n",
        "import matplotlib.pyplot as plt\n",
        "\n",
        "import plotly.graph_objs as go\n",
        "from plotly import subplots\n",
        "import plotly"
      ]
    },
    {
      "cell_type": "code",
      "source": [
        "cat = load_img('cat.jpg')\n",
        "cat"
      ],
      "metadata": {
        "id": "ZBvs0NJsC_DL"
      },
      "execution_count": null,
      "outputs": []
    },
    {
      "cell_type": "code",
      "source": [
        "cat = img_to_array(cat)\n",
        "print(cat.shape)"
      ],
      "metadata": {
        "id": "8tOqF3StDVGY"
      },
      "execution_count": null,
      "outputs": []
    },
    {
      "cell_type": "code",
      "source": [
        "model = tf.keras.Sequential()\n",
        "model.add(tf.keras.layers.Conv2D(3, # number of filter layers\n",
        "                (3,                 # y dimension of kernel\n",
        "                 3),                # x dimension of kernel\n",
        "                 input_shape=cat.shape))\n",
        "\n",
        "model.summary()"
      ],
      "metadata": {
        "id": "XAFeUQC5DW8G"
      },
      "execution_count": null,
      "outputs": []
    },
    {
      "cell_type": "code",
      "source": [
        "cat_batch = np.expand_dims(cat,axis=0)\n",
        "cat_batch.shape"
      ],
      "metadata": {
        "id": "N_Klv8oeDZGh"
      },
      "execution_count": null,
      "outputs": []
    },
    {
      "cell_type": "code",
      "source": [
        "conv_cat = model(cat_batch)\n",
        "conv_cat.shape"
      ],
      "metadata": {
        "id": "7DhkFIkiDbSb"
      },
      "execution_count": null,
      "outputs": []
    },
    {
      "cell_type": "code",
      "source": [
        "conv_cat = np.squeeze(conv_cat, axis=0)\n",
        "conv_cat.shape"
      ],
      "metadata": {
        "id": "YYXVQqUrDctV"
      },
      "execution_count": null,
      "outputs": []
    },
    {
      "cell_type": "code",
      "source": [
        "conv_cat = array_to_img(conv_cat)\n",
        "display(conv_cat)"
      ],
      "metadata": {
        "id": "W5tQdHGSDeS0"
      },
      "execution_count": null,
      "outputs": []
    },
    {
      "cell_type": "code",
      "source": [
        "def visualize_cat(model, cat):\n",
        "    cat_batch = np.expand_dims(cat,axis=0)\n",
        "    conv_cat = model(cat_batch)\n",
        "    conv_cat = np.squeeze(conv_cat, axis=0)\n",
        "    conv_cat = array_to_img(conv_cat)\n",
        "    display(conv_cat)"
      ],
      "metadata": {
        "id": "Urw754Q6DgGK"
      },
      "execution_count": null,
      "outputs": []
    },
    {
      "cell_type": "code",
      "source": [
        "visualize_cat(model, cat)"
      ],
      "metadata": {
        "id": "qHVg3CQWDjYo"
      },
      "execution_count": null,
      "outputs": []
    },
    {
      "cell_type": "code",
      "source": [
        "model = tf.keras.Sequential()\n",
        "model.add(tf.keras.layers.Conv2D(3,(10, 10), input_shape=cat.shape))\n",
        "\n",
        "model.summary()"
      ],
      "metadata": {
        "id": "cwx3RWlXDlJ6"
      },
      "execution_count": null,
      "outputs": []
    },
    {
      "cell_type": "code",
      "source": [
        "visualize_cat(model, cat)"
      ],
      "metadata": {
        "id": "D7StkexMDndX"
      },
      "execution_count": null,
      "outputs": []
    },
    {
      "cell_type": "code",
      "source": [
        "model = tf.keras.Sequential()\n",
        "model.add(tf.keras.layers.Conv2D(1,(3,3),input_shape=cat.shape))\n",
        "\n",
        "model.summary()"
      ],
      "metadata": {
        "id": "Pd-m2rfDDpn3"
      },
      "execution_count": null,
      "outputs": []
    },
    {
      "cell_type": "code",
      "source": [
        "def visualize_cat_one_channel(model, cat):\n",
        "    cat_batch = np.expand_dims(cat,axis=0)\n",
        "    conv_cat2 = model(cat_batch)\n",
        "    conv_cat2 = np.squeeze(conv_cat2, axis=0)\n",
        "    conv_cat2 = array_to_img(conv_cat2)\n",
        "    display(conv_cat2)"
      ],
      "metadata": {
        "id": "ETYBOlBHDr4J"
      },
      "execution_count": null,
      "outputs": []
    },
    {
      "cell_type": "code",
      "source": [
        "visualize_cat_one_channel(model, cat)"
      ],
      "metadata": {
        "id": "JyoeEVhbDuC6"
      },
      "execution_count": null,
      "outputs": []
    },
    {
      "cell_type": "code",
      "source": [
        "model = tf.keras.Sequential()\n",
        "model.add(tf.keras.layers.Conv2D(1,(20,20),input_shape=cat.shape))\n",
        "\n",
        "model.summary()"
      ],
      "metadata": {
        "id": "jrvBd6KPDvj3"
      },
      "execution_count": null,
      "outputs": []
    },
    {
      "cell_type": "code",
      "source": [
        "visualize_cat_one_channel(model, cat)"
      ],
      "metadata": {
        "id": "gCf2VfFyDy89"
      },
      "execution_count": null,
      "outputs": []
    },
    {
      "cell_type": "code",
      "source": [
        "model = tf.keras.Sequential()\n",
        "model.add(tf.keras.layers.Conv2D(1,(20,20),input_shape=cat.shape))\n",
        "model.add(tf.keras.layers.Activation('relu'))\n",
        "\n",
        "model.summary()"
      ],
      "metadata": {
        "id": "052ZStdRD0v7"
      },
      "execution_count": null,
      "outputs": []
    },
    {
      "cell_type": "code",
      "source": [
        "visualize_cat_one_channel(model, cat)"
      ],
      "metadata": {
        "id": "Bi3DTJ52D3Jg"
      },
      "execution_count": null,
      "outputs": []
    },
    {
      "cell_type": "code",
      "source": [
        "model = tf.keras.Sequential()\n",
        "model.add(tf.keras.layers.Conv2D(1,(3,3),input_shape=cat.shape))\n",
        "model.add(tf.keras.layers.MaxPooling2D(pool_size=(5,5)))\n",
        "\n",
        "model.summary()"
      ],
      "metadata": {
        "id": "kTInSjp-D5FV"
      },
      "execution_count": null,
      "outputs": []
    },
    {
      "cell_type": "code",
      "source": [
        "visualize_cat_one_channel(model, cat)"
      ],
      "metadata": {
        "id": "_ihe2b-yD602"
      },
      "execution_count": null,
      "outputs": []
    },
    {
      "cell_type": "code",
      "source": [
        "model = tf.keras.Sequential()\n",
        "model.add(tf.keras.layers.Conv2D(1,(3,3),input_shape=cat.shape))\n",
        "\n",
        "model.add(tf.keras.layers.Activation('relu'))\n",
        "model.add(tf.keras.layers.MaxPooling2D(pool_size=(5,5)))\n",
        "model.summary()"
      ],
      "metadata": {
        "id": "7-i53urBD8f1"
      },
      "execution_count": null,
      "outputs": []
    },
    {
      "cell_type": "code",
      "source": [
        "visualize_cat_one_channel(model, cat)"
      ],
      "metadata": {
        "id": "bb2olL7xD-Af"
      },
      "execution_count": null,
      "outputs": []
    },
    {
      "cell_type": "code",
      "source": [
        "model = tf.keras.Sequential()\n",
        "model.add(tf.keras.layers.Conv2D(1,(3,3),input_shape=cat.shape))\n",
        "\n",
        "model.add(tf.keras.layers.Activation('relu'))\n",
        "model.add(tf.keras.layers.MaxPooling2D(pool_size=(3,3)))\n",
        "\n",
        "model.add(tf.keras.layers.Conv2D(1,(3,3)))\n",
        "\n",
        "model.add(tf.keras.layers.Activation('relu'))\n",
        "model.add(tf.keras.layers.MaxPooling2D(pool_size=(3,3)))\n",
        "\n",
        "model.summary()"
      ],
      "metadata": {
        "id": "OwbS7-LfD_3E"
      },
      "execution_count": null,
      "outputs": []
    },
    {
      "cell_type": "code",
      "source": [
        "visualize_cat_one_channel(model, cat)"
      ],
      "metadata": {
        "id": "ynp-LOL7EGHQ"
      },
      "execution_count": null,
      "outputs": []
    },
    {
      "cell_type": "markdown",
      "source": [
        "# **Fashion-MNIST Model**"
      ],
      "metadata": {
        "id": "ta6mu1ghJB0Y"
      }
    },
    {
      "cell_type": "code",
      "source": [
        "IMG_ROWS = 28\n",
        "IMG_COLS = 28\n",
        "NUM_CLASSES = 10\n",
        "VAL_SIZE = 0.2\n",
        "RANDOM_STATE = 99\n",
        "\n",
        "BATCH_SIZE = 128"
      ],
      "metadata": {
        "id": "JJVF_ce9EInP"
      },
      "execution_count": null,
      "outputs": []
    },
    {
      "cell_type": "code",
      "source": [
        "(train_data, y), (test_data, y_test) = fashion_mnist.load_data()\n",
        "\n",
        "print(\"Fashion MNIST train -  rows:\",train_data.shape[0],\" columns:\", train_data.shape[1], \" rows:\", train_data.shape[2])\n",
        "print(\"Fashion MNIST test -  rows:\",test_data.shape[0],\" columns:\", test_data.shape[1], \" rows:\", train_data.shape[2])"
      ],
      "metadata": {
        "id": "da3Si7rWJG-v"
      },
      "execution_count": null,
      "outputs": []
    },
    {
      "cell_type": "code",
      "source": [
        "for i in range(9):\n",
        "    plt.subplot(330 + 1 + i)    \n",
        "    plt.imshow(train_data[i], cmap=plt.get_cmap('gray'))\n",
        "\n",
        "plt.savefig('fashion_mnist.jpeg', dpi=300)"
      ],
      "metadata": {
        "id": "wh-4BLy3JInU"
      },
      "execution_count": null,
      "outputs": []
    },
    {
      "cell_type": "code",
      "source": [
        "print(train_data.shape, test_data.shape)\n",
        "\n",
        "train_data = train_data.reshape((train_data.shape[0], 28, 28, 1))\n",
        "test_data = test_data.reshape((test_data.shape[0], 28, 28, 1))\n",
        "\n",
        "print(train_data.shape, test_data.shape)"
      ],
      "metadata": {
        "id": "1Xoi6yJeJKwm"
      },
      "execution_count": null,
      "outputs": []
    },
    {
      "cell_type": "code",
      "source": [
        "train_data = train_data / 255.0\n",
        "test_data = test_data / 255.0"
      ],
      "metadata": {
        "id": "oNaB4wnDJMaD"
      },
      "execution_count": null,
      "outputs": []
    },
    {
      "cell_type": "code",
      "source": [
        "y = to_categorical(y)\n",
        "y_test = to_categorical(y_test)\n",
        "\n",
        "print(y.shape, y_test.shape)\n",
        "y[:10]"
      ],
      "metadata": {
        "id": "QzlTj-A3JOSJ"
      },
      "execution_count": null,
      "outputs": []
    },
    {
      "cell_type": "code",
      "source": [
        "x_train, x_val, y_train, y_val = train_test_split(train_data, y, test_size=VAL_SIZE, random_state=RANDOM_STATE)\n",
        "x_train.shape, x_val.shape, y_train.shape, y_val.shape"
      ],
      "metadata": {
        "id": "fNZw8c9nJPyY"
      },
      "execution_count": null,
      "outputs": []
    },
    {
      "cell_type": "code",
      "source": [
        "def create_trace(x,y,ylabel,color):\n",
        "        trace = go.Scatter(\n",
        "            x = x,y = y,\n",
        "            name=ylabel,\n",
        "            marker=dict(color=color),\n",
        "            mode = \"markers+lines\",\n",
        "            text=x\n",
        "        )\n",
        "        return trace\n",
        "    \n",
        "def plot_accuracy_and_loss(train_model):\n",
        "    hist = train_model.history\n",
        "    acc = hist['accuracy']\n",
        "    val_acc = hist['val_accuracy']\n",
        "    loss = hist['loss']\n",
        "    val_loss = hist['val_loss']\n",
        "    epochs = list(range(1,len(acc)+1))\n",
        "    \n",
        "    trace_ta = create_trace(epochs,acc,\"Training accuracy\", \"Green\")\n",
        "    trace_va = create_trace(epochs,val_acc,\"Validation accuracy\", \"Red\")\n",
        "    trace_tl = create_trace(epochs,loss,\"Training loss\", \"Blue\")\n",
        "    trace_vl = create_trace(epochs,val_loss,\"Validation loss\", \"Magenta\")\n",
        "    fig = subplots.make_subplots(rows=1,cols=2, subplot_titles=('Training and validation accuracy',\n",
        "                                                             'Training and validation loss'))\n",
        "    fig.append_trace(trace_ta,1,1)\n",
        "    fig.append_trace(trace_va,1,1)\n",
        "    fig.append_trace(trace_tl,1,2)\n",
        "    fig.append_trace(trace_vl,1,2)\n",
        "    fig['layout']['xaxis'].update(title = 'Epoch')\n",
        "    fig['layout']['xaxis2'].update(title = 'Epoch')\n",
        "    fig['layout']['yaxis'].update(title = 'Accuracy', range=[0,1])\n",
        "    fig['layout']['yaxis2'].update(title = 'Loss', range=[0,1])\n",
        "\n",
        "    plotly.offline.iplot(fig, filename='accuracy-loss')"
      ],
      "metadata": {
        "id": "3idS62yXJSdp"
      },
      "execution_count": null,
      "outputs": []
    },
    {
      "cell_type": "code",
      "source": [
        "datagen = ImageDataGenerator(\n",
        "        rotation_range=0.05,    #Randomly rotate images in the range\n",
        "        zoom_range = 0.2,       # Randomly zoom image\n",
        "        width_shift_range=0.1,  #Randomly shift images horizontally\n",
        "        height_shift_range=0.1, #Randomly shift images vertically\n",
        "        shear_range=0.05        #Randomly shear images\n",
        ")\n",
        "\n",
        "datagen.fit(x_train)"
      ],
      "metadata": {
        "id": "hqxb1W5FJYJl"
      },
      "execution_count": null,
      "outputs": []
    },
    {
      "cell_type": "code",
      "source": [
        "model = tf.keras.Sequential()\n",
        "\n",
        "#1. CNN LAYER\n",
        "model.add(tf.keras.layers.Conv2D(filters = 32, kernel_size = (3,3), padding = 'Same', input_shape=(28, 28, 1), name = 'conv2d1'))\n",
        "model.add(tf.keras.layers.BatchNormalization(name = 'batch_norm1'))\n",
        "model.add(tf.keras.layers.Activation(\"relu\", name = 'relu1'))\n",
        "model.add(tf.keras.layers.Dropout(0.3, name = 'dropout1'))\n",
        "\n",
        "#2. CNN LAYER\n",
        "model.add(tf.keras.layers.Conv2D(filters = 32, kernel_size = (3,3), padding = 'Same', name = 'conv2d2'))\n",
        "model.add(tf.keras.layers.BatchNormalization(name = 'batch_norm2'))\n",
        "model.add(tf.keras.layers.Activation(\"relu\", name = 'relu2'))\n",
        "\n",
        "model.add(tf.keras.layers.MaxPool2D(pool_size=(2, 2), name = 'maxpool2d1'))\n",
        "model.add(tf.keras.layers.Dropout(0.3, name = 'dropout2'))\n",
        "\n",
        "#3. CNN LAYER\n",
        "model.add(tf.keras.layers.Conv2D(filters = 64, kernel_size = (3,3), padding = 'Same', name = 'conv2d3'))\n",
        "model.add(tf.keras.layers.BatchNormalization(name = 'batch_norm3'))\n",
        "model.add(tf.keras.layers.Activation(\"relu\", name = 'relu3'))\n",
        "model.add(tf.keras.layers.Dropout(0.3, name = 'dropout3'))\n",
        "\n",
        "#4. CNN LAYER\n",
        "model.add(tf.keras.layers.Conv2D(filters = 64, kernel_size = (3,3), padding = 'Same', name = 'conv2d4'))\n",
        "model.add(tf.keras.layers.BatchNormalization(name = 'batch_norm4'))\n",
        "model.add(tf.keras.layers.Activation(\"relu\", name = 'relu4'))\n",
        "\n",
        "model.add(tf.keras.layers.MaxPool2D(pool_size=(2, 2), name = 'maxpool2d2'))\n",
        "model.add(tf.keras.layers.Dropout(0.3, name = 'dropout4'))\n",
        "\n",
        "\n",
        "#FULLY CONNECTED LAYER\n",
        "model.add(tf.keras.layers.Flatten(name = 'flatten1'))\n",
        "model.add(tf.keras.layers.Dense(256, name = 'dense1'))\n",
        "model.add(tf.keras.layers.BatchNormalization(name = 'batch_norm5'))\n",
        "model.add(tf.keras.layers.Activation(\"relu\", name = 'relu5'))\n",
        "model.add(tf.keras.layers.Dropout(0.30, name = 'dropout5'))\n",
        "\n",
        "#OUTPUT LAYER\n",
        "model.add(tf.keras.layers.Dense(10, activation='softmax', name = 'dense2'))"
      ],
      "metadata": {
        "id": "_b-4V7XPJZ6Q"
      },
      "execution_count": null,
      "outputs": []
    },
    {
      "cell_type": "code",
      "source": [
        "optimizer = Adam()\n",
        "model.compile(optimizer = optimizer, loss = \"categorical_crossentropy\", metrics=[\"accuracy\"])"
      ],
      "metadata": {
        "id": "_Tn7bn4pJglQ"
      },
      "execution_count": null,
      "outputs": []
    },
    {
      "cell_type": "code",
      "source": [
        "filepath=\"weights.best.h5\"\n",
        "checkpoint = ModelCheckpoint(filepath, monitor='val_loss', verbose=1, save_best_only=True, mode='min')\n",
        "callbacks_list = [checkpoint]"
      ],
      "metadata": {
        "id": "BOB6WixBJlWd"
      },
      "execution_count": null,
      "outputs": []
    },
    {
      "cell_type": "code",
      "source": [
        "NO_EPOCHS = 30\n",
        "history = model.fit(datagen.flow(x_train, y_train, batch_size=BATCH_SIZE),\n",
        "                              shuffle=True,\n",
        "                              epochs=NO_EPOCHS, validation_data = (x_val, y_val),\n",
        "                              verbose = 1, steps_per_epoch=x_train.shape[0] // BATCH_SIZE,\n",
        "                              callbacks=callbacks_list)"
      ],
      "metadata": {
        "id": "taRCrOpfJqWW"
      },
      "execution_count": null,
      "outputs": []
    },
    {
      "cell_type": "code",
      "source": [
        "plot_accuracy_and_loss(history)"
      ],
      "metadata": {
        "id": "U9QsLZb8JthZ"
      },
      "execution_count": null,
      "outputs": []
    },
    {
      "cell_type": "code",
      "source": [
        "predict_model = load_model(filepath)"
      ],
      "metadata": {
        "id": "QprLyad9LIfn"
      },
      "execution_count": null,
      "outputs": []
    },
    {
      "cell_type": "code",
      "source": [
        "score = predict_model.evaluate(test_data, y_test,verbose=0)\n",
        "print(\"Test Loss:\",score[0])\n",
        "print(\"Test Accuracy:\",score[1])"
      ],
      "metadata": {
        "id": "jpDD8qMvLKYb"
      },
      "execution_count": null,
      "outputs": []
    },
    {
      "cell_type": "markdown",
      "source": [
        "# **Visualizing Kernel**"
      ],
      "metadata": {
        "id": "-N4yOnqCLqMB"
      }
    },
    {
      "cell_type": "code",
      "source": [
        "predict_model.summary()"
      ],
      "metadata": {
        "id": "zvGpggnDLo5Y"
      },
      "execution_count": null,
      "outputs": []
    },
    {
      "cell_type": "code",
      "source": [
        "kernel_bias = []\n",
        "for layer in predict_model.layers:\n",
        "    if 'conv' not in layer.name:\n",
        "        continue\n",
        "    kernels, biases = layer.get_weights()\n",
        "    kernel_bias.append([kernels, biases])\n",
        "    print(layer.name, kernels.shape)"
      ],
      "metadata": {
        "id": "9cJackSVLvXs"
      },
      "execution_count": null,
      "outputs": []
    },
    {
      "cell_type": "code",
      "source": [
        "kernels, biases = kernel_bias[0]\n",
        "kernels.shape, biases.shape"
      ],
      "metadata": {
        "id": "UUxPLJ7PMjfp"
      },
      "execution_count": null,
      "outputs": []
    },
    {
      "cell_type": "code",
      "source": [
        "k_min, k_max = kernels.min(), kernels.max()\n",
        "kernels = (kernels - k_min) / (k_max - k_min)"
      ],
      "metadata": {
        "id": "rMO5CfxeMmnT"
      },
      "execution_count": null,
      "outputs": []
    },
    {
      "cell_type": "code",
      "source": [
        "n_kernels, ix = 32, 1\n",
        "for i in range(n_kernels):\n",
        "    f = kernels[:, :, :, i]\n",
        "    for j in range(1):\n",
        "        ax = plt.subplot(8, 4, ix)\n",
        "        ax.set_xticks([])\n",
        "        ax.set_yticks([])\n",
        "        plt.imshow(f[:, :, j], cmap='gray')\n",
        "        ix += 1\n",
        "plt.savefig('filter.jpeg', dpi=300)"
      ],
      "metadata": {
        "id": "Cj4qEsGBMoo2"
      },
      "execution_count": null,
      "outputs": []
    },
    {
      "cell_type": "markdown",
      "source": [
        "# **Visualizing Feature Map**"
      ],
      "metadata": {
        "id": "aaUVDPF0MuIZ"
      }
    },
    {
      "cell_type": "code",
      "source": [
        "model = tf.keras.models.Model(inputs=predict_model.inputs, outputs=predict_model.layers[0].output)\n",
        "model.summary()"
      ],
      "metadata": {
        "id": "_6f3zcHsMrhJ"
      },
      "execution_count": null,
      "outputs": []
    },
    {
      "cell_type": "code",
      "source": [
        "img = x_train[10:11]"
      ],
      "metadata": {
        "id": "1AW-RMe9NADE"
      },
      "execution_count": null,
      "outputs": []
    },
    {
      "cell_type": "code",
      "source": [
        "feature_maps = model(img)\n",
        "feature_maps.shape"
      ],
      "metadata": {
        "id": "YWnjbV5cNCfN"
      },
      "execution_count": null,
      "outputs": []
    },
    {
      "cell_type": "code",
      "source": [
        "ix = 1\n",
        "for _ in range(8):\n",
        "    for _ in range(4):\n",
        "        ax = plt.subplot(8, 4, ix)\n",
        "        ax.set_xticks([])\n",
        "        ax.set_yticks([])\n",
        "        plt.imshow(feature_maps[0, :, :, ix-1], cmap='gray')\n",
        "        ix += 1\n",
        "plt.savefig('feature_map1.jpeg', dpi=300)"
      ],
      "metadata": {
        "id": "ucF2xbPTNEc0"
      },
      "execution_count": null,
      "outputs": []
    },
    {
      "cell_type": "code",
      "source": [
        "model = tf.keras.models.Model(inputs=predict_model.inputs, outputs=predict_model.layers[2].output)\n",
        "model.summary()"
      ],
      "metadata": {
        "id": "DN2F2AFqNG6f"
      },
      "execution_count": null,
      "outputs": []
    },
    {
      "cell_type": "code",
      "source": [
        "feature_maps = model(img)\n",
        "feature_maps.shape"
      ],
      "metadata": {
        "id": "loMEHU3gNKzm"
      },
      "execution_count": null,
      "outputs": []
    },
    {
      "cell_type": "code",
      "source": [
        "ix = 1\n",
        "for _ in range(8):\n",
        "    for _ in range(4):\n",
        "        ax = plt.subplot(8, 4, ix)\n",
        "        ax.set_xticks([])\n",
        "        ax.set_yticks([])\n",
        "        plt.imshow(feature_maps[0, :, :, ix-1], cmap='gray')\n",
        "        ix += 1\n",
        "plt.savefig('feature_map2.jpeg', dpi=300)"
      ],
      "metadata": {
        "id": "BeURYzU-NNWO"
      },
      "execution_count": null,
      "outputs": []
    },
    {
      "cell_type": "code",
      "source": [
        "model = tf.keras.models.Model(inputs=predict_model.inputs, outputs=predict_model.layers[4].output)\n",
        "model.summary()"
      ],
      "metadata": {
        "id": "0VVAtMRcNPQf"
      },
      "execution_count": null,
      "outputs": []
    },
    {
      "cell_type": "code",
      "source": [
        "feature_maps = model(img)\n",
        "feature_maps.shape"
      ],
      "metadata": {
        "id": "pMTeFntJNSFZ"
      },
      "execution_count": null,
      "outputs": []
    },
    {
      "cell_type": "code",
      "source": [
        "ix = 1\n",
        "for _ in range(8):\n",
        "    for _ in range(4):\n",
        "        ax = plt.subplot(8, 4, ix)\n",
        "        ax.set_xticks([])\n",
        "        ax.set_yticks([])\n",
        "        plt.imshow(feature_maps[0, :, :, ix-1], cmap='gray')\n",
        "        ix += 1\n",
        "plt.savefig('feature_map3.jpeg', dpi=300)"
      ],
      "metadata": {
        "id": "5Pr9jflBNUqS"
      },
      "execution_count": null,
      "outputs": []
    },
    {
      "cell_type": "code",
      "source": [
        "model = tf.keras.models.Model(inputs=predict_model.inputs, outputs=predict_model.layers[16].output)\n",
        "model.summary()"
      ],
      "metadata": {
        "id": "bo7pQjvUNWzr"
      },
      "execution_count": null,
      "outputs": []
    },
    {
      "cell_type": "code",
      "source": [
        "feature_maps = model(img)\n",
        "feature_maps.shape"
      ],
      "metadata": {
        "id": "hqdWxRxpNZfn"
      },
      "execution_count": null,
      "outputs": []
    },
    {
      "cell_type": "code",
      "source": [
        "ix = 1\n",
        "for _ in range(8):\n",
        "    for _ in range(8):\n",
        "        ax = plt.subplot(8, 8, ix)\n",
        "        ax.set_xticks([])\n",
        "        ax.set_yticks([])\n",
        "        plt.imshow(feature_maps[0, :, :, ix-1], cmap='gray')\n",
        "        ix += 1\n",
        "plt.savefig('feature_map4.jpeg', dpi=300)"
      ],
      "metadata": {
        "id": "ExZwt9DLNce3"
      },
      "execution_count": null,
      "outputs": []
    },
    {
      "cell_type": "code",
      "source": [
        ""
      ],
      "metadata": {
        "id": "L-q52qDoNetP"
      },
      "execution_count": null,
      "outputs": []
    }
  ]
}