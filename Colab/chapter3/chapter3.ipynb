{
  "nbformat": 4,
  "nbformat_minor": 0,
  "metadata": {
    "colab": {
      "name": "PDL-03.ipynb",
      "provenance": []
    },
    "kernelspec": {
      "name": "python3",
      "display_name": "Python 3"
    },
    "language_info": {
      "name": "python"
    }
  },
  "cells": [
    {
      "cell_type": "code",
      "execution_count": null,
      "metadata": {
        "id": "dYCZcGM-BYyn"
      },
      "outputs": [],
      "source": [
        "pip install -U https://github.com/pandas-profiling/pandas-profiling/archive/master.zip"
      ]
    },
    {
      "cell_type": "code",
      "source": [
        "import numpy as np\n",
        "import pandas as pd\n",
        "from pandas_profiling import ProfileReport"
      ],
      "metadata": {
        "id": "nre7I1NDBpjV"
      },
      "execution_count": null,
      "outputs": []
    },
    {
      "cell_type": "code",
      "source": [
        "df = pd.read_csv('winemag-data_first150k.csv', sep = ';')"
      ],
      "metadata": {
        "id": "olkxA9FXBuJ7"
      },
      "execution_count": null,
      "outputs": []
    },
    {
      "cell_type": "code",
      "source": [
        "profile = ProfileReport(df, title=\"Pandas Profiling Report\")\n",
        "profile"
      ],
      "metadata": {
        "id": "OwT4IoYwB1-_"
      },
      "execution_count": null,
      "outputs": []
    },
    {
      "cell_type": "code",
      "source": [
        "print(df.isnull().sum())"
      ],
      "metadata": {
        "id": "40ZBREHaB-BI"
      },
      "execution_count": null,
      "outputs": []
    },
    {
      "cell_type": "code",
      "source": [
        "df.head()"
      ],
      "metadata": {
        "id": "fOGbTUZ2CrhN"
      },
      "execution_count": null,
      "outputs": []
    },
    {
      "cell_type": "markdown",
      "source": [
        "# **Imputation**"
      ],
      "metadata": {
        "id": "pyadMQ17CyY2"
      }
    },
    {
      "cell_type": "code",
      "source": [
        "new_df = df.copy()\n",
        "new_df['price'].fillna(df['price'].mean(), inplace = True)"
      ],
      "metadata": {
        "id": "_h154LV1CtkH"
      },
      "execution_count": null,
      "outputs": []
    },
    {
      "cell_type": "code",
      "source": [
        "print(new_df.isnull().sum())"
      ],
      "metadata": {
        "id": "A0N_UsNPCxkT"
      },
      "execution_count": null,
      "outputs": []
    },
    {
      "cell_type": "code",
      "source": [
        "df.isnull().mean()"
      ],
      "metadata": {
        "id": "FXp1dT-gC4Qz"
      },
      "execution_count": null,
      "outputs": []
    },
    {
      "cell_type": "code",
      "source": [
        "threshold = 0.5\n",
        "new_df = df[df.columns[df.isnull().mean() < threshold]]"
      ],
      "metadata": {
        "id": "UOqgV332C6fK"
      },
      "execution_count": null,
      "outputs": []
    },
    {
      "cell_type": "code",
      "source": [
        "new_df.isnull().mean()"
      ],
      "metadata": {
        "id": "FCPoCHUFC8bL"
      },
      "execution_count": null,
      "outputs": []
    },
    {
      "cell_type": "code",
      "source": [
        "print(df.shape)\n",
        "\n",
        "new_df = df.loc[df.isnull().mean(axis=1) < threshold]\n",
        "\n",
        "print(new_df.shape)"
      ],
      "metadata": {
        "id": "TG866q7gDD6K"
      },
      "execution_count": null,
      "outputs": []
    },
    {
      "cell_type": "code",
      "source": [
        "print(new_df.isnull().sum())"
      ],
      "metadata": {
        "id": "peaC9Z-gDGXu"
      },
      "execution_count": null,
      "outputs": []
    },
    {
      "cell_type": "code",
      "source": [
        "print(df.median())\n",
        "new_df = df.fillna(df.median())"
      ],
      "metadata": {
        "id": "KABppQVpDIwT"
      },
      "execution_count": null,
      "outputs": []
    },
    {
      "cell_type": "code",
      "source": [
        "print(new_df.isnull().sum())"
      ],
      "metadata": {
        "id": "ljpNN2CoDLje"
      },
      "execution_count": null,
      "outputs": []
    },
    {
      "cell_type": "code",
      "source": [
        "new_df = df.fillna(0)"
      ],
      "metadata": {
        "id": "jckm5eWgDPd9"
      },
      "execution_count": null,
      "outputs": []
    },
    {
      "cell_type": "code",
      "source": [
        "print(new_df.isnull().sum())"
      ],
      "metadata": {
        "id": "alkPtqllDRiv"
      },
      "execution_count": null,
      "outputs": []
    },
    {
      "cell_type": "code",
      "source": [
        "new_df.head()"
      ],
      "metadata": {
        "id": "2R1mok7-DS2i"
      },
      "execution_count": null,
      "outputs": []
    },
    {
      "cell_type": "code",
      "source": [
        "print(df.shape)\n",
        "\n",
        "new_df = df.dropna(how='any')\n",
        "\n",
        "print(new_df.shape)"
      ],
      "metadata": {
        "id": "oWrkYcjwDVEv"
      },
      "execution_count": null,
      "outputs": []
    },
    {
      "cell_type": "markdown",
      "source": [
        "# **Handling Outliers**"
      ],
      "metadata": {
        "id": "sEgiGWZ4Dbz5"
      }
    },
    {
      "cell_type": "code",
      "source": [
        "import seaborn as sns\n",
        "from matplotlib import pyplot as plt "
      ],
      "metadata": {
        "id": "L4zkecuBDYTl"
      },
      "execution_count": null,
      "outputs": []
    },
    {
      "cell_type": "code",
      "source": [
        "fig = plt.figure(figsize=(12,8))\n",
        "sns.boxplot(x=df['price'], color='lime')\n",
        "plt.xlabel('Price Featured', fontsize=14)\n",
        "plt.savefig('boxplot.png', dpi=300)"
      ],
      "metadata": {
        "id": "A11jpWMtDenp"
      },
      "execution_count": null,
      "outputs": []
    },
    {
      "cell_type": "code",
      "source": [
        "df['price'].describe()"
      ],
      "metadata": {
        "id": "LAfcbmpFDjtx"
      },
      "execution_count": null,
      "outputs": []
    },
    {
      "cell_type": "markdown",
      "source": [
        "**Drop Outlier with Standard Deviation**"
      ],
      "metadata": {
        "id": "2EmdJw-jEaib"
      }
    },
    {
      "cell_type": "code",
      "source": [
        "print(df.shape)\n",
        "\n",
        "factor = 3\n",
        "upper_lim = df['price'].mean () + df['price'].std () * factor\n",
        "lower_lim = df['price'].mean () - df['price'].std () * factor\n",
        "\n",
        "drop_outlier1 = df[(df['price'] < upper_lim) & (df['price'] > lower_lim)]\n",
        "\n",
        "print(drop_outlier1.shape)"
      ],
      "metadata": {
        "id": "PbBuhPucDlbY"
      },
      "execution_count": null,
      "outputs": []
    },
    {
      "cell_type": "code",
      "source": [
        "fig = plt.figure(figsize=(12,8))\n",
        "sns.boxplot(x=drop_outlier1['price'], color='lime')\n",
        "plt.xlabel('Price Featured', fontsize=14)\n",
        "plt.savefig('boxplot.png', dpi=300)"
      ],
      "metadata": {
        "id": "mBv9x5DYDoQB"
      },
      "execution_count": null,
      "outputs": []
    },
    {
      "cell_type": "code",
      "source": [
        "drop_outlier1['price'].describe()"
      ],
      "metadata": {
        "id": "lgQ9vJKBDt4Q"
      },
      "execution_count": null,
      "outputs": []
    },
    {
      "cell_type": "code",
      "source": [
        "a = [1, 2, 3, 4, 5, 6, 7, 8, 9, 10]\n",
        "test_df = pd.DataFrame(a, columns=['A'])\n",
        "test_df"
      ],
      "metadata": {
        "id": "SWRwRuSxDwRA"
      },
      "execution_count": null,
      "outputs": []
    },
    {
      "cell_type": "code",
      "source": [
        "test_df[(test_df['A'] < 8) & (test_df['A'] > 5)]"
      ],
      "metadata": {
        "id": "a7D3slp-Dypq"
      },
      "execution_count": null,
      "outputs": []
    },
    {
      "cell_type": "markdown",
      "source": [
        "**Drop with Percentiles**"
      ],
      "metadata": {
        "id": "2HBKOxpEESp_"
      }
    },
    {
      "cell_type": "code",
      "source": [
        "print(df.shape)\n",
        "\n",
        "upper_lim = df['price'].quantile(.95)\n",
        "lower_lim = df['price'].quantile(.05)\n",
        "\n",
        "drop_outlier2 = df[(df['price'] < upper_lim) & (df['price'] > lower_lim)]\n",
        "\n",
        "print(drop_outlier2.shape)"
      ],
      "metadata": {
        "id": "N3nEQ6X8EJ8H"
      },
      "execution_count": null,
      "outputs": []
    },
    {
      "cell_type": "code",
      "source": [
        "fig = plt.figure(figsize=(12,8))\n",
        "sns.boxplot(x=drop_outlier2['price'], color='lime')\n",
        "plt.xlabel('Price Featured', fontsize=14)\n",
        "plt.savefig('boxplot.png', dpi=300)"
      ],
      "metadata": {
        "id": "bkK7Tl9hERfF"
      },
      "execution_count": null,
      "outputs": []
    },
    {
      "cell_type": "code",
      "source": [
        "drop_outlier2['price'].describe()"
      ],
      "metadata": {
        "id": "mgusrahnEpvz"
      },
      "execution_count": null,
      "outputs": []
    },
    {
      "cell_type": "markdown",
      "source": [
        "# **Binning**"
      ],
      "metadata": {
        "id": "UDed3m0MEs6A"
      }
    },
    {
      "cell_type": "code",
      "source": [
        "labels = ['low', 'mid', 'high']\n",
        "bins = [0., 20., 40., 100.]\n",
        "\n",
        "drop_outlier2['price_cat'] = pd.cut(drop_outlier2['price'], labels=labels, bins=bins, include_lowest=False)"
      ],
      "metadata": {
        "id": "ufgCwRq7Erwn"
      },
      "execution_count": null,
      "outputs": []
    },
    {
      "cell_type": "code",
      "source": [
        "drop_outlier2.sample(n=5).head()"
      ],
      "metadata": {
        "id": "1HMxa7n9EyD4"
      },
      "execution_count": null,
      "outputs": []
    },
    {
      "cell_type": "markdown",
      "source": [
        "# **Log Transform**"
      ],
      "metadata": {
        "id": "q3wJyfwYE-GH"
      }
    },
    {
      "cell_type": "code",
      "source": [
        "ax = drop_outlier2['price'].plot.hist(bins=12, alpha=0.5)\n",
        "ax.figure.savefig('his.png', dpi=300)"
      ],
      "metadata": {
        "id": "DU8ugvhsE7f7"
      },
      "execution_count": null,
      "outputs": []
    },
    {
      "cell_type": "code",
      "source": [
        "drop_outlier2['log'] = drop_outlier2['price'].transform(np.log)"
      ],
      "metadata": {
        "id": "H9yBQ49SFBy6"
      },
      "execution_count": null,
      "outputs": []
    },
    {
      "cell_type": "code",
      "source": [
        "ax = drop_outlier2['log'].plot.hist(bins=12, alpha=0.5)\n",
        "ax.figure.savefig('his.png', dpi=300)"
      ],
      "metadata": {
        "id": "dDBldNUiFEjd"
      },
      "execution_count": null,
      "outputs": []
    },
    {
      "cell_type": "code",
      "source": [
        "drop_outlier2.sample(n=5).head()"
      ],
      "metadata": {
        "id": "Kl6wEmHvFG0Z"
      },
      "execution_count": null,
      "outputs": []
    },
    {
      "cell_type": "markdown",
      "source": [
        "# **One-hot Encoding**"
      ],
      "metadata": {
        "id": "UoKUcpu5FM5y"
      }
    },
    {
      "cell_type": "code",
      "source": [
        "encoded_columns = pd.get_dummies(drop_outlier2['price_cat'])\n",
        "drop_outlier2 = drop_outlier2.join(encoded_columns)"
      ],
      "metadata": {
        "id": "N7S3KPhqFI50"
      },
      "execution_count": null,
      "outputs": []
    },
    {
      "cell_type": "code",
      "source": [
        "drop_outlier2.sample(n=5).head()"
      ],
      "metadata": {
        "id": "amdNwf67FR4Z"
      },
      "execution_count": null,
      "outputs": []
    },
    {
      "cell_type": "code",
      "source": [
        ""
      ],
      "metadata": {
        "id": "wCuKYHwpFTX2"
      },
      "execution_count": null,
      "outputs": []
    }
  ]
}