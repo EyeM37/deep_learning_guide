{
 "cells": [
  {
   "cell_type": "code",
   "execution_count": null,
   "metadata": {
    "id": "JvTNSIRBb_L8"
   },
   "outputs": [],
   "source": [
    "from math import log, log2\n",
    "import numpy as np\n",
    "import pandas as pd\n",
    "import plotly.express as px\n",
    "import plotly.graph_objects as go\n",
    "\n",
    "import tensorflow as tf"
   ]
  },
  {
   "cell_type": "code",
   "execution_count": null,
   "metadata": {},
   "outputs": [],
   "source": [
    "gpus = tf.config.experimental.list_physical_devices('GPU')\n",
    "if gpus:\n",
    "    try:\n",
    "        for gpu in gpus:\n",
    "            tf.config.experimental.set_memory_growth(gpu, True)\n",
    "        logical_gpus = tf.config.experimental.list_logical_devices('GPU')\n",
    "        print(len(gpus), 'Physical GPUs,', len(logical_gpus), 'Logical GPUs')\n",
    "    except RuntimeError as e:\n",
    "        print(e)"
   ]
  },
  {
   "cell_type": "code",
   "execution_count": null,
   "metadata": {
    "id": "kxFLg8OrctMz"
   },
   "outputs": [],
   "source": [
    "p = 0.1\n",
    "h = -log2(p)\n",
    "\n",
    "print('p(x)=%.3f, information: %.3f bits' % (p, h))\n",
    "\n",
    "p = 0.5\n",
    "h = -log2(p)\n",
    "\n",
    "print('p(x)=%.3f, information: %.3f bits' % (p, h))"
   ]
  },
  {
   "cell_type": "code",
   "execution_count": null,
   "metadata": {
    "id": "XO2VnOhEc9tn"
   },
   "outputs": [],
   "source": [
    "probs = [0.1, 0.2, 0.3, 0.4, 0.5, 0.6, 0.7, 0.8, 0.9, 1.0]\n",
    "info = [-log2(p) for p in probs]"
   ]
  },
  {
   "cell_type": "code",
   "execution_count": null,
   "metadata": {
    "id": "MHAUIYHsdACX"
   },
   "outputs": [],
   "source": [
    "df = pd.DataFrame(list(zip(probs, info)), columns =['Probability', 'Information'])\n",
    "df"
   ]
  },
  {
   "cell_type": "code",
   "execution_count": null,
   "metadata": {
    "id": "HkagvgSPdCXs"
   },
   "outputs": [],
   "source": [
    "fig = px.line(df, x='Probability', y='Information', title='Probability vs Information')\n",
    "fig.show()"
   ]
  },
  {
   "cell_type": "markdown",
   "metadata": {
    "id": "qrb8AuNVdLqm"
   },
   "source": [
    "# **Entropy**"
   ]
  },
  {
   "cell_type": "code",
   "execution_count": null,
   "metadata": {
    "id": "9odG9LK3dFeC"
   },
   "outputs": [],
   "source": [
    "P = [1/6, 1/6, 1/6, 1/6, 1/6, 1/6]\n",
    "entropy = -sum([p * log2(p) for p in P])\n",
    "print('entropy: %.3f bits' % entropy)"
   ]
  },
  {
   "cell_type": "code",
   "execution_count": null,
   "metadata": {
    "id": "SRoAffCPdenR"
   },
   "outputs": [],
   "source": [
    "def entropy(events, ets=1e-15):\n",
    "    return -sum([p * log2(p + ets) for p in events])\n",
    " \n",
    "probs = [0.0, 0.1, 0.2, 0.3, 0.4, 0.5]\n",
    "dists = [[p, 1.0 - p] for p in probs]\n",
    "ents = [entropy(d) for d in dists]"
   ]
  },
  {
   "cell_type": "code",
   "execution_count": null,
   "metadata": {
    "id": "_er4r9Wed5cX"
   },
   "outputs": [],
   "source": [
    "df = pd.DataFrame(list(zip(probs, ents)), columns =['Probability Distribution', 'Entropy (bits)'])"
   ]
  },
  {
   "cell_type": "code",
   "execution_count": null,
   "metadata": {
    "id": "DFVAWTs-d-D-"
   },
   "outputs": [],
   "source": [
    "fig = px.line(df, x='Probability Distribution', y='Entropy (bits)', title='Probability Distribution vs Entropy')\n",
    "fig.update_xaxes(ticktext=[str(d) for d in dists], tickvals = probs)"
   ]
  },
  {
   "cell_type": "markdown",
   "metadata": {
    "id": "WFLYXoMceP7g"
   },
   "source": [
    "# **Cross-Entropy**"
   ]
  },
  {
   "cell_type": "code",
   "execution_count": null,
   "metadata": {
    "id": "Q4TnCQZ9eNef"
   },
   "outputs": [],
   "source": [
    "events = ['A', 'B', 'C', 'D']\n",
    "p = [1/2, 1/4, 1/8, 1/8]\n",
    "q = [1/8, 1/4, 1/2, 1/8]"
   ]
  },
  {
   "cell_type": "code",
   "execution_count": null,
   "metadata": {
    "id": "HVXla5d1etPz"
   },
   "outputs": [],
   "source": [
    "fig = go.Figure(data=[\n",
    "    go.Bar(name='Probability Distribution เก่า (p)', x=events, y=p, text=p, textposition='auto'),\n",
    "    go.Bar(name='Probability Distribution ใหม่ (q)', x=events, y=q, text=q, textposition='auto')\n",
    "])\n",
    "\n",
    "fig.update_layout(barmode='group')"
   ]
  },
  {
   "cell_type": "code",
   "execution_count": null,
   "metadata": {
    "id": "P96CSycfe0ay"
   },
   "outputs": [],
   "source": [
    "def cross_entropy(p, q):\n",
    "    return -sum([q[i]*log2(p[i]) for i in range(len(p))])"
   ]
  },
  {
   "cell_type": "code",
   "execution_count": null,
   "metadata": {
    "id": "qiSOCjrre5jv"
   },
   "outputs": [],
   "source": [
    "ce = cross_entropy(p, q)\n",
    "print('H(P, Q): %.3f bits' % ce)"
   ]
  },
  {
   "cell_type": "markdown",
   "metadata": {
    "id": "YlTcwZBcfhv8"
   },
   "source": [
    "# **Binary Classification Loss Functions**"
   ]
  },
  {
   "cell_type": "code",
   "execution_count": null,
   "metadata": {
    "id": "kO7d0KXPe7Ju"
   },
   "outputs": [],
   "source": [
    "def sigmoid(x):\n",
    "    return 1.0/(1+ np.exp(-x))\n",
    "\n",
    "data = 25\n",
    "result = sigmoid(data)\n",
    "\n",
    "print(result)"
   ]
  },
  {
   "cell_type": "markdown",
   "metadata": {
    "id": "v6OJjkUMfpUw"
   },
   "source": [
    "# **Binary Crossentropy Loss**"
   ]
  },
  {
   "cell_type": "code",
   "execution_count": null,
   "metadata": {
    "id": "qxEurn6ffnih"
   },
   "outputs": [],
   "source": [
    "events = ['Class 0', 'Class 1']\n",
    "actual = [1, 0, 1, 1, 0]\n",
    "predicted = [0.7, 0.45, 0.9, 0.5, 0.3]\n",
    "\n",
    "index = 0\n",
    "p = [1-actual[index], actual[index]]\n",
    "q = [1-predicted[index], predicted[index]]"
   ]
  },
  {
   "cell_type": "code",
   "execution_count": null,
   "metadata": {
    "id": "W6-9421ffuP1"
   },
   "outputs": [],
   "source": [
    "fig = go.Figure(data=[\n",
    "    go.Bar(name='Actual Probability Distribution', x=events, y=p, text=p, textposition='auto'),\n",
    "    go.Bar(name='Predicted Probability Distribution', x=events, y=q, text=list(np.round(q,2)), textposition='auto')\n",
    "])\n",
    "\n",
    "fig.update_layout(barmode='group', title='Record 1')"
   ]
  },
  {
   "cell_type": "code",
   "execution_count": null,
   "metadata": {
    "id": "WgAJUtKmfwr4"
   },
   "outputs": [],
   "source": [
    "index = 1\n",
    "p = [1-actual[index], actual[index]]\n",
    "q = [1-predicted[index], predicted[index]]"
   ]
  },
  {
   "cell_type": "code",
   "execution_count": null,
   "metadata": {
    "id": "w3YRayRkfzIm"
   },
   "outputs": [],
   "source": [
    "fig = go.Figure(data=[\n",
    "    go.Bar(name='Actual Probability Distribution', x=events, y=p, text=p, textposition='auto'),\n",
    "    go.Bar(name='Predicted Probability Distribution', x=events, y=q, text=q, textposition='auto')\n",
    "])\n",
    "\n",
    "fig.update_layout(barmode='group', title='Record 2')"
   ]
  },
  {
   "cell_type": "code",
   "execution_count": null,
   "metadata": {
    "id": "CZGZR7K_f0vm"
   },
   "outputs": [],
   "source": [
    "index = 2\n",
    "p = [1-actual[index], actual[index]]\n",
    "q = [1-predicted[index], predicted[index]]"
   ]
  },
  {
   "cell_type": "code",
   "execution_count": null,
   "metadata": {
    "id": "E-CJBjuMf3kw"
   },
   "outputs": [],
   "source": [
    "fig = go.Figure(data=[\n",
    "    go.Bar(name='Actual Probability Distribution', x=events, y=p, text=p, textposition='auto'),\n",
    "    go.Bar(name='Predicted Probability Distribution', x=events, y=q, text=np.round(q,2), textposition='auto')\n",
    "])\n",
    "\n",
    "fig.update_layout(barmode='group', title='Record 3')"
   ]
  },
  {
   "cell_type": "code",
   "execution_count": null,
   "metadata": {
    "id": "eoiUyDjmf5fT"
   },
   "outputs": [],
   "source": [
    "index = 3\n",
    "p = [1-actual[index], actual[index]]\n",
    "q = [1-predicted[index], predicted[index]]"
   ]
  },
  {
   "cell_type": "code",
   "execution_count": null,
   "metadata": {
    "id": "ezXzM672f7ab"
   },
   "outputs": [],
   "source": [
    "fig = go.Figure(data=[\n",
    "    go.Bar(name='Actual Probability Distribution', x=events, y=p, text=p, textposition='auto'),\n",
    "    go.Bar(name='Predicted Probability Distribution', x=events, y=q, text=q, textposition='auto')\n",
    "])\n",
    "\n",
    "fig.update_layout(barmode='group', title='Record 4')"
   ]
  },
  {
   "cell_type": "code",
   "execution_count": null,
   "metadata": {
    "id": "j1MtW1sef9J_"
   },
   "outputs": [],
   "source": [
    "index = 4\n",
    "p = [1-actual[index], actual[index]]\n",
    "q = [1-predicted[index], predicted[index]]"
   ]
  },
  {
   "cell_type": "code",
   "execution_count": null,
   "metadata": {
    "id": "RimISytUf_bd"
   },
   "outputs": [],
   "source": [
    "fig = go.Figure(data=[\n",
    "    go.Bar(name='Actual Probability Distribution', x=events, y=p, text=p, textposition='auto'),\n",
    "    go.Bar(name='Predicted Probability Distribution', x=events, y=q, text=q, textposition='auto')\n",
    "])\n",
    "\n",
    "fig.update_layout(barmode='group', title='Record 5')"
   ]
  },
  {
   "cell_type": "code",
   "execution_count": null,
   "metadata": {
    "id": "iqAYCiJ2gBkJ"
   },
   "outputs": [],
   "source": [
    "def binary_cross_entropy_loss(actual, predicted):\n",
    "    sum = 0\n",
    "    for i in range(len(actual)):\n",
    "        sum=sum+actual[i]*log(predicted[i])+(1-actual[i])*log(1-predicted[i])\n",
    "                           \n",
    "    return -sum/len(actual)\n",
    "\n",
    "binary_cross_entropy_loss(actual, predicted)"
   ]
  },
  {
   "cell_type": "code",
   "execution_count": null,
   "metadata": {
    "id": "aD0js8xfgHPX"
   },
   "outputs": [],
   "source": [
    "loss = tf.keras.losses.binary_crossentropy(actual, predicted)\n",
    "loss.numpy()"
   ]
  },
  {
   "cell_type": "code",
   "execution_count": null,
   "metadata": {
    "id": "d3iK6RSjgI0H"
   },
   "outputs": [],
   "source": [
    "actual = [1, 0, 1, 1, 0]\n",
    "predicted = [1.0, 0.0, 1.0, 1.0, 0.0]\n",
    "\n",
    "loss = tf.keras.losses.binary_crossentropy(actual, predicted)\n",
    "loss.numpy()"
   ]
  },
  {
   "cell_type": "markdown",
   "metadata": {
    "id": "Ji2zR5rTgN99"
   },
   "source": [
    "# **Example : Train Model แบบ Binary Classification**"
   ]
  },
  {
   "cell_type": "code",
   "execution_count": null,
   "metadata": {
    "id": "IWfQBoJrgK2e"
   },
   "outputs": [],
   "source": [
    "to_categorical = tf.keras.utils.to_categorical\n",
    "from tensorflow.keras.utils import to_categorical\n",
    "\n",
    "import plotly\n",
    "import plotly.graph_objs as go\n",
    "import plotly.express as px\n",
    "\n",
    "from sklearn.datasets import make_circles\n",
    "from sklearn.datasets import make_blobs\n",
    "from sklearn.model_selection import train_test_split\n",
    "\n",
    "import pandas as pd"
   ]
  },
  {
   "cell_type": "code",
   "execution_count": null,
   "metadata": {
    "id": "gsdOpLBygXEX"
   },
   "outputs": [],
   "source": [
    "x, y =  make_circles(n_samples=5000, noise=0.1, random_state=1)"
   ]
  },
  {
   "cell_type": "code",
   "execution_count": null,
   "metadata": {
    "id": "gH6ygQE3gZTz"
   },
   "outputs": [],
   "source": [
    "x_train, x_val, y_train, y_val = train_test_split(x, y, test_size=0.4, shuffle= True)\n",
    "x_train.shape, x_val.shape, y_train.shape, y_val.shape"
   ]
  },
  {
   "cell_type": "code",
   "execution_count": null,
   "metadata": {
    "id": "fnj16IypgcGe"
   },
   "outputs": [],
   "source": [
    "x_train_pd = pd.DataFrame(x_train, columns=['x', 'y'])\n",
    "y_train_pd = pd.DataFrame(y_train, columns=['class'], dtype='str')\n",
    "\n",
    "df = pd.concat([x_train_pd, y_train_pd], axis=1)"
   ]
  },
  {
   "cell_type": "code",
   "execution_count": null,
   "metadata": {
    "id": "Yi_oHC8xgeWV"
   },
   "outputs": [],
   "source": [
    "fig = px.scatter(df, x=\"x\", y=\"y\", color=\"class\")\n",
    "fig.show()"
   ]
  },
  {
   "cell_type": "code",
   "execution_count": null,
   "metadata": {
    "id": "2WjHh9ScggDQ"
   },
   "outputs": [],
   "source": [
    "model = tf.keras.models.Sequential()\n",
    "model.add(tf.keras.layers.Dense(60, input_dim=2, activation='relu', kernel_initializer='he_uniform'))\n",
    "model.add(tf.keras.layers.Dropout(0.2))\n",
    "model.add(tf.keras.layers.Dense(1, activation='sigmoid'))"
   ]
  },
  {
   "cell_type": "code",
   "execution_count": null,
   "metadata": {
    "id": "wNxGa5Iwgjxi"
   },
   "outputs": [],
   "source": [
    "opt = tf.keras.optimizers.SGD(learning_rate=0.01, momentum=0.9)\n",
    "model.compile(loss='binary_crossentropy', optimizer=opt, metrics=['accuracy'])"
   ]
  },
  {
   "cell_type": "code",
   "execution_count": null,
   "metadata": {
    "id": "k1AfJcUDgnwg"
   },
   "outputs": [],
   "source": [
    "his = model.fit(x_train, y_train, validation_data=(x_val, y_val), epochs=2000, verbose=1, batch_size = 256)"
   ]
  },
  {
   "cell_type": "code",
   "execution_count": null,
   "metadata": {
    "id": "pbu9T_ekgqBZ"
   },
   "outputs": [],
   "source": [
    "h1 = go.Scatter(y=his.history['loss'], \n",
    "                    mode=\"lines\",\n",
    "                    line=dict(\n",
    "                        width=2,\n",
    "                        color='blue'),\n",
    "                        name=\"loss\"\n",
    "                   )\n",
    "h2 = go.Scatter(y=his.history['val_loss'], \n",
    "                    mode=\"lines\",\n",
    "                    line=dict(\n",
    "                        width=2,\n",
    "                        color='red'),\n",
    "                        name=\"val_loss\"\n",
    "                   )\n",
    "\n",
    "data = [h1,h2]\n",
    "layout1 = go.Layout(title='Loss',\n",
    "                   xaxis=dict(title='epochs'),\n",
    "                   yaxis=dict(title=''))\n",
    "fig1 = go.Figure(data = data, layout=layout1)\n",
    "plotly.offline.iplot(fig1)"
   ]
  },
  {
   "cell_type": "code",
   "execution_count": null,
   "metadata": {
    "id": "tUtYEcsLgzXt"
   },
   "outputs": [],
   "source": [
    "h1 = go.Scatter(y=his.history['accuracy'], \n",
    "                    mode=\"lines\", line=dict(\n",
    "                    width=2,\n",
    "                    color='blue'),\n",
    "                    name=\"acc\"\n",
    "                   )\n",
    "h2 = go.Scatter(y=his.history['val_accuracy'], \n",
    "                    mode=\"lines\", line=dict(\n",
    "                    width=2,\n",
    "                    color='red'),\n",
    "                    name=\"val_acc\"\n",
    "                   )\n",
    "\n",
    "data = [h1,h2]\n",
    "layout1 = go.Layout(title='Accuracy',\n",
    "                   xaxis=dict(title='epochs'),\n",
    "                   yaxis=dict(title=''))\n",
    "fig1 = go.Figure(data = data, layout=layout1)\n",
    "plotly.offline.iplot(fig1)"
   ]
  },
  {
   "cell_type": "code",
   "execution_count": null,
   "metadata": {
    "id": "nPY1WFD-g3e4"
   },
   "outputs": [],
   "source": [
    "_, train_acc = model.evaluate(x_train, y_train, verbose=0)\n",
    "_, val_acc = model.evaluate(x_val, y_val, verbose=0)\n",
    "print('Train: %.4f, Validation: %.4f' % (train_acc, val_acc))"
   ]
  },
  {
   "cell_type": "code",
   "execution_count": null,
   "metadata": {
    "id": "jN_NpKifg6Bu"
   },
   "outputs": [],
   "source": [
    "res = model.predict(x_train)\n",
    "print(res[:10])"
   ]
  },
  {
   "cell_type": "markdown",
   "metadata": {
    "id": "KpvKyOBqhiQW"
   },
   "source": [
    "# **Multi-Class Classification Loss Functions**"
   ]
  },
  {
   "cell_type": "code",
   "execution_count": null,
   "metadata": {
    "id": "yWdWpqIihfc_"
   },
   "outputs": [],
   "source": [
    "def softmax(vector):\n",
    "    e = np.exp(vector)\n",
    "    return e/e.sum()\n",
    " \n",
    "data = [1, 3, 2.5]\n",
    "result = softmax(data)\n",
    "\n",
    "print(result)\n",
    "print(sum(result))"
   ]
  },
  {
   "cell_type": "code",
   "execution_count": null,
   "metadata": {
    "id": "JaonBFXOhols"
   },
   "outputs": [],
   "source": [
    "events = ['Class 0', 'Class 1', 'Class 2']\n",
    "actual = [[1, 0, 0], [0, 1, 0], [0, 0, 1]]\n",
    "predicted = [[0.9, 0.05, 0.05], [0.05, 0.89, 0.06], [0.05, 0.01, 0.94]]\n",
    "\n",
    "p = actual[0]\n",
    "q = predicted[0]"
   ]
  },
  {
   "cell_type": "code",
   "execution_count": null,
   "metadata": {
    "id": "PZWctpYrhujW"
   },
   "outputs": [],
   "source": [
    "fig = go.Figure(data=[\n",
    "    go.Bar(name='Actual Probability Distribution', x=events, y=p, text=p, textposition='auto'),\n",
    "    go.Bar(name='Predicted Probability Distribution', x=events, y=q, text=q, textposition='auto')\n",
    "])\n",
    "\n",
    "fig.update_layout(barmode='group', title='Record 1')"
   ]
  },
  {
   "cell_type": "code",
   "execution_count": null,
   "metadata": {
    "id": "r9-B31jihzBz"
   },
   "outputs": [],
   "source": [
    "p = actual[1]\n",
    "q = predicted[1]\n",
    "\n",
    "fig = go.Figure(data=[\n",
    "    go.Bar(name='Actual Probability Distribution', x=events, y=p, text=p, textposition='auto'),\n",
    "    go.Bar(name='Predicted Probability Distribution', x=events, y=q, text=q, textposition='auto')\n",
    "])\n",
    "\n",
    "fig.update_layout(barmode='group', title='Record 2')"
   ]
  },
  {
   "cell_type": "code",
   "execution_count": null,
   "metadata": {
    "id": "coYzCTNUh2a7"
   },
   "outputs": [],
   "source": [
    "p = actual[2]\n",
    "q = predicted[2]\n",
    "\n",
    "fig = go.Figure(data=[\n",
    "    go.Bar(name='Actual Probability Distribution', x=events, y=p, text=p, textposition='auto'),\n",
    "    go.Bar(name='Predicted Probability Distribution', x=events, y=q, text=q, textposition='auto')\n",
    "])\n",
    "\n",
    "fig.update_layout(barmode='group', title='Record 3')"
   ]
  },
  {
   "cell_type": "code",
   "execution_count": null,
   "metadata": {
    "id": "q0QVRucqh6OE"
   },
   "outputs": [],
   "source": [
    "def categorical_cross_entropy(actual, predicted):\n",
    "    sum = 0.0\n",
    "    for i in range(len(actual)):\n",
    "        for j in range(len(actual[i])):\n",
    "            sum += actual[i][j] * log(1e-15 + predicted[i][j])\n",
    "    mean = 1.0 / len(actual) * sum\n",
    "    return -mean\n",
    "\n",
    "np.around(categorical_cross_entropy(actual, predicted),5)"
   ]
  },
  {
   "cell_type": "code",
   "execution_count": null,
   "metadata": {
    "id": "WBlViEVHiBVI"
   },
   "outputs": [],
   "source": [
    "cce = tf.keras.losses.CategoricalCrossentropy()\n",
    "np.around(cce(actual, predicted).numpy(),5)"
   ]
  },
  {
   "cell_type": "markdown",
   "metadata": {
    "id": "csG_v5fpiQys"
   },
   "source": [
    "# Train Model แบบ Multi-Class Classification"
   ]
  },
  {
   "cell_type": "code",
   "execution_count": null,
   "metadata": {
    "id": "bTQknPDTiDwI"
   },
   "outputs": [],
   "source": [
    "x, y = make_blobs(n_samples=1000, centers=3, n_features=2, cluster_std=2, random_state=2)"
   ]
  },
  {
   "cell_type": "code",
   "execution_count": null,
   "metadata": {
    "id": "6Q6PRBJLiYrg"
   },
   "outputs": [],
   "source": [
    "y = to_categorical(y)\n",
    "y[:10]"
   ]
  },
  {
   "cell_type": "code",
   "execution_count": null,
   "metadata": {
    "id": "OSzbJAMyibT5"
   },
   "outputs": [],
   "source": [
    "x_train, x_val, y_train, y_val = train_test_split(x, y, test_size=0.5, shuffle= True)\n",
    "x_train.shape, x_val.shape, y_train.shape, y_val.shape"
   ]
  },
  {
   "cell_type": "code",
   "execution_count": null,
   "metadata": {
    "id": "tDzE-cPkifRd"
   },
   "outputs": [],
   "source": [
    "y = np.argmax(y_train,axis=1)\n",
    "\n",
    "x_train_pd = pd.DataFrame(x_train, columns=['x', 'y'])\n",
    "y_train_pd = pd.DataFrame(y, columns=['class'], dtype='str')\n",
    "df = pd.concat([x_train_pd, y_train_pd], axis=1)"
   ]
  },
  {
   "cell_type": "code",
   "execution_count": null,
   "metadata": {
    "id": "XLoeftbBiimq"
   },
   "outputs": [],
   "source": [
    "fig = px.scatter(df, x=\"x\", y=\"y\", color=\"class\")\n",
    "fig.show()"
   ]
  },
  {
   "cell_type": "code",
   "execution_count": null,
   "metadata": {
    "id": "ylUdMYbbilTI"
   },
   "outputs": [],
   "source": [
    "model = tf.keras.models.Sequential()\n",
    "model.add(tf.keras.layers.Dense(60, input_dim=2, activation='relu', kernel_initializer='he_uniform'))\n",
    "model.add(tf.keras.layers.Dropout(0.2))\n",
    "model.add(tf.keras.layers.Dense(3, activation='softmax'))"
   ]
  },
  {
   "cell_type": "code",
   "execution_count": null,
   "metadata": {
    "id": "tI87q5XMinqP"
   },
   "outputs": [],
   "source": [
    "opt =  tf.keras.optimizers.SGD(learning_rate=0.01, momentum=0.9)\n",
    "model.compile(loss='categorical_crossentropy', optimizer=opt, metrics=['accuracy'])"
   ]
  },
  {
   "cell_type": "code",
   "execution_count": null,
   "metadata": {
    "id": "pXwW3nexivzS"
   },
   "outputs": [],
   "source": [
    "his = model.fit(x_train, y_train, validation_data=(x_val, y_val), epochs=1000, verbose=1, batch_size = 128)"
   ]
  },
  {
   "cell_type": "code",
   "execution_count": null,
   "metadata": {
    "id": "_LE28z7Hi2Lr"
   },
   "outputs": [],
   "source": [
    "h1 = go.Scatter(y=his.history['loss'], \n",
    "                    mode=\"lines\",\n",
    "                    line=dict(\n",
    "                        width=2,\n",
    "                        color='blue'),\n",
    "                        name=\"loss\"\n",
    "                   )\n",
    "h2 = go.Scatter(y=his.history['val_loss'], \n",
    "                    mode=\"lines\",\n",
    "                    line=dict(\n",
    "                        width=2,\n",
    "                        color='red'),\n",
    "                        name=\"val_loss\"\n",
    "                   )\n",
    "\n",
    "data = [h1,h2]\n",
    "layout1 = go.Layout(title='Loss',\n",
    "                   xaxis=dict(title='epochs'),\n",
    "                   yaxis=dict(title=''))\n",
    "fig1 = go.Figure(data = data, layout=layout1)\n",
    "plotly.offline.iplot(fig1)"
   ]
  },
  {
   "cell_type": "code",
   "execution_count": null,
   "metadata": {
    "id": "7TCV8nDQi6Fn"
   },
   "outputs": [],
   "source": [
    "h1 = go.Scatter(y=his.history['accuracy'], \n",
    "                    mode=\"lines\",\n",
    "                    line=dict(\n",
    "                        width=2,\n",
    "                        color='blue'),\n",
    "                        name=\"acc\"\n",
    "                   )\n",
    "h2 = go.Scatter(y=his.history['val_accuracy'], \n",
    "                    mode=\"lines\",\n",
    "                    line=dict(\n",
    "                        width=2,\n",
    "                        color='red'),\n",
    "                        name=\"val_acc\"\n",
    "                   )\n",
    "\n",
    "data = [h1,h2]\n",
    "layout1 = go.Layout(title='Accuracy',\n",
    "                   xaxis=dict(title='epochs'),\n",
    "                   yaxis=dict(title=''))\n",
    "fig1 = go.Figure(data = data, layout=layout1)\n",
    "plotly.offline.iplot(fig1)"
   ]
  },
  {
   "cell_type": "code",
   "execution_count": null,
   "metadata": {
    "id": "7NewlaL9i9A4"
   },
   "outputs": [],
   "source": [
    "_, train_acc = model.evaluate(x_train, y_train, verbose=0)\n",
    "_, val_acc = model.evaluate(x_val, y_val, verbose=0)\n",
    "print('Train: %.4f, Validation: %.4f' % (train_acc, val_acc))"
   ]
  },
  {
   "cell_type": "code",
   "execution_count": null,
   "metadata": {
    "id": "iebSaB5QjCPC"
   },
   "outputs": [],
   "source": [
    "res = model.predict(x_train)\n",
    "print(np.round(res[:10],3))"
   ]
  },
  {
   "cell_type": "markdown",
   "metadata": {
    "id": "AW_wk3lLjhGY"
   },
   "source": [
    "# **Sparse Categorical Crossentropy Loss**\n"
   ]
  },
  {
   "cell_type": "markdown",
   "metadata": {
    "id": "DQRzilh7jwKO"
   },
   "source": [
    "# Example"
   ]
  },
  {
   "cell_type": "code",
   "execution_count": null,
   "metadata": {
    "id": "A07tQKonjFcC"
   },
   "outputs": [],
   "source": [
    "x, y = make_blobs(n_samples=10000, centers=20, n_features=2, cluster_std=0.1, random_state=2)"
   ]
  },
  {
   "cell_type": "code",
   "execution_count": null,
   "metadata": {
    "id": "2_zlnTAfkiv-"
   },
   "outputs": [],
   "source": [
    "x_train, x_val, y_train, y_val = train_test_split(x, y, test_size=0.5, shuffle= True)\n",
    "x_train.shape, x_val.shape, y_train.shape, y_val.shape"
   ]
  },
  {
   "cell_type": "code",
   "execution_count": null,
   "metadata": {
    "id": "1LmU_asdkjpX"
   },
   "outputs": [],
   "source": [
    "x_train_pd = pd.DataFrame(x_train, columns=['x', 'y'])\n",
    "y_train_pd = pd.DataFrame(y_train, columns=['class'], dtype='str')\n",
    "\n",
    "df = pd.concat([x_train_pd, y_train_pd], axis=1)"
   ]
  },
  {
   "cell_type": "code",
   "execution_count": null,
   "metadata": {
    "id": "_XnCvYsmknQ6"
   },
   "outputs": [],
   "source": [
    "fig = px.scatter(df, x=\"x\", y=\"y\", color=\"class\")\n",
    "fig.show()"
   ]
  },
  {
   "cell_type": "code",
   "execution_count": null,
   "metadata": {
    "id": "-rJdE_SEkscI"
   },
   "outputs": [],
   "source": [
    "model = tf.keras.models.Sequential()\n",
    "model.add(tf.keras.layers.Dense(60, input_dim=2, activation='relu', kernel_initializer='he_uniform'))\n",
    "model.add(tf.keras.layers.Dropout(0.2))\n",
    "model.add(tf.keras.layers.Dense(20, activation='softmax'))"
   ]
  },
  {
   "cell_type": "code",
   "execution_count": null,
   "metadata": {
    "id": "CRW1XloZkwzv"
   },
   "outputs": [],
   "source": [
    "opt = tf.keras.optimizers.SGD(learning_rate=0.01, momentum=0.9)\n",
    "model.compile(loss='sparse_categorical_crossentropy', optimizer=opt, metrics=['accuracy'])"
   ]
  },
  {
   "cell_type": "code",
   "execution_count": null,
   "metadata": {
    "id": "XzIQ9GJ7k7A-"
   },
   "outputs": [],
   "source": [
    "his = model.fit(x_train, y_train, validation_data=(x_val, y_val), epochs=1000, verbose=1, batch_size = 128)"
   ]
  },
  {
   "cell_type": "code",
   "execution_count": null,
   "metadata": {
    "id": "iT2CR3uQk-r2"
   },
   "outputs": [],
   "source": [
    "h1 = go.Scatter(y=his.history['loss'], \n",
    "                    mode=\"lines\",\n",
    "                    line=dict(\n",
    "                        width=2,\n",
    "                        color='blue'),\n",
    "                        name=\"loss\"\n",
    "                   )\n",
    "h2 = go.Scatter(y=his.history['val_loss'], \n",
    "                    mode=\"lines\",\n",
    "                    line=dict(\n",
    "                        width=2,\n",
    "                        color='red'),\n",
    "                        name=\"val_loss\"\n",
    "                   )\n",
    "\n",
    "data = [h1,h2]\n",
    "layout1 = go.Layout(title='Loss',\n",
    "                   xaxis=dict(title='epochs'),\n",
    "                   yaxis=dict(title=''))\n",
    "fig1 = go.Figure(data = data, layout=layout1)\n",
    "plotly.offline.iplot(fig1)"
   ]
  },
  {
   "cell_type": "code",
   "execution_count": null,
   "metadata": {
    "id": "ssF9X8H7lGbU"
   },
   "outputs": [],
   "source": [
    "h1 = go.Scatter(y=his.history['accuracy'], \n",
    "                    mode=\"lines\",\n",
    "                    line=dict(\n",
    "                        width=2,\n",
    "                        color='blue'),\n",
    "                        name=\"acc\"\n",
    "                   )\n",
    "h2 = go.Scatter(y=his.history['val_accuracy'], \n",
    "                    mode=\"lines\",\n",
    "                    line=dict(\n",
    "                        width=2,\n",
    "                        color='red'),\n",
    "                        name=\"val_acc\"\n",
    "                   )\n",
    "\n",
    "data = [h1,h2]\n",
    "layout1 = go.Layout(title='Accuracy',\n",
    "                   xaxis=dict(title='epochs'),\n",
    "                   yaxis=dict(title=''))\n",
    "fig1 = go.Figure(data = data, layout=layout1)\n",
    "plotly.offline.iplot(fig1)"
   ]
  },
  {
   "cell_type": "code",
   "execution_count": null,
   "metadata": {
    "id": "_LZ_nN1zlKD8"
   },
   "outputs": [],
   "source": [
    "_, train_acc = model.evaluate(x_train, y_train, verbose=0)\n",
    "_, val_acc = model.evaluate(x_val, y_val, verbose=0)\n",
    "print('Train: %.4f, Validation: %.4f' % (train_acc, val_acc))"
   ]
  },
  {
   "cell_type": "code",
   "execution_count": null,
   "metadata": {
    "id": "BxG9JhF5lMG4"
   },
   "outputs": [],
   "source": [
    "res = model.predict(x_train)\n",
    "print(np.round(res[:1],3))"
   ]
  },
  {
   "cell_type": "code",
   "execution_count": null,
   "metadata": {
    "id": "m2xIQ6cylqiu"
   },
   "outputs": [],
   "source": []
  }
 ],
 "metadata": {
  "accelerator": "GPU",
  "colab": {
   "collapsed_sections": [],
   "machine_shape": "hm",
   "name": "PDL_11.ipynb",
   "provenance": []
  },
  "kernelspec": {
   "display_name": "Python 3 (ipykernel)",
   "language": "python",
   "name": "python3"
  },
  "language_info": {
   "codemirror_mode": {
    "name": "ipython",
    "version": 3
   },
   "file_extension": ".py",
   "mimetype": "text/x-python",
   "name": "python",
   "nbconvert_exporter": "python",
   "pygments_lexer": "ipython3",
   "version": "3.9.7"
  }
 },
 "nbformat": 4,
 "nbformat_minor": 1
}
