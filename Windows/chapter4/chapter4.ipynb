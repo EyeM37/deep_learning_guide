{
 "cells": [
  {
   "cell_type": "code",
   "execution_count": null,
   "metadata": {
    "id": "Wvqqj4d_H3w-"
   },
   "outputs": [],
   "source": [
    "import numpy as np\n",
    "import pandas as pd\n",
    "from matplotlib import pyplot as plt  \n",
    "from sklearn.datasets import make_blobs\n",
    "import plotly\n",
    "import plotly.graph_objs as go"
   ]
  },
  {
   "cell_type": "code",
   "execution_count": null,
   "metadata": {
    "id": "G8kyuk52IZxG"
   },
   "outputs": [],
   "source": [
    "def create_nn_model(x, y, l):\n",
    "    input_layer = x\n",
    "    weights1 = np.random.uniform(-1, 1, (input_layer.shape[1], 4))\n",
    "    \n",
    "    weights2 = np.random.uniform(-1, 1, (4, 1))\n",
    "    label = y\n",
    "    output_layer = np.zeros(y.shape)\n",
    "    learning_rate = l\n",
    "    \n",
    "    return {'input_layer': input_layer, 'weights1': weights1, 'weights2': weights2, 'label': label, 'output_layer': output_layer, 'learning_rate': learning_rate}"
   ]
  },
  {
   "cell_type": "code",
   "execution_count": null,
   "metadata": {
    "colab": {
     "base_uri": "https://localhost:8080/"
    },
    "id": "0QG40kWfIfIp",
    "outputId": "5a36fe9b-f7db-461c-d892-0b93bf8f3125"
   },
   "outputs": [],
   "source": [
    "x, y = make_blobs(n_samples=10, centers=2, n_features=3)\n",
    "\n",
    "y = np.expand_dims(y, axis=1)\n",
    "x.shape, y.shape"
   ]
  },
  {
   "cell_type": "code",
   "execution_count": null,
   "metadata": {
    "id": "fRKyRa8JIihj"
   },
   "outputs": [],
   "source": [
    "learning_rate = 0.1\n",
    "\n",
    "model = create_nn_model(x, y, learning_rate)"
   ]
  },
  {
   "cell_type": "code",
   "execution_count": null,
   "metadata": {
    "colab": {
     "base_uri": "https://localhost:8080/"
    },
    "id": "R-gZC4xAIlAY",
    "outputId": "190f24ba-8e1d-4bdb-f20b-9ed3f07dab90"
   },
   "outputs": [],
   "source": [
    "model['input_layer'].shape"
   ]
  },
  {
   "cell_type": "code",
   "execution_count": null,
   "metadata": {
    "colab": {
     "base_uri": "https://localhost:8080/"
    },
    "id": "_PnsyLPjIm0x",
    "outputId": "2c6eb883-1b12-4ace-b2a6-9a3a49bbab2b"
   },
   "outputs": [],
   "source": [
    "model['input_layer']"
   ]
  },
  {
   "cell_type": "code",
   "execution_count": null,
   "metadata": {
    "colab": {
     "base_uri": "https://localhost:8080/"
    },
    "id": "Goqgb5M9Io0D",
    "outputId": "ff8d1806-06b9-4ee1-d5c0-9c48f8dbc0a9"
   },
   "outputs": [],
   "source": [
    "model['weights1'].shape"
   ]
  },
  {
   "cell_type": "code",
   "execution_count": null,
   "metadata": {
    "colab": {
     "base_uri": "https://localhost:8080/"
    },
    "id": "EBqcdMYrIqtc",
    "outputId": "b9606630-62a0-4bda-c1a4-d8ab0c2f89cf"
   },
   "outputs": [],
   "source": [
    "model['weights1']"
   ]
  },
  {
   "cell_type": "code",
   "execution_count": null,
   "metadata": {
    "colab": {
     "base_uri": "https://localhost:8080/"
    },
    "id": "Y92j2vyBIspl",
    "outputId": "930b19dc-8393-47c4-e713-1a0f5362e876"
   },
   "outputs": [],
   "source": [
    "model['weights2'].shape"
   ]
  },
  {
   "cell_type": "code",
   "execution_count": null,
   "metadata": {
    "colab": {
     "base_uri": "https://localhost:8080/"
    },
    "id": "O_0JM7kjIulX",
    "outputId": "ef93fbfd-6a0b-406f-ad04-00ce339d215c"
   },
   "outputs": [],
   "source": [
    "model['weights2']"
   ]
  },
  {
   "cell_type": "code",
   "execution_count": null,
   "metadata": {
    "colab": {
     "base_uri": "https://localhost:8080/"
    },
    "id": "CvK2Vi7KIw8k",
    "outputId": "2c4524ea-1d2a-4235-ab6f-e4286221dcac"
   },
   "outputs": [],
   "source": [
    "model['label'].shape"
   ]
  },
  {
   "cell_type": "code",
   "execution_count": null,
   "metadata": {
    "colab": {
     "base_uri": "https://localhost:8080/"
    },
    "id": "CGI1jCoGIy8K",
    "outputId": "f484449a-870b-4128-c25c-12fcee565f4e"
   },
   "outputs": [],
   "source": [
    "model['output_layer'].shape"
   ]
  },
  {
   "cell_type": "code",
   "execution_count": null,
   "metadata": {
    "colab": {
     "base_uri": "https://localhost:8080/"
    },
    "id": "uLTqoZrzI1Bq",
    "outputId": "2711d88b-f85b-4b16-a999-39c86bab637d"
   },
   "outputs": [],
   "source": [
    "model['output_layer'] #ŷ"
   ]
  },
  {
   "cell_type": "code",
   "execution_count": null,
   "metadata": {
    "id": "tA68Fm2cI3gU"
   },
   "outputs": [],
   "source": [
    "def sigmoid(x):\n",
    "    return 1.0/(1+ np.exp(-x))\n",
    "\n",
    "def sigmoid_derivative(x):\n",
    "    return x * (1.0 - x)"
   ]
  },
  {
   "cell_type": "code",
   "execution_count": null,
   "metadata": {
    "id": "g6kUDQWiI7Me"
   },
   "outputs": [],
   "source": [
    "def loss(model):\n",
    "    return sum((model['label'] - model['output_layer'])**2)"
   ]
  },
  {
   "cell_type": "code",
   "execution_count": null,
   "metadata": {
    "id": "qITnAF_CI-HB"
   },
   "outputs": [],
   "source": [
    "def feedforward(model):\n",
    "    model['layer1'] = sigmoid(np.dot(model['input_layer'], model['weights1']))\n",
    "    model['output_layer'] = sigmoid(np.dot(model['layer1'], model['weights2']))               "
   ]
  },
  {
   "cell_type": "code",
   "execution_count": null,
   "metadata": {
    "id": "BaZQkdDIJAHx"
   },
   "outputs": [],
   "source": [
    "def backprop(model):\n",
    "    d_weights2 = np.dot(model['layer1'].T, (2*(model['label']- model['output_layer']) * sigmoid_derivative(model['output_layer'])))\n",
    "    d_weights1 = np.dot(model['input_layer'].T,  (np.dot(2*(model['label'] - model['output_layer']) * sigmoid_derivative(model['output_layer']), model['weights2'].T) * sigmoid_derivative(model['layer1'])))\n",
    "    \n",
    "    model['weights2'] += model['learning_rate']*d_weights2\n",
    "    model['weights1'] += model['learning_rate']*d_weights1"
   ]
  },
  {
   "cell_type": "markdown",
   "metadata": {
    "id": "YBJeC4MqJGUg"
   },
   "source": [
    "# **Train Model**"
   ]
  },
  {
   "cell_type": "code",
   "execution_count": null,
   "metadata": {
    "id": "rDsgwFpEJCmB"
   },
   "outputs": [],
   "source": [
    "history=[]\n",
    "epoch = 500\n",
    "\n",
    "for i in range(epoch):\n",
    "    feedforward(model)\n",
    "    backprop(model)\n",
    "    history.append(loss(model))"
   ]
  },
  {
   "cell_type": "code",
   "execution_count": null,
   "metadata": {
    "colab": {
     "base_uri": "https://localhost:8080/",
     "height": 206
    },
    "id": "yq-GUK_9JJou",
    "outputId": "d57babf1-8329-44a2-dcfa-7ec03826dbda"
   },
   "outputs": [],
   "source": [
    "df = pd.DataFrame(history, columns=['loss'])\n",
    "df.head()"
   ]
  },
  {
   "cell_type": "code",
   "execution_count": null,
   "metadata": {
    "colab": {
     "base_uri": "https://localhost:8080/",
     "height": 542
    },
    "id": "iOOuh2TIJLnA",
    "outputId": "1345cbc1-af06-485c-d064-ac55126cb64e"
   },
   "outputs": [],
   "source": [
    "h1 = go.Scatter(y=df['loss'], \n",
    "                    mode=\"lines\", line=dict(\n",
    "                    width=2,\n",
    "                    color='blue'),\n",
    "                    name=\"loss\")\n",
    "\n",
    "data = [h1]\n",
    "\n",
    "layout1 = go.Layout(title='Loss',\n",
    "                   xaxis=dict(title='Epochs'),\n",
    "                   yaxis=dict(title=''))\n",
    "fig1 = go.Figure(data, layout=layout1)\n",
    "plotly.offline.iplot(fig1)"
   ]
  },
  {
   "cell_type": "code",
   "execution_count": null,
   "metadata": {
    "id": "2LoBkSG_JONN"
   },
   "outputs": [],
   "source": []
  }
 ],
 "metadata": {
  "colab": {
   "collapsed_sections": [],
   "name": "PDL-05.ipynb",
   "provenance": []
  },
  "kernelspec": {
   "display_name": "Python 3 (ipykernel)",
   "language": "python",
   "name": "python3"
  },
  "language_info": {
   "codemirror_mode": {
    "name": "ipython",
    "version": 3
   },
   "file_extension": ".py",
   "mimetype": "text/x-python",
   "name": "python",
   "nbconvert_exporter": "python",
   "pygments_lexer": "ipython3",
   "version": "3.9.7"
  }
 },
 "nbformat": 4,
 "nbformat_minor": 1
}
