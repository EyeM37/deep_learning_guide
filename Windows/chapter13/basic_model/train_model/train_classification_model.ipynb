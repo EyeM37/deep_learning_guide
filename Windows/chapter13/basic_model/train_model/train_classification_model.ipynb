{
 "cells": [
  {
   "cell_type": "code",
   "execution_count": null,
   "id": "eacf7e40",
   "metadata": {},
   "outputs": [],
   "source": [
    "import matplotlib.pyplot as plt\n",
    "\n",
    "import tensorflow as tf\n",
    "\n",
    "to_categorical = tf.keras.utils.to_categorical\n",
    "load_model = tf.keras.models.load_model\n",
    "\n",
    "from sklearn.datasets import make_blobs\n",
    "from sklearn.model_selection import train_test_split\n",
    "from sklearn.metrics import confusion_matrix\n",
    "from sklearn.metrics import classification_report\n",
    "\n",
    "import pandas as pd\n",
    "import plotly.express as px\n",
    "import plotly\n",
    "import plotly.graph_objs as go\n",
    "import plotly.figure_factory as ff\n",
    "\n",
    "import numpy as np"
   ]
  },
  {
   "cell_type": "code",
   "execution_count": null,
   "id": "7ff13494",
   "metadata": {},
   "outputs": [],
   "source": [
    "x, y = make_blobs(n_samples=3000, centers=3, n_features=2, cluster_std=2, random_state=2)"
   ]
  },
  {
   "cell_type": "code",
   "execution_count": null,
   "id": "62c1e820",
   "metadata": {},
   "outputs": [],
   "source": [
    "x_train, x_val, y_train, y_val = train_test_split(x, y, test_size=0.4, shuffle= True)\n",
    "\n",
    "x_train.shape, x_val.shape, y_train.shape, y_val.shape"
   ]
  },
  {
   "cell_type": "code",
   "execution_count": null,
   "id": "78a6e533",
   "metadata": {},
   "outputs": [],
   "source": [
    "x_train_pd = pd.DataFrame(x_train, columns=['x', 'y'])\n",
    "y_train_pd = pd.DataFrame(y_train, columns=['class'])\n",
    "\n",
    "df = pd.concat([x_train_pd, y_train_pd], axis=1)\n",
    "df[\"class\"] = df[\"class\"].astype(str)"
   ]
  },
  {
   "cell_type": "code",
   "execution_count": null,
   "id": "295cfc3e",
   "metadata": {},
   "outputs": [],
   "source": [
    "fig = px.scatter(df, x=\"x\", y=\"y\", color=\"class\")\n",
    "fig.show()"
   ]
  },
  {
   "cell_type": "code",
   "execution_count": null,
   "id": "049fd1bd",
   "metadata": {},
   "outputs": [],
   "source": [
    "y_train = to_categorical(y_train)\n",
    "y_val = to_categorical(y_val)"
   ]
  },
  {
   "cell_type": "code",
   "execution_count": null,
   "id": "4661b7a3",
   "metadata": {},
   "outputs": [],
   "source": [
    "model = tf.keras.Sequential()\n",
    "\n",
    "model.add(tf.keras.layers.Dense(50, input_dim=2, activation='relu', kernel_initializer='he_uniform'))\n",
    "model.add(tf.keras.layers.Dense(3, activation='softmax'))\n",
    "\n",
    "model.compile(loss='categorical_crossentropy', optimizer='adam', metrics=['accuracy'])"
   ]
  },
  {
   "cell_type": "code",
   "execution_count": null,
   "id": "6ef489a6",
   "metadata": {},
   "outputs": [],
   "source": [
    "his = model.fit(x_train, y_train, validation_data=(x_val, y_val), epochs=200, verbose=1)"
   ]
  },
  {
   "cell_type": "code",
   "execution_count": null,
   "id": "835d8e0b",
   "metadata": {},
   "outputs": [],
   "source": [
    "h1 = go.Scatter(y=his.history['loss'], \n",
    "                    mode=\"lines\",\n",
    "                    line=dict(\n",
    "                        width=2,\n",
    "                        color='blue'),\n",
    "                        name=\"acc\"\n",
    "                   )\n",
    "h2 = go.Scatter(y=his.history['val_loss'], \n",
    "                    mode=\"lines\",\n",
    "                    line=dict(\n",
    "                        width=2,\n",
    "                        color='red'),\n",
    "                        name=\"val_acc\"\n",
    "                   )\n",
    "\n",
    "data = [h1,h2]\n",
    "layout1 = go.Layout(title='Loss',\n",
    "                   xaxis=dict(title='epochs'),\n",
    "                   yaxis=dict(title=''))\n",
    "\n",
    "fig1 = go.Figure(data = data, layout=layout1)\n",
    "plotly.offline.iplot(fig1)"
   ]
  },
  {
   "cell_type": "code",
   "execution_count": null,
   "id": "8f1b6e38",
   "metadata": {},
   "outputs": [],
   "source": [
    "h1 = go.Scatter(y=his.history['accuracy'], \n",
    "                    mode=\"lines\",\n",
    "                    line=dict(\n",
    "                        width=2,\n",
    "                        color='blue'),\n",
    "                        name=\"acc\"\n",
    "                   )\n",
    "h2 = go.Scatter(y=his.history['val_accuracy'], \n",
    "                    mode=\"lines\",\n",
    "                    line=dict(\n",
    "                        width=2,\n",
    "                        color='red'),\n",
    "                        name=\"val_acc\"\n",
    "                   )\n",
    "\n",
    "data = [h1,h2]\n",
    "layout1 = go.Layout(title='Accuracy',\n",
    "                   xaxis=dict(title='epochs'),\n",
    "                   yaxis=dict(title=''))\n",
    "\n",
    "fig1 = go.Figure(data = data, layout=layout1)\n",
    "plotly.offline.iplot(fig1)"
   ]
  },
  {
   "cell_type": "code",
   "execution_count": null,
   "id": "cf8479f9",
   "metadata": {},
   "outputs": [],
   "source": [
    "predicted_classes = np.argmax(model.predict(x_val), axis=-1)\n",
    "predicted_classes.shape"
   ]
  },
  {
   "cell_type": "code",
   "execution_count": null,
   "id": "727dfb4d",
   "metadata": {},
   "outputs": [],
   "source": [
    "labels = ['A', 'B', 'C']"
   ]
  },
  {
   "cell_type": "code",
   "execution_count": null,
   "id": "dc5f74f1",
   "metadata": {},
   "outputs": [],
   "source": [
    "y_true = np.argmax(y_val, axis=1)"
   ]
  },
  {
   "cell_type": "code",
   "execution_count": null,
   "id": "fecf11d0",
   "metadata": {},
   "outputs": [],
   "source": [
    "cm = confusion_matrix(y_true, predicted_classes)"
   ]
  },
  {
   "cell_type": "code",
   "execution_count": null,
   "id": "8ea6ac51",
   "metadata": {},
   "outputs": [],
   "source": [
    "def cm_plot(cm, labels):\n",
    "    x = labels\n",
    "    y = labels\n",
    "\n",
    "    z_text = [[str(y) for y in x] for x in cm]\n",
    "    fig = ff.create_annotated_heatmap(cm, x=x, y=y, annotation_text=z_text, colorscale='blues')\n",
    "\n",
    "    fig.update_layout(title_text='Confusion Matrix')\n",
    "\n",
    "    fig.add_annotation(dict(font=dict(color=\"black\",size=13),\n",
    "                            x=0.5,\n",
    "                            y=-0.15,\n",
    "                            showarrow=False,\n",
    "                            text=\"Predicted Value\",\n",
    "                            xref=\"paper\",\n",
    "                            yref=\"paper\"\n",
    "                           ))\n",
    "\n",
    "    fig.add_annotation(dict(font=dict(color=\"black\",size=13),\n",
    "                            x=-0.20,\n",
    "                            y=0.5,\n",
    "                            showarrow=False,\n",
    "                            text=\"Real Value\",\n",
    "                            textangle=-90,\n",
    "                            xref=\"paper\",\n",
    "                            yref=\"paper\"\n",
    "                           ))\n",
    "\n",
    "    fig.update_layout(margin=dict(t=50, l=200))\n",
    "    fig['layout']['yaxis']['autorange'] = \"reversed\"\n",
    "\n",
    "    fig['data'][0]['showscale'] = True\n",
    "    fig.show()"
   ]
  },
  {
   "cell_type": "code",
   "execution_count": null,
   "id": "845b9b1c",
   "metadata": {},
   "outputs": [],
   "source": [
    "cm_plot(cm, labels)"
   ]
  },
  {
   "cell_type": "code",
   "execution_count": null,
   "id": "0ae0fce1",
   "metadata": {},
   "outputs": [],
   "source": [
    "print(classification_report(y_true, predicted_classes, target_names=labels, digits=4))"
   ]
  },
  {
   "cell_type": "code",
   "execution_count": null,
   "id": "ce0a1fa0",
   "metadata": {},
   "outputs": [],
   "source": [
    "filepath='model1.h5'\n",
    "model.save(filepath)"
   ]
  },
  {
   "cell_type": "code",
   "execution_count": null,
   "id": "aaedec13",
   "metadata": {},
   "outputs": [],
   "source": [
    "predict_model = load_model(filepath) \n",
    "predict_model.summary()"
   ]
  },
  {
   "cell_type": "code",
   "execution_count": null,
   "id": "904ba456",
   "metadata": {},
   "outputs": [],
   "source": [
    "a = np.array([[-0.210738, -13.1719]])\n",
    "\n",
    "predicted_score = predict_model.predict(a)\n",
    "\n",
    "predicted_score"
   ]
  },
  {
   "cell_type": "code",
   "execution_count": null,
   "id": "431f88a2",
   "metadata": {},
   "outputs": [],
   "source": [
    "predicted_classes = np.argmax(predicted_score, axis=-1)\n",
    "\n",
    "predicted_classes"
   ]
  },
  {
   "cell_type": "code",
   "execution_count": null,
   "id": "7e6808bc",
   "metadata": {},
   "outputs": [],
   "source": [
    "# Copy Model ที่ Train แล้วไปยัง Folder basic_model/model_deploy/python (บน Windows)\n",
    "\n",
    "# copy model1.h5 .\\..\\model_deploy\\python"
   ]
  },
  {
   "cell_type": "markdown",
   "id": "5ea64d3d",
   "metadata": {},
   "source": [
    "# Testing the API Request"
   ]
  },
  {
   "cell_type": "code",
   "execution_count": null,
   "id": "e4fe9088",
   "metadata": {},
   "outputs": [],
   "source": [
    "import requests\n",
    "\n",
    "from requests.auth import HTTPBasicAuth"
   ]
  },
  {
   "cell_type": "code",
   "execution_count": null,
   "id": "e0ee0fb5",
   "metadata": {},
   "outputs": [],
   "source": [
    "URL = 'http://localhost:7001/getclass'\n",
    "\n",
    "data = {\n",
    "  'x': -0.210738, \n",
    "  'y': -13.1719\n",
    "}\n",
    "\n",
    "response = requests.post(URL, json=data, auth=HTTPBasicAuth('nuttachot', 'password'))"
   ]
  },
  {
   "cell_type": "code",
   "execution_count": null,
   "id": "9b92a17d",
   "metadata": {},
   "outputs": [],
   "source": [
    "if response.status_code == 200:\n",
    "    res = response.json()['results']\n",
    "    print(res)"
   ]
  }
 ],
 "metadata": {
  "kernelspec": {
   "display_name": "Python 3",
   "language": "python",
   "name": "python3"
  },
  "language_info": {
   "codemirror_mode": {
    "name": "ipython",
    "version": 3
   },
   "file_extension": ".py",
   "mimetype": "text/x-python",
   "name": "python",
   "nbconvert_exporter": "python",
   "pygments_lexer": "ipython3",
   "version": "3.8.6"
  }
 },
 "nbformat": 4,
 "nbformat_minor": 5
}
