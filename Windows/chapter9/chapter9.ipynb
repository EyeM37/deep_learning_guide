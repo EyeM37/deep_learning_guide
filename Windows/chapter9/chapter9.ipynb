{
 "cells": [
  {
   "cell_type": "code",
   "execution_count": null,
   "metadata": {
    "id": "atlD-wktCzw0"
   },
   "outputs": [],
   "source": [
    "import tensorflow as tf\n",
    "\n",
    "load_img = tf.keras.preprocessing.image.load_img\n",
    "img_to_array = tf.keras.preprocessing.image.img_to_array\n",
    "array_to_img = tf.keras.preprocessing.image.array_to_img\n",
    "Adam = tf.keras.optimizers.Adam\n",
    "fashion_mnist = tf.keras.datasets.fashion_mnist\n",
    "to_categorical = tf.keras.utils.to_categorical\n",
    "ImageDataGenerator = tf.keras.preprocessing.image.ImageDataGenerator\n",
    "ModelCheckpoint = tf.keras.callbacks.ModelCheckpoint\n",
    "load_model = tf.keras.models.load_model\n",
    "\n",
    "from sklearn.model_selection import train_test_split\n",
    "import numpy as np\n",
    "import matplotlib.pyplot as plt\n",
    "\n",
    "import plotly.graph_objs as go\n",
    "from plotly import subplots\n",
    "import plotly"
   ]
  },
  {
   "cell_type": "code",
   "execution_count": null,
   "metadata": {},
   "outputs": [],
   "source": [
    "gpus = tf.config.experimental.list_physical_devices('GPU')\n",
    "if gpus:\n",
    "    try:\n",
    "        for gpu in gpus:\n",
    "            tf.config.experimental.set_memory_growth(gpu, True)\n",
    "        logical_gpus = tf.config.experimental.list_logical_devices('GPU')\n",
    "        print(len(gpus), 'Physical GPUs,', len(logical_gpus), 'Logical GPUs')\n",
    "    except RuntimeError as e:\n",
    "        print(e)"
   ]
  },
  {
   "cell_type": "code",
   "execution_count": null,
   "metadata": {
    "id": "ZBvs0NJsC_DL"
   },
   "outputs": [],
   "source": [
    "cat = load_img('cat.jpg')\n",
    "cat"
   ]
  },
  {
   "cell_type": "code",
   "execution_count": null,
   "metadata": {
    "id": "8tOqF3StDVGY"
   },
   "outputs": [],
   "source": [
    "cat = img_to_array(cat)\n",
    "print(cat.shape)"
   ]
  },
  {
   "cell_type": "code",
   "execution_count": null,
   "metadata": {
    "id": "XAFeUQC5DW8G"
   },
   "outputs": [],
   "source": [
    "model = tf.keras.Sequential()\n",
    "model.add(tf.keras.layers.Conv2D(3, # number of filter layers\n",
    "                (3,                 # y dimension of kernel\n",
    "                 3),                # x dimension of kernel\n",
    "                 input_shape=cat.shape))\n",
    "\n",
    "model.summary()"
   ]
  },
  {
   "cell_type": "code",
   "execution_count": null,
   "metadata": {
    "id": "N_Klv8oeDZGh"
   },
   "outputs": [],
   "source": [
    "cat_batch = np.expand_dims(cat,axis=0)\n",
    "cat_batch.shape"
   ]
  },
  {
   "cell_type": "code",
   "execution_count": null,
   "metadata": {
    "id": "7DhkFIkiDbSb"
   },
   "outputs": [],
   "source": [
    "conv_cat = model(cat_batch)\n",
    "conv_cat.shape"
   ]
  },
  {
   "cell_type": "code",
   "execution_count": null,
   "metadata": {
    "id": "YYXVQqUrDctV"
   },
   "outputs": [],
   "source": [
    "conv_cat = np.squeeze(conv_cat, axis=0)\n",
    "conv_cat.shape"
   ]
  },
  {
   "cell_type": "code",
   "execution_count": null,
   "metadata": {
    "id": "W5tQdHGSDeS0"
   },
   "outputs": [],
   "source": [
    "conv_cat = array_to_img(conv_cat)\n",
    "display(conv_cat)"
   ]
  },
  {
   "cell_type": "code",
   "execution_count": null,
   "metadata": {
    "id": "Urw754Q6DgGK"
   },
   "outputs": [],
   "source": [
    "def visualize_cat(model, cat):\n",
    "    cat_batch = np.expand_dims(cat,axis=0)\n",
    "    conv_cat = model(cat_batch)\n",
    "    conv_cat = np.squeeze(conv_cat, axis=0)\n",
    "    conv_cat = array_to_img(conv_cat)\n",
    "    display(conv_cat)"
   ]
  },
  {
   "cell_type": "code",
   "execution_count": null,
   "metadata": {
    "id": "qHVg3CQWDjYo"
   },
   "outputs": [],
   "source": [
    "visualize_cat(model, cat)"
   ]
  },
  {
   "cell_type": "code",
   "execution_count": null,
   "metadata": {
    "id": "cwx3RWlXDlJ6"
   },
   "outputs": [],
   "source": [
    "model = tf.keras.Sequential()\n",
    "model.add(tf.keras.layers.Conv2D(3,(10, 10), input_shape=cat.shape))\n",
    "\n",
    "model.summary()"
   ]
  },
  {
   "cell_type": "code",
   "execution_count": null,
   "metadata": {
    "id": "D7StkexMDndX"
   },
   "outputs": [],
   "source": [
    "visualize_cat(model, cat)"
   ]
  },
  {
   "cell_type": "code",
   "execution_count": null,
   "metadata": {
    "id": "Pd-m2rfDDpn3"
   },
   "outputs": [],
   "source": [
    "model = tf.keras.Sequential()\n",
    "model.add(tf.keras.layers.Conv2D(1,(3,3),input_shape=cat.shape))\n",
    "\n",
    "model.summary()"
   ]
  },
  {
   "cell_type": "code",
   "execution_count": null,
   "metadata": {
    "id": "ETYBOlBHDr4J"
   },
   "outputs": [],
   "source": [
    "def visualize_cat_one_channel(model, cat):\n",
    "    cat_batch = np.expand_dims(cat,axis=0)\n",
    "    conv_cat2 = model(cat_batch)\n",
    "    conv_cat2 = np.squeeze(conv_cat2, axis=0)\n",
    "    conv_cat2 = array_to_img(conv_cat2)\n",
    "    display(conv_cat2)"
   ]
  },
  {
   "cell_type": "code",
   "execution_count": null,
   "metadata": {
    "id": "JyoeEVhbDuC6"
   },
   "outputs": [],
   "source": [
    "visualize_cat_one_channel(model, cat)"
   ]
  },
  {
   "cell_type": "code",
   "execution_count": null,
   "metadata": {
    "id": "jrvBd6KPDvj3"
   },
   "outputs": [],
   "source": [
    "model = tf.keras.Sequential()\n",
    "model.add(tf.keras.layers.Conv2D(1,(20,20),input_shape=cat.shape))\n",
    "\n",
    "model.summary()"
   ]
  },
  {
   "cell_type": "code",
   "execution_count": null,
   "metadata": {
    "id": "gCf2VfFyDy89"
   },
   "outputs": [],
   "source": [
    "visualize_cat_one_channel(model, cat)"
   ]
  },
  {
   "cell_type": "code",
   "execution_count": null,
   "metadata": {
    "id": "052ZStdRD0v7"
   },
   "outputs": [],
   "source": [
    "model = tf.keras.Sequential()\n",
    "model.add(tf.keras.layers.Conv2D(1,(20,20),input_shape=cat.shape))\n",
    "model.add(tf.keras.layers.Activation('relu'))\n",
    "\n",
    "model.summary()"
   ]
  },
  {
   "cell_type": "code",
   "execution_count": null,
   "metadata": {
    "id": "Bi3DTJ52D3Jg"
   },
   "outputs": [],
   "source": [
    "visualize_cat_one_channel(model, cat)"
   ]
  },
  {
   "cell_type": "code",
   "execution_count": null,
   "metadata": {
    "id": "kTInSjp-D5FV"
   },
   "outputs": [],
   "source": [
    "model = tf.keras.Sequential()\n",
    "model.add(tf.keras.layers.Conv2D(1,(3,3),input_shape=cat.shape))\n",
    "model.add(tf.keras.layers.MaxPooling2D(pool_size=(5,5)))\n",
    "\n",
    "model.summary()"
   ]
  },
  {
   "cell_type": "code",
   "execution_count": null,
   "metadata": {
    "id": "_ihe2b-yD602"
   },
   "outputs": [],
   "source": [
    "visualize_cat_one_channel(model, cat)"
   ]
  },
  {
   "cell_type": "code",
   "execution_count": null,
   "metadata": {
    "id": "7-i53urBD8f1"
   },
   "outputs": [],
   "source": [
    "model = tf.keras.Sequential()\n",
    "model.add(tf.keras.layers.Conv2D(1,(3,3),input_shape=cat.shape))\n",
    "\n",
    "model.add(tf.keras.layers.Activation('relu'))\n",
    "model.add(tf.keras.layers.MaxPooling2D(pool_size=(5,5)))\n",
    "model.summary()"
   ]
  },
  {
   "cell_type": "code",
   "execution_count": null,
   "metadata": {
    "id": "bb2olL7xD-Af"
   },
   "outputs": [],
   "source": [
    "visualize_cat_one_channel(model, cat)"
   ]
  },
  {
   "cell_type": "code",
   "execution_count": null,
   "metadata": {
    "id": "OwbS7-LfD_3E"
   },
   "outputs": [],
   "source": [
    "model = tf.keras.Sequential()\n",
    "model.add(tf.keras.layers.Conv2D(1,(3,3),input_shape=cat.shape))\n",
    "\n",
    "model.add(tf.keras.layers.Activation('relu'))\n",
    "model.add(tf.keras.layers.MaxPooling2D(pool_size=(3,3)))\n",
    "\n",
    "model.add(tf.keras.layers.Conv2D(1,(3,3)))\n",
    "\n",
    "model.add(tf.keras.layers.Activation('relu'))\n",
    "model.add(tf.keras.layers.MaxPooling2D(pool_size=(3,3)))\n",
    "\n",
    "model.summary()"
   ]
  },
  {
   "cell_type": "code",
   "execution_count": null,
   "metadata": {
    "id": "ynp-LOL7EGHQ"
   },
   "outputs": [],
   "source": [
    "visualize_cat_one_channel(model, cat)"
   ]
  },
  {
   "cell_type": "markdown",
   "metadata": {
    "id": "ta6mu1ghJB0Y"
   },
   "source": [
    "# **Fashion-MNIST Model**"
   ]
  },
  {
   "cell_type": "code",
   "execution_count": null,
   "metadata": {
    "id": "JJVF_ce9EInP"
   },
   "outputs": [],
   "source": [
    "IMG_ROWS = 28\n",
    "IMG_COLS = 28\n",
    "NUM_CLASSES = 10\n",
    "VAL_SIZE = 0.2\n",
    "RANDOM_STATE = 99\n",
    "\n",
    "BATCH_SIZE = 128"
   ]
  },
  {
   "cell_type": "code",
   "execution_count": null,
   "metadata": {
    "id": "da3Si7rWJG-v"
   },
   "outputs": [],
   "source": [
    "(train_data, y), (test_data, y_test) = fashion_mnist.load_data()\n",
    "\n",
    "print(\"Fashion MNIST train -  rows:\",train_data.shape[0],\" columns:\", train_data.shape[1], \" rows:\", train_data.shape[2])\n",
    "print(\"Fashion MNIST test -  rows:\",test_data.shape[0],\" columns:\", test_data.shape[1], \" rows:\", train_data.shape[2])"
   ]
  },
  {
   "cell_type": "code",
   "execution_count": null,
   "metadata": {
    "id": "wh-4BLy3JInU"
   },
   "outputs": [],
   "source": [
    "for i in range(9):\n",
    "    plt.subplot(330 + 1 + i)    \n",
    "    plt.imshow(train_data[i], cmap=plt.get_cmap('gray'))\n",
    "\n",
    "plt.savefig('fashion_mnist.jpeg', dpi=300)"
   ]
  },
  {
   "cell_type": "code",
   "execution_count": null,
   "metadata": {
    "id": "1Xoi6yJeJKwm"
   },
   "outputs": [],
   "source": [
    "print(train_data.shape, test_data.shape)\n",
    "\n",
    "train_data = train_data.reshape((train_data.shape[0], 28, 28, 1))\n",
    "test_data = test_data.reshape((test_data.shape[0], 28, 28, 1))\n",
    "\n",
    "print(train_data.shape, test_data.shape)"
   ]
  },
  {
   "cell_type": "code",
   "execution_count": null,
   "metadata": {
    "id": "oNaB4wnDJMaD"
   },
   "outputs": [],
   "source": [
    "train_data = train_data / 255.0\n",
    "test_data = test_data / 255.0"
   ]
  },
  {
   "cell_type": "code",
   "execution_count": null,
   "metadata": {
    "id": "QzlTj-A3JOSJ"
   },
   "outputs": [],
   "source": [
    "y = to_categorical(y)\n",
    "y_test = to_categorical(y_test)\n",
    "\n",
    "print(y.shape, y_test.shape)\n",
    "y[:10]"
   ]
  },
  {
   "cell_type": "code",
   "execution_count": null,
   "metadata": {
    "id": "fNZw8c9nJPyY"
   },
   "outputs": [],
   "source": [
    "x_train, x_val, y_train, y_val = train_test_split(train_data, y, test_size=VAL_SIZE, random_state=RANDOM_STATE)\n",
    "x_train.shape, x_val.shape, y_train.shape, y_val.shape"
   ]
  },
  {
   "cell_type": "code",
   "execution_count": null,
   "metadata": {
    "id": "3idS62yXJSdp"
   },
   "outputs": [],
   "source": [
    "def create_trace(x,y,ylabel,color):\n",
    "        trace = go.Scatter(\n",
    "            x = x,y = y,\n",
    "            name=ylabel,\n",
    "            marker=dict(color=color),\n",
    "            mode = \"markers+lines\",\n",
    "            text=x\n",
    "        )\n",
    "        return trace\n",
    "    \n",
    "def plot_accuracy_and_loss(train_model):\n",
    "    hist = train_model.history\n",
    "    acc = hist['accuracy']\n",
    "    val_acc = hist['val_accuracy']\n",
    "    loss = hist['loss']\n",
    "    val_loss = hist['val_loss']\n",
    "    epochs = list(range(1,len(acc)+1))\n",
    "    \n",
    "    trace_ta = create_trace(epochs,acc,\"Training accuracy\", \"Green\")\n",
    "    trace_va = create_trace(epochs,val_acc,\"Validation accuracy\", \"Red\")\n",
    "    trace_tl = create_trace(epochs,loss,\"Training loss\", \"Blue\")\n",
    "    trace_vl = create_trace(epochs,val_loss,\"Validation loss\", \"Magenta\")\n",
    "    fig = subplots.make_subplots(rows=1,cols=2, subplot_titles=('Training and validation accuracy',\n",
    "                                                             'Training and validation loss'))\n",
    "    fig.append_trace(trace_ta,1,1)\n",
    "    fig.append_trace(trace_va,1,1)\n",
    "    fig.append_trace(trace_tl,1,2)\n",
    "    fig.append_trace(trace_vl,1,2)\n",
    "    fig['layout']['xaxis'].update(title = 'Epoch')\n",
    "    fig['layout']['xaxis2'].update(title = 'Epoch')\n",
    "    fig['layout']['yaxis'].update(title = 'Accuracy', range=[0,1])\n",
    "    fig['layout']['yaxis2'].update(title = 'Loss', range=[0,1])\n",
    "\n",
    "    plotly.offline.iplot(fig, filename='accuracy-loss')"
   ]
  },
  {
   "cell_type": "code",
   "execution_count": null,
   "metadata": {
    "id": "hqxb1W5FJYJl"
   },
   "outputs": [],
   "source": [
    "datagen = ImageDataGenerator(\n",
    "        rotation_range=0.05,    #Randomly rotate images in the range\n",
    "        zoom_range = 0.2,       # Randomly zoom image\n",
    "        width_shift_range=0.1,  #Randomly shift images horizontally\n",
    "        height_shift_range=0.1, #Randomly shift images vertically\n",
    "        shear_range=0.05        #Randomly shear images\n",
    ")\n",
    "\n",
    "datagen.fit(x_train)"
   ]
  },
  {
   "cell_type": "code",
   "execution_count": null,
   "metadata": {
    "id": "_b-4V7XPJZ6Q"
   },
   "outputs": [],
   "source": [
    "model = tf.keras.Sequential()\n",
    "\n",
    "#1. CNN LAYER\n",
    "model.add(tf.keras.layers.Conv2D(filters = 32, kernel_size = (3,3), padding = 'Same', input_shape=(28, 28, 1), name = 'conv2d1'))\n",
    "model.add(tf.keras.layers.BatchNormalization(name = 'batch_norm1'))\n",
    "model.add(tf.keras.layers.Activation(\"relu\", name = 'relu1'))\n",
    "model.add(tf.keras.layers.Dropout(0.3, name = 'dropout1'))\n",
    "\n",
    "#2. CNN LAYER\n",
    "model.add(tf.keras.layers.Conv2D(filters = 32, kernel_size = (3,3), padding = 'Same', name = 'conv2d2'))\n",
    "model.add(tf.keras.layers.BatchNormalization(name = 'batch_norm2'))\n",
    "model.add(tf.keras.layers.Activation(\"relu\", name = 'relu2'))\n",
    "\n",
    "model.add(tf.keras.layers.MaxPool2D(pool_size=(2, 2), name = 'maxpool2d1'))\n",
    "model.add(tf.keras.layers.Dropout(0.3, name = 'dropout2'))\n",
    "\n",
    "#3. CNN LAYER\n",
    "model.add(tf.keras.layers.Conv2D(filters = 64, kernel_size = (3,3), padding = 'Same', name = 'conv2d3'))\n",
    "model.add(tf.keras.layers.BatchNormalization(name = 'batch_norm3'))\n",
    "model.add(tf.keras.layers.Activation(\"relu\", name = 'relu3'))\n",
    "model.add(tf.keras.layers.Dropout(0.3, name = 'dropout3'))\n",
    "\n",
    "#4. CNN LAYER\n",
    "model.add(tf.keras.layers.Conv2D(filters = 64, kernel_size = (3,3), padding = 'Same', name = 'conv2d4'))\n",
    "model.add(tf.keras.layers.BatchNormalization(name = 'batch_norm4'))\n",
    "model.add(tf.keras.layers.Activation(\"relu\", name = 'relu4'))\n",
    "\n",
    "model.add(tf.keras.layers.MaxPool2D(pool_size=(2, 2), name = 'maxpool2d2'))\n",
    "model.add(tf.keras.layers.Dropout(0.3, name = 'dropout4'))\n",
    "\n",
    "\n",
    "#FULLY CONNECTED LAYER\n",
    "model.add(tf.keras.layers.Flatten(name = 'flatten1'))\n",
    "model.add(tf.keras.layers.Dense(256, name = 'dense1'))\n",
    "model.add(tf.keras.layers.BatchNormalization(name = 'batch_norm5'))\n",
    "model.add(tf.keras.layers.Activation(\"relu\", name = 'relu5'))\n",
    "model.add(tf.keras.layers.Dropout(0.30, name = 'dropout5'))\n",
    "\n",
    "#OUTPUT LAYER\n",
    "model.add(tf.keras.layers.Dense(10, activation='softmax', name = 'dense2'))"
   ]
  },
  {
   "cell_type": "code",
   "execution_count": null,
   "metadata": {
    "id": "_Tn7bn4pJglQ"
   },
   "outputs": [],
   "source": [
    "optimizer = Adam()\n",
    "model.compile(optimizer = optimizer, loss = \"categorical_crossentropy\", metrics=[\"accuracy\"])"
   ]
  },
  {
   "cell_type": "code",
   "execution_count": null,
   "metadata": {
    "id": "BOB6WixBJlWd"
   },
   "outputs": [],
   "source": [
    "filepath=\"weights.best.h5\"\n",
    "checkpoint = ModelCheckpoint(filepath, monitor='val_loss', verbose=1, save_best_only=True, mode='min')\n",
    "callbacks_list = [checkpoint]"
   ]
  },
  {
   "cell_type": "code",
   "execution_count": null,
   "metadata": {
    "id": "taRCrOpfJqWW"
   },
   "outputs": [],
   "source": [
    "NO_EPOCHS = 30\n",
    "history = model.fit(datagen.flow(x_train, y_train, batch_size=BATCH_SIZE),\n",
    "                              shuffle=True,\n",
    "                              epochs=NO_EPOCHS, validation_data = (x_val, y_val),\n",
    "                              verbose = 1, steps_per_epoch=x_train.shape[0] // BATCH_SIZE,\n",
    "                              callbacks=callbacks_list)"
   ]
  },
  {
   "cell_type": "code",
   "execution_count": null,
   "metadata": {
    "id": "U9QsLZb8JthZ"
   },
   "outputs": [],
   "source": [
    "plot_accuracy_and_loss(history)"
   ]
  },
  {
   "cell_type": "code",
   "execution_count": null,
   "metadata": {
    "id": "QprLyad9LIfn"
   },
   "outputs": [],
   "source": [
    "predict_model = load_model(filepath)"
   ]
  },
  {
   "cell_type": "code",
   "execution_count": null,
   "metadata": {
    "id": "jpDD8qMvLKYb"
   },
   "outputs": [],
   "source": [
    "score = predict_model.evaluate(test_data, y_test,verbose=0)\n",
    "print(\"Test Loss:\",score[0])\n",
    "print(\"Test Accuracy:\",score[1])"
   ]
  },
  {
   "cell_type": "markdown",
   "metadata": {
    "id": "-N4yOnqCLqMB"
   },
   "source": [
    "# **Visualizing Kernel**"
   ]
  },
  {
   "cell_type": "code",
   "execution_count": null,
   "metadata": {
    "id": "zvGpggnDLo5Y"
   },
   "outputs": [],
   "source": [
    "predict_model.summary()"
   ]
  },
  {
   "cell_type": "code",
   "execution_count": null,
   "metadata": {
    "id": "9cJackSVLvXs"
   },
   "outputs": [],
   "source": [
    "kernel_bias = []\n",
    "for layer in predict_model.layers:\n",
    "    if 'conv' not in layer.name:\n",
    "        continue\n",
    "    kernels, biases = layer.get_weights()\n",
    "    kernel_bias.append([kernels, biases])\n",
    "    print(layer.name, kernels.shape)"
   ]
  },
  {
   "cell_type": "code",
   "execution_count": null,
   "metadata": {
    "id": "UUxPLJ7PMjfp"
   },
   "outputs": [],
   "source": [
    "kernels, biases = kernel_bias[0]\n",
    "kernels.shape, biases.shape"
   ]
  },
  {
   "cell_type": "code",
   "execution_count": null,
   "metadata": {
    "id": "rMO5CfxeMmnT"
   },
   "outputs": [],
   "source": [
    "k_min, k_max = kernels.min(), kernels.max()\n",
    "kernels = (kernels - k_min) / (k_max - k_min)"
   ]
  },
  {
   "cell_type": "code",
   "execution_count": null,
   "metadata": {
    "id": "Cj4qEsGBMoo2"
   },
   "outputs": [],
   "source": [
    "n_kernels, ix = 32, 1\n",
    "for i in range(n_kernels):\n",
    "    f = kernels[:, :, :, i]\n",
    "    for j in range(1):\n",
    "        ax = plt.subplot(8, 4, ix)\n",
    "        ax.set_xticks([])\n",
    "        ax.set_yticks([])\n",
    "        plt.imshow(f[:, :, j], cmap='gray')\n",
    "        ix += 1\n",
    "plt.savefig('filter.jpeg', dpi=300)"
   ]
  },
  {
   "cell_type": "markdown",
   "metadata": {
    "id": "aaUVDPF0MuIZ"
   },
   "source": [
    "# **Visualizing Feature Map**"
   ]
  },
  {
   "cell_type": "code",
   "execution_count": null,
   "metadata": {
    "id": "_6f3zcHsMrhJ"
   },
   "outputs": [],
   "source": [
    "model = tf.keras.models.Model(inputs=predict_model.inputs, outputs=predict_model.layers[0].output)\n",
    "model.summary()"
   ]
  },
  {
   "cell_type": "code",
   "execution_count": null,
   "metadata": {
    "id": "1AW-RMe9NADE"
   },
   "outputs": [],
   "source": [
    "img = x_train[10:11]"
   ]
  },
  {
   "cell_type": "code",
   "execution_count": null,
   "metadata": {
    "id": "YWnjbV5cNCfN"
   },
   "outputs": [],
   "source": [
    "feature_maps = model(img)\n",
    "feature_maps.shape"
   ]
  },
  {
   "cell_type": "code",
   "execution_count": null,
   "metadata": {
    "id": "ucF2xbPTNEc0"
   },
   "outputs": [],
   "source": [
    "ix = 1\n",
    "for _ in range(8):\n",
    "    for _ in range(4):\n",
    "        ax = plt.subplot(8, 4, ix)\n",
    "        ax.set_xticks([])\n",
    "        ax.set_yticks([])\n",
    "        plt.imshow(feature_maps[0, :, :, ix-1], cmap='gray')\n",
    "        ix += 1\n",
    "plt.savefig('feature_map1.jpeg', dpi=300)"
   ]
  },
  {
   "cell_type": "code",
   "execution_count": null,
   "metadata": {
    "id": "DN2F2AFqNG6f"
   },
   "outputs": [],
   "source": [
    "model = tf.keras.models.Model(inputs=predict_model.inputs, outputs=predict_model.layers[2].output)\n",
    "model.summary()"
   ]
  },
  {
   "cell_type": "code",
   "execution_count": null,
   "metadata": {
    "id": "loMEHU3gNKzm"
   },
   "outputs": [],
   "source": [
    "feature_maps = model(img)\n",
    "feature_maps.shape"
   ]
  },
  {
   "cell_type": "code",
   "execution_count": null,
   "metadata": {
    "id": "BeURYzU-NNWO"
   },
   "outputs": [],
   "source": [
    "ix = 1\n",
    "for _ in range(8):\n",
    "    for _ in range(4):\n",
    "        ax = plt.subplot(8, 4, ix)\n",
    "        ax.set_xticks([])\n",
    "        ax.set_yticks([])\n",
    "        plt.imshow(feature_maps[0, :, :, ix-1], cmap='gray')\n",
    "        ix += 1\n",
    "plt.savefig('feature_map2.jpeg', dpi=300)"
   ]
  },
  {
   "cell_type": "code",
   "execution_count": null,
   "metadata": {
    "id": "0VVAtMRcNPQf"
   },
   "outputs": [],
   "source": [
    "model = tf.keras.models.Model(inputs=predict_model.inputs, outputs=predict_model.layers[4].output)\n",
    "model.summary()"
   ]
  },
  {
   "cell_type": "code",
   "execution_count": null,
   "metadata": {
    "id": "pMTeFntJNSFZ"
   },
   "outputs": [],
   "source": [
    "feature_maps = model(img)\n",
    "feature_maps.shape"
   ]
  },
  {
   "cell_type": "code",
   "execution_count": null,
   "metadata": {
    "id": "5Pr9jflBNUqS"
   },
   "outputs": [],
   "source": [
    "ix = 1\n",
    "for _ in range(8):\n",
    "    for _ in range(4):\n",
    "        ax = plt.subplot(8, 4, ix)\n",
    "        ax.set_xticks([])\n",
    "        ax.set_yticks([])\n",
    "        plt.imshow(feature_maps[0, :, :, ix-1], cmap='gray')\n",
    "        ix += 1\n",
    "plt.savefig('feature_map3.jpeg', dpi=300)"
   ]
  },
  {
   "cell_type": "code",
   "execution_count": null,
   "metadata": {
    "id": "bo7pQjvUNWzr"
   },
   "outputs": [],
   "source": [
    "model = tf.keras.models.Model(inputs=predict_model.inputs, outputs=predict_model.layers[16].output)\n",
    "model.summary()"
   ]
  },
  {
   "cell_type": "code",
   "execution_count": null,
   "metadata": {
    "id": "hqdWxRxpNZfn"
   },
   "outputs": [],
   "source": [
    "feature_maps = model(img)\n",
    "feature_maps.shape"
   ]
  },
  {
   "cell_type": "code",
   "execution_count": null,
   "metadata": {
    "id": "ExZwt9DLNce3"
   },
   "outputs": [],
   "source": [
    "ix = 1\n",
    "for _ in range(8):\n",
    "    for _ in range(8):\n",
    "        ax = plt.subplot(8, 8, ix)\n",
    "        ax.set_xticks([])\n",
    "        ax.set_yticks([])\n",
    "        plt.imshow(feature_maps[0, :, :, ix-1], cmap='gray')\n",
    "        ix += 1\n",
    "plt.savefig('feature_map4.jpeg', dpi=300)"
   ]
  },
  {
   "cell_type": "code",
   "execution_count": null,
   "metadata": {
    "id": "L-q52qDoNetP"
   },
   "outputs": [],
   "source": []
  }
 ],
 "metadata": {
  "accelerator": "GPU",
  "colab": {
   "collapsed_sections": [],
   "name": "PDL_09.ipynb",
   "provenance": []
  },
  "kernelspec": {
   "display_name": "Python 3 (ipykernel)",
   "language": "python",
   "name": "python3"
  },
  "language_info": {
   "codemirror_mode": {
    "name": "ipython",
    "version": 3
   },
   "file_extension": ".py",
   "mimetype": "text/x-python",
   "name": "python",
   "nbconvert_exporter": "python",
   "pygments_lexer": "ipython3",
   "version": "3.9.7"
  }
 },
 "nbformat": 4,
 "nbformat_minor": 1
}
