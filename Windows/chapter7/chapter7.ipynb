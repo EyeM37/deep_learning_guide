{
 "cells": [
  {
   "cell_type": "code",
   "execution_count": null,
   "metadata": {
    "id": "emUSbG5TR1su"
   },
   "outputs": [],
   "source": [
    "import tensorflow as tf\n",
    "\n",
    "imdb = tf.keras.datasets.imdb\n",
    "to_categorical = tf.keras.utils.to_categorical\n",
    "sequence = tf.keras.preprocessing.sequence\n",
    "\n",
    "import plotly\n",
    "import plotly.graph_objs as go\n",
    "import plotly.express as px\n",
    "\n",
    "from matplotlib import pyplot\n",
    "\n",
    "import numpy\n",
    "\n",
    "from sklearn.datasets import make_circles, make_blobs\n",
    "from sklearn.model_selection import train_test_split\n",
    "\n",
    "from pandas import DataFrame\n",
    "import pandas as pd\n",
    "\n",
    "import warnings\n",
    "warnings.filterwarnings('ignore')"
   ]
  },
  {
   "cell_type": "code",
   "execution_count": null,
   "metadata": {},
   "outputs": [],
   "source": [
    "gpus = tf.config.experimental.list_physical_devices('GPU')\n",
    "if gpus:\n",
    "    try:\n",
    "        for gpu in gpus:\n",
    "            tf.config.experimental.set_memory_growth(gpu, True)\n",
    "        logical_gpus = tf.config.experimental.list_logical_devices('GPU')\n",
    "        print(len(gpus), 'Physical GPUs,', len(logical_gpus), 'Logical GPUs')\n",
    "    except RuntimeError as e:\n",
    "        print(e)"
   ]
  },
  {
   "cell_type": "code",
   "execution_count": null,
   "metadata": {
    "id": "a9O1Xv-4R-by"
   },
   "outputs": [],
   "source": [
    "top_words = 5000\n",
    "(x_train, y_train), (x_val, y_val) = imdb.load_data(num_words=top_words)\n",
    "max_words = 500\n",
    "\n",
    "x_train.shape, y_train.shape, x_val.shape, y_val.shape"
   ]
  },
  {
   "cell_type": "code",
   "execution_count": null,
   "metadata": {
    "id": "3MqmF-KsSCHx"
   },
   "outputs": [],
   "source": [
    "imdb.get_word_index()"
   ]
  },
  {
   "cell_type": "code",
   "execution_count": null,
   "metadata": {
    "id": "kq6UWvLDSJfM"
   },
   "outputs": [],
   "source": [
    "x = numpy.concatenate((x_train, x_val), axis=0)\n",
    "\n",
    "print(\"Number of words:\", len(numpy.unique(numpy.hstack(x))))"
   ]
  },
  {
   "cell_type": "code",
   "execution_count": null,
   "metadata": {
    "id": "yTfkHzzkSfEj"
   },
   "outputs": [],
   "source": [
    "print(\"Review length: \")\n",
    "result = [len(st) for st in x]\n",
    "print(\"Mean %.2f words (%f)\" % (numpy.mean(result), numpy.std(result)))\n",
    "\n",
    "pyplot.boxplot(result)\n",
    "\n",
    "pyplot.savefig('review_length.png', dpi = 300)"
   ]
  },
  {
   "cell_type": "code",
   "execution_count": null,
   "metadata": {
    "id": "A1CkrnLNSf5J"
   },
   "outputs": [],
   "source": [
    "x_train = sequence.pad_sequences(x_train, maxlen=max_words)\n",
    "x_val = sequence.pad_sequences(x_val, maxlen=max_words)\n",
    "\n",
    "x_train.shape, y_train.shape"
   ]
  },
  {
   "cell_type": "code",
   "execution_count": null,
   "metadata": {
    "id": "8Nq9tR8kSihr"
   },
   "outputs": [],
   "source": [
    "model = tf.keras.Sequential()\n",
    "model.add(tf.keras.layers.Dense(4, input_dim=max_words, activation='relu'))\n",
    "model.add(tf.keras.layers.Dense(1, activation='sigmoid'))\n",
    "model.compile(loss='binary_crossentropy', optimizer='adam', metrics=['accuracy'])\n",
    "model.summary()"
   ]
  },
  {
   "cell_type": "code",
   "execution_count": null,
   "metadata": {
    "id": "4xBhWq0hSmzk"
   },
   "outputs": [],
   "source": [
    "history = model.fit(x_train, y_train, validation_data=(x_val, y_val), epochs=200, batch_size=128, verbose=2)\n"
   ]
  },
  {
   "cell_type": "code",
   "execution_count": null,
   "metadata": {
    "id": "MhPPVQgnSzVw"
   },
   "outputs": [],
   "source": [
    "h1 = go.Scatter(y=history.history['loss'], \n",
    "                    mode=\"lines\",\n",
    "                    line=dict(\n",
    "                        width=2,\n",
    "                        color='blue'),\n",
    "                    name=\"loss\"\n",
    "                   )\n",
    "h2 = go.Scatter(y=history.history['val_loss'], \n",
    "                    mode=\"lines\",\n",
    "                    line=dict(\n",
    "                        width=2,\n",
    "                        color='red'),\n",
    "                    name=\"val_loss\"\n",
    "                   )\n",
    "\n",
    "data = [h1,h2]\n",
    "layout1 = go.Layout(title='Loss',\n",
    "                   xaxis=dict(title='Epochs'),\n",
    "                   yaxis=dict(title=''))\n",
    "fig1 = go.Figure(data = data, layout=layout1)\n",
    "plotly.offline.iplot(fig1, filename='Underfit')\n"
   ]
  },
  {
   "cell_type": "code",
   "execution_count": null,
   "metadata": {
    "id": "Wja4xtlSTZUm"
   },
   "outputs": [],
   "source": [
    "h1 = go.Scatter(y=history.history['accuracy'], \n",
    "                    mode=\"lines\",\n",
    "                    line=dict(\n",
    "                        width=2,\n",
    "                        color='blue'),\n",
    "                    name=\"acc\"\n",
    "                   )\n",
    "h2 = go.Scatter(y=history.history['val_accuracy'], \n",
    "                    mode=\"lines\",\n",
    "                    line=dict(\n",
    "                        width=2,\n",
    "                        color='red'),\n",
    "                    name=\"val_acc\"\n",
    "                   )\n",
    "\n",
    "data = [h1,h2]\n",
    "layout1 = go.Layout(title='Accuracy',\n",
    "                   xaxis=dict(title='Epochs'),\n",
    "                   yaxis=dict(title=''))\n",
    "fig1 = go.Figure(data = data, layout=layout1)\n",
    "plotly.offline.iplot(fig1, filename='Underfit')\n"
   ]
  },
  {
   "cell_type": "markdown",
   "metadata": {
    "id": "IBMqLWYbTfdg"
   },
   "source": [
    "# **Overfit Learning Curve**"
   ]
  },
  {
   "cell_type": "code",
   "execution_count": null,
   "metadata": {
    "id": "2S91jQsrTcTT"
   },
   "outputs": [],
   "source": [
    "x, y =  make_circles(n_samples=500, noise=0.2, random_state=1)"
   ]
  },
  {
   "cell_type": "code",
   "execution_count": null,
   "metadata": {
    "id": "dQDkG771Ti7T"
   },
   "outputs": [],
   "source": [
    "x_train, x_val, y_train, y_val = train_test_split(x, y, test_size=0.5, shuffle= True)\n",
    "x_train.shape, y_train.shape, x_val.shape, y_val.shape"
   ]
  },
  {
   "cell_type": "code",
   "execution_count": null,
   "metadata": {
    "id": "Yinraq26TnCZ"
   },
   "outputs": [],
   "source": [
    "x_train_pd = pd.DataFrame(x_train, columns=['x', 'y'])\n",
    "y_train_pd = pd.DataFrame(y_train, columns=['class'])\n",
    "\n",
    "df = pd.concat([x_train_pd, y_train_pd], axis=1)\n",
    "df[\"class\"] = df[\"class\"].astype(str)"
   ]
  },
  {
   "cell_type": "code",
   "execution_count": null,
   "metadata": {
    "id": "DWHJbDbcTt9d"
   },
   "outputs": [],
   "source": [
    "fig = px.scatter(df, x=\"x\", y=\"y\", color=\"class\")\n",
    "fig.show()"
   ]
  },
  {
   "cell_type": "code",
   "execution_count": null,
   "metadata": {
    "id": "qemlWAVxTwnt"
   },
   "outputs": [],
   "source": [
    "model = tf.keras.Sequential()\n",
    "model.add(tf.keras.layers.Dense(60, input_dim=2, activation='relu'))\n",
    "model.add(tf.keras.layers.Dense(30,  activation='relu'))\n",
    "model.add(tf.keras.layers.Dense(1, activation='sigmoid'))\n",
    "model.compile(loss='binary_crossentropy', optimizer='adam', metrics=['accuracy'])\n"
   ]
  },
  {
   "cell_type": "code",
   "execution_count": null,
   "metadata": {
    "id": "5DKr1DFCT0VZ"
   },
   "outputs": [],
   "source": [
    "history = model.fit(x_train, y_train, validation_data=(x_val, y_val), epochs=500, verbose=1)\n"
   ]
  },
  {
   "cell_type": "code",
   "execution_count": null,
   "metadata": {
    "id": "dT5zR2sXVCT2"
   },
   "outputs": [],
   "source": [
    "h1 = go.Scatter(y=history.history['loss'], \n",
    "                    mode=\"lines\",\n",
    "                    line=dict(\n",
    "                        width=2,\n",
    "                        color='blue'),\n",
    "                    name=\"loss\"\n",
    "                   )\n",
    "h2 = go.Scatter(y=history.history['val_loss'], \n",
    "                    mode=\"lines\",\n",
    "                    line=dict(\n",
    "                        width=2,\n",
    "                        color='red'),\n",
    "                    name=\"val_loss\"\n",
    "                   )\n",
    "\n",
    "data = [h1,h2]\n",
    "layout1 = go.Layout(title='Loss',\n",
    "                   xaxis=dict(title='Epochs'),\n",
    "                   yaxis=dict(title=''))\n",
    "fig1 = go.Figure(data = data, layout=layout1)\n",
    "plotly.offline.iplot(fig1, filename='Overfit')"
   ]
  },
  {
   "cell_type": "code",
   "execution_count": null,
   "metadata": {
    "id": "sKuKGkI9WYS7"
   },
   "outputs": [],
   "source": [
    "h1 = go.Scatter(y=history.history['accuracy'], \n",
    "                    mode=\"lines\",\n",
    "                    line=dict(\n",
    "                        width=2,\n",
    "                        color='blue'),\n",
    "                    name=\"acc\"\n",
    "                   )\n",
    "h2 = go.Scatter(y=history.history['val_accuracy'], \n",
    "                    mode=\"lines\",\n",
    "                    line=dict(\n",
    "                        width=2,\n",
    "                        color='red'),\n",
    "                    name=\"val_acc\"\n",
    "                   )\n",
    "\n",
    "data = [h1,h2]\n",
    "layout1 = go.Layout(title='Accuracy',\n",
    "                   xaxis=dict(title='Epochs'),\n",
    "                   yaxis=dict(title=''))\n",
    "fig1 = go.Figure(data = data, layout=layout1)\n",
    "plotly.offline.iplot(fig1, filename='Overfit')"
   ]
  },
  {
   "cell_type": "markdown",
   "metadata": {
    "id": "6jmpJSsVWh5J"
   },
   "source": [
    "# **Good Fit Learning Curve**"
   ]
  },
  {
   "cell_type": "code",
   "execution_count": null,
   "metadata": {
    "id": "JKdzUDtZWl7w"
   },
   "outputs": [],
   "source": [
    "x, y = make_blobs(n_samples=3000, centers=3, n_features=2, cluster_std=2, random_state=2)"
   ]
  },
  {
   "cell_type": "code",
   "execution_count": null,
   "metadata": {
    "id": "AXTUIqL7W32l"
   },
   "outputs": [],
   "source": [
    "x_train, x_val, y_train, y_val = train_test_split(x, y, test_size=0.4, shuffle= True)\n",
    "\n",
    "x_train.shape, x_val.shape, y_train.shape, y_val.shape"
   ]
  },
  {
   "cell_type": "code",
   "execution_count": null,
   "metadata": {
    "id": "aAnECa-sebHy"
   },
   "outputs": [],
   "source": [
    "x_train_pd = pd.DataFrame(x_train, columns=['x', 'y'])\n",
    "y_train_pd = pd.DataFrame(y_train, columns=['class'])\n",
    "\n",
    "df = pd.concat([x_train_pd, y_train_pd], axis=1)\n",
    "df[\"class\"] = df[\"class\"].astype(str)"
   ]
  },
  {
   "cell_type": "code",
   "execution_count": null,
   "metadata": {
    "id": "1bxub9Q7ehoD"
   },
   "outputs": [],
   "source": [
    "fig = px.scatter(df, x=\"x\", y=\"y\", color=\"class\")\n",
    "fig.show()"
   ]
  },
  {
   "cell_type": "code",
   "execution_count": null,
   "metadata": {
    "id": "3Av0xyKRenzW"
   },
   "outputs": [],
   "source": [
    "y_train = to_categorical(y_train)\n",
    "y_val = to_categorical(y_val)"
   ]
  },
  {
   "cell_type": "code",
   "execution_count": null,
   "metadata": {
    "id": "7Kauq0-aenn7"
   },
   "outputs": [],
   "source": [
    "model = tf.keras.Sequential()\n",
    "model.add(tf.keras.layers.Dense(50, input_dim=2, activation='relu', kernel_initializer='he_uniform'))\n",
    "model.add(tf.keras.layers.Dense(3, activation='softmax'))\n",
    "\n",
    "model.compile(loss='categorical_crossentropy', optimizer='adam', metrics=['accuracy'])\n",
    "model.summary()"
   ]
  },
  {
   "cell_type": "code",
   "execution_count": null,
   "metadata": {
    "id": "_uFr_PEAeqD1"
   },
   "outputs": [],
   "source": [
    "history = model.fit(x_train, y_train, validation_data=(x_val, y_val), epochs=500, verbose=1)"
   ]
  },
  {
   "cell_type": "code",
   "execution_count": null,
   "metadata": {
    "id": "ShM950Y3ew7h"
   },
   "outputs": [],
   "source": [
    "h1 = go.Scatter(y=history.history['loss'], \n",
    "                    mode=\"lines\",\n",
    "                    line=dict(\n",
    "                        width=2,\n",
    "                        color='blue'),\n",
    "                    name=\"loss\"\n",
    "                   )\n",
    "h2 = go.Scatter(y=history.history['val_loss'], \n",
    "                    mode=\"lines\",\n",
    "                    line=dict(\n",
    "                        width=2,\n",
    "                        color='red'),\n",
    "                    name=\"val_loss\"\n",
    "                   )\n",
    "\n",
    "data = [h1,h2]\n",
    "layout1 = go.Layout(title='Loss',\n",
    "                   xaxis=dict(title='epochs'),\n",
    "                   yaxis=dict(title=''))\n",
    "fig1 = go.Figure(data = data, layout=layout1)\n",
    "plotly.offline.iplot(fig1, filename='Good Fit')"
   ]
  },
  {
   "cell_type": "code",
   "execution_count": null,
   "metadata": {
    "id": "nc_hDknAYATd"
   },
   "outputs": [],
   "source": [
    "h1 = go.Scatter(y=history.history['accuracy'], \n",
    "                    mode=\"lines\",\n",
    "                    line=dict(\n",
    "                        width=2,\n",
    "                        color='blue'),\n",
    "                    name=\"acc\"\n",
    "                   )\n",
    "h2 = go.Scatter(y=history.history['val_accuracy'], \n",
    "                    mode=\"lines\",\n",
    "                    line=dict(\n",
    "                        width=2,\n",
    "                        color='red'),\n",
    "                    name=\"val_acc\"\n",
    "                   )\n",
    "\n",
    "data = [h1,h2]\n",
    "layout1 = go.Layout(title='Accuracy',\n",
    "                   xaxis=dict(title='Epochs'),\n",
    "                   yaxis=dict(title=''))\n",
    "fig1 = go.Figure(data = data, layout=layout1)\n",
    "plotly.offline.iplot(fig1, filename='Good Fit')"
   ]
  },
  {
   "cell_type": "markdown",
   "metadata": {
    "id": "GW86kuraYYQD"
   },
   "source": [
    "# **Unrepresentative Train Dataset**"
   ]
  },
  {
   "cell_type": "code",
   "execution_count": null,
   "metadata": {
    "id": "sOExrtEtYaRN"
   },
   "outputs": [],
   "source": [
    "x, y = make_blobs(n_samples=100, centers=3, n_features=2, cluster_std=2, random_state=2)"
   ]
  },
  {
   "cell_type": "code",
   "execution_count": null,
   "metadata": {
    "id": "VVQ0M-VqYdXN"
   },
   "outputs": [],
   "source": [
    "x_train, x_val, y_train, y_val = train_test_split(x, y, test_size=0.5, shuffle= True)\n",
    "\n",
    "x_train.shape, x_val.shape, y_train.shape, y_val.shape"
   ]
  },
  {
   "cell_type": "code",
   "execution_count": null,
   "metadata": {
    "id": "OjJQkvVGYkS_"
   },
   "outputs": [],
   "source": [
    "x_train_pd = pd.DataFrame(x_train, columns=['x', 'y'])\n",
    "y_train_pd = pd.DataFrame(y_train, columns=['class'])\n",
    "\n",
    "df = pd.concat([x_train_pd, y_train_pd], axis=1)\n",
    "df[\"class\"] = df[\"class\"].astype(str)"
   ]
  },
  {
   "cell_type": "code",
   "execution_count": null,
   "metadata": {
    "id": "rsUye2FqYmNV"
   },
   "outputs": [],
   "source": [
    "fig = px.scatter(df, x=\"x\", y=\"y\", color=\"class\")\n",
    "fig.show()"
   ]
  },
  {
   "cell_type": "code",
   "execution_count": null,
   "metadata": {
    "id": "R1WLMBrCYnwq"
   },
   "outputs": [],
   "source": [
    "y_train = to_categorical(y_train)\n",
    "y_val = to_categorical(y_val)"
   ]
  },
  {
   "cell_type": "code",
   "execution_count": null,
   "metadata": {
    "id": "S7XYFRpvYp2F"
   },
   "outputs": [],
   "source": [
    "model = tf.keras.Sequential()\n",
    "model.add(tf.keras.layers.Dense(50, input_dim=2, activation='relu', kernel_initializer='he_uniform'))\n",
    "model.add(tf.keras.layers.Dense(3, activation='softmax'))\n",
    "\n",
    "model.compile(loss='categorical_crossentropy', optimizer='adam', metrics=['accuracy'])"
   ]
  },
  {
   "cell_type": "code",
   "execution_count": null,
   "metadata": {
    "id": "8Kyl9ys5YsCO"
   },
   "outputs": [],
   "source": [
    "history = model.fit(x_train, y_train, validation_data=(x_val, y_val), epochs=200, verbose=1)"
   ]
  },
  {
   "cell_type": "code",
   "execution_count": null,
   "metadata": {
    "id": "lxVCVEcnYuRl"
   },
   "outputs": [],
   "source": [
    "h1 = go.Scatter(y=history.history['loss'], \n",
    "                    mode=\"lines\",\n",
    "                    line=dict(\n",
    "                        width=2,\n",
    "                        color='blue'),\n",
    "                    name=\"loss\"\n",
    "                   )\n",
    "h2 = go.Scatter(y=history.history['val_loss'], \n",
    "                    mode=\"lines\",\n",
    "                    line=dict(\n",
    "                        width=2,\n",
    "                        color='red'),\n",
    "                    name=\"val_loss\"\n",
    "                   )\n",
    "\n",
    "data = [h1,h2]\n",
    "layout1 = go.Layout(title='Loss',\n",
    "                   xaxis=dict(title='Epochs'),\n",
    "                   yaxis=dict(title=''))\n",
    "fig1 = go.Figure(data = data, layout=layout1)\n",
    "plotly.offline.iplot(fig1, filename='Unrepresentative Train Dataset')"
   ]
  },
  {
   "cell_type": "code",
   "execution_count": null,
   "metadata": {
    "id": "VsD3EW0oY0GW"
   },
   "outputs": [],
   "source": [
    "h1 = go.Scatter(y=history.history['accuracy'], \n",
    "                    mode=\"lines\",\n",
    "                    line=dict(\n",
    "                        width=2,\n",
    "                        color='blue'),\n",
    "                    name=\"acc\"\n",
    "                   )\n",
    "h2 = go.Scatter(y=history.history['val_accuracy'], \n",
    "                    mode=\"lines\",\n",
    "                    line=dict(\n",
    "                        width=2,\n",
    "                        color='red'),\n",
    "                    name=\"val_acc\"\n",
    "                   )\n",
    "\n",
    "data = [h1,h2]\n",
    "layout1 = go.Layout(title='Accuracy',\n",
    "                   xaxis=dict(title='Epochs'),\n",
    "                   yaxis=dict(title=''))\n",
    "fig1 = go.Figure(data = data, layout=layout1)\n",
    "plotly.offline.iplot(fig1, filename='Unrepresentative Train Dataset')"
   ]
  },
  {
   "cell_type": "markdown",
   "metadata": {
    "id": "Un_CTz3PZDZm"
   },
   "source": [
    "# **Unrepresentative Validation Dataset**"
   ]
  },
  {
   "cell_type": "code",
   "execution_count": null,
   "metadata": {
    "id": "vgvTHktVY4EG"
   },
   "outputs": [],
   "source": [
    "x, y = make_blobs(n_samples=500, centers=3, n_features=2, cluster_std=10, random_state=2)"
   ]
  },
  {
   "cell_type": "code",
   "execution_count": null,
   "metadata": {
    "id": "Afyap3P6ZIUk"
   },
   "outputs": [],
   "source": [
    "x_train, x_val, y_train, y_val = train_test_split(x, y, test_size=0.05, shuffle= True)\n",
    "\n",
    "x_train.shape, x_val.shape, y_train.shape, y_val.shape"
   ]
  },
  {
   "cell_type": "code",
   "execution_count": null,
   "metadata": {
    "id": "vJGGUQ2HZKf6"
   },
   "outputs": [],
   "source": [
    "x_train_pd = pd.DataFrame(x_train, columns=['x', 'y'])\n",
    "y_train_pd = pd.DataFrame(y_train, columns=['class'])\n",
    "\n",
    "df = pd.concat([x_train_pd, y_train_pd], axis=1)\n",
    "df[\"class\"] = df[\"class\"].astype(str)"
   ]
  },
  {
   "cell_type": "code",
   "execution_count": null,
   "metadata": {
    "id": "n9wgzmqPZMnr"
   },
   "outputs": [],
   "source": [
    "fig = px.scatter(df, x=\"x\", y=\"y\", color=\"class\")\n",
    "fig.show()"
   ]
  },
  {
   "cell_type": "markdown",
   "metadata": {
    "id": "ykAfmp3Waamz"
   },
   "source": [
    "**สถานการณ์ที่ 1 (Validation Dataset น้อย และไม่สามารถเป็นตัวแทนของ Validation Dataset ได้)**"
   ]
  },
  {
   "cell_type": "code",
   "execution_count": null,
   "metadata": {
    "id": "hlyXoNvQZOmq"
   },
   "outputs": [],
   "source": [
    "y_train = to_categorical(y_train)\n",
    "y_val = to_categorical(y_val)"
   ]
  },
  {
   "cell_type": "code",
   "execution_count": null,
   "metadata": {
    "id": "CuXz1IaxZRP8"
   },
   "outputs": [],
   "source": [
    "model = tf.keras.Sequential()\n",
    "model.add(tf.keras.layers.Dense(50, input_dim=2, activation='relu', kernel_initializer='he_uniform'))\n",
    "model.add(tf.keras.layers.Dense(3, activation='softmax'))\n",
    "\n",
    "model.compile(loss='categorical_crossentropy', optimizer='adam', metrics=['accuracy'])"
   ]
  },
  {
   "cell_type": "code",
   "execution_count": null,
   "metadata": {
    "id": "3dPLzApNZTZ9"
   },
   "outputs": [],
   "source": [
    "history = model.fit(x_train, y_train, validation_data=(x_val, y_val), epochs=200, verbose=1)"
   ]
  },
  {
   "cell_type": "code",
   "execution_count": null,
   "metadata": {
    "id": "xYFwemwHZWWD"
   },
   "outputs": [],
   "source": [
    "h1 = go.Scatter(y=history.history['loss'], \n",
    "                    mode=\"lines\",\n",
    "                    line=dict(\n",
    "                        width=2,\n",
    "                        color='blue'),\n",
    "                    name=\"loss\"\n",
    "                   )\n",
    "h2 = go.Scatter(y=history.history['val_loss'], \n",
    "                    mode=\"lines\",\n",
    "                    line=dict(\n",
    "                        width=2,\n",
    "                        color='red'),\n",
    "                    name=\"val_loss\"\n",
    "                   )\n",
    "\n",
    "data = [h1,h2]\n",
    "layout1 = go.Layout(title='Loss',\n",
    "                   xaxis=dict(title='Epochs'),\n",
    "                   yaxis=dict(title=''))\n",
    "fig1 = go.Figure(data = data, layout=layout1)\n",
    "plotly.offline.iplot(fig1, filename='Unrepresentative Validation Dataset')"
   ]
  },
  {
   "cell_type": "code",
   "execution_count": null,
   "metadata": {
    "id": "AZ_hmYS1Za2W"
   },
   "outputs": [],
   "source": [
    "h1 = go.Scatter(y=history.history['accuracy'], \n",
    "                    mode=\"lines\", line=dict(\n",
    "                    width=2,\n",
    "                    color='blue'),\n",
    "                    name=\"acc\"\n",
    "                   )\n",
    "h2 = go.Scatter(y=history.history['val_accuracy'], \n",
    "                    mode=\"lines\", line=dict(\n",
    "                    width=2,\n",
    "                    color='red'),\n",
    "                    name=\"val_acc\"\n",
    "                   )\n",
    "\n",
    "data = [h1,h2]\n",
    "layout1 = go.Layout(title='Accuracy',\n",
    "                   xaxis=dict(title='Epochs'),\n",
    "                   yaxis=dict(title=''))\n",
    "fig1 = go.Figure(data = data, layout=layout1)\n",
    "plotly.offline.iplot(fig1, filename='Unrepresentative Validation Dataset')"
   ]
  },
  {
   "cell_type": "markdown",
   "metadata": {
    "id": "uav-uugLaRON"
   },
   "source": [
    "**สถานการณ์ที่ 2 (Validation Dataset น้อย และง่ายเกินไป)**"
   ]
  },
  {
   "cell_type": "code",
   "execution_count": null,
   "metadata": {
    "id": "m67CkBN2Zd7j"
   },
   "outputs": [],
   "source": [
    "x, y = make_blobs(n_samples=400, centers=3, n_features=2, cluster_std=2, random_state=2)"
   ]
  },
  {
   "cell_type": "code",
   "execution_count": null,
   "metadata": {
    "id": "BXUb2Sw6ZiKp"
   },
   "outputs": [],
   "source": [
    "x_train, x_val, y_train, y_val = train_test_split(x, y, test_size=0.03, shuffle= True)\n",
    "\n",
    "x_train.shape, x_val.shape, y_train.shape, y_val.shape"
   ]
  },
  {
   "cell_type": "code",
   "execution_count": null,
   "metadata": {
    "id": "GrIgdswjZktT"
   },
   "outputs": [],
   "source": [
    "x_train_pd = pd.DataFrame(x_train, columns=['x', 'y'])\n",
    "y_train_pd = pd.DataFrame(y_train, columns=['class'])\n",
    "\n",
    "df = pd.concat([x_train_pd, y_train_pd], axis=1)\n",
    "df[\"class\"] = df[\"class\"].astype(str)"
   ]
  },
  {
   "cell_type": "code",
   "execution_count": null,
   "metadata": {
    "id": "np8RB4IBZn4O"
   },
   "outputs": [],
   "source": [
    "fig = px.scatter(df, x=\"x\", y=\"y\", color=\"class\")\n",
    "fig.show()"
   ]
  },
  {
   "cell_type": "code",
   "execution_count": null,
   "metadata": {
    "id": "EmBm48JJZrYm"
   },
   "outputs": [],
   "source": [
    "y_train = to_categorical(y_train)\n",
    "y_val = to_categorical(y_val)"
   ]
  },
  {
   "cell_type": "code",
   "execution_count": null,
   "metadata": {
    "id": "uhlPx5UtZuLw"
   },
   "outputs": [],
   "source": [
    "model = tf.keras.Sequential()\n",
    "model.add(tf.keras.layers.Dense(50, input_dim=2, activation='relu', kernel_initializer='he_uniform'))\n",
    "model.add(tf.keras.layers.Dense(3, activation='softmax'))\n",
    "\n",
    "model.compile(loss='categorical_crossentropy', optimizer='adam', metrics=['accuracy'])"
   ]
  },
  {
   "cell_type": "code",
   "execution_count": null,
   "metadata": {
    "id": "3D6_OmHOZw0u"
   },
   "outputs": [],
   "source": [
    "history = model.fit(x_train, y_train, validation_data=(x_val, y_val), epochs=200, verbose=1)"
   ]
  },
  {
   "cell_type": "code",
   "execution_count": null,
   "metadata": {
    "id": "KGx1dkyDZ5aJ"
   },
   "outputs": [],
   "source": [
    "h1 = go.Scatter(y=history.history['loss'], \n",
    "                    mode=\"lines\",\n",
    "                    line=dict(\n",
    "                        width=2,\n",
    "                        color='blue'),\n",
    "                    name=\"loss\"\n",
    "                   )\n",
    "h2 = go.Scatter(y=history.history['val_loss'], \n",
    "                    mode=\"lines\",\n",
    "                    line=dict(\n",
    "                        width=2,\n",
    "                        color='red'),\n",
    "                    name=\"val_loss\"\n",
    "                   )\n",
    "\n",
    "data = [h1,h2]\n",
    "layout1 = go.Layout(title='Loss',\n",
    "                   xaxis=dict(title='Epochs'),\n",
    "                   yaxis=dict(title=''))\n",
    "fig1 = go.Figure(data = data, layout=layout1)\n",
    "plotly.offline.iplot(fig1, filename='Unrepresentative Validation Dataset')"
   ]
  },
  {
   "cell_type": "code",
   "execution_count": null,
   "metadata": {
    "id": "xymJ9Y6rZ-oZ"
   },
   "outputs": [],
   "source": [
    "h1 = go.Scatter(y=history.history['accuracy'], \n",
    "                    mode=\"lines\",\n",
    "                    line=dict(\n",
    "                        width=2,\n",
    "                        color='blue'),\n",
    "                    name=\"acc\"\n",
    "                   )\n",
    "h2 = go.Scatter(y=history.history['val_accuracy'], \n",
    "                    mode=\"lines\",\n",
    "                    line=dict(\n",
    "                        width=2,\n",
    "                        color='red'),\n",
    "                    name=\"val_acc\"\n",
    "                   )\n",
    "\n",
    "data = [h1,h2]\n",
    "layout1 = go.Layout(title='Accuracy',\n",
    "                   xaxis=dict(title='Epochs'),\n",
    "                   yaxis=dict(title=''))\n",
    "fig1 = go.Figure(data = data, layout=layout1)\n",
    "plotly.offline.iplot(fig1, filename='Unrepresentative Validation Dataset')"
   ]
  },
  {
   "cell_type": "code",
   "execution_count": null,
   "metadata": {},
   "outputs": [],
   "source": []
  }
 ],
 "metadata": {
  "colab": {
   "collapsed_sections": [],
   "name": "PDL_07.ipynb",
   "provenance": []
  },
  "kernelspec": {
   "display_name": "Python 3 (ipykernel)",
   "language": "python",
   "name": "python3"
  },
  "language_info": {
   "codemirror_mode": {
    "name": "ipython",
    "version": 3
   },
   "file_extension": ".py",
   "mimetype": "text/x-python",
   "name": "python",
   "nbconvert_exporter": "python",
   "pygments_lexer": "ipython3",
   "version": "3.9.7"
  }
 },
 "nbformat": 4,
 "nbformat_minor": 1
}
