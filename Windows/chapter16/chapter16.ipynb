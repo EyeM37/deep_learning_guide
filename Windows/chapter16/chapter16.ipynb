{
  "nbformat": 4,
  "nbformat_minor": 0,
  "metadata": {
    "colab": {
      "name": "chapter16.ipynb",
      "provenance": [],
      "collapsed_sections": [],
      "machine_shape": "hm"
    },
    "kernelspec": {
      "name": "python3",
      "display_name": "Python 3"
    },
    "language_info": {
      "name": "python"
    },
    "accelerator": "GPU"
  },
  "cells": [
    {
      "cell_type": "code",
      "execution_count": null,
      "metadata": {
        "id": "biSdiEEu34n5"
      },
      "outputs": [],
      "source": [
        "import numpy as np\n",
        "import pandas as pd\n",
        "\n",
        "import tensorflow as tf\n",
        "\n",
        "ModelCheckpoint = tf.keras.callbacks.ModelCheckpoint\n",
        "load_model = tf.keras.models.load_model\n",
        "\n",
        "from sklearn.model_selection import train_test_split\n",
        "from sklearn.preprocessing import MinMaxScaler\n",
        "import sqlite3\n",
        "\n",
        "import plotly.express as px\n",
        "import plotly\n",
        "import plotly.graph_objs as go\n",
        "\n",
        "import warnings\n",
        "warnings.filterwarnings('ignore')"
      ]
    },
    {
      "cell_type": "code",
      "source": [
        "rating = pd.read_csv('BX-Book-Ratings.csv', sep=';', encoding=\"latin-1\")\n",
        "\n",
        "print(rating.shape)\n",
        "rating.head()"
      ],
      "metadata": {
        "id": "bmSMn6na3-0M"
      },
      "execution_count": null,
      "outputs": []
    },
    {
      "cell_type": "code",
      "source": [
        "user = pd.read_csv('BX-Users.csv', sep=';', encoding=\"latin-1\")\n",
        "\n",
        "print(user.shape)\n",
        "user.head()"
      ],
      "metadata": {
        "id": "UA7I0EU_40vp"
      },
      "execution_count": null,
      "outputs": []
    },
    {
      "cell_type": "code",
      "source": [
        "book = pd.read_csv('BX-Books.csv', sep=';', error_bad_lines=False, encoding=\"latin-1\")\n",
        "\n",
        "print(book.shape)\n",
        "book.head()"
      ],
      "metadata": {
        "id": "wjjxjuaI420F"
      },
      "execution_count": null,
      "outputs": []
    },
    {
      "cell_type": "code",
      "source": [
        "connect = sqlite3.connect('book_rec.db')"
      ],
      "metadata": {
        "id": "tm-dChw-45pX"
      },
      "execution_count": null,
      "outputs": []
    },
    {
      "cell_type": "code",
      "source": [
        "book.to_sql(\"book\", connect, if_exists='fail')\n",
        "user.to_sql(\"user\", connect, if_exists='fail')\n",
        "rating.to_sql(\"rating\", connect, if_exists='fail')"
      ],
      "metadata": {
        "id": "b0-IOrO848v4"
      },
      "execution_count": null,
      "outputs": []
    },
    {
      "cell_type": "code",
      "source": [
        "pip install ipython-sql"
      ],
      "metadata": {
        "id": "lLuhNaJY5AL8"
      },
      "execution_count": null,
      "outputs": []
    },
    {
      "cell_type": "code",
      "source": [
        "%load_ext sql"
      ],
      "metadata": {
        "id": "nfipXR4j9XZ3"
      },
      "execution_count": null,
      "outputs": []
    },
    {
      "cell_type": "code",
      "source": [
        "%sql sqlite:///book_rec.db"
      ],
      "metadata": {
        "id": "XNqhnvZU9bef"
      },
      "execution_count": null,
      "outputs": []
    },
    {
      "cell_type": "code",
      "source": [
        "%sql SELECT * FROM rating LIMIT 5"
      ],
      "metadata": {
        "id": "J9UXd0Qm9gOD"
      },
      "execution_count": null,
      "outputs": []
    },
    {
      "cell_type": "code",
      "source": [
        "%sql SELECT * FROM book LIMIT 5"
      ],
      "metadata": {
        "id": "GSDc6zkp9jBi"
      },
      "execution_count": null,
      "outputs": []
    },
    {
      "cell_type": "code",
      "source": [
        "%sql SELECT * FROM user LIMIT 5"
      ],
      "metadata": {
        "id": "r64juj4t9k5y"
      },
      "execution_count": null,
      "outputs": []
    },
    {
      "cell_type": "code",
      "source": [
        "%%sql\n",
        "CREATE TABLE rating_book AS SELECT rating.\"User-ID\" AS UserID , rating.ISBN, rating.\"Book-Rating\" AS BookRating, book.\"Book-Title\" AS BookTitle\n",
        "FROM rating \n",
        "INNER JOIN book\n",
        "ON rating.ISBN = book.ISBN"
      ],
      "metadata": {
        "id": "wlkDyFZM96ti"
      },
      "execution_count": null,
      "outputs": []
    },
    {
      "cell_type": "code",
      "source": [
        "%%sql\n",
        "SELECT * FROM rating_book LIMIT 5"
      ],
      "metadata": {
        "id": "pmmbKry_99ae"
      },
      "execution_count": null,
      "outputs": []
    },
    {
      "cell_type": "code",
      "source": [
        "%%sql\n",
        "SELECT count(*) FROM rating_book"
      ],
      "metadata": {
        "id": "S3Og8qUD9_9A"
      },
      "execution_count": null,
      "outputs": []
    },
    {
      "cell_type": "code",
      "source": [
        "%%sql\n",
        "CREATE TABLE rating_count AS SELECT \"BookTitle\", count(*) as RatingCountBook FROM rating_book GROUP BY \"BookTitle\""
      ],
      "metadata": {
        "id": "TMG-PSRH-F7O"
      },
      "execution_count": null,
      "outputs": []
    },
    {
      "cell_type": "code",
      "source": [
        "%%sql\n",
        "SELECT * from rating_count limit 5"
      ],
      "metadata": {
        "id": "_hGpuzt2-Isr"
      },
      "execution_count": null,
      "outputs": []
    },
    {
      "cell_type": "code",
      "source": [
        "%%sql\n",
        "SELECT count(*) FROM rating_count"
      ],
      "metadata": {
        "id": "iHmEXROw-KjX"
      },
      "execution_count": null,
      "outputs": []
    },
    {
      "cell_type": "code",
      "source": [
        "rating_coun_threshold = 20"
      ],
      "metadata": {
        "id": "qeS3Uc6i-NAj"
      },
      "execution_count": null,
      "outputs": []
    },
    {
      "cell_type": "code",
      "source": [
        "%%sql\n",
        "CREATE TABLE rating_count_filter AS SELECT * FROM rating_count WHERE RatingCountBook >= :rating_coun_threshold"
      ],
      "metadata": {
        "id": "YHLK7IUY-Qfs"
      },
      "execution_count": null,
      "outputs": []
    },
    {
      "cell_type": "code",
      "source": [
        "%%sql\n",
        "SELECT * FROM rating_count_filter LIMIT 5"
      ],
      "metadata": {
        "id": "CQFfS-hF-Sid"
      },
      "execution_count": null,
      "outputs": []
    },
    {
      "cell_type": "code",
      "source": [
        "%%sql\n",
        "SELECT count(*) FROM rating_count_filter"
      ],
      "metadata": {
        "id": "B2TlPRIg-VMb"
      },
      "execution_count": null,
      "outputs": []
    },
    {
      "cell_type": "code",
      "source": [
        "%%sql\n",
        "CREATE TABLE user_rating AS SELECT rating_book.UserID, rating_book.ISBN, rating_book.BookRating, rating_book.BookTitle, rating_count_filter.RatingCountBook\n",
        "FROM rating_count_filter \n",
        "LEFT JOIN rating_book\n",
        "ON rating_count_filter.BookTitle = rating_book.BookTitle"
      ],
      "metadata": {
        "id": "fVkvTvs_-XXB"
      },
      "execution_count": null,
      "outputs": []
    },
    {
      "cell_type": "code",
      "source": [
        "%%sql\n",
        "SELECT * FROM user_rating LIMIT 5"
      ],
      "metadata": {
        "id": "TKvp8mGu-Zyw"
      },
      "execution_count": null,
      "outputs": []
    },
    {
      "cell_type": "code",
      "source": [
        "%%sql\n",
        "SELECT count(*) FROM user_rating"
      ],
      "metadata": {
        "id": "1Jdk97Oz-cI4"
      },
      "execution_count": null,
      "outputs": []
    },
    {
      "cell_type": "code",
      "source": [
        "%%sql\n",
        "CREATE TABLE user_count AS SELECT UserID, count(*) as RatingCountUser FROM user_rating GROUP BY UserID"
      ],
      "metadata": {
        "id": "3arG8eVq-eml"
      },
      "execution_count": null,
      "outputs": []
    },
    {
      "cell_type": "code",
      "source": [
        "%%sql\n",
        "SELECT * FROM user_count LIMIT 5"
      ],
      "metadata": {
        "id": "EccEema6-hBw"
      },
      "execution_count": null,
      "outputs": []
    },
    {
      "cell_type": "code",
      "source": [
        "%%sql\n",
        "SELECT count(*) FROM user_count"
      ],
      "metadata": {
        "id": "rtlUDcXU-jOG"
      },
      "execution_count": null,
      "outputs": []
    },
    {
      "cell_type": "code",
      "source": [
        "user_count_filter_threshold = 20"
      ],
      "metadata": {
        "id": "byoSpVv0-mB7"
      },
      "execution_count": null,
      "outputs": []
    },
    {
      "cell_type": "code",
      "source": [
        "%%sql\n",
        "CREATE TABLE user_count_filter AS SELECT * FROM user_count WHERE RatingCountUser >= :user_count_filter_threshold"
      ],
      "metadata": {
        "id": "ERwijtU7-oxi"
      },
      "execution_count": null,
      "outputs": []
    },
    {
      "cell_type": "code",
      "source": [
        "%%sql\n",
        "SELECT * FROM user_count_filter LIMIT 5"
      ],
      "metadata": {
        "id": "hdRL4Y0X-tqj"
      },
      "execution_count": null,
      "outputs": []
    },
    {
      "cell_type": "code",
      "source": [
        "%%sql\n",
        "SELECT count(*) FROM user_count_filter"
      ],
      "metadata": {
        "id": "_Pf-ZVVF-vtP"
      },
      "execution_count": null,
      "outputs": []
    },
    {
      "cell_type": "code",
      "source": [
        "%%sql\n",
        "CREATE TABLE combined AS SELECT user_rating.BookTitle, user_rating.RatingCountBook, user_rating.UserID, user_rating.ISBN, user_rating.BookRating, user_count_filter.RatingCountUser\n",
        "FROM user_rating\n",
        "INNER JOIN user_count_filter\n",
        "ON user_rating.UserID = user_count_filter.UserID"
      ],
      "metadata": {
        "id": "IndBYU-Q-yRg"
      },
      "execution_count": null,
      "outputs": []
    },
    {
      "cell_type": "code",
      "source": [
        "%%sql\n",
        "SELECT * FROM combined LIMIT 5"
      ],
      "metadata": {
        "id": "GWW-aosP-2ji"
      },
      "execution_count": null,
      "outputs": []
    },
    {
      "cell_type": "code",
      "source": [
        "%%sql\n",
        "SELECT count(*) FROM combined"
      ],
      "metadata": {
        "id": "YoQez2J4-6UQ"
      },
      "execution_count": null,
      "outputs": []
    },
    {
      "cell_type": "code",
      "source": [
        "%%sql\n",
        "select count(distinct BookTitle) AS NumberOfUniqueBooks\n",
        "FROM combined"
      ],
      "metadata": {
        "id": "XJUvmQ69-98e"
      },
      "execution_count": null,
      "outputs": []
    },
    {
      "cell_type": "code",
      "source": [
        "%%sql\n",
        "select count(distinct UserID) AS NumberOfUniqueUsers\n",
        "FROM combined"
      ],
      "metadata": {
        "id": "UMWZgsQl_EBq"
      },
      "execution_count": null,
      "outputs": []
    },
    {
      "cell_type": "markdown",
      "source": [
        "# **Transform to Dataset**"
      ],
      "metadata": {
        "id": "NCkZJ_cE_I4Y"
      }
    },
    {
      "cell_type": "code",
      "source": [
        "combined = %sql SELECT * FROM combined"
      ],
      "metadata": {
        "id": "DEAjLOlx_FyM"
      },
      "execution_count": null,
      "outputs": []
    },
    {
      "cell_type": "code",
      "source": [
        "combined_df = pd.DataFrame(data = combined, columns = combined.field_names)\n",
        "combined_df.head()"
      ],
      "metadata": {
        "id": "nz6rGBMG_UDt"
      },
      "execution_count": null,
      "outputs": []
    },
    {
      "cell_type": "code",
      "source": [
        "combined_df['BookRating'] = combined_df['BookRating'].values.astype(float)\n",
        "\n",
        "print(combined_df.shape)\n",
        "combined_df.head()"
      ],
      "metadata": {
        "id": "z5kyQWCX_WtM"
      },
      "execution_count": null,
      "outputs": []
    },
    {
      "cell_type": "code",
      "source": [
        "combined_df = combined_df.drop_duplicates(['UserID', 'BookTitle'])\n",
        "print(combined_df.shape)"
      ],
      "metadata": {
        "id": "WQQLKiZM_dYq"
      },
      "execution_count": null,
      "outputs": []
    },
    {
      "cell_type": "code",
      "source": [
        "user_book_matrix = combined_df.pivot(index='UserID', columns='BookTitle', values='BookRating')\n",
        "\n",
        "print(user_book_matrix.shape)\n",
        "user_book_matrix.head()"
      ],
      "metadata": {
        "id": "Wo9Q7IcR_ncv"
      },
      "execution_count": null,
      "outputs": []
    },
    {
      "cell_type": "code",
      "source": [
        "user_book_matrix.fillna(0, inplace=True)\n",
        "user_book_matrix.head()"
      ],
      "metadata": {
        "id": "eua6N-gj_p23"
      },
      "execution_count": null,
      "outputs": []
    },
    {
      "cell_type": "code",
      "source": [
        "users = user_book_matrix.index.tolist()\n",
        "users[0:10]"
      ],
      "metadata": {
        "id": "jiFmJ_VR_uvw"
      },
      "execution_count": null,
      "outputs": []
    },
    {
      "cell_type": "code",
      "source": [
        "books = user_book_matrix.columns.tolist()\n",
        "books[0:10]"
      ],
      "metadata": {
        "id": "GTt4lK1i_yEB"
      },
      "execution_count": null,
      "outputs": []
    },
    {
      "cell_type": "code",
      "source": [
        "user_book_matrix = user_book_matrix.to_numpy()\n",
        "user_book_matrix.shape"
      ],
      "metadata": {
        "id": "Mhuv_kHZ_093"
      },
      "execution_count": null,
      "outputs": []
    },
    {
      "cell_type": "code",
      "source": [
        "x_train, x_val, y_train, y_val = train_test_split(user_book_matrix, user_book_matrix, test_size=0.2, random_state=1)"
      ],
      "metadata": {
        "id": "vzy6AGAF_6Xa"
      },
      "execution_count": null,
      "outputs": []
    },
    {
      "cell_type": "code",
      "source": [
        "t = MinMaxScaler()\n",
        "\n",
        "t.fit(user_book_matrix)\n",
        "x_train = t.transform(x_train)\n",
        "x_val = t.transform(x_val)"
      ],
      "metadata": {
        "id": "sQZJaFoBAGN3"
      },
      "execution_count": null,
      "outputs": []
    },
    {
      "cell_type": "code",
      "source": [
        "print(x_train.min(), x_train.max())\n",
        "print(x_val.min(), x_val.max())"
      ],
      "metadata": {
        "id": "SE8JF97IAIXx"
      },
      "execution_count": null,
      "outputs": []
    },
    {
      "cell_type": "markdown",
      "source": [
        "# **Autoencoder Model**"
      ],
      "metadata": {
        "id": "zgjPUFBoAM3F"
      }
    },
    {
      "cell_type": "code",
      "source": [
        "num_input = len(books)\n",
        "\n",
        "inp = tf.keras.layers.Input((num_input))\n",
        "e = tf.keras.layers.Dense(10)(inp)\n",
        "e = tf.keras.layers.BatchNormalization()(e)\n",
        "e = tf.keras.layers.LeakyReLU()(e)\n",
        "\n",
        "n_bottleneck = 5\n",
        "bottleneck = tf.keras.layers.Dense(n_bottleneck)(e)"
      ],
      "metadata": {
        "id": "wZYfrQWRALP9"
      },
      "execution_count": null,
      "outputs": []
    },
    {
      "cell_type": "code",
      "source": [
        "d = tf.keras.layers.Dense(10)(bottleneck)\n",
        "d = tf.keras.layers.BatchNormalization()(d)\n",
        "d = tf.keras.layers.LeakyReLU()(d)\n",
        "\n",
        "decoded = tf.keras.layers.Dense(num_input, activation='sigmoid')(d)\n",
        "                \n",
        "ae = tf.keras.models.Model(inp, decoded)\n",
        "ae.summary()"
      ],
      "metadata": {
        "id": "soR6vx2TAWDy"
      },
      "execution_count": null,
      "outputs": []
    },
    {
      "cell_type": "code",
      "source": [
        "ae.compile(loss='mse', optimizer='adam')"
      ],
      "metadata": {
        "id": "MsTPfcfwAYN3"
      },
      "execution_count": null,
      "outputs": []
    },
    {
      "cell_type": "code",
      "source": [
        "filename = 'model.h5'\n",
        "checkpoint = ModelCheckpoint(filename, monitor='val_loss', verbose=1, save_best_only=True, mode='min')"
      ],
      "metadata": {
        "id": "-Aow6r8aAjTS"
      },
      "execution_count": null,
      "outputs": []
    },
    {
      "cell_type": "code",
      "source": [
        "history = ae.fit(x_train, x_train, epochs=300, verbose=1, batch_size=32, validation_data=(x_val, x_val), callbacks = [checkpoint], shuffle= True)"
      ],
      "metadata": {
        "id": "vQMo_06uAmYQ"
      },
      "execution_count": null,
      "outputs": []
    },
    {
      "cell_type": "code",
      "source": [
        "h1 = go.Scatter(y=history.history['loss'], \n",
        "                    mode=\"lines\",\n",
        "                    line=dict(\n",
        "                        width=2,\n",
        "                        color='blue'),\n",
        "                        name=\"loss\"\n",
        "                   )\n",
        "h2 = go.Scatter(y=history.history['val_loss'], \n",
        "                    mode=\"lines\",\n",
        "                    line=dict(\n",
        "                        width=2,\n",
        "                        color='red'),\n",
        "                        name=\"val_loss\"\n",
        "                   )\n",
        "\n",
        "data = [h1,h2]\n",
        "layout1 = go.Layout(title='Loss',\n",
        "                   xaxis=dict(title='epochs'),\n",
        "                   yaxis=dict(title=''))\n",
        "fig1 = go.Figure(data = data, layout=layout1)\n",
        "plotly.offline.iplot(fig1)\n"
      ],
      "metadata": {
        "id": "mG5wOCUBAoxE"
      },
      "execution_count": null,
      "outputs": []
    },
    {
      "cell_type": "code",
      "source": [
        "predict_model = load_model(filename) \n",
        "predict_model.summary()"
      ],
      "metadata": {
        "id": "3Hxu3JACA0Hm"
      },
      "execution_count": null,
      "outputs": []
    },
    {
      "cell_type": "code",
      "source": [
        "print(user_book_matrix.shape)\n",
        "preds = predict_model(user_book_matrix)"
      ],
      "metadata": {
        "id": "xEE_ExPUBA3n"
      },
      "execution_count": null,
      "outputs": []
    },
    {
      "cell_type": "code",
      "source": [
        "preds = preds.numpy()\n",
        "\n",
        "pred_data = pd.DataFrame(preds)\n",
        "pred_data.head()"
      ],
      "metadata": {
        "id": "G9fZrt6MBVVd"
      },
      "execution_count": null,
      "outputs": []
    },
    {
      "cell_type": "code",
      "source": [
        "pred_data = pred_data.stack().reset_index()\n",
        "pred_data.head()"
      ],
      "metadata": {
        "id": "T1VGtmmXBYxI"
      },
      "execution_count": null,
      "outputs": []
    },
    {
      "cell_type": "code",
      "source": [
        "pred_data.columns = ['UserID', 'BookTitle', 'BookRating']\n",
        "\n",
        "print(pred_data.shape)\n",
        "pred_data.head()"
      ],
      "metadata": {
        "id": "3wduY4SsBa1Y"
      },
      "execution_count": null,
      "outputs": []
    },
    {
      "cell_type": "code",
      "source": [
        "pred_data['UserID'] = pred_data['UserID'].map(lambda value: users[value])\n",
        "\n",
        "pred_data.head()"
      ],
      "metadata": {
        "id": "MaY29v5IBdtG"
      },
      "execution_count": null,
      "outputs": []
    },
    {
      "cell_type": "code",
      "source": [
        "pred_data['BookTitle'] = pred_data['BookTitle'].map(lambda value: books[value])\n",
        "\n",
        "pred_data.head()"
      ],
      "metadata": {
        "id": "uEyPVtx1BgaU"
      },
      "execution_count": null,
      "outputs": []
    },
    {
      "cell_type": "code",
      "source": [
        "pred_data.to_sql(\"pred_data\", connect, if_exists='fail')"
      ],
      "metadata": {
        "id": "Jphkt7hiB7Vw"
      },
      "execution_count": null,
      "outputs": []
    },
    {
      "cell_type": "markdown",
      "source": [
        "# **Query Top 10 Book Rating**"
      ],
      "metadata": {
        "id": "iSvd4AP8CbdQ"
      }
    },
    {
      "cell_type": "code",
      "source": [
        "%%sql\n",
        "SELECT * \n",
        "FROM pred_data \n",
        "WHERE UserID=243\n",
        "ORDER BY BookRating DESC\n",
        "LIMIT 10"
      ],
      "metadata": {
        "id": "sbXEVUslCgq4"
      },
      "execution_count": null,
      "outputs": []
    },
    {
      "cell_type": "code",
      "source": [
        "%%sql\n",
        "SELECT * \n",
        "FROM rating_book\n",
        "WHERE UserID=243\n",
        "ORDER BY BookRating DESC\n",
        "LIMIT 10"
      ],
      "metadata": {
        "id": "45RszENhCBIu"
      },
      "execution_count": null,
      "outputs": []
    },
    {
      "cell_type": "code",
      "source": [
        ""
      ],
      "metadata": {
        "id": "p8MGniqQCpSK"
      },
      "execution_count": null,
      "outputs": []
    }
  ]
}