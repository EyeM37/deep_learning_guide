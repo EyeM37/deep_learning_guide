{
 "cells": [
  {
   "cell_type": "code",
   "execution_count": null,
   "metadata": {
    "id": "rrPNe06yor8F"
   },
   "outputs": [],
   "source": [
    "import tensorflow as tf\n",
    "fashion_mnist = tf.keras.datasets.fashion_mnist\n",
    "to_categorical = tf.keras.utils.to_categorical\n",
    "\n",
    "import matplotlib.pyplot as plt\n",
    "from sklearn.datasets import make_circles\n",
    "from sklearn.metrics import roc_curve, auc\n",
    "from sklearn.model_selection import train_test_split\n",
    "from sklearn.metrics import confusion_matrix\n",
    "from sklearn.metrics import classification_report\n",
    "\n",
    "import pandas as pd\n",
    "import numpy as np\n",
    "\n",
    "import plotly.express as px\n",
    "import plotly\n",
    "import plotly.graph_objs as go\n",
    "import plotly.figure_factory as ff\n",
    "import seaborn as sn\n",
    "\n",
    "from collections import Counter"
   ]
  },
  {
   "cell_type": "code",
   "execution_count": null,
   "metadata": {
    "id": "HvCETUWoo_5V"
   },
   "outputs": [],
   "source": [
    "x, y =  make_circles(n_samples=5000, noise=0.1, random_state=1)"
   ]
  },
  {
   "cell_type": "code",
   "execution_count": null,
   "metadata": {
    "colab": {
     "base_uri": "https://localhost:8080/"
    },
    "id": "igfxsvJIpIYu",
    "outputId": "0acc5d63-ec81-4b38-a51e-a9cc61c2d6d0"
   },
   "outputs": [],
   "source": [
    "x_train, x_val, y_train, y_val = train_test_split(x, y, test_size=0.5, shuffle= True)\n",
    "x_train.shape, x_val.shape, y_train.shape, y_val.shape"
   ]
  },
  {
   "cell_type": "code",
   "execution_count": null,
   "metadata": {
    "id": "BnmIiJ-rpOq4"
   },
   "outputs": [],
   "source": [
    "x_train_pd = pd.DataFrame(x_train, columns=['x', 'y'])\n",
    "y_train_pd = pd.DataFrame(y_train, columns=['class'], dtype='str')\n",
    "\n",
    "df = pd.concat([x_train_pd, y_train_pd], axis=1)"
   ]
  },
  {
   "cell_type": "code",
   "execution_count": null,
   "metadata": {
    "colab": {
     "base_uri": "https://localhost:8080/",
     "height": 542
    },
    "id": "77qnzYTWpT79",
    "outputId": "4847b3b4-1fce-42a3-852c-37360055a6f0"
   },
   "outputs": [],
   "source": [
    "fig = px.scatter(df, x=\"x\", y=\"y\", color=\"class\")\n",
    "fig.show()"
   ]
  },
  {
   "cell_type": "code",
   "execution_count": null,
   "metadata": {
    "id": "UFZUFCuBpXu5"
   },
   "outputs": [],
   "source": [
    "model = tf.keras.models.Sequential()          \n",
    "model.add(tf.keras.layers.Dense(60, input_dim=2, activation='relu', kernel_initializer='he_uniform'))\n",
    "model.add(tf.keras.layers.Dropout(0.2))\n",
    "model.add(tf.keras.layers.Dense(1, activation='sigmoid'))"
   ]
  },
  {
   "cell_type": "code",
   "execution_count": null,
   "metadata": {
    "id": "POtEYN-Ape1v"
   },
   "outputs": [],
   "source": [
    "opt = tf.keras.optimizers.SGD(learning_rate=0.01, momentum=0.9)\n",
    "model.compile(loss='binary_crossentropy', optimizer=opt, metrics=['accuracy'])"
   ]
  },
  {
   "cell_type": "code",
   "execution_count": null,
   "metadata": {
    "colab": {
     "base_uri": "https://localhost:8080/"
    },
    "id": "Qyov8cpcpi46",
    "outputId": "320359cb-e415-4954-cd07-8a30e6140e2f"
   },
   "outputs": [],
   "source": [
    "his = model.fit(x_train, y_train, validation_data=(x_val, y_val), epochs=2000, verbose=1, batch_size = 256)"
   ]
  },
  {
   "cell_type": "code",
   "execution_count": null,
   "metadata": {
    "id": "7EPz-6xRpycr"
   },
   "outputs": [],
   "source": [
    "h1 = go.Scatter(y=his.history['loss'], \n",
    "                    mode=\"lines\",\n",
    "                    line=dict(\n",
    "                        width=2,\n",
    "                        color='blue'),\n",
    "                        name=\"loss\"\n",
    "                   )\n",
    "h2 = go.Scatter(y=his.history['val_loss'], \n",
    "                    mode=\"lines\",\n",
    "                    line=dict(\n",
    "                        width=2,\n",
    "                        color='red'),\n",
    "                        name=\"val_loss\"\n",
    "                   )\n",
    "\n",
    "data = [h1,h2]\n",
    "layout1 = go.Layout(title='Loss',\n",
    "                   xaxis=dict(title='epochs'),\n",
    "                   yaxis=dict(title=''))\n",
    "fig1 = go.Figure(data = data, layout=layout1)\n",
    "plotly.offline.iplot(fig1)"
   ]
  },
  {
   "cell_type": "code",
   "execution_count": null,
   "metadata": {
    "id": "wABo1S6CqbWs"
   },
   "outputs": [],
   "source": [
    "h1 = go.Scatter(y=his.history['accuracy'], \n",
    "                    mode=\"lines\", line=dict(\n",
    "                    width=2,\n",
    "                    color='blue'),\n",
    "                    name=\"acc\"\n",
    "                   )\n",
    "h2 = go.Scatter(y=his.history['val_accuracy'], \n",
    "                    mode=\"lines\", line=dict(\n",
    "                    width=2,\n",
    "                    color='red'),\n",
    "                    name=\"val_acc\"\n",
    "                   )\n",
    "\n",
    "data = [h1,h2]\n",
    "layout1 = go.Layout(title='Accuracy',\n",
    "                   xaxis=dict(title='epochs'),\n",
    "                   yaxis=dict(title=''))\n",
    "fig1 = go.Figure(data = data, layout=layout1)\n",
    "plotly.offline.iplot(fig1)"
   ]
  },
  {
   "cell_type": "code",
   "execution_count": null,
   "metadata": {
    "id": "pUtDhu1gqdkQ"
   },
   "outputs": [],
   "source": [
    "_, train_acc = model.evaluate(x_train, y_train, verbose=0)\n",
    "_, val_acc = model.evaluate(x_val, y_val, verbose=0)\n",
    "print('Train: %.4f, Validation: %.4f' % (train_acc, val_acc))"
   ]
  },
  {
   "cell_type": "code",
   "execution_count": null,
   "metadata": {
    "id": "xP9XptHOqjPR"
   },
   "outputs": [],
   "source": [
    "c = Counter(y_val)\n",
    "c"
   ]
  },
  {
   "cell_type": "code",
   "execution_count": null,
   "metadata": {
    "id": "NRCnv4e4qlXa"
   },
   "outputs": [],
   "source": [
    "predicted_classes = (model.predict(x_val) > 0.5).astype(\"int32\")[:,0]"
   ]
  },
  {
   "cell_type": "code",
   "execution_count": null,
   "metadata": {
    "id": "EXkA8_WvqoeY"
   },
   "outputs": [],
   "source": [
    "cm = confusion_matrix(y_val, predicted_classes)\n",
    "cm"
   ]
  },
  {
   "cell_type": "code",
   "execution_count": null,
   "metadata": {
    "id": "guh9e-dJqqT6"
   },
   "outputs": [],
   "source": [
    "labels = ['No', 'Yes']"
   ]
  },
  {
   "cell_type": "code",
   "execution_count": null,
   "metadata": {
    "id": "D0AgrIqdqwhR"
   },
   "outputs": [],
   "source": [
    "def cm_plot(cm, labels):\n",
    "    x = labels\n",
    "    y = labels\n",
    "\n",
    "    z_text = [[str(y) for y in x] for x in cm]\n",
    "    fig = ff.create_annotated_heatmap(cm, x=x, y=y, annotation_text=z_text, colorscale='blues')\n",
    "\n",
    "    fig.update_layout(title_text='Confusion Matrix')\n",
    "\n",
    "    fig.add_annotation(dict(font=dict(color=\"black\",size=13),\n",
    "                            x=0.5,\n",
    "                            y=-0.15,\n",
    "                            showarrow=False,\n",
    "                            text=\"Predicted Value\",\n",
    "                            xref=\"paper\",\n",
    "                            yref=\"paper\"\n",
    "                           ))\n",
    "\n",
    "    fig.add_annotation(dict(font=dict(color=\"black\",size=13),\n",
    "                            x=-0.20,\n",
    "                            y=0.5,\n",
    "                            showarrow=False,\n",
    "                            text=\"Real Value\",\n",
    "                            textangle=-90,\n",
    "                            xref=\"paper\",\n",
    "                            yref=\"paper\"\n",
    "                           ))\n",
    "\n",
    "    fig.update_layout(margin=dict(t=50, l=200))\n",
    "    fig['layout']['yaxis']['autorange'] = \"reversed\"\n",
    "\n",
    "    fig['data'][0]['showscale'] = True\n",
    "    fig.show()"
   ]
  },
  {
   "cell_type": "code",
   "execution_count": null,
   "metadata": {
    "id": "Al4GV1AQq0kL"
   },
   "outputs": [],
   "source": [
    "cm_plot(cm, labels)"
   ]
  },
  {
   "cell_type": "code",
   "execution_count": null,
   "metadata": {
    "id": "3C5HDIw4q18h"
   },
   "outputs": [],
   "source": [
    "print(classification_report(y_val, predicted_classes, target_names=labels, digits=4))"
   ]
  },
  {
   "cell_type": "code",
   "execution_count": null,
   "metadata": {
    "id": "4CWvBVH6q4QA"
   },
   "outputs": [],
   "source": [
    "y_score = model.predict(x_val)\n",
    "y_score = y_score[:,0]"
   ]
  },
  {
   "cell_type": "code",
   "execution_count": null,
   "metadata": {
    "id": "pUyjqzL-q6YQ"
   },
   "outputs": [],
   "source": [
    "distribution_df = pd.DataFrame(data={'Score': y_score, 'Class': y_val})\n",
    "distribution_df.head()"
   ]
  },
  {
   "cell_type": "code",
   "execution_count": null,
   "metadata": {
    "id": "hdFjsuQoq7gw"
   },
   "outputs": [],
   "source": [
    "distribution_df.loc[distribution_df['Class'] == 1, 'Class'] = 'Yes'\n",
    "distribution_df.loc[distribution_df['Class'] == 0, 'Class'] = 'No'\n",
    "distribution_df.sample(10)"
   ]
  },
  {
   "cell_type": "code",
   "execution_count": null,
   "metadata": {
    "id": "-_BCzv-Yq9xm"
   },
   "outputs": [],
   "source": [
    "fig = px.histogram(distribution_df, x='Score', color='Class', nbins=50)\n",
    "fig.update_layout(barmode='overlay')\n",
    "fig.update_traces(opacity=0.85)"
   ]
  },
  {
   "cell_type": "code",
   "execution_count": null,
   "metadata": {
    "id": "U4Dd0Pk3rBNW"
   },
   "outputs": [],
   "source": [
    "fpr, tpr, threshold = roc_curve(y_val, y_score)\n",
    "roc_auc = auc(fpr, tpr)"
   ]
  },
  {
   "cell_type": "code",
   "execution_count": null,
   "metadata": {
    "id": "gizWRiWlrCv1"
   },
   "outputs": [],
   "source": [
    "roc_df = pd.DataFrame(data={'False Positive Rate': fpr, 'True Positive Rate': tpr, 'Threshold': threshold})\n",
    "roc_df.head()"
   ]
  },
  {
   "cell_type": "code",
   "execution_count": null,
   "metadata": {
    "id": "LrFUn4pFrElh"
   },
   "outputs": [],
   "source": [
    "def binary_roc_plot(roc_df, roc_auc):\n",
    "    fig = px.area(\n",
    "        data_frame=roc_df, \n",
    "        x='False Positive Rate', \n",
    "        y='True Positive Rate',\n",
    "        hover_data=['Threshold'], \n",
    "        title=f'ROC Curve (AUC={roc_auc:.4f})',\n",
    "        width=700, height=500,\n",
    "    )\n",
    "\n",
    "    fig.add_shape(\n",
    "        type='line', line=dict(dash='dash'),\n",
    "        x0=0, x1=1, y0=0, y1=1\n",
    "    )\n",
    "\n",
    "    hovertemplate = 'False Positive Rate=%{x:.4f}<br>True Positive Rate=%{y:.4f}<br>Threshold=%{customdata[0]:.4f}'\n",
    "    fig.update_traces(hovertemplate=hovertemplate)\n",
    "\n",
    "    fig.show()"
   ]
  },
  {
   "cell_type": "code",
   "execution_count": null,
   "metadata": {
    "id": "4bE0_T_GrIE-"
   },
   "outputs": [],
   "source": [
    "binary_roc_plot(roc_df, roc_auc)"
   ]
  },
  {
   "cell_type": "code",
   "execution_count": null,
   "metadata": {
    "id": "Hhs1oWdurKh2"
   },
   "outputs": [],
   "source": [
    "predicted_classes = (model.predict(x_val) > 0.4516).astype(\"int32\")[:,0]"
   ]
  },
  {
   "cell_type": "code",
   "execution_count": null,
   "metadata": {
    "id": "zPseMR7arNmK"
   },
   "outputs": [],
   "source": [
    "cm = confusion_matrix(y_val, predicted_classes)\n",
    "cm"
   ]
  },
  {
   "cell_type": "code",
   "execution_count": null,
   "metadata": {
    "id": "9QrU3T4irPlG"
   },
   "outputs": [],
   "source": [
    "cm_plot(cm, labels)"
   ]
  },
  {
   "cell_type": "code",
   "execution_count": null,
   "metadata": {
    "id": "hl7nFryWrSEV"
   },
   "outputs": [],
   "source": [
    "print(classification_report(y_val, predicted_classes, target_names=labels, digits=4))"
   ]
  },
  {
   "cell_type": "markdown",
   "metadata": {
    "id": "pOVd3rBDrXK-"
   },
   "source": [
    "# **Multi-Class Classification Evaluation**"
   ]
  },
  {
   "cell_type": "code",
   "execution_count": null,
   "metadata": {
    "id": "wc6a7NigrUlI"
   },
   "outputs": [],
   "source": [
    "IMG_ROWS = 28\n",
    "IMG_COLS = 28\n",
    "NUM_CLASSES = 10\n",
    "VAL_SIZE = 0.2\n",
    "RANDOM_STATE = 99\n",
    "BATCH_SIZE = 256\n",
    "\n",
    "INPUT_SHAPE = (IMG_ROWS, IMG_COLS, 1)"
   ]
  },
  {
   "cell_type": "code",
   "execution_count": null,
   "metadata": {
    "id": "E7HPxbWgra2h"
   },
   "outputs": [],
   "source": [
    "(x_train, y_train), (x_test, y_test) = fashion_mnist.load_data()\n",
    "\n",
    "print(\"Fashion MNIST train -  rows:\",x_train.shape[0],\" columns:\", x_train.shape[1], \" rows:\", x_train.shape[2])\n",
    "print(\"Fashion MNIST test -  rows:\",x_test.shape[0],\" columns:\", x_test.shape[1], \" rows:\", x_test.shape[2])"
   ]
  },
  {
   "cell_type": "code",
   "execution_count": null,
   "metadata": {
    "id": "lOGV3uiircUv"
   },
   "outputs": [],
   "source": [
    "labels = ['T-shirt/top', 'Trouser', 'Pullover', 'Dress', 'Coat', 'Sandal', 'Shirt', 'Sneaker', 'Bag', 'Ankle boot']"
   ]
  },
  {
   "cell_type": "code",
   "execution_count": null,
   "metadata": {
    "id": "uhF1dVCJreJM"
   },
   "outputs": [],
   "source": [
    "for i in range(16):\n",
    "    ax = plt.subplot(4, 4, 1+i)\n",
    "    ax.set_xticks([])\n",
    "    ax.set_yticks([])\n",
    "    ax.set_title('%s'%(labels[y_train[i]]))\n",
    "    plt.imshow(x_train[i], cmap=plt.get_cmap('Blues'))\n",
    "\n",
    "plt.tight_layout()\n",
    "plt.savefig('fashion_mnist.jpeg', dpi=300)"
   ]
  },
  {
   "cell_type": "code",
   "execution_count": null,
   "metadata": {
    "id": "vDArp3Pgrfml"
   },
   "outputs": [],
   "source": [
    "print(x_train.shape, x_test.shape)\n",
    "\n",
    "x_train = x_train.reshape((x_train.shape[0], 28, 28, 1))\n",
    "x_test = x_test.reshape((x_test.shape[0], 28, 28, 1))\n",
    "\n",
    "print(x_train.shape, x_test.shape)"
   ]
  },
  {
   "cell_type": "code",
   "execution_count": null,
   "metadata": {
    "id": "ZWOvnSH6rh_R"
   },
   "outputs": [],
   "source": [
    "x_train = x_train / 255.0\n",
    "x_test = x_test / 255.0"
   ]
  },
  {
   "cell_type": "code",
   "execution_count": null,
   "metadata": {
    "id": "oWv5J9jvrjmk"
   },
   "outputs": [],
   "source": [
    "y_train = to_categorical(y_train, NUM_CLASSES)\n",
    "y_test = to_categorical(y_test, NUM_CLASSES)"
   ]
  },
  {
   "cell_type": "code",
   "execution_count": null,
   "metadata": {
    "id": "DO6m2-IzrmJb"
   },
   "outputs": [],
   "source": [
    "x_train, x_val, y_train, y_val = train_test_split(x_train, y_train, test_size=VAL_SIZE, random_state=RANDOM_STATE)\n",
    "x_train.shape, x_val.shape, y_train.shape, y_val.shape"
   ]
  },
  {
   "cell_type": "code",
   "execution_count": null,
   "metadata": {
    "id": "9itGsMsJrphp"
   },
   "outputs": [],
   "source": [
    "#Feature Extraction\n",
    "model = tf.keras.Sequential()\n",
    "model.add(tf.keras.layers.Conv2D(32, kernel_size=(3, 3), activation='relu', input_shape=INPUT_SHAPE))\n",
    "model.add(tf.keras.layers.Conv2D(64, (3, 3), activation='relu'))\n",
    "model.add(tf.keras.layers.MaxPooling2D(pool_size=(2, 2)))\n",
    "model.add(tf.keras.layers.Dropout(0.25))\n",
    "\n",
    "#Image Classification\n",
    "model.add(tf.keras.layers.Flatten())\n",
    "model.add(tf.keras.layers.Dense(128, activation='relu'))\n",
    "model.add(tf.keras.layers.Dropout(0.5))\n",
    "model.add(tf.keras.layers.Dense(NUM_CLASSES, activation='softmax'))"
   ]
  },
  {
   "cell_type": "code",
   "execution_count": null,
   "metadata": {
    "id": "cv1s5JU1rsFF"
   },
   "outputs": [],
   "source": [
    "optimizer = tf.keras.optimizers.Adam()\n",
    "model.compile(optimizer = optimizer, loss = \"categorical_crossentropy\", metrics=[\"accuracy\"])\n",
    "\n",
    "model.summary()"
   ]
  },
  {
   "cell_type": "code",
   "execution_count": null,
   "metadata": {
    "id": "A07sObvXrt4v"
   },
   "outputs": [],
   "source": [
    "NO_EPOCHS = 15\n",
    "\n",
    "history = model.fit(x_train, y_train,\n",
    "                  batch_size=BATCH_SIZE,\n",
    "                  epochs=NO_EPOCHS,\n",
    "                  verbose=1,\n",
    "                  validation_data=(x_val, y_val))"
   ]
  },
  {
   "cell_type": "code",
   "execution_count": null,
   "metadata": {
    "colab": {
     "base_uri": "https://localhost:8080/",
     "height": 542
    },
    "id": "Xg5F1dhZrwPk",
    "outputId": "e2517b7e-0604-4352-f1ca-73cf526343ac"
   },
   "outputs": [],
   "source": [
    "h1 = go.Scatter(y=history.history['loss'], \n",
    "                    mode=\"lines\",\n",
    "                    line=dict(\n",
    "                        width=2,\n",
    "                        color='blue'),\n",
    "                        name=\"loss\"\n",
    "                   )\n",
    "h2 = go.Scatter(y=history.history['val_loss'], \n",
    "                    mode=\"lines\",\n",
    "                    line=dict(\n",
    "                        width=2,\n",
    "                        color='red'),\n",
    "                        name=\"val_loss\"\n",
    "                   )\n",
    "\n",
    "data = [h1,h2]\n",
    "layout1 = go.Layout(title='Loss',\n",
    "                   xaxis=dict(title='epochs'),\n",
    "                   yaxis=dict(title=''))\n",
    "fig1 = go.Figure(data = data, layout=layout1)\n",
    "plotly.offline.iplot(fig1)"
   ]
  },
  {
   "cell_type": "code",
   "execution_count": null,
   "metadata": {
    "colab": {
     "base_uri": "https://localhost:8080/",
     "height": 542
    },
    "id": "mIGgxhoYrysW",
    "outputId": "2e498905-e0e5-4b62-88b3-51256bf0d845"
   },
   "outputs": [],
   "source": [
    "h1 = go.Scatter(y=history.history['accuracy'], \n",
    "                    mode=\"lines\",\n",
    "                    line=dict(\n",
    "                        width=2,\n",
    "                        color='blue'),\n",
    "                        name=\"acc\"\n",
    "                   )\n",
    "h2 = go.Scatter(y=history.history['val_accuracy'], \n",
    "                    mode=\"lines\",\n",
    "                    line=dict(\n",
    "                        width=2,\n",
    "                        color='red'),\n",
    "                        name=\"val_acc\"\n",
    "                   )\n",
    "\n",
    "data = [h1,h2]\n",
    "layout1 = go.Layout(title='Accuracy',\n",
    "                   xaxis=dict(title='epochs'),\n",
    "                   yaxis=dict(title=''))\n",
    "fig1 = go.Figure(data = data, layout=layout1)\n",
    "plotly.offline.iplot(fig1)"
   ]
  },
  {
   "cell_type": "code",
   "execution_count": null,
   "metadata": {
    "id": "bFVfGBB6r2fY"
   },
   "outputs": [],
   "source": [
    "predicted_classes = model.predict(x_test)\n",
    "predicted_classes = np.argmax(predicted_classes, axis=1)"
   ]
  },
  {
   "cell_type": "code",
   "execution_count": null,
   "metadata": {
    "id": "LupWJ8UVr3S7"
   },
   "outputs": [],
   "source": [
    "y_true = np.argmax(y_test, axis=1)"
   ]
  },
  {
   "cell_type": "code",
   "execution_count": null,
   "metadata": {
    "colab": {
     "base_uri": "https://localhost:8080/"
    },
    "id": "k_ZazpMwr5pg",
    "outputId": "3ecf966c-e817-423c-e849-0b23dbd2da99"
   },
   "outputs": [],
   "source": [
    "c = Counter(y_true)\n",
    "c"
   ]
  },
  {
   "cell_type": "code",
   "execution_count": null,
   "metadata": {
    "colab": {
     "base_uri": "https://localhost:8080/"
    },
    "id": "e-lq-k32r6s1",
    "outputId": "0b4f40f6-ab1f-4bc7-cb11-1ba3bcd46466"
   },
   "outputs": [],
   "source": [
    "cm = confusion_matrix(y_true, predicted_classes)\n",
    "cm"
   ]
  },
  {
   "cell_type": "code",
   "execution_count": null,
   "metadata": {
    "colab": {
     "base_uri": "https://localhost:8080/",
     "height": 542
    },
    "id": "FeyvmR5rr8CS",
    "outputId": "6ec1317c-aeff-456f-aa70-38d3f8497bfe"
   },
   "outputs": [],
   "source": [
    "cm_plot(cm, labels)"
   ]
  },
  {
   "cell_type": "code",
   "execution_count": null,
   "metadata": {
    "colab": {
     "base_uri": "https://localhost:8080/"
    },
    "id": "dS1muOH2r-QK",
    "outputId": "c34931c8-b210-4a29-fbc0-c8ac27ec3570"
   },
   "outputs": [],
   "source": [
    "print(classification_report(y_true, predicted_classes, target_names=labels, digits=4))"
   ]
  },
  {
   "cell_type": "code",
   "execution_count": null,
   "metadata": {
    "colab": {
     "base_uri": "https://localhost:8080/"
    },
    "id": "tUb3AbXTsCZf",
    "outputId": "6a735919-e250-475a-e3ea-1a86f942ed37"
   },
   "outputs": [],
   "source": [
    "predicted_score = model.predict(x_test)\n",
    "predicted_score.shape, y_test.shape"
   ]
  },
  {
   "cell_type": "code",
   "execution_count": null,
   "metadata": {
    "colab": {
     "base_uri": "https://localhost:8080/",
     "height": 542
    },
    "id": "I7C0DQkzsD1D",
    "outputId": "98beba8b-8793-4597-d0de-8d9e1ba17946"
   },
   "outputs": [],
   "source": [
    "hovertemplate = 'False Positive Rate=%{x:.4f}<br>True Positive Rate=%{y:.4f}<br>Threshold=%{text:.4f}'\n",
    "fig = go.Figure()\n",
    "fig.add_shape(\n",
    "    type='line', line=dict(dash='dash'),\n",
    "    x0=0, x1=1, y0=0, y1=1\n",
    ")\n",
    "\n",
    "for i in range(predicted_score.shape[1]):\n",
    "    y_real = y_test[:, i]\n",
    "    y_score = predicted_score[:, i]\n",
    "\n",
    "    fpr, tpr, threshold = roc_curve(y_real, y_score)\n",
    "    auc_score = auc(fpr, tpr)\n",
    "\n",
    "    name = f\"{labels[i]}, AUC={auc_score:.4f}\"\n",
    "    fig.add_trace(go.Scatter(x=fpr, y=tpr, name=name, mode='lines', text=threshold, hovertemplate=hovertemplate))\n",
    "\n",
    "fig.update_layout(\n",
    "    title='ROC Curve and AUC',\n",
    "    xaxis_title='False Positive Rate',\n",
    "    yaxis_title='True Positive Rate',\n",
    ")\n",
    "\n",
    "fig.show()"
   ]
  },
  {
   "cell_type": "code",
   "execution_count": null,
   "metadata": {
    "colab": {
     "base_uri": "https://localhost:8080/"
    },
    "id": "MrTZqO58sGLR",
    "outputId": "cdf77893-0728-42fb-c764-ca4a614a1184"
   },
   "outputs": [],
   "source": [
    "y_true, predicted_classes"
   ]
  },
  {
   "cell_type": "code",
   "execution_count": null,
   "metadata": {
    "colab": {
     "base_uri": "https://localhost:8080/"
    },
    "id": "T2G8l0sTsH2v",
    "outputId": "e6c807bf-da3f-4e15-bea6-a59c5cc3b195"
   },
   "outputs": [],
   "source": [
    "false_predict = y_true!=predicted_classes\n",
    "\n",
    "class6 = y_true==6\n",
    "\n",
    "false_predict_class6 = class6 & false_predict\n",
    "\n",
    "Counter(false_predict_class6)"
   ]
  },
  {
   "cell_type": "code",
   "execution_count": null,
   "metadata": {
    "id": "HSDb2O2asJdt"
   },
   "outputs": [],
   "source": [
    "class6_img = x_test[false_predict_class6]\n",
    "class6_y = predicted_classes[false_predict_class6]\n",
    "false_predict_labels = [labels[class_num] for class_num in class6_y]"
   ]
  },
  {
   "cell_type": "code",
   "execution_count": null,
   "metadata": {
    "colab": {
     "base_uri": "https://localhost:8080/",
     "height": 297
    },
    "id": "6XWeubDRsLOk",
    "outputId": "bb13629a-5f1d-4e15-b711-241426330afd"
   },
   "outputs": [],
   "source": [
    "for i in range(16):\n",
    "    ax = plt.subplot(4, 4, 1+i)\n",
    "\n",
    "    ax.set_xticks([])\n",
    "    ax.set_yticks([])\n",
    "    ax.set_title('%s'%(false_predict_labels[i]), color='red')\n",
    "    img = class6_img[i].reshape(class6_img[i].shape[0], class6_img[i].shape[1])\n",
    "    plt.imshow(img, cmap=plt.get_cmap('Blues'))\n",
    "\n",
    "plt.tight_layout()\n",
    "plt.savefig('class6_fashion_mnist.jpeg', dpi=300)"
   ]
  },
  {
   "cell_type": "code",
   "execution_count": null,
   "metadata": {
    "id": "plQWO6OksM2Q"
   },
   "outputs": [],
   "source": []
  }
 ],
 "metadata": {
  "accelerator": "GPU",
  "colab": {
   "collapsed_sections": [],
   "machine_shape": "hm",
   "name": "PDL_12.ipynb",
   "provenance": []
  },
  "kernelspec": {
   "display_name": "Python 3 (ipykernel)",
   "language": "python",
   "name": "python3"
  },
  "language_info": {
   "codemirror_mode": {
    "name": "ipython",
    "version": 3
   },
   "file_extension": ".py",
   "mimetype": "text/x-python",
   "name": "python",
   "nbconvert_exporter": "python",
   "pygments_lexer": "ipython3",
   "version": "3.9.7"
  }
 },
 "nbformat": 4,
 "nbformat_minor": 1
}
