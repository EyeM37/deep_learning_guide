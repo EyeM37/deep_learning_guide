{
 "cells": [
  {
   "cell_type": "markdown",
   "metadata": {
    "id": "pBl6vx5rPbus"
   },
   "source": [
    "# **Example 1**"
   ]
  },
  {
   "cell_type": "code",
   "execution_count": null,
   "metadata": {
    "id": "eRjHvRVzNzsw"
   },
   "outputs": [],
   "source": [
    "import tensorflow as tf\n",
    "mnist = tf.keras.datasets.mnist\n",
    "\n",
    "from sklearn.model_selection import train_test_split\n",
    "from sklearn.manifold import TSNE\n",
    "from sklearn.datasets import make_regression\n",
    "from sklearn.preprocessing import StandardScaler\n",
    "from sklearn.datasets import load_boston\n",
    "\n",
    "import pandas as pd\n",
    "\n",
    "import plotly.express as px\n",
    "import plotly\n",
    "import plotly.graph_objs as go\n",
    "\n",
    "import seaborn as sns\n",
    "import matplotlib.pyplot as plt\n",
    "\n",
    "import numpy as np"
   ]
  },
  {
   "cell_type": "code",
   "execution_count": null,
   "metadata": {},
   "outputs": [],
   "source": [
    "gpus = tf.config.experimental.list_physical_devices('GPU')\n",
    "if gpus:\n",
    "    try:\n",
    "        for gpu in gpus:\n",
    "            tf.config.experimental.set_memory_growth(gpu, True)\n",
    "        logical_gpus = tf.config.experimental.list_logical_devices('GPU')\n",
    "        print(len(gpus), 'Physical GPUs,', len(logical_gpus), 'Logical GPUs')\n",
    "    except RuntimeError as e:\n",
    "        print(e)"
   ]
  },
  {
   "cell_type": "code",
   "execution_count": null,
   "metadata": {
    "id": "fA4PuFASOTzD"
   },
   "outputs": [],
   "source": [
    "x, y = make_regression(n_samples=3000, n_features=10, noise=0.2, random_state=1)\n",
    "x.shape, y.shape"
   ]
  },
  {
   "cell_type": "code",
   "execution_count": null,
   "metadata": {
    "id": "fSeQ1yuQOWV7"
   },
   "outputs": [],
   "source": [
    "x = StandardScaler().fit_transform(x)\n",
    "y = StandardScaler().fit_transform(y.reshape(len(y),1))[:,0]"
   ]
  },
  {
   "cell_type": "code",
   "execution_count": null,
   "metadata": {
    "id": "szisxJUiOZYU"
   },
   "outputs": [],
   "source": [
    "x_train, x_val, y_train, y_val = train_test_split(x, y, test_size=0.5, shuffle= True)\n",
    "x_train.shape, x_val.shape, y_train.shape, y_val.shape"
   ]
  },
  {
   "cell_type": "code",
   "execution_count": null,
   "metadata": {
    "id": "oG932CpBOcBs"
   },
   "outputs": [],
   "source": [
    "x_embedded = TSNE(n_components=1, random_state=99, verbose=1, perplexity=40, n_iter=5000).fit_transform(x_train)\n",
    "x_embedded.shape"
   ]
  },
  {
   "cell_type": "code",
   "execution_count": null,
   "metadata": {
    "id": "YX7dvyMPOgAK"
   },
   "outputs": [],
   "source": [
    "x_train_pd = pd.DataFrame(x_embedded, columns=['x'])\n",
    "y_train_pd = pd.DataFrame(y_train, columns=['y'])"
   ]
  },
  {
   "cell_type": "code",
   "execution_count": null,
   "metadata": {
    "id": "0-fEP8G7Olqe"
   },
   "outputs": [],
   "source": [
    "df = pd.concat([x_train_pd, y_train_pd], axis=1)"
   ]
  },
  {
   "cell_type": "code",
   "execution_count": null,
   "metadata": {
    "id": "tPIP4E3pOnPw"
   },
   "outputs": [],
   "source": [
    "fig = px.scatter(df, x='x', y='y')\n",
    "fig.show()"
   ]
  },
  {
   "cell_type": "code",
   "execution_count": null,
   "metadata": {
    "id": "epWlv0OMOogF"
   },
   "outputs": [],
   "source": [
    "model = tf.keras.Sequential()\n",
    "\n",
    "model.add(tf.keras.layers.Dense(20, input_dim=10, activation='relu', kernel_initializer='he_uniform'))\n",
    "model.add(tf.keras.layers.Dense(1, activation='linear'))"
   ]
  },
  {
   "cell_type": "markdown",
   "metadata": {
    "id": "gZk5t7nhO1tv"
   },
   "source": [
    "**Compile Model โดยกำหนด Loss Function เป็น Mean Squared Error**"
   ]
  },
  {
   "cell_type": "code",
   "execution_count": null,
   "metadata": {
    "id": "_yVkHu7rOxpU"
   },
   "outputs": [],
   "source": [
    "opt = tf.keras.optimizers.SGD(learning_rate=0.01, momentum=0.9)\n",
    "model.compile(loss='mean_squared_error', optimizer=opt)"
   ]
  },
  {
   "cell_type": "code",
   "execution_count": null,
   "metadata": {
    "id": "LZznqetpO6MR"
   },
   "outputs": [],
   "source": [
    "history = model.fit(x_train, y_train, validation_data=(x_val, y_val), epochs=100, verbose=1)"
   ]
  },
  {
   "cell_type": "code",
   "execution_count": null,
   "metadata": {
    "id": "nKHqRf-mPAjE"
   },
   "outputs": [],
   "source": [
    "h1 = go.Scatter(y=history.history['loss'], \n",
    "                    mode=\"lines\",\n",
    "                    line=dict(\n",
    "                        width=2,\n",
    "                        color='blue'),\n",
    "                        name=\"loss\"\n",
    "                   )\n",
    "h2 = go.Scatter(y=history.history['val_loss'], \n",
    "                    mode=\"lines\",\n",
    "                    line=dict(\n",
    "                        width=2,\n",
    "                        color='red'),\n",
    "                        name=\"val_loss\"\n",
    "                   )\n",
    "\n",
    "data = [h1,h2]\n",
    "layout1 = go.Layout(title='Loss',\n",
    "                   xaxis=dict(title='epochs'),\n",
    "                   yaxis=dict(title=''))\n",
    "fig1 = go.Figure(data = data, layout=layout1)\n",
    "plotly.offline.iplot(fig1)"
   ]
  },
  {
   "cell_type": "code",
   "execution_count": null,
   "metadata": {
    "id": "I__amD75PFUk"
   },
   "outputs": [],
   "source": [
    "train_mse = model.evaluate(x_train, y_train, verbose=0)\n",
    "val_mse = model.evaluate(x_val, y_val, verbose=0)\n",
    "print('Train: %.5f, Validation: %.5f' % (train_mse, val_mse))"
   ]
  },
  {
   "cell_type": "markdown",
   "metadata": {
    "id": "uhgZxe7nPiNh"
   },
   "source": [
    "# **Example 2 : Mean Squared Logarithmic Error Loss**"
   ]
  },
  {
   "cell_type": "code",
   "execution_count": null,
   "metadata": {
    "id": "RiERVfMIPJRr"
   },
   "outputs": [],
   "source": [
    "boston_dataset = load_boston()\n",
    "boston_dataset.keys()"
   ]
  },
  {
   "cell_type": "code",
   "execution_count": null,
   "metadata": {
    "id": "BGNXGoTmPsuQ"
   },
   "outputs": [],
   "source": [
    "boston = pd.DataFrame(boston_dataset.data, columns=boston_dataset.feature_names)\n",
    "boston.head()"
   ]
  },
  {
   "cell_type": "code",
   "execution_count": null,
   "metadata": {
    "id": "HEenK7DvQDh6"
   },
   "outputs": [],
   "source": [
    "boston['PRICE'] = boston_dataset.target\n",
    "boston.head()"
   ]
  },
  {
   "cell_type": "code",
   "execution_count": null,
   "metadata": {
    "id": "A22ZJu6SQHQG"
   },
   "outputs": [],
   "source": [
    "sns.set(rc={'figure.figsize':(11,8)})\n",
    "sns.histplot(boston['PRICE'], bins=30, kde=True)\n",
    "plt.show()"
   ]
  },
  {
   "cell_type": "code",
   "execution_count": null,
   "metadata": {
    "id": "jDMasx17QJf7"
   },
   "outputs": [],
   "source": [
    "correlation_matrix = boston.corr().round(3)\n",
    "\n",
    "sns.heatmap(data=correlation_matrix, annot=True)\n",
    "plt.savefig('correlation_matrix.jpeg', dpi=300)"
   ]
  },
  {
   "cell_type": "code",
   "execution_count": null,
   "metadata": {
    "id": "lg9snNgJQNxC"
   },
   "outputs": [],
   "source": [
    "plt.figure(figsize=(25, 10))\n",
    "\n",
    "features = ['RM', 'LSTAT']\n",
    "target = boston['PRICE']\n",
    "\n",
    "for i, col in enumerate(features):\n",
    "    plt.subplot(1, len(features) , i+1)\n",
    "    x = boston[col]\n",
    "    y = target\n",
    "    plt.scatter(x, y, marker='o')\n",
    "    plt.title(col)\n",
    "    plt.xlabel(col)\n",
    "    plt.ylabel('PRICE')\n",
    "\n",
    "plt.savefig('scatter.jpeg', dpi=300)"
   ]
  },
  {
   "cell_type": "code",
   "execution_count": null,
   "metadata": {
    "id": "Jk8Z9xvtQRqz"
   },
   "outputs": [],
   "source": [
    "x = pd.DataFrame(np.c_[boston['LSTAT'], boston['RM']], columns = ['LSTAT','RM'])\n",
    "y = boston['PRICE']\n",
    "\n",
    "x.shape, y.shape"
   ]
  },
  {
   "cell_type": "code",
   "execution_count": null,
   "metadata": {
    "id": "Iiu7M00eQUI8"
   },
   "outputs": [],
   "source": [
    "x_train, x_val, y_train, y_val = train_test_split(x, y, test_size = 0.2, random_state=5)\n",
    "x_train.shape, x_val.shape, y_train.shape, y_val.shape"
   ]
  },
  {
   "cell_type": "code",
   "execution_count": null,
   "metadata": {
    "id": "jtVoZJZJQWQn"
   },
   "outputs": [],
   "source": [
    "model = tf.keras.Sequential()\n",
    "model.add(tf.keras.layers.Dense(20, input_dim=2, activation='relu', kernel_initializer='he_uniform'))\n",
    "model.add(tf.keras.layers.Dense(1, activation='linear'))"
   ]
  },
  {
   "cell_type": "code",
   "execution_count": null,
   "metadata": {
    "id": "bIw0rtPsQYH7"
   },
   "outputs": [],
   "source": [
    "opt = tf.keras.optimizers.SGD(learning_rate=0.001, momentum=0.9)\n",
    "model.compile(loss='mean_squared_error', optimizer=opt)"
   ]
  },
  {
   "cell_type": "code",
   "execution_count": null,
   "metadata": {
    "id": "28jr9izEQaXe"
   },
   "outputs": [],
   "source": [
    "history = model.fit(x_train, y_train, validation_data=(x_val, y_val), epochs=200, verbose=1)"
   ]
  },
  {
   "cell_type": "code",
   "execution_count": null,
   "metadata": {
    "id": "7jcpgsS9RHUH"
   },
   "outputs": [],
   "source": [
    "h1 = go.Scatter(y=history.history['loss'], \n",
    "                    mode=\"lines\",\n",
    "                    line=dict(\n",
    "                        width=2,\n",
    "                        color='blue'),\n",
    "                        name=\"loss\"\n",
    "                   )\n",
    "h2 = go.Scatter(y=history.history['val_loss'], \n",
    "                    mode=\"lines\",\n",
    "                    line=dict(\n",
    "                        width=2,\n",
    "                        color='red'),\n",
    "                        name=\"val_loss\"\n",
    "                   )\n",
    "\n",
    "data = [h1,h2]\n",
    "layout1 = go.Layout(title='Loss',\n",
    "                   xaxis=dict(title='epochs'),\n",
    "                   yaxis=dict(title=''))\n",
    "fig1 = go.Figure(data = data, layout=layout1)\n",
    "plotly.offline.iplot(fig1)"
   ]
  },
  {
   "cell_type": "code",
   "execution_count": null,
   "metadata": {
    "id": "4Zz_rXp2RL7d"
   },
   "outputs": [],
   "source": [
    "train_mse = model.evaluate(x_train, y_train, verbose=0)\n",
    "val_mse = model.evaluate(x_val, y_val, verbose=0)\n",
    "print('Train: %.5f, Validation: %.5f' % (train_mse, val_mse))"
   ]
  },
  {
   "cell_type": "code",
   "execution_count": null,
   "metadata": {
    "id": "QGs4H5C9RO0l"
   },
   "outputs": [],
   "source": [
    "model = tf.keras.Sequential()\n",
    "model.add(tf.keras.layers.Dense(20, input_dim=2, activation='relu', kernel_initializer='he_uniform'))\n",
    "model.add(tf.keras.layers.Dense(1, activation='linear'))"
   ]
  },
  {
   "cell_type": "code",
   "execution_count": null,
   "metadata": {
    "id": "TvDo0gr3RSHb"
   },
   "outputs": [],
   "source": [
    "opt = tf.keras.optimizers.SGD(learning_rate=0.001, momentum=0.9)\n",
    "model.compile(loss='mean_squared_logarithmic_error', optimizer=opt, metrics=['mse'])"
   ]
  },
  {
   "cell_type": "code",
   "execution_count": null,
   "metadata": {
    "id": "WEK9mWp4RY0E"
   },
   "outputs": [],
   "source": [
    "history = model.fit(x_train, y_train, validation_data=(x_val, y_val), epochs=200, verbose=1)"
   ]
  },
  {
   "cell_type": "code",
   "execution_count": null,
   "metadata": {
    "id": "M6hWx5YrRbG1"
   },
   "outputs": [],
   "source": [
    "h1 = go.Scatter(y=history.history['loss'], \n",
    "                    mode=\"lines\",\n",
    "                    line=dict(\n",
    "                        width=2,\n",
    "                        color='blue'),\n",
    "                        name=\"loss\"\n",
    "                   )\n",
    "h2 = go.Scatter(y=history.history['val_loss'], \n",
    "                    mode=\"lines\",\n",
    "                    line=dict(\n",
    "                        width=2,\n",
    "                        color='red'),\n",
    "                        name=\"val_loss\"\n",
    "                   )\n",
    "\n",
    "data = [h1,h2]\n",
    "layout1 = go.Layout(title='Loss',\n",
    "                   xaxis=dict(title='epochs'),\n",
    "                   yaxis=dict(title=''))\n",
    "fig1 = go.Figure(data = data, layout=layout1)\n",
    "plotly.offline.iplot(fig1)"
   ]
  },
  {
   "cell_type": "code",
   "execution_count": null,
   "metadata": {
    "id": "pHVOK9LkSVly"
   },
   "outputs": [],
   "source": [
    "train_msle = model.evaluate(x_train, y_train, verbose=0)\n",
    "val_msle = model.evaluate(x_val, y_val, verbose=0)\n",
    "print('MSLE Train: %.5f, Validation: %.5f' % (train_msle[0], val_msle[0]))\n",
    "print('MSE Train: %.5f, Validation: %.5f' % (train_msle[1], val_msle[1]))"
   ]
  },
  {
   "cell_type": "markdown",
   "metadata": {
    "id": "yqEKntynTYlI"
   },
   "source": [
    "## **Example 3**"
   ]
  },
  {
   "cell_type": "code",
   "execution_count": null,
   "metadata": {
    "id": "XR2cOhoWTbhr"
   },
   "outputs": [],
   "source": [
    "(train_images, train_labels), (test_images, test_labels) = mnist.load_data()\n",
    "train_images = train_images.reshape((60000, 28, 28, 1))\n",
    "test_images = test_images.reshape((10000, 28, 28, 1))\n",
    "\n",
    "train_images, test_images = train_images / 255.0, test_images / 255.0"
   ]
  },
  {
   "cell_type": "code",
   "execution_count": null,
   "metadata": {
    "id": "cXQBky4gT1G7"
   },
   "outputs": [],
   "source": [
    "for i in range(9):\n",
    "    plt.subplot(3, 3, 1 + i)    \n",
    "    img = train_images[i].reshape(train_images[0].shape[0], train_images[0].shape[1])\n",
    "    plt.axis('off')\n",
    "    plt.imshow(img, cmap=plt.get_cmap('gray'))"
   ]
  },
  {
   "cell_type": "code",
   "execution_count": null,
   "metadata": {
    "id": "1ztUqPAHT4n8"
   },
   "outputs": [],
   "source": [
    "noise_factor = 0.5\n",
    "x_train_noisy = train_images + noise_factor * np.random.normal(loc=0.0, scale=1.0, size=train_images.shape) \n",
    "x_test_noisy = test_images + noise_factor * np.random.normal(loc=0.0, scale=1.0, size=test_images.shape) \n",
    "\n",
    "x_train_noisy = np.clip(x_train_noisy, 0., 1.)\n",
    "x_test_noisy = np.clip(x_test_noisy, 0., 1.)"
   ]
  },
  {
   "cell_type": "code",
   "execution_count": null,
   "metadata": {
    "id": "8qY857u_T_Th"
   },
   "outputs": [],
   "source": [
    "for i in range(9):\n",
    "    plt.subplot(3, 3, 1 + i)    \n",
    "    \n",
    "    img = x_train_noisy[i].reshape(x_train_noisy[0].shape[0], x_train_noisy[0].shape[1])\n",
    "    plt.axis('off')\n",
    "    plt.imshow(img, cmap=plt.get_cmap('gray'))"
   ]
  },
  {
   "cell_type": "code",
   "execution_count": null,
   "metadata": {
    "id": "pdRP5qJZUA8X"
   },
   "outputs": [],
   "source": [
    "#Encoder\n",
    "inp = tf.keras.layers.Input((28, 28,1))\n",
    "e = tf.keras.layers.Conv2D(32, (3, 3), activation='relu')(inp)\n",
    "e = tf.keras.layers.BatchNormalization()(e)\n",
    "\n",
    "e = tf.keras.layers.MaxPooling2D((2, 2))(e)\n",
    "e = tf.keras.layers.Conv2D(64, (3, 3), activation='relu')(e)\n",
    "e = tf.keras.layers.BatchNormalization()(e)\n",
    "\n",
    "e = tf.keras.layers.MaxPooling2D((2, 2))(e)\n",
    "e = tf.keras.layers.Conv2D(64, (3, 3), activation='relu')(e)\n",
    "e = tf.keras.layers.BatchNormalization()(e)\n",
    "\n",
    "l = tf.keras.layers.Flatten()(e)\n",
    "l = tf.keras.layers.Dense(49, activation='relu')(l)"
   ]
  },
  {
   "cell_type": "code",
   "execution_count": null,
   "metadata": {
    "id": "456YNdDuUJ0L"
   },
   "outputs": [],
   "source": [
    "#DECODER\n",
    "d = tf.keras.layers.Reshape((7,7,1))(l)\n",
    "d = tf.keras.layers.Conv2DTranspose(64,(3, 3), strides=2, activation='relu', padding='same')(d)\n",
    "d = tf.keras.layers.BatchNormalization()(d)\n",
    "d = tf.keras.layers.Conv2DTranspose(64,(3, 3), strides=2, activation='relu', padding='same')(d)\n",
    "d = tf.keras.layers.BatchNormalization()(d)\n",
    "d = tf.keras.layers.Conv2DTranspose(32,(3, 3), activation='relu', padding='same')(d)\n",
    "decoded = tf.keras.layers.Conv2D(1, (3, 3), activation='sigmoid', padding='same')(d)\n",
    "ae = tf.keras.Model(inp, decoded)\n",
    "\n",
    "ae.summary()"
   ]
  },
  {
   "cell_type": "code",
   "execution_count": null,
   "metadata": {
    "id": "812iDEdQULyf"
   },
   "outputs": [],
   "source": [
    "ae.compile(optimizer='adam', loss='mse')"
   ]
  },
  {
   "cell_type": "code",
   "execution_count": null,
   "metadata": {
    "id": "PP5-iIxUUOrX"
   },
   "outputs": [],
   "source": [
    "ae.fit(x_train_noisy, train_images, epochs=2, verbose=1)"
   ]
  },
  {
   "cell_type": "code",
   "execution_count": null,
   "metadata": {
    "id": "4qXwh-IgUS9-"
   },
   "outputs": [],
   "source": [
    "test_prediction = ae.predict(x_test_noisy, verbose=1, batch_size=100)"
   ]
  },
  {
   "cell_type": "code",
   "execution_count": null,
   "metadata": {
    "id": "EXjlmFN7UuUE"
   },
   "outputs": [],
   "source": [
    "for i in range(9):\n",
    "    plt.subplot(3, 3, 1 + i)    \n",
    "    \n",
    "    img = x_test_noisy[i].reshape(x_test_noisy[0].shape[0], x_test_noisy[0].shape[1])\n",
    "    plt.axis('off')\n",
    "    plt.imshow(img, cmap=plt.get_cmap('gray'))"
   ]
  },
  {
   "cell_type": "code",
   "execution_count": null,
   "metadata": {
    "id": "chMNY8LlUyrk"
   },
   "outputs": [],
   "source": [
    "for i in range(9):\n",
    "    plt.subplot(3, 3, 1 + i)    \n",
    "    \n",
    "    x = test_prediction[i].reshape(28,28)\n",
    "    plt.axis('off')\n",
    "    plt.imshow(x, cmap=plt.get_cmap('gray'))"
   ]
  },
  {
   "cell_type": "code",
   "execution_count": null,
   "metadata": {
    "id": "EzyFfUdKU1FZ"
   },
   "outputs": [],
   "source": [
    "#Encoder\n",
    "inp = tf.keras.layers.Input((28, 28,1))\n",
    "e = tf.keras.layers.Conv2D(32, (3, 3), activation='relu')(inp)\n",
    "e = tf.keras.layers.BatchNormalization()(e)\n",
    "\n",
    "e = tf.keras.layers.MaxPooling2D((2, 2))(e)\n",
    "e = tf.keras.layers.Conv2D(64, (3, 3), activation='relu')(e)\n",
    "e = tf.keras.layers.BatchNormalization()(e)\n",
    "\n",
    "e = tf.keras.layers.MaxPooling2D((2, 2))(e)\n",
    "e = tf.keras.layers.Conv2D(64, (3, 3), activation='relu')(e)\n",
    "e = tf.keras.layers.BatchNormalization()(e)\n",
    "\n",
    "l = tf.keras.layers.Flatten()(e)\n",
    "l = tf.keras.layers.Dense(49, activation='relu')(l)"
   ]
  },
  {
   "cell_type": "code",
   "execution_count": null,
   "metadata": {
    "id": "jDyfiPqjU_mK"
   },
   "outputs": [],
   "source": [
    "#Decoder\n",
    "d = tf.keras.layers.Reshape((7,7,1))(l)\n",
    "d = tf.keras.layers.Conv2DTranspose(64,(3, 3), strides=2, activation='relu', padding='same')(d)\n",
    "d = tf.keras.layers.BatchNormalization()(d)\n",
    "d = tf.keras.layers.Conv2DTranspose(64,(3, 3), strides=2, activation='relu', padding='same')(d)\n",
    "d = tf.keras.layers.BatchNormalization()(d)\n",
    "d = tf.keras.layers.Conv2DTranspose(32,(3, 3), activation='relu', padding='same')(d)\n",
    "decoded = tf.keras.layers.Conv2D(1, (3, 3), activation='sigmoid', padding='same')(d)\n",
    "ae = tf.keras.Model(inp, decoded)"
   ]
  },
  {
   "cell_type": "code",
   "execution_count": null,
   "metadata": {
    "id": "cZH4pqPBVO7d"
   },
   "outputs": [],
   "source": [
    "ae.compile(optimizer=\"adam\", loss=\"mae\")"
   ]
  },
  {
   "cell_type": "code",
   "execution_count": null,
   "metadata": {
    "id": "u2mYgVCeVQ4n"
   },
   "outputs": [],
   "source": [
    "ae.fit(x_train_noisy, train_images, epochs=2, verbose=1)"
   ]
  },
  {
   "cell_type": "code",
   "execution_count": null,
   "metadata": {
    "id": "Dy6ixpFsVVpg"
   },
   "outputs": [],
   "source": [
    "test_prediction = ae.predict(x_test_noisy, verbose=1, batch_size=100)"
   ]
  },
  {
   "cell_type": "code",
   "execution_count": null,
   "metadata": {
    "id": "0HInGXxcVpX3"
   },
   "outputs": [],
   "source": [
    "for i in range(9):\n",
    "    plt.subplot(3, 3, 1 + i)    \n",
    "    \n",
    "    x = test_prediction[i].reshape(28,28)\n",
    "    plt.axis('off')\n",
    "    plt.imshow(x, cmap=plt.get_cmap('gray'))"
   ]
  },
  {
   "cell_type": "code",
   "execution_count": null,
   "metadata": {
    "id": "xI1t7hZ_VvJW"
   },
   "outputs": [],
   "source": []
  }
 ],
 "metadata": {
  "accelerator": "GPU",
  "colab": {
   "collapsed_sections": [],
   "machine_shape": "hm",
   "name": "PDL_10.ipynb",
   "provenance": []
  },
  "kernelspec": {
   "display_name": "Python 3 (ipykernel)",
   "language": "python",
   "name": "python3"
  },
  "language_info": {
   "codemirror_mode": {
    "name": "ipython",
    "version": 3
   },
   "file_extension": ".py",
   "mimetype": "text/x-python",
   "name": "python",
   "nbconvert_exporter": "python",
   "pygments_lexer": "ipython3",
   "version": "3.9.7"
  }
 },
 "nbformat": 4,
 "nbformat_minor": 1
}
