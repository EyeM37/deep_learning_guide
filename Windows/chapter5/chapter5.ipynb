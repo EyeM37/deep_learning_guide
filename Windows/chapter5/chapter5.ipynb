{
 "cells": [
  {
   "cell_type": "code",
   "execution_count": null,
   "metadata": {
    "id": "DiD-etORKDhR"
   },
   "outputs": [],
   "source": [
    "import tensorflow.compat.v1 as tf\n",
    "from tensorflow.python.framework.ops import disable_eager_execution\n",
    "\n",
    "import pandas as pd  \n",
    "import numpy as np  \n",
    "import matplotlib.pyplot as plt  \n",
    "import seaborn as seabornInstance \n",
    "from sklearn.model_selection import train_test_split\n",
    "from sklearn import metrics\n",
    "\n",
    "import plotly\n",
    "import plotly.graph_objs as go\n",
    "import plotly.express as px\n",
    "\n",
    "K = tf.keras.backend"
   ]
  },
  {
   "cell_type": "code",
   "execution_count": null,
   "metadata": {
    "id": "VA9jQ1hEKPry"
   },
   "outputs": [],
   "source": [
    "disable_eager_execution()\n",
    "tf.executing_eagerly()"
   ]
  },
  {
   "cell_type": "code",
   "execution_count": null,
   "metadata": {
    "id": "hxhYN_78KWRP"
   },
   "outputs": [],
   "source": [
    "np.random.seed(seed=13)\n",
    "\n",
    "EPOCH = 500"
   ]
  },
  {
   "cell_type": "code",
   "execution_count": null,
   "metadata": {
    "id": "zcSYpP5FKXt-"
   },
   "outputs": [],
   "source": [
    "dataset = pd.read_csv('Weather.csv')\n",
    "dataset.shape"
   ]
  },
  {
   "cell_type": "code",
   "execution_count": null,
   "metadata": {
    "id": "X934Nk0pKZY1"
   },
   "outputs": [],
   "source": [
    "dataset.describe()"
   ]
  },
  {
   "cell_type": "code",
   "execution_count": null,
   "metadata": {
    "id": "4nGhJMc9K8oq"
   },
   "outputs": [],
   "source": [
    "dataset.plot(x='MinTemp', y='MaxTemp', style='o')  \n",
    "plt.title('MinTemp vs MaxTemp')  \n",
    "plt.xlabel('MinTemp')  \n",
    "plt.ylabel('MaxTemp')\n",
    "plt.savefig('min_max_temp.jpeg', dpi=300)"
   ]
  },
  {
   "cell_type": "code",
   "execution_count": null,
   "metadata": {
    "id": "shJC3dh2K_Ra"
   },
   "outputs": [],
   "source": [
    "plt.figure(figsize=(15,10))\n",
    "plt.tight_layout()\n",
    "seabornInstance.distplot(dataset['MaxTemp'])\n",
    "plt.savefig('dis_max_temp.jpeg', dpi=300)"
   ]
  },
  {
   "cell_type": "code",
   "execution_count": null,
   "metadata": {
    "id": "1P2bnSztLEoI"
   },
   "outputs": [],
   "source": [
    "x = dataset['MinTemp'].values.reshape(-1,1)\n",
    "y = dataset['MaxTemp'].values.reshape(-1,1)\n",
    "\n",
    "x.shape"
   ]
  },
  {
   "cell_type": "code",
   "execution_count": null,
   "metadata": {
    "id": "JpszMEFKLG9M"
   },
   "outputs": [],
   "source": [
    "x_train, x_test, y_train, y_test = train_test_split(x, y, test_size=0.2, shuffle= True)\n",
    "\n",
    "x_train.shape, x_test.shape, y_train.shape, y_test.shape"
   ]
  },
  {
   "cell_type": "code",
   "execution_count": null,
   "metadata": {
    "id": "bBsUzIJBLIlN"
   },
   "outputs": [],
   "source": [
    "W = tf.Variable(tf.random.uniform([1], -1.0, 1.0))\n",
    "b = tf.Variable(tf.random.uniform([1], -1.0, 1.0))\n",
    "\n",
    "y = W * x_train + b"
   ]
  },
  {
   "cell_type": "code",
   "execution_count": null,
   "metadata": {
    "id": "dxzlrw9CLKFT"
   },
   "outputs": [],
   "source": [
    "loss = tf.reduce_mean(tf.square(y - y_train))"
   ]
  },
  {
   "cell_type": "code",
   "execution_count": null,
   "metadata": {
    "id": "7DnvdiNvLM3n"
   },
   "outputs": [],
   "source": [
    "optimizer = tf.train.GradientDescentOptimizer(0.0001)\n",
    "\n",
    "train = optimizer.minimize(loss)"
   ]
  },
  {
   "cell_type": "code",
   "execution_count": null,
   "metadata": {
    "id": "htvWEsqYLO8s"
   },
   "outputs": [],
   "source": [
    "init = tf.global_variables_initializer()"
   ]
  },
  {
   "cell_type": "code",
   "execution_count": null,
   "metadata": {
    "id": "BauaIr4SLRLo"
   },
   "outputs": [],
   "source": [
    "sess = tf.Session()\n",
    "sess.run(init)"
   ]
  },
  {
   "cell_type": "code",
   "execution_count": null,
   "metadata": {
    "id": "vRc9BeEZLTvi"
   },
   "outputs": [],
   "source": [
    "history = []\n",
    "wb = []\n",
    "\n",
    "for step in range(EPOCH):\n",
    "    sess.run(train)\n",
    "    history.append(sess.run(loss))\n",
    "    print(step, sess.run(W), sess.run(b), sess.run(loss))\n",
    "    wb.append([sess.run(W)[0], sess.run(b)[0], sess.run(loss)])"
   ]
  },
  {
   "cell_type": "code",
   "execution_count": null,
   "metadata": {
    "id": "TYSXjkjNLWlp"
   },
   "outputs": [],
   "source": [
    "M = sess.run(W)\n",
    "C = sess.run(b)"
   ]
  },
  {
   "cell_type": "code",
   "execution_count": null,
   "metadata": {
    "id": "Y3JF7vhfL8On"
   },
   "outputs": [],
   "source": [
    "def predict(X, M, C):\n",
    "    y = M*X+C\n",
    "    return y[0]"
   ]
  },
  {
   "cell_type": "code",
   "execution_count": null,
   "metadata": {
    "id": "Mcc1yP_bL9xG"
   },
   "outputs": [],
   "source": [
    "df = pd.DataFrame(history, columns=['loss'])"
   ]
  },
  {
   "cell_type": "code",
   "execution_count": null,
   "metadata": {
    "id": "Tid6F2mxL_PH"
   },
   "outputs": [],
   "source": [
    "h1 = go.Scatter(y=df['loss'], \n",
    "                    mode=\"lines\",\n",
    "                    line=dict(\n",
    "                    \twidth=2,\n",
    "                    \tcolor='blue'),\n",
    "                    name=\"loss\")\n",
    "\n",
    "data = [h1]\n",
    "\n",
    "layout1 = go.Layout(title='Loss',\n",
    "                   xaxis=dict(title='Epochs'),\n",
    "                   yaxis=dict(title=''))\n",
    "fig1 = go.Figure(data, layout=layout1)\n",
    "plotly.offline.iplot(fig1)"
   ]
  },
  {
   "cell_type": "code",
   "execution_count": null,
   "metadata": {
    "id": "ymnC8AR5MCRT"
   },
   "outputs": [],
   "source": [
    "y_pred = [predict(i, M, C) for i in x_test]\n",
    "\n",
    "y_test.shape"
   ]
  },
  {
   "cell_type": "code",
   "execution_count": null,
   "metadata": {
    "id": "jmQd1k3kMEkU"
   },
   "outputs": [],
   "source": [
    "y_test = y_test.reshape(-1)\n",
    "y_test.shape"
   ]
  },
  {
   "cell_type": "code",
   "execution_count": null,
   "metadata": {
    "id": "VgkjMYisMGt_"
   },
   "outputs": [],
   "source": [
    "df = pd.DataFrame({'Actual': y_test, 'Predicted': y_pred})\n",
    "df.head(10)"
   ]
  },
  {
   "cell_type": "code",
   "execution_count": null,
   "metadata": {
    "id": "zZU3EO5wMIZu"
   },
   "outputs": [],
   "source": [
    "df1 = df.head(10)\n",
    "df1.plot(kind='bar',figsize=(15,10))\n",
    "plt.grid(which='major', linestyle='-', linewidth='0.5', color='green')\n",
    "plt.grid(which='minor', linestyle=':', linewidth='0.5', color='black')\n",
    "plt.savefig('actual-predict.jpeg', dpi=300)"
   ]
  },
  {
   "cell_type": "code",
   "execution_count": null,
   "metadata": {
    "id": "kKKgEvgtMLbM"
   },
   "outputs": [],
   "source": [
    "M = [i[0] for i in wb]\n",
    "L = [i[2] for i in wb]\n",
    "C = [i[1] for i in wb]"
   ]
  },
  {
   "cell_type": "code",
   "execution_count": null,
   "metadata": {
    "id": "fzo4UaROMN0y"
   },
   "outputs": [],
   "source": [
    "y_pred = [predict(i, M[0], C[0]) for i in x_test]\n",
    "\n",
    "plt.scatter(x_test, y_test,  color='gray')\n",
    "plt.plot(x_test, y_pred, color='red', linewidth=2)\n",
    "plt.savefig('min_max_temp1.jpeg', dpi=300)"
   ]
  },
  {
   "cell_type": "code",
   "execution_count": null,
   "metadata": {
    "id": "oVCoB5OwMP4v"
   },
   "outputs": [],
   "source": [
    "y_pred = [predict(i, M[4], C[4]) for i in x_test]\n",
    "\n",
    "plt.scatter(x_test, y_test,  color='gray')\n",
    "plt.plot(x_test, y_pred, color='red', linewidth=2)\n",
    "plt.savefig('min_max_temp5.jpeg', dpi=300)"
   ]
  },
  {
   "cell_type": "code",
   "execution_count": null,
   "metadata": {
    "id": "Y2rciDPZMSDV"
   },
   "outputs": [],
   "source": [
    "y_pred = [predict(i, M[9], C[9]) for i in x_test]\n",
    "\n",
    "plt.scatter(x_test, y_test,  color='gray')\n",
    "plt.plot(x_test, y_pred, color='red', linewidth=2)\n",
    "plt.savefig('min_max_temp10.jpeg', dpi=300)"
   ]
  },
  {
   "cell_type": "code",
   "execution_count": null,
   "metadata": {
    "id": "CldhqQ2uMT96"
   },
   "outputs": [],
   "source": [
    "y_pred = [predict(i, M[499], C[499]) for i in x_test]\n",
    "\n",
    "plt.scatter(x_test, y_test,  color='gray')\n",
    "plt.plot(x_test, y_pred, color='red', linewidth=2)\n",
    "plt.savefig('min_max_temp500.jpeg', dpi=300)"
   ]
  },
  {
   "cell_type": "code",
   "execution_count": null,
   "metadata": {
    "id": "mc2tI8-RMV6B"
   },
   "outputs": [],
   "source": [
    "plt.scatter(M, L,  color='gray')\n",
    "plt.savefig('weight.jpeg', dpi=300)"
   ]
  },
  {
   "cell_type": "code",
   "execution_count": null,
   "metadata": {
    "id": "ZM74Wd9IMYph"
   },
   "outputs": [],
   "source": [
    "plt.scatter(C, L, color='gray')\n",
    "plt.savefig('bias.jpeg', dpi=300)"
   ]
  },
  {
   "cell_type": "code",
   "execution_count": null,
   "metadata": {
    "id": "ndaBtr1cMa70"
   },
   "outputs": [],
   "source": [
    "import plotly.express as px\n",
    "\n",
    "df = pd.DataFrame({'W' : M, 'Bias' : C, 'Loss' : L})\n",
    "fig = px.scatter_3d(df, x='W', y='Bias', z='Loss')\n",
    "fig.show()"
   ]
  },
  {
   "cell_type": "code",
   "execution_count": null,
   "metadata": {
    "id": "yGbP6R1ZMdjs"
   },
   "outputs": [],
   "source": [
    "print('Mean Absolute Error:', metrics.mean_absolute_error(y_test, y_pred))  \n",
    "print('Mean Squared Error:', metrics.mean_squared_error(y_test, y_pred))  \n",
    "print('Root Mean Squared Error:', np.sqrt(metrics.mean_squared_error(y_test, y_pred)))"
   ]
  },
  {
   "cell_type": "markdown",
   "metadata": {
    "id": "fxu6-tpqMooY"
   },
   "source": [
    "# **Stochastic Gradient Descent Method**\n",
    "**Linear Regression with Keras**"
   ]
  },
  {
   "cell_type": "code",
   "execution_count": null,
   "metadata": {
    "id": "UzwekvKYMfvE"
   },
   "outputs": [],
   "source": [
    "def rmse(y_true, y_pred):\n",
    "    return K.sqrt(K.mean(K.square(y_pred - y_true), axis=-1)) "
   ]
  },
  {
   "cell_type": "code",
   "execution_count": null,
   "metadata": {
    "id": "QX-pT7WKMulg"
   },
   "outputs": [],
   "source": [
    "model = tf.keras.Sequential()\n",
    "model.add(tf.keras.layers.Dense(1, input_dim=1, kernel_initializer='random_uniform', activation='linear'))\n",
    "model.summary()"
   ]
  },
  {
   "cell_type": "code",
   "execution_count": null,
   "metadata": {
    "id": "LdaBe9RqMwZN"
   },
   "outputs": [],
   "source": [
    "SGD = tf.keras.optimizers.SGD\n",
    "sgd = SGD(learning_rate=0.0001)\n",
    "\n",
    "model.compile(loss='mse', optimizer=sgd, metrics=['mae', 'mse', rmse])"
   ]
  },
  {
   "cell_type": "code",
   "execution_count": null,
   "metadata": {
    "id": "Toyp2dxHMy9O"
   },
   "outputs": [],
   "source": [
    "# EPOCH\n",
    "history = model.fit(x_train, y_train, epochs=120, batch_size=64,  verbose=1, validation_split=0.2, shuffle=True)"
   ]
  },
  {
   "cell_type": "code",
   "execution_count": null,
   "metadata": {
    "id": "IqYFgB3UM-pJ"
   },
   "outputs": [],
   "source": [
    "h1 = go.Scatter(y=history.history['loss'], \n",
    "                    mode=\"lines\",\n",
    "                    line=dict(\n",
    "                    \twidth=2,\n",
    "                    \tcolor='blue'),\n",
    "                    name=\"loss\")\n",
    "\n",
    "h2 = go.Scatter(y=history.history['val_loss'], \n",
    "                    mode=\"lines\",\n",
    "                    line=dict(\n",
    "                    \twidth=2,\n",
    "                    \tcolor='green'),\n",
    "                    name=\"val_loss\")\n",
    "                    \n",
    "data = [h1, h2]\n",
    "\n",
    "layout1 = go.Layout(title='Loss',\n",
    "                   xaxis=dict(title='epochs'),\n",
    "                   yaxis=dict(title=''))\n",
    "fig1 = go.Figure(data, layout=layout1)\n",
    "plotly.offline.iplot(fig1)"
   ]
  },
  {
   "cell_type": "code",
   "execution_count": null,
   "metadata": {
    "id": "wkMVqkTrNd80"
   },
   "outputs": [],
   "source": [
    "y_pred = model.predict(x_test)"
   ]
  },
  {
   "cell_type": "code",
   "execution_count": null,
   "metadata": {
    "id": "47jEFshsNfvs"
   },
   "outputs": [],
   "source": [
    "y_pred = y_pred.flatten()\n",
    "\n",
    "df = pd.DataFrame({'Actual': y_test, 'Predicted': y_pred})\n",
    "df.head(10)"
   ]
  },
  {
   "cell_type": "code",
   "execution_count": null,
   "metadata": {
    "id": "GAOe3SSUOHLb"
   },
   "outputs": [],
   "source": [
    "df1 = df.head(10)\n",
    "df1.plot(kind='bar',figsize=(15,10))\n",
    "plt.grid(which='major', linestyle='-', linewidth='0.5', color='green')\n",
    "plt.grid(which='minor', linestyle=':', linewidth='0.5', color='black')\n",
    "plt.savefig('actual-predict2.jpeg', dpi=300)"
   ]
  },
  {
   "cell_type": "code",
   "execution_count": null,
   "metadata": {
    "id": "rWaK8lBVOJ_7"
   },
   "outputs": [],
   "source": [
    "plt.scatter(x_test, y_test,  color='gray')\n",
    "plt.plot(x_test, y_pred, color='red', linewidth=2)\n",
    "plt.savefig('keras_500_model.jpeg', dpi=300)"
   ]
  },
  {
   "cell_type": "code",
   "execution_count": null,
   "metadata": {
    "id": "xpkvcdCcOLbY"
   },
   "outputs": [],
   "source": [
    "print('Mean Absolute Error:', metrics.mean_absolute_error(y_test, y_pred))  \n",
    "print('Mean Squared Error:', metrics.mean_squared_error(y_test, y_pred))  \n",
    "print('Root Mean Squared Error:', np.sqrt(metrics.mean_squared_error(y_test, y_pred)))\n"
   ]
  },
  {
   "cell_type": "code",
   "execution_count": null,
   "metadata": {
    "id": "kJFzmL9aXdeu"
   },
   "outputs": [],
   "source": []
  }
 ],
 "metadata": {
  "colab": {
   "collapsed_sections": [],
   "name": "PDL_05.ipynb",
   "provenance": []
  },
  "kernelspec": {
   "display_name": "Python 3 (ipykernel)",
   "language": "python",
   "name": "python3"
  },
  "language_info": {
   "codemirror_mode": {
    "name": "ipython",
    "version": 3
   },
   "file_extension": ".py",
   "mimetype": "text/x-python",
   "name": "python",
   "nbconvert_exporter": "python",
   "pygments_lexer": "ipython3",
   "version": "3.9.7"
  }
 },
 "nbformat": 4,
 "nbformat_minor": 1
}
