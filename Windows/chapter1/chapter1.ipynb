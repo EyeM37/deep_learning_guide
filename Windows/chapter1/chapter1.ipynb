{
 "cells": [
  {
   "cell_type": "code",
   "execution_count": null,
   "id": "7d9d47fa",
   "metadata": {},
   "outputs": [],
   "source": [
    "print('Hello Jupyter Notebook')"
   ]
  },
  {
   "cell_type": "code",
   "execution_count": null,
   "id": "a1ed8a68",
   "metadata": {},
   "outputs": [],
   "source": [
    "!nvidia-smi -L"
   ]
  },
  {
   "cell_type": "code",
   "execution_count": null,
   "id": "d6422a0d",
   "metadata": {},
   "outputs": [],
   "source": [
    "import tensorflow as tf\n",
    "import tensorflow.python.platform.build_info as build\n",
    "\n",
    "tf.__version__"
   ]
  },
  {
   "cell_type": "code",
   "execution_count": null,
   "id": "bfc994dc",
   "metadata": {},
   "outputs": [],
   "source": [
    "print(\"Num GPUs Available: \", len(tf.config.experimental.list_physical_devices('GPU')))\n",
    "print(f'Default GPU Device:{tf.test.gpu_device_name()}')"
   ]
  },
  {
   "cell_type": "code",
   "execution_count": null,
   "id": "7abc1ffb",
   "metadata": {},
   "outputs": [],
   "source": [
    "print(build.build_info['cuda_version'])\n",
    "print(build.build_info['cudnn_version'])"
   ]
  },
  {
   "cell_type": "code",
   "execution_count": null,
   "id": "d92cc22d",
   "metadata": {},
   "outputs": [],
   "source": []
  }
 ],
 "metadata": {
  "kernelspec": {
   "display_name": "Python 3 (ipykernel)",
   "language": "python",
   "name": "python3"
  },
  "language_info": {
   "codemirror_mode": {
    "name": "ipython",
    "version": 3
   },
   "file_extension": ".py",
   "mimetype": "text/x-python",
   "name": "python",
   "nbconvert_exporter": "python",
   "pygments_lexer": "ipython3",
   "version": "3.9.7"
  }
 },
 "nbformat": 4,
 "nbformat_minor": 5
}
