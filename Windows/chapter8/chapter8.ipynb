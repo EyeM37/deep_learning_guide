{
 "cells": [
  {
   "cell_type": "markdown",
   "metadata": {
    "id": "Gy72sF-wc0m9"
   },
   "source": [
    "# **Fashion-MNIST Dataset**"
   ]
  },
  {
   "cell_type": "code",
   "execution_count": null,
   "metadata": {
    "id": "UwwDAZPXcCBk"
   },
   "outputs": [],
   "source": [
    "import tensorflow as tf\n",
    "Adam = tf.keras.optimizers.Adam\n",
    "to_categorical = tf.keras.utils.to_categorical\n",
    "ImageDataGenerator = tf.keras.preprocessing.image.ImageDataGenerator\n",
    "fashion_mnist = tf.keras.datasets.fashion_mnist\n",
    "load_img = tf.keras.preprocessing.image.load_img\n",
    "img_to_array = tf.keras.preprocessing.image.img_to_array\n",
    "\n",
    "from sklearn.model_selection import train_test_split\n",
    "import matplotlib.pyplot as plt\n",
    "\n",
    "import plotly.graph_objs as go\n",
    "from plotly import subplots\n",
    "import plotly\n",
    "\n",
    "import warnings\n",
    "warnings.filterwarnings('ignore')"
   ]
  },
  {
   "cell_type": "code",
   "execution_count": null,
   "metadata": {},
   "outputs": [],
   "source": [
    "gpus = tf.config.experimental.list_physical_devices('GPU')\n",
    "if gpus:\n",
    "    try:\n",
    "        for gpu in gpus:\n",
    "            tf.config.experimental.set_memory_growth(gpu, True)\n",
    "        logical_gpus = tf.config.experimental.list_logical_devices('GPU')\n",
    "        print(len(gpus), 'Physical GPUs,', len(logical_gpus), 'Logical GPUs')\n",
    "    except RuntimeError as e:\n",
    "        print(e)"
   ]
  },
  {
   "cell_type": "code",
   "execution_count": null,
   "metadata": {
    "id": "voo08HhdcK6U"
   },
   "outputs": [],
   "source": [
    "IMG_ROWS = 28\n",
    "IMG_COLS = 28\n",
    "NUM_CLASSES = 10\n",
    "VAL_SIZE = 0.2\n",
    "RANDOM_STATE = 99\n",
    "BATCH_SIZE = 256"
   ]
  },
  {
   "cell_type": "code",
   "execution_count": null,
   "metadata": {
    "colab": {
     "base_uri": "https://localhost:8080/"
    },
    "id": "Qxoq2QchcR42",
    "outputId": "ea6dc1a5-cd52-4323-c729-e9bf082c5be2"
   },
   "outputs": [],
   "source": [
    "(train_data, y), (test_data, y_test) = fashion_mnist.load_data()\n",
    "\n",
    "print(\"Fashion MNIST train -  rows:\",train_data.shape[0],\" columns:\", train_data.shape[1], \" rows:\", train_data.shape[2])\n",
    "print(\"Fashion MNIST test -  rows:\",test_data.shape[0],\" columns:\", test_data.shape[1], \" rows:\", train_data.shape[2])"
   ]
  },
  {
   "cell_type": "code",
   "execution_count": null,
   "metadata": {
    "colab": {
     "base_uri": "https://localhost:8080/",
     "height": 297
    },
    "id": "j5PnxY4YcT4q",
    "outputId": "3c620d5a-a1b8-4f32-8921-9a475130546d"
   },
   "outputs": [],
   "source": [
    "for i in range(9):\n",
    "    plt.subplot(330 + 1 + i)    \n",
    "    plt.imshow(train_data[i], cmap=plt.get_cmap('gray'))\n",
    "\n",
    "plt.tight_layout()\n",
    "plt.savefig('fashion_mnist.jpeg', dpi=300)"
   ]
  },
  {
   "cell_type": "code",
   "execution_count": null,
   "metadata": {
    "colab": {
     "base_uri": "https://localhost:8080/"
    },
    "id": "NziX6iWQcYzG",
    "outputId": "92c210b5-ff8c-4893-ce1b-5e5573046b33"
   },
   "outputs": [],
   "source": [
    "print(train_data.shape, test_data.shape)\n",
    "\n",
    "train_data = train_data.reshape((train_data.shape[0], 28, 28, 1))\n",
    "test_data = test_data.reshape((test_data.shape[0], 28, 28, 1))\n",
    "\n",
    "print(train_data.shape, test_data.shape)"
   ]
  },
  {
   "cell_type": "code",
   "execution_count": null,
   "metadata": {
    "id": "_Dvh01NqchzH"
   },
   "outputs": [],
   "source": [
    "train_data = train_data / 255.0\n",
    "test_data = test_data / 255.0"
   ]
  },
  {
   "cell_type": "code",
   "execution_count": null,
   "metadata": {
    "colab": {
     "base_uri": "https://localhost:8080/"
    },
    "id": "vd7wdT0tcjq_",
    "outputId": "25bdf9a8-f546-48d2-94c5-d86bf09207ca"
   },
   "outputs": [],
   "source": [
    "print(y.shape, y_test.shape)\n",
    "print(y[:10])"
   ]
  },
  {
   "cell_type": "code",
   "execution_count": null,
   "metadata": {
    "colab": {
     "base_uri": "https://localhost:8080/"
    },
    "id": "rqNFKMK2clag",
    "outputId": "12016dfd-cce3-4aff-b022-54bca017b7ec"
   },
   "outputs": [],
   "source": [
    "y = to_categorical(y)\n",
    "y_test = to_categorical(y_test)\n",
    "\n",
    "print(y.shape, y_test.shape)\n",
    "y[:10]"
   ]
  },
  {
   "cell_type": "code",
   "execution_count": null,
   "metadata": {
    "colab": {
     "base_uri": "https://localhost:8080/"
    },
    "id": "1fY5zz-EcqZ4",
    "outputId": "71743a8f-45c8-4970-d87b-fe0dece66d87"
   },
   "outputs": [],
   "source": [
    "x_train, x_val, y_train, y_val = train_test_split(train_data, y, test_size=VAL_SIZE, random_state=RANDOM_STATE)\n",
    "x_train.shape, x_val.shape, y_train.shape, y_val.shape"
   ]
  },
  {
   "cell_type": "markdown",
   "metadata": {
    "id": "PupaHtBLc5nG"
   },
   "source": [
    "# **Baseline Model**"
   ]
  },
  {
   "cell_type": "code",
   "execution_count": null,
   "metadata": {
    "id": "CceQO2V1cutg"
   },
   "outputs": [],
   "source": [
    "# model = Sequential()\n",
    "model = tf.keras.Sequential()\n",
    "\n",
    "#1. CNN LAYER\n",
    "model.add(tf.keras.layers.Conv2D(filters = 32, kernel_size = (3,3), padding = 'Same', input_shape=(28, 28, 1)))\n",
    "model.add(tf.keras.layers.Activation(\"relu\"))\n",
    "\n",
    "#2. CNN LAYER\n",
    "model.add(tf.keras.layers.Conv2D(filters = 32, kernel_size = (3,3), padding = 'Same'))\n",
    "model.add(tf.keras.layers.Activation(\"relu\"))\n",
    "\n",
    "model.add(tf.keras.layers.MaxPool2D(pool_size=(2, 2)))\n",
    "\n",
    "#3. CNN LAYER\n",
    "model.add(tf.keras.layers.Conv2D(filters = 64, kernel_size = (3,3), padding = 'Same'))\n",
    "model.add(tf.keras.layers.Activation(\"relu\"))\n",
    "\n",
    "#4. CNN LAYER\n",
    "model.add(tf.keras.layers.Conv2D(filters = 64, kernel_size = (3,3), padding = 'Same'))\n",
    "model.add(tf.keras.layers.Activation(\"relu\"))\n",
    "\n",
    "model.add(tf.keras.layers.MaxPool2D(pool_size=(2, 2)))\n",
    "\n",
    "#FULLY CONNECTED LAYER\n",
    "model.add(tf.keras.layers.Flatten())\n",
    "model.add(tf.keras.layers.Dense(256))\n",
    "model.add(tf.keras.layers.Activation(\"relu\"))\n",
    "\n",
    "#OUTPUT LAYER\n",
    "model.add(tf.keras.layers.Dense(10, activation='softmax'))"
   ]
  },
  {
   "cell_type": "code",
   "execution_count": null,
   "metadata": {
    "colab": {
     "base_uri": "https://localhost:8080/"
    },
    "id": "OY4GwPxtc_ZY",
    "outputId": "162c6eca-226e-4495-ee3e-09c31c45e883"
   },
   "outputs": [],
   "source": [
    "optimizer = Adam()\n",
    "model.compile(optimizer = optimizer, loss = \"categorical_crossentropy\", metrics=[\"accuracy\"])\n",
    "\n",
    "model.summary()"
   ]
  },
  {
   "cell_type": "code",
   "execution_count": null,
   "metadata": {
    "colab": {
     "base_uri": "https://localhost:8080/"
    },
    "id": "AaWDnHtJdBQm",
    "outputId": "16ac229a-e9ad-490c-bfbf-078f68cb3f3a"
   },
   "outputs": [],
   "source": [
    "NO_EPOCHS = 10\n",
    "\n",
    "history = model.fit(x_train, y_train,\n",
    "                  batch_size=BATCH_SIZE,\n",
    "                  epochs=NO_EPOCHS,\n",
    "                  verbose=1,\n",
    "                  validation_data=(x_val, y_val))"
   ]
  },
  {
   "cell_type": "code",
   "execution_count": null,
   "metadata": {
    "id": "DYhAqIxzdD0i"
   },
   "outputs": [],
   "source": [
    "def create_trace(x,y,ylabel,color):\n",
    "        trace = go.Scatter(\n",
    "            x = x,y = y,\n",
    "            name=ylabel,\n",
    "            marker=dict(color=color),\n",
    "            mode = \"markers+lines\",\n",
    "            text=x\n",
    "        )\n",
    "        return trace\n",
    "    \n",
    "def plot_accuracy_and_loss(train_model):\n",
    "    hist = train_model.history\n",
    "    acc = hist['accuracy']\n",
    "    val_acc = hist['val_accuracy']\n",
    "    loss = hist['loss']\n",
    "    val_loss = hist['val_loss']\n",
    "    epochs = list(range(1,len(acc)+1))\n",
    "    \n",
    "    trace_ta = create_trace(epochs,acc,\"Training accuracy\", \"Green\")\n",
    "    trace_va = create_trace(epochs,val_acc,\"Validation accuracy\", \"Red\")\n",
    "    trace_tl = create_trace(epochs,loss,\"Training loss\", \"Blue\")\n",
    "    trace_vl = create_trace(epochs,val_loss,\"Validation loss\", \"Magenta\")\n",
    "   \n",
    "    fig = subplots.make_subplots(rows=1,cols=2, subplot_titles=('Training and validation accuracy',\n",
    "                                                             'Training and validation loss'))\n",
    "    fig.append_trace(trace_ta,1,1)\n",
    "    fig.append_trace(trace_va,1,1)\n",
    "    fig.append_trace(trace_tl,1,2)\n",
    "    fig.append_trace(trace_vl,1,2)\n",
    "    fig['layout']['xaxis'].update(title = 'Epoch')\n",
    "    fig['layout']['xaxis2'].update(title = 'Epoch')\n",
    "    fig['layout']['yaxis'].update(title = 'Accuracy', range=[0,1])\n",
    "    fig['layout']['yaxis2'].update(title = 'Loss', range=[0,1])\n",
    "\n",
    "    plotly.offline.iplot(fig, filename='accuracy-loss')"
   ]
  },
  {
   "cell_type": "code",
   "execution_count": null,
   "metadata": {
    "colab": {
     "base_uri": "https://localhost:8080/",
     "height": 542
    },
    "id": "SxQ2laQVdJMN",
    "outputId": "96a9f9f6-1a67-493d-8727-c4b01933c438"
   },
   "outputs": [],
   "source": [
    "plot_accuracy_and_loss(history)"
   ]
  },
  {
   "cell_type": "code",
   "execution_count": null,
   "metadata": {
    "colab": {
     "base_uri": "https://localhost:8080/"
    },
    "id": "eK8HAUipdLO1",
    "outputId": "b78a0896-b9bd-46f3-e228-760233651aa4"
   },
   "outputs": [],
   "source": [
    "score = model.evaluate(test_data, y_test,verbose=0)\n",
    "print(\"Test Loss:\",score[0])\n",
    "print(\"Test Accuracy:\",score[1])"
   ]
  },
  {
   "cell_type": "markdown",
   "metadata": {
    "id": "u_qZuMJ-dPq6"
   },
   "source": [
    "# **Image Augmentation**"
   ]
  },
  {
   "cell_type": "code",
   "execution_count": null,
   "metadata": {
    "colab": {
     "base_uri": "https://localhost:8080/",
     "height": 1000
    },
    "id": "zmJROuWxdNWn",
    "outputId": "df3814d0-afa0-4951-9227-b53b171b9c16"
   },
   "outputs": [],
   "source": [
    "cat = load_img('cat.jpg')\n",
    "cat"
   ]
  },
  {
   "cell_type": "code",
   "execution_count": null,
   "metadata": {
    "colab": {
     "base_uri": "https://localhost:8080/"
    },
    "id": "DW4-hlf0dlBh",
    "outputId": "fbbd5c97-b57e-4c8e-f360-d13ab6893e5f"
   },
   "outputs": [],
   "source": [
    "cat = img_to_array(cat)\n",
    "print(cat.shape)\n",
    "cat = cat.reshape(1,cat.shape[0],cat.shape[1],cat.shape[2])\n",
    "print(cat.shape)"
   ]
  },
  {
   "cell_type": "code",
   "execution_count": null,
   "metadata": {
    "colab": {
     "base_uri": "https://localhost:8080/",
     "height": 359
    },
    "id": "Vji1iSQQdltT",
    "outputId": "ff0f81c7-b9fd-470d-ada7-594c6a158614"
   },
   "outputs": [],
   "source": [
    "datagen = ImageDataGenerator(height_shift_range=0.2)\n",
    "\n",
    "aug_iter = datagen.flow(cat, batch_size=1)\n",
    "\n",
    "fig, ax = plt.subplots(nrows=1, ncols=3, figsize=(15,15))\n",
    "\n",
    "for i in range(3):\n",
    "    image = next(aug_iter)[0].astype('uint8')\n",
    "    ax[i].imshow(image)\n",
    "    ax[i].axis('off')\n",
    "    \n",
    "fig.savefig('cat1.jpeg', dpi=300)"
   ]
  },
  {
   "cell_type": "code",
   "execution_count": null,
   "metadata": {
    "colab": {
     "base_uri": "https://localhost:8080/",
     "height": 359
    },
    "id": "81O-oCMvdo3b",
    "outputId": "45eced7d-3310-4cad-d9d2-9940e5a644bd"
   },
   "outputs": [],
   "source": [
    "datagen = ImageDataGenerator(width_shift_range=0.2)\n",
    "\n",
    "aug_iter = datagen.flow(cat, batch_size=1)\n",
    "\n",
    "fig, ax = plt.subplots(nrows=1, ncols=3, figsize=(15,15))\n",
    "\n",
    "for i in range(3):\n",
    "    image = next(aug_iter)[0].astype('uint8')\n",
    "    ax[i].imshow(image)\n",
    "    ax[i].axis('off')\n",
    "    \n",
    "fig.savefig('cat2.jpeg', dpi=300)"
   ]
  },
  {
   "cell_type": "code",
   "execution_count": null,
   "metadata": {
    "colab": {
     "base_uri": "https://localhost:8080/",
     "height": 359
    },
    "id": "LyOhmoEodsFj",
    "outputId": "54e3e1c2-87b4-4761-b494-02ff6fb30452"
   },
   "outputs": [],
   "source": [
    "datagen = ImageDataGenerator(shear_range=20)\n",
    "\n",
    "aug_iter = datagen.flow(cat, batch_size=1)\n",
    "\n",
    "fig, ax = plt.subplots(nrows=1, ncols=3, figsize=(15,15))\n",
    "\n",
    "for i in range(3):\n",
    "    image = next(aug_iter)[0].astype('uint8')\n",
    "    ax[i].imshow(image)\n",
    "    ax[i].axis('off')\n",
    "    \n",
    "fig.savefig('cat3.jpeg', dpi=300)"
   ]
  },
  {
   "cell_type": "code",
   "execution_count": null,
   "metadata": {
    "colab": {
     "base_uri": "https://localhost:8080/",
     "height": 359
    },
    "id": "rY3GzOjOekeo",
    "outputId": "a206120f-8ac7-4e97-c555-0275ecb4a602"
   },
   "outputs": [],
   "source": [
    "datagen = ImageDataGenerator(zoom_range=0.3)\n",
    "\n",
    "aug_iter = datagen.flow(cat, batch_size=1)\n",
    "\n",
    "fig, ax = plt.subplots(nrows=1, ncols=3, figsize=(15,15))\n",
    "\n",
    "for i in range(3):\n",
    "    image = next(aug_iter)[0].astype('uint8')\n",
    "    ax[i].imshow(image)\n",
    "    ax[i].axis('off')\n",
    "    \n",
    "fig.savefig('cat4.jpeg', dpi=300)"
   ]
  },
  {
   "cell_type": "code",
   "execution_count": null,
   "metadata": {
    "colab": {
     "base_uri": "https://localhost:8080/",
     "height": 359
    },
    "id": "Tu616NbgepvF",
    "outputId": "c4164bc6-46b9-4f45-fcbe-b7b9ab7c9613"
   },
   "outputs": [],
   "source": [
    "datagen = ImageDataGenerator(vertical_flip=True)\n",
    "\n",
    "aug_iter = datagen.flow(cat, batch_size=1)\n",
    "\n",
    "fig, ax = plt.subplots(nrows=1, ncols=3, figsize=(15,15))\n",
    "\n",
    "for i in range(3):\n",
    "    image = next(aug_iter)[0].astype('uint8')\n",
    "    ax[i].imshow(image)\n",
    "    ax[i].axis('off')\n",
    "    \n",
    "fig.savefig('cat5.jpeg', dpi=300)"
   ]
  },
  {
   "cell_type": "code",
   "execution_count": null,
   "metadata": {
    "colab": {
     "base_uri": "https://localhost:8080/",
     "height": 359
    },
    "id": "O7YOa2Z2esYQ",
    "outputId": "c2eb21b9-8b1b-4706-b9be-203fa9062103"
   },
   "outputs": [],
   "source": [
    "datagen = ImageDataGenerator(horizontal_flip=True)\n",
    "\n",
    "aug_iter = datagen.flow(cat, batch_size=1)\n",
    "\n",
    "fig, ax = plt.subplots(nrows=1, ncols=3, figsize=(15,15))\n",
    "\n",
    "for i in range(3):\n",
    "    image = next(aug_iter)[0].astype('uint8')\n",
    "    ax[i].imshow(image)\n",
    "    ax[i].axis('off')\n",
    "    \n",
    "fig.savefig('cat6.jpeg', dpi=300)"
   ]
  },
  {
   "cell_type": "code",
   "execution_count": null,
   "metadata": {
    "colab": {
     "base_uri": "https://localhost:8080/",
     "height": 359
    },
    "id": "FZ9L8Bn4eu3k",
    "outputId": "42097005-f7da-436f-d8a9-219f2bbc71ba"
   },
   "outputs": [],
   "source": [
    "datagen = ImageDataGenerator(rotation_range=30)\n",
    "\n",
    "aug_iter = datagen.flow(cat, batch_size=1)\n",
    "\n",
    "fig, ax = plt.subplots(nrows=1, ncols=3, figsize=(15,15))\n",
    "\n",
    "for i in range(3):\n",
    "    image = next(aug_iter)[0].astype('uint8')\n",
    "    ax[i].imshow(image)\n",
    "    ax[i].axis('off')\n",
    "    \n",
    "fig.savefig('cat7.jpeg', dpi=300)"
   ]
  },
  {
   "cell_type": "code",
   "execution_count": null,
   "metadata": {
    "colab": {
     "base_uri": "https://localhost:8080/",
     "height": 359
    },
    "id": "V0TN2ixDew7x",
    "outputId": "1d8d2e70-7e0d-4d1c-d196-cb68446cd1c3"
   },
   "outputs": [],
   "source": [
    "datagen = ImageDataGenerator(rotation_range=30, fill_mode = 'constant')\n",
    "\n",
    "aug_iter = datagen.flow(cat, batch_size=1)\n",
    "\n",
    "fig, ax = plt.subplots(nrows=1, ncols=3, figsize=(15,15))\n",
    "\n",
    "for i in range(3):\n",
    "    image = next(aug_iter)[0].astype('uint8')\n",
    "    ax[i].imshow(image)\n",
    "    ax[i].axis('off')\n",
    "    \n",
    "fig.savefig('cat8.jpeg', dpi=300)"
   ]
  },
  {
   "cell_type": "code",
   "execution_count": null,
   "metadata": {
    "colab": {
     "base_uri": "https://localhost:8080/",
     "height": 359
    },
    "id": "6sXeCLWeez2x",
    "outputId": "ae704bc9-80f3-4db3-fa42-3bd5947838bb"
   },
   "outputs": [],
   "source": [
    "datagen = ImageDataGenerator(rotation_range=30, fill_mode = 'nearest')\n",
    "\n",
    "aug_iter = datagen.flow(cat, batch_size=1)\n",
    "\n",
    "fig, ax = plt.subplots(nrows=1, ncols=3, figsize=(15,15))\n",
    "\n",
    "for i in range(3):\n",
    "    image = next(aug_iter)[0].astype('uint8')\n",
    "    ax[i].imshow(image)\n",
    "    ax[i].axis('off')\n",
    "    \n",
    "fig.savefig('cat9.jpeg', dpi=300)"
   ]
  },
  {
   "cell_type": "code",
   "execution_count": null,
   "metadata": {
    "colab": {
     "base_uri": "https://localhost:8080/",
     "height": 359
    },
    "id": "YdnOqMVte2LB",
    "outputId": "af87d476-ac57-4b69-8b1f-9983e87a299b"
   },
   "outputs": [],
   "source": [
    "datagen = ImageDataGenerator(rotation_range=50, fill_mode = 'reflect')\n",
    "\n",
    "aug_iter = datagen.flow(cat, batch_size=1)\n",
    "\n",
    "fig, ax = plt.subplots(nrows=1, ncols=3, figsize=(15,15))\n",
    "\n",
    "for i in range(3):\n",
    "    image = next(aug_iter)[0].astype('uint8')\n",
    "    ax[i].imshow(image)\n",
    "    ax[i].axis('off')\n",
    "    \n",
    "fig.savefig('cat10.jpeg', dpi=300)"
   ]
  },
  {
   "cell_type": "code",
   "execution_count": null,
   "metadata": {
    "colab": {
     "base_uri": "https://localhost:8080/",
     "height": 359
    },
    "id": "tEyD1yuHe4Y5",
    "outputId": "cdfb304e-e160-4ab1-e1cc-7f4a152b90c3"
   },
   "outputs": [],
   "source": [
    "datagen = ImageDataGenerator(rotation_range=30, fill_mode = 'wrap')\n",
    "\n",
    "aug_iter = datagen.flow(cat, batch_size=1)\n",
    "\n",
    "fig, ax = plt.subplots(nrows=1, ncols=3, figsize=(15,15))\n",
    "\n",
    "for i in range(3):\n",
    "    image = next(aug_iter)[0].astype('uint8')\n",
    "    ax[i].imshow(image)\n",
    "    ax[i].axis('off')\n",
    "    \n",
    "fig.savefig('cat11.jpeg', dpi=300)"
   ]
  },
  {
   "cell_type": "code",
   "execution_count": null,
   "metadata": {
    "id": "wO2xcBEce6qk"
   },
   "outputs": [],
   "source": [
    "datagen = ImageDataGenerator(\n",
    "        rotation_range=0.05,    #Randomly rotate images in the range\n",
    "        zoom_range = 0.2,       #Randomly zoom image\n",
    "        width_shift_range=0.1,  #Randomly shift images horizontally\n",
    "        height_shift_range=0.1, #Randomly shift images vertically\n",
    "        shear_range=0.05        #Randomly shear images\n",
    ")\n",
    "\n",
    "datagen.fit(x_train)"
   ]
  },
  {
   "cell_type": "code",
   "execution_count": null,
   "metadata": {
    "colab": {
     "base_uri": "https://localhost:8080/"
    },
    "id": "3e8-GUBde88l",
    "outputId": "68baf7e5-d82a-4a74-ba4e-141ab65f62dc"
   },
   "outputs": [],
   "source": [
    "x_batch = datagen.flow(x_train, y_train, batch_size=9).next()\n",
    "x_batch[0].shape"
   ]
  },
  {
   "cell_type": "code",
   "execution_count": null,
   "metadata": {
    "colab": {
     "base_uri": "https://localhost:8080/"
    },
    "id": "4NfTN8Ule_VZ",
    "outputId": "f46f5a84-90ad-4e21-9811-a5d617439e36"
   },
   "outputs": [],
   "source": [
    "x_batch = x_batch[0].reshape((x_batch[0].shape[0], 28, 28))\n",
    "x_batch.shape"
   ]
  },
  {
   "cell_type": "code",
   "execution_count": null,
   "metadata": {
    "colab": {
     "base_uri": "https://localhost:8080/",
     "height": 268
    },
    "id": "UJbNVZ-ofB9D",
    "outputId": "b622bbbf-0464-48bf-f3d6-bb42e872495f"
   },
   "outputs": [],
   "source": [
    "for i in range(0, 9):\n",
    "    plt.subplot(330 + 1 + i)\n",
    "    plt.imshow(x_batch[i], cmap=plt.get_cmap('gray'))\n",
    "    \n",
    "plt.savefig('fashion_mnist2.jpeg', dpi=300)"
   ]
  },
  {
   "cell_type": "code",
   "execution_count": null,
   "metadata": {
    "id": "shdhmkOPfEIm"
   },
   "outputs": [],
   "source": [
    "# model = Sequential()\n",
    "model = tf.keras.Sequential()\n",
    "\n",
    "#1. CNN LAYER\n",
    "model.add(tf.keras.layers.Conv2D(filters = 32, kernel_size = (3,3), padding = 'Same', input_shape=(28, 28, 1)))\n",
    "model.add(tf.keras.layers.Activation(\"relu\"))\n",
    "\n",
    "#2. CNN LAYER\n",
    "model.add(tf.keras.layers.Conv2D(filters = 32, kernel_size = (3,3), padding = 'Same'))\n",
    "model.add(tf.keras.layers.Activation(\"relu\"))\n",
    "\n",
    "model.add(tf.keras.layers.MaxPool2D(pool_size=(2, 2)))\n",
    "\n",
    "#3. CNN LAYER\n",
    "model.add(tf.keras.layers.Conv2D(filters = 64, kernel_size = (3,3), padding = 'Same'))\n",
    "model.add(tf.keras.layers.Activation(\"relu\"))\n",
    "\n",
    "#4. CNN LAYER\n",
    "model.add(tf.keras.layers.Conv2D(filters = 64, kernel_size = (3,3), padding = 'Same'))\n",
    "model.add(tf.keras.layers.Activation(\"relu\"))\n",
    "\n",
    "model.add(tf.keras.layers.MaxPool2D(pool_size=(2, 2)))\n",
    "\n",
    "#FULLY CONNECTED LAYER\n",
    "model.add(tf.keras.layers.Flatten())\n",
    "model.add(tf.keras.layers.Dense(256))\n",
    "model.add(tf.keras.layers.Activation(\"relu\"))\n",
    "\n",
    "#OUTPUT LAYER\n",
    "model.add(tf.keras.layers.Dense(10, activation='softmax'))"
   ]
  },
  {
   "cell_type": "code",
   "execution_count": null,
   "metadata": {
    "colab": {
     "base_uri": "https://localhost:8080/"
    },
    "id": "VbQgKyanfJad",
    "outputId": "293b38a7-1b0e-47d7-abc6-0bc6a5dda517"
   },
   "outputs": [],
   "source": [
    "optimizer = Adam()\n",
    "model.compile(optimizer = optimizer, loss = \"categorical_crossentropy\", metrics=[\"accuracy\"])\n",
    "\n",
    "model.summary()"
   ]
  },
  {
   "cell_type": "code",
   "execution_count": null,
   "metadata": {
    "colab": {
     "base_uri": "https://localhost:8080/"
    },
    "id": "XGMhroWXfLNZ",
    "outputId": "ba2ae9d6-b041-4d04-f3a2-a163153097ad"
   },
   "outputs": [],
   "source": [
    "NO_EPOCHS = 50\n",
    "\n",
    "history = model.fit(datagen.flow(x_train, y_train, batch_size=BATCH_SIZE),\n",
    "                              shuffle=True,\n",
    "                              epochs=NO_EPOCHS, validation_data = (x_val, y_val),\n",
    "                              verbose=1, steps_per_epoch=x_train.shape[0] // BATCH_SIZE)"
   ]
  },
  {
   "cell_type": "code",
   "execution_count": null,
   "metadata": {
    "colab": {
     "base_uri": "https://localhost:8080/",
     "height": 542
    },
    "id": "lytU01_JfNtk",
    "outputId": "a0bc5037-eff5-475c-8aae-207fb35ef8a4"
   },
   "outputs": [],
   "source": [
    "plot_accuracy_and_loss(history)"
   ]
  },
  {
   "cell_type": "code",
   "execution_count": null,
   "metadata": {
    "colab": {
     "base_uri": "https://localhost:8080/"
    },
    "id": "NedPtmaefbEy",
    "outputId": "27bde3a8-9feb-4bc3-c716-123522574a98"
   },
   "outputs": [],
   "source": [
    "score = model.evaluate(test_data, y_test,verbose=0)\n",
    "print(\"Test Loss:\",score[0])\n",
    "print(\"Test Accuracy:\",score[1])"
   ]
  },
  {
   "cell_type": "markdown",
   "metadata": {
    "id": "e4oOrOl2fgkl"
   },
   "source": [
    "# **Batch Normalization**"
   ]
  },
  {
   "cell_type": "code",
   "execution_count": null,
   "metadata": {
    "id": "jMWlcH8XfiYP"
   },
   "outputs": [],
   "source": [
    "datagen = ImageDataGenerator(\n",
    "        rotation_range=0.05,    #Randomly rotate images in the range\n",
    "        zoom_range = 0.2,       #Randomly zoom image\n",
    "        width_shift_range=0.1,  #Randomly shift images horizontally\n",
    "        height_shift_range=0.1, #Randomly shift images vertically\n",
    "        shear_range=0.05\n",
    ")\n",
    "\n",
    "datagen.fit(x_train)"
   ]
  },
  {
   "cell_type": "code",
   "execution_count": null,
   "metadata": {
    "id": "L2gBCZkfflQa"
   },
   "outputs": [],
   "source": [
    "# model = Sequential()\n",
    "model = tf.keras.Sequential()\n",
    "\n",
    "#1. CNN LAYER\n",
    "model.add(tf.keras.layers.Conv2D(filters = 32, kernel_size = (3,3), padding = 'Same', input_shape=(28, 28, 1)))\n",
    "model.add(tf.keras.layers.BatchNormalization())\n",
    "model.add(tf.keras.layers.Activation(\"relu\"))\n",
    "\n",
    "#2. CNN LAYER\n",
    "model.add(tf.keras.layers.Conv2D(filters = 32, kernel_size = (3,3), padding = 'Same'))\n",
    "model.add(tf.keras.layers.BatchNormalization())\n",
    "model.add(tf.keras.layers.Activation(\"relu\"))\n",
    "\n",
    "model.add(tf.keras.layers.MaxPool2D(pool_size=(2, 2)))\n",
    "\n",
    "#3. CNN LAYER\n",
    "model.add(tf.keras.layers.Conv2D(filters = 64, kernel_size = (3,3), padding = 'Same'))\n",
    "model.add(tf.keras.layers.BatchNormalization())\n",
    "model.add(tf.keras.layers.Activation(\"relu\"))\n",
    "\n",
    "#4. CNN LAYER\n",
    "model.add(tf.keras.layers.Conv2D(filters = 64, kernel_size = (3,3), padding = 'Same'))\n",
    "model.add(tf.keras.layers.BatchNormalization())\n",
    "model.add(tf.keras.layers.Activation(\"relu\"))\n",
    "\n",
    "model.add(tf.keras.layers.MaxPool2D(pool_size=(2, 2)))\n",
    "\n",
    "#FULLY CONNECTED LAYER\n",
    "model.add(tf.keras.layers.Flatten())\n",
    "model.add(tf.keras.layers.Dense(256))\n",
    "model.add(tf.keras.layers.BatchNormalization())\n",
    "model.add(tf.keras.layers.Activation(\"relu\"))\n",
    "\n",
    "#OUTPUT LAYER\n",
    "model.add(tf.keras.layers.Dense(10, activation='softmax'))"
   ]
  },
  {
   "cell_type": "code",
   "execution_count": null,
   "metadata": {
    "colab": {
     "base_uri": "https://localhost:8080/"
    },
    "id": "uXOpFGLHfoB0",
    "outputId": "56df4015-778a-41a3-b639-49047d67bf92"
   },
   "outputs": [],
   "source": [
    "optimizer = Adam()\n",
    "model.compile(optimizer = optimizer, loss = \"categorical_crossentropy\", metrics=[\"accuracy\"])\n",
    "\n",
    "model.summary()"
   ]
  },
  {
   "cell_type": "code",
   "execution_count": null,
   "metadata": {
    "colab": {
     "base_uri": "https://localhost:8080/"
    },
    "id": "SwLZ5REmfrid",
    "outputId": "b98c41bf-81b7-4e50-cb0d-1f623634d949"
   },
   "outputs": [],
   "source": [
    "NO_EPOCHS = 50\n",
    "history = model.fit(datagen.flow(x_train, y_train, batch_size=BATCH_SIZE),\n",
    "                              shuffle=True,\n",
    "                              epochs=NO_EPOCHS, validation_data = (x_val, y_val),\n",
    "                              verbose=1, steps_per_epoch=x_train.shape[0] // BATCH_SIZE)"
   ]
  },
  {
   "cell_type": "code",
   "execution_count": null,
   "metadata": {
    "colab": {
     "base_uri": "https://localhost:8080/",
     "height": 542
    },
    "id": "NpcC69qOfy3V",
    "outputId": "a4f05a82-6b04-440b-e053-fff5d9954384"
   },
   "outputs": [],
   "source": [
    "plot_accuracy_and_loss(history)"
   ]
  },
  {
   "cell_type": "code",
   "execution_count": null,
   "metadata": {
    "colab": {
     "base_uri": "https://localhost:8080/"
    },
    "id": "rLW5uGfqf0fr",
    "outputId": "1a1adf1b-d08b-4e07-ac53-bdc74b70f263"
   },
   "outputs": [],
   "source": [
    "score = model.evaluate(test_data, y_test,verbose=0)\n",
    "print(\"Test Loss:\",score[0])\n",
    "print(\"Test Accuracy:\",score[1])"
   ]
  },
  {
   "cell_type": "markdown",
   "metadata": {
    "id": "XUcQT1S5f4Sb"
   },
   "source": [
    "# **Dropout**"
   ]
  },
  {
   "cell_type": "code",
   "execution_count": null,
   "metadata": {
    "id": "kNbvdaQMf62Z"
   },
   "outputs": [],
   "source": [
    "datagen = ImageDataGenerator(\n",
    "        rotation_range=0.05,    #Randomly rotate images in the range\n",
    "        zoom_range=0.2,         #Randomly zoom image\n",
    "        width_shift_range=0.1,  #Randomly shift images horizontally\n",
    "        height_shift_range=0.1, #Randomly shift images vertically\n",
    "        shear_range=0.05        #Randomly shear images\n",
    ")\n",
    "\n",
    "datagen.fit(x_train)"
   ]
  },
  {
   "cell_type": "code",
   "execution_count": null,
   "metadata": {
    "id": "yVeubauWf9fX"
   },
   "outputs": [],
   "source": [
    "# model = Sequential()\n",
    "model = tf.keras.Sequential()\n",
    "\n",
    "#1. CNN LAYER\n",
    "model.add(tf.keras.layers.Conv2D(filters = 32, kernel_size = (3,3), padding = 'Same', input_shape=(28, 28, 1)))\n",
    "model.add(tf.keras.layers.BatchNormalization())\n",
    "model.add(tf.keras.layers.Activation(\"relu\"))\n",
    "model.add(tf.keras.layers.Dropout(0.3))\n",
    "\n",
    "#2. CNN LAYER\n",
    "model.add(tf.keras.layers.Conv2D(filters = 32, kernel_size = (3,3), padding = 'Same'))\n",
    "model.add(tf.keras.layers.BatchNormalization())\n",
    "model.add(tf.keras.layers.Activation(\"relu\"))\n",
    "\n",
    "model.add(tf.keras.layers.MaxPool2D(pool_size=(2, 2)))\n",
    "model.add(tf.keras.layers.Dropout(0.3))\n",
    "\n",
    "#3. CNN LAYER\n",
    "model.add(tf.keras.layers.Conv2D(filters = 64, kernel_size = (3,3), padding = 'Same'))\n",
    "model.add(tf.keras.layers.BatchNormalization())\n",
    "model.add(tf.keras.layers.Activation(\"relu\"))\n",
    "model.add(tf.keras.layers.Dropout(0.3))\n",
    "\n",
    "#4. CNN LAYER\n",
    "model.add(tf.keras.layers.Conv2D(filters = 64, kernel_size = (3,3), padding = 'Same'))\n",
    "model.add(tf.keras.layers.BatchNormalization())\n",
    "model.add(tf.keras.layers.Activation(\"relu\"))\n",
    "\n",
    "model.add(tf.keras.layers.MaxPool2D(pool_size=(2, 2)))\n",
    "model.add(tf.keras.layers.Dropout(0.3))\n",
    "\n",
    "\n",
    "#FULLY CONNECTED LAYER\n",
    "model.add(tf.keras.layers.Flatten())\n",
    "model.add(tf.keras.layers.Dense(256))\n",
    "model.add(tf.keras.layers.BatchNormalization())\n",
    "model.add(tf.keras.layers.Activation(\"relu\"))\n",
    "model.add(tf.keras.layers.Dropout(0.30))\n",
    "\n",
    "#OUTPUT LAYER\n",
    "model.add(tf.keras.layers.Dense(10, activation='softmax'))"
   ]
  },
  {
   "cell_type": "code",
   "execution_count": null,
   "metadata": {
    "colab": {
     "base_uri": "https://localhost:8080/"
    },
    "id": "S8YcIuM1gC6u",
    "outputId": "772650c2-5d76-4f01-b981-e417094f8769"
   },
   "outputs": [],
   "source": [
    "optimizer = Adam()\n",
    "model.compile(optimizer = optimizer, loss = \"categorical_crossentropy\", metrics=[\"accuracy\"])\n",
    "\n",
    "model.summary()"
   ]
  },
  {
   "cell_type": "code",
   "execution_count": null,
   "metadata": {
    "colab": {
     "base_uri": "https://localhost:8080/"
    },
    "id": "KoRwZXBCgEwi",
    "outputId": "53f59132-e491-434c-deab-5880b8b057c0"
   },
   "outputs": [],
   "source": [
    "NO_EPOCHS = 200\n",
    "\n",
    "history = model.fit(datagen.flow(x_train, y_train, batch_size=BATCH_SIZE),\n",
    "                              shuffle=True,\n",
    "                              epochs=NO_EPOCHS, validation_data = (x_val, y_val),\n",
    "                              verbose = 1, steps_per_epoch=x_train.shape[0] // BATCH_SIZE)"
   ]
  },
  {
   "cell_type": "code",
   "execution_count": null,
   "metadata": {
    "colab": {
     "base_uri": "https://localhost:8080/",
     "height": 542
    },
    "id": "CMHQzoe3gHpB",
    "outputId": "a45de523-4592-421d-a225-28dc2664c0b6"
   },
   "outputs": [],
   "source": [
    "plot_accuracy_and_loss(history)"
   ]
  },
  {
   "cell_type": "code",
   "execution_count": null,
   "metadata": {
    "colab": {
     "base_uri": "https://localhost:8080/"
    },
    "id": "UgL8mUkCgJaS",
    "outputId": "51a037d6-4466-47fd-dfb6-46f9422b88db"
   },
   "outputs": [],
   "source": [
    "score = model.evaluate(test_data, y_test,verbose=0)\n",
    "print(\"Test Loss:\",score[0])\n",
    "print(\"Test Accuracy:\",score[1])"
   ]
  },
  {
   "cell_type": "code",
   "execution_count": null,
   "metadata": {
    "id": "N9A4PDXYiwa0"
   },
   "outputs": [],
   "source": []
  }
 ],
 "metadata": {
  "accelerator": "GPU",
  "colab": {
   "collapsed_sections": [],
   "machine_shape": "hm",
   "name": "PDL_08.ipynb",
   "provenance": []
  },
  "kernelspec": {
   "display_name": "Python 3 (ipykernel)",
   "language": "python",
   "name": "python3"
  },
  "language_info": {
   "codemirror_mode": {
    "name": "ipython",
    "version": 3
   },
   "file_extension": ".py",
   "mimetype": "text/x-python",
   "name": "python",
   "nbconvert_exporter": "python",
   "pygments_lexer": "ipython3",
   "version": "3.9.7"
  }
 },
 "nbformat": 4,
 "nbformat_minor": 1
}
