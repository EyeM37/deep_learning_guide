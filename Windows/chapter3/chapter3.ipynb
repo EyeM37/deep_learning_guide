{
 "cells": [
  {
   "cell_type": "code",
   "execution_count": null,
   "metadata": {
    "id": "dYCZcGM-BYyn"
   },
   "outputs": [],
   "source": [
    "pip install -U https://github.com/pandas-profiling/pandas-profiling/archive/master.zip"
   ]
  },
  {
   "cell_type": "code",
   "execution_count": null,
   "metadata": {
    "id": "nre7I1NDBpjV"
   },
   "outputs": [],
   "source": [
    "import numpy as np\n",
    "import pandas as pd\n",
    "from pandas_profiling import ProfileReport"
   ]
  },
  {
   "cell_type": "code",
   "execution_count": null,
   "metadata": {
    "id": "olkxA9FXBuJ7"
   },
   "outputs": [],
   "source": [
    "df = pd.read_csv('winemag-data_first150k.csv', sep = ';')"
   ]
  },
  {
   "cell_type": "code",
   "execution_count": null,
   "metadata": {
    "id": "OwT4IoYwB1-_"
   },
   "outputs": [],
   "source": [
    "profile = ProfileReport(df, title=\"Pandas Profiling Report\")\n",
    "profile"
   ]
  },
  {
   "cell_type": "code",
   "execution_count": null,
   "metadata": {
    "id": "40ZBREHaB-BI"
   },
   "outputs": [],
   "source": [
    "print(df.isnull().sum())"
   ]
  },
  {
   "cell_type": "code",
   "execution_count": null,
   "metadata": {
    "id": "fOGbTUZ2CrhN"
   },
   "outputs": [],
   "source": [
    "df.head()"
   ]
  },
  {
   "cell_type": "markdown",
   "metadata": {
    "id": "pyadMQ17CyY2"
   },
   "source": [
    "# **Imputation**"
   ]
  },
  {
   "cell_type": "code",
   "execution_count": null,
   "metadata": {
    "id": "_h154LV1CtkH"
   },
   "outputs": [],
   "source": [
    "new_df = df.copy()\n",
    "new_df['price'].fillna(df['price'].mean(), inplace = True)"
   ]
  },
  {
   "cell_type": "code",
   "execution_count": null,
   "metadata": {
    "id": "A0N_UsNPCxkT"
   },
   "outputs": [],
   "source": [
    "print(new_df.isnull().sum())"
   ]
  },
  {
   "cell_type": "code",
   "execution_count": null,
   "metadata": {
    "id": "FXp1dT-gC4Qz"
   },
   "outputs": [],
   "source": [
    "df.isnull().mean()"
   ]
  },
  {
   "cell_type": "code",
   "execution_count": null,
   "metadata": {
    "id": "UOqgV332C6fK"
   },
   "outputs": [],
   "source": [
    "threshold = 0.5\n",
    "new_df = df[df.columns[df.isnull().mean() < threshold]]"
   ]
  },
  {
   "cell_type": "code",
   "execution_count": null,
   "metadata": {
    "id": "FCPoCHUFC8bL"
   },
   "outputs": [],
   "source": [
    "new_df.isnull().mean()"
   ]
  },
  {
   "cell_type": "code",
   "execution_count": null,
   "metadata": {
    "id": "TG866q7gDD6K"
   },
   "outputs": [],
   "source": [
    "print(df.shape)\n",
    "\n",
    "new_df = df.loc[df.isnull().mean(axis=1) < threshold]\n",
    "\n",
    "print(new_df.shape)"
   ]
  },
  {
   "cell_type": "code",
   "execution_count": null,
   "metadata": {
    "id": "peaC9Z-gDGXu"
   },
   "outputs": [],
   "source": [
    "print(new_df.isnull().sum())"
   ]
  },
  {
   "cell_type": "code",
   "execution_count": null,
   "metadata": {
    "id": "KABppQVpDIwT"
   },
   "outputs": [],
   "source": [
    "print(df.median())\n",
    "new_df = df.fillna(df.median())"
   ]
  },
  {
   "cell_type": "code",
   "execution_count": null,
   "metadata": {
    "id": "ljpNN2CoDLje"
   },
   "outputs": [],
   "source": [
    "print(new_df.isnull().sum())"
   ]
  },
  {
   "cell_type": "code",
   "execution_count": null,
   "metadata": {
    "id": "jckm5eWgDPd9"
   },
   "outputs": [],
   "source": [
    "new_df = df.fillna(0)"
   ]
  },
  {
   "cell_type": "code",
   "execution_count": null,
   "metadata": {
    "id": "alkPtqllDRiv"
   },
   "outputs": [],
   "source": [
    "print(new_df.isnull().sum())"
   ]
  },
  {
   "cell_type": "code",
   "execution_count": null,
   "metadata": {
    "id": "2R1mok7-DS2i"
   },
   "outputs": [],
   "source": [
    "new_df.head()"
   ]
  },
  {
   "cell_type": "code",
   "execution_count": null,
   "metadata": {
    "id": "oWrkYcjwDVEv"
   },
   "outputs": [],
   "source": [
    "print(df.shape)\n",
    "\n",
    "new_df = df.dropna(how='any')\n",
    "\n",
    "print(new_df.shape)"
   ]
  },
  {
   "cell_type": "markdown",
   "metadata": {
    "id": "sEgiGWZ4Dbz5"
   },
   "source": [
    "# **Handling Outliers**"
   ]
  },
  {
   "cell_type": "code",
   "execution_count": null,
   "metadata": {
    "id": "L4zkecuBDYTl"
   },
   "outputs": [],
   "source": [
    "import seaborn as sns\n",
    "from matplotlib import pyplot as plt "
   ]
  },
  {
   "cell_type": "code",
   "execution_count": null,
   "metadata": {
    "id": "A11jpWMtDenp"
   },
   "outputs": [],
   "source": [
    "fig = plt.figure(figsize=(12,8))\n",
    "sns.boxplot(x=df['price'], color='lime')\n",
    "plt.xlabel('Price Featured', fontsize=14)\n",
    "plt.savefig('boxplot.png', dpi=300)"
   ]
  },
  {
   "cell_type": "code",
   "execution_count": null,
   "metadata": {
    "id": "LAfcbmpFDjtx"
   },
   "outputs": [],
   "source": [
    "df['price'].describe()"
   ]
  },
  {
   "cell_type": "markdown",
   "metadata": {
    "id": "2EmdJw-jEaib"
   },
   "source": [
    "**Drop Outlier with Standard Deviation**"
   ]
  },
  {
   "cell_type": "code",
   "execution_count": null,
   "metadata": {
    "id": "PbBuhPucDlbY"
   },
   "outputs": [],
   "source": [
    "print(df.shape)\n",
    "\n",
    "factor = 3\n",
    "upper_lim = df['price'].mean () + df['price'].std () * factor\n",
    "lower_lim = df['price'].mean () - df['price'].std () * factor\n",
    "\n",
    "drop_outlier1 = df[(df['price'] < upper_lim) & (df['price'] > lower_lim)]\n",
    "\n",
    "print(drop_outlier1.shape)"
   ]
  },
  {
   "cell_type": "code",
   "execution_count": null,
   "metadata": {
    "id": "mBv9x5DYDoQB"
   },
   "outputs": [],
   "source": [
    "fig = plt.figure(figsize=(12,8))\n",
    "sns.boxplot(x=drop_outlier1['price'], color='lime')\n",
    "plt.xlabel('Price Featured', fontsize=14)\n",
    "plt.savefig('boxplot.png', dpi=300)"
   ]
  },
  {
   "cell_type": "code",
   "execution_count": null,
   "metadata": {
    "id": "lgQ9vJKBDt4Q"
   },
   "outputs": [],
   "source": [
    "drop_outlier1['price'].describe()"
   ]
  },
  {
   "cell_type": "code",
   "execution_count": null,
   "metadata": {
    "id": "SWRwRuSxDwRA"
   },
   "outputs": [],
   "source": [
    "a = [1, 2, 3, 4, 5, 6, 7, 8, 9, 10]\n",
    "test_df = pd.DataFrame(a, columns=['A'])\n",
    "test_df"
   ]
  },
  {
   "cell_type": "code",
   "execution_count": null,
   "metadata": {
    "id": "a7D3slp-Dypq"
   },
   "outputs": [],
   "source": [
    "test_df[(test_df['A'] < 8) & (test_df['A'] > 5)]"
   ]
  },
  {
   "cell_type": "markdown",
   "metadata": {
    "id": "2HBKOxpEESp_"
   },
   "source": [
    "**Drop with Percentiles**"
   ]
  },
  {
   "cell_type": "code",
   "execution_count": null,
   "metadata": {
    "id": "N3nEQ6X8EJ8H"
   },
   "outputs": [],
   "source": [
    "print(df.shape)\n",
    "\n",
    "upper_lim = df['price'].quantile(.95)\n",
    "lower_lim = df['price'].quantile(.05)\n",
    "\n",
    "drop_outlier2 = df[(df['price'] < upper_lim) & (df['price'] > lower_lim)]\n",
    "\n",
    "print(drop_outlier2.shape)"
   ]
  },
  {
   "cell_type": "code",
   "execution_count": null,
   "metadata": {
    "id": "bkK7Tl9hERfF"
   },
   "outputs": [],
   "source": [
    "fig = plt.figure(figsize=(12,8))\n",
    "sns.boxplot(x=drop_outlier2['price'], color='lime')\n",
    "plt.xlabel('Price Featured', fontsize=14)\n",
    "plt.savefig('boxplot.png', dpi=300)"
   ]
  },
  {
   "cell_type": "code",
   "execution_count": null,
   "metadata": {
    "id": "mgusrahnEpvz"
   },
   "outputs": [],
   "source": [
    "drop_outlier2['price'].describe()"
   ]
  },
  {
   "cell_type": "markdown",
   "metadata": {
    "id": "UDed3m0MEs6A"
   },
   "source": [
    "# **Binning**"
   ]
  },
  {
   "cell_type": "code",
   "execution_count": null,
   "metadata": {
    "id": "ufgCwRq7Erwn"
   },
   "outputs": [],
   "source": [
    "labels = ['low', 'mid', 'high']\n",
    "bins = [0., 20., 40., 100.]\n",
    "\n",
    "drop_outlier2['price_cat'] = pd.cut(drop_outlier2['price'], labels=labels, bins=bins, include_lowest=False)"
   ]
  },
  {
   "cell_type": "code",
   "execution_count": null,
   "metadata": {
    "id": "1HMxa7n9EyD4"
   },
   "outputs": [],
   "source": [
    "drop_outlier2.sample(n=5).head()"
   ]
  },
  {
   "cell_type": "markdown",
   "metadata": {
    "id": "q3wJyfwYE-GH"
   },
   "source": [
    "# **Log Transform**"
   ]
  },
  {
   "cell_type": "code",
   "execution_count": null,
   "metadata": {
    "id": "DU8ugvhsE7f7"
   },
   "outputs": [],
   "source": [
    "ax = drop_outlier2['price'].plot.hist(bins=12, alpha=0.5)\n",
    "ax.figure.savefig('his.png', dpi=300)"
   ]
  },
  {
   "cell_type": "code",
   "execution_count": null,
   "metadata": {
    "id": "H9yBQ49SFBy6"
   },
   "outputs": [],
   "source": [
    "drop_outlier2['log'] = drop_outlier2['price'].transform(np.log)"
   ]
  },
  {
   "cell_type": "code",
   "execution_count": null,
   "metadata": {
    "id": "dDBldNUiFEjd"
   },
   "outputs": [],
   "source": [
    "ax = drop_outlier2['log'].plot.hist(bins=12, alpha=0.5)\n",
    "ax.figure.savefig('his.png', dpi=300)"
   ]
  },
  {
   "cell_type": "code",
   "execution_count": null,
   "metadata": {
    "id": "Kl6wEmHvFG0Z"
   },
   "outputs": [],
   "source": [
    "drop_outlier2.sample(n=5).head()"
   ]
  },
  {
   "cell_type": "markdown",
   "metadata": {
    "id": "UoKUcpu5FM5y"
   },
   "source": [
    "# **One-hot Encoding**"
   ]
  },
  {
   "cell_type": "code",
   "execution_count": null,
   "metadata": {
    "id": "N7S3KPhqFI50"
   },
   "outputs": [],
   "source": [
    "encoded_columns = pd.get_dummies(drop_outlier2['price_cat'])\n",
    "drop_outlier2 = drop_outlier2.join(encoded_columns)"
   ]
  },
  {
   "cell_type": "code",
   "execution_count": null,
   "metadata": {
    "id": "amdNwf67FR4Z"
   },
   "outputs": [],
   "source": [
    "drop_outlier2.sample(n=5).head()"
   ]
  },
  {
   "cell_type": "code",
   "execution_count": null,
   "metadata": {
    "id": "wCuKYHwpFTX2"
   },
   "outputs": [],
   "source": []
  }
 ],
 "metadata": {
  "colab": {
   "name": "PDL-03.ipynb",
   "provenance": []
  },
  "kernelspec": {
   "display_name": "Python 3 (ipykernel)",
   "language": "python",
   "name": "python3"
  },
  "language_info": {
   "codemirror_mode": {
    "name": "ipython",
    "version": 3
   },
   "file_extension": ".py",
   "mimetype": "text/x-python",
   "name": "python",
   "nbconvert_exporter": "python",
   "pygments_lexer": "ipython3",
   "version": "3.9.7"
  }
 },
 "nbformat": 4,
 "nbformat_minor": 1
}
