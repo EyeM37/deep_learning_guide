{
 "cells": [
  {
   "cell_type": "code",
   "execution_count": null,
   "metadata": {
    "id": "buMQLouAIpMA"
   },
   "outputs": [],
   "source": [
    "import tensorflow as tf\n",
    "K = tf.keras.backend\n",
    "Callback = tf.keras.callbacks.Callback\n",
    "ReduceLROnPlateau = tf.keras.callbacks.ReduceLROnPlateau\n",
    "\n",
    "to_categorical = tf.keras.utils.to_categorical\n",
    "\n",
    "from sklearn.datasets import make_blobs\n",
    "from matplotlib import pyplot\n",
    "from numpy import where\n",
    "\n",
    "from sklearn.model_selection import train_test_split\n",
    "\n",
    "import pandas as pd\n",
    "import plotly.express as px\n",
    "from plotly.subplots import make_subplots\n",
    "import plotly.graph_objects as go\n",
    "import plotly"
   ]
  },
  {
   "cell_type": "code",
   "execution_count": null,
   "metadata": {
    "id": "iOZ2b8nYJg4P"
   },
   "outputs": [],
   "source": [
    "x, y = make_blobs(n_samples=3000, centers=3, n_features=2, cluster_std=2, random_state=2)"
   ]
  },
  {
   "cell_type": "code",
   "execution_count": null,
   "metadata": {
    "id": "4TT_OULQJlMV"
   },
   "outputs": [],
   "source": [
    "x_train, x_val, y_train, y_val = train_test_split(x, y, test_size=0.4, shuffle= True)\n",
    "x_train.shape, x_val.shape, y_train.shape, y_val.shape"
   ]
  },
  {
   "cell_type": "code",
   "execution_count": null,
   "metadata": {
    "id": "kCsU6ebIJn4c"
   },
   "outputs": [],
   "source": [
    "x_train_pd = pd.DataFrame(x_train, columns=['x', 'y'])\n",
    "y_train_pd = pd.DataFrame(y_train, columns=['class'])\n",
    "\n",
    "df = pd.concat([x_train_pd, y_train_pd], axis=1)\n",
    "df[\"class\"] = df[\"class\"].astype(str)"
   ]
  },
  {
   "cell_type": "code",
   "execution_count": null,
   "metadata": {
    "id": "4iuy_m64JroL"
   },
   "outputs": [],
   "source": [
    "fig = px.scatter(df, x=\"x\", y=\"y\", color=\"class\")\n",
    "fig.show()"
   ]
  },
  {
   "cell_type": "code",
   "execution_count": null,
   "metadata": {
    "id": "idER9B56Jtas"
   },
   "outputs": [],
   "source": [
    "y_train = to_categorical(y_train)\n",
    "y_val = to_categorical(y_val)"
   ]
  },
  {
   "cell_type": "code",
   "execution_count": null,
   "metadata": {
    "id": "tNaPc7hfJwJf"
   },
   "outputs": [],
   "source": [
    "def create_model1(learning_rates):\n",
    "    model = tf.keras.Sequential()\n",
    "    model.add(tf.keras.layers.Dense(50, input_dim=2, activation='relu', kernel_initializer='he_uniform'))\n",
    "    model.add(tf.keras.layers.Dense(3, activation='softmax', kernel_initializer='he_uniform'))\n",
    "    \n",
    "    opt = tf.keras.optimizers.SGD(learning_rate=learning_rates)\n",
    "    model.compile(loss='categorical_crossentropy', optimizer=opt, metrics=['accuracy'])\n",
    "    \n",
    "    return model"
   ]
  },
  {
   "cell_type": "markdown",
   "metadata": {
    "id": "2PKnJN_JJ3Oc"
   },
   "source": [
    "#Train Model และ Plot กราฟ accuracy และ val_accuracy "
   ]
  },
  {
   "cell_type": "code",
   "execution_count": null,
   "metadata": {
    "id": "VWCaPwfLJzAI"
   },
   "outputs": [],
   "source": [
    "learning_rates = [1.0, 0.1, 0.01, 0.001, 0.0001, 0.00001, 0.000001, 0.0000001]\n",
    "\n",
    "fig = make_subplots(\n",
    "    rows=4, cols=2,\n",
    "    subplot_titles=('learning_rate=1.0', 'learning_rate=0.1', 'learning_rate=0.01', 'learning_rate=0.001', 'learning_rate=0.0001', 'learning_rate=0.00001', 'learning_rate=0.000001', 'learning_rate=0.0000001')\n",
    ")\n",
    "\n",
    "for i in range(len(learning_rates)):\n",
    "    model = create_model1(learning_rates[i])\n",
    "    \n",
    "    row = (i//2)+1\n",
    "    col = (i%2)+1\n",
    "    history = model.fit(x_train, y_train, validation_data=(x_val, y_val), epochs=200, verbose=0)\n",
    "    \n",
    "    fig.add_trace(go.Scatter(y=history.history['accuracy'], line=dict(color='blue')), row=row, col=col)\n",
    "    fig.add_trace(go.Scatter(y=history.history['val_accuracy'], line=dict(color='red')), row=row, col=col)\n",
    "    \n",
    "    fig.update_xaxes(title_text='Epochs', showgrid=False, row=row, col=col)\n",
    "    fig.update_yaxes(title_text='Accuracy', showgrid=False, row=row, col=col)\n",
    "    \n",
    "fig.update_layout(title_text='Impact of Learning Rate', height=750, showlegend=False)   "
   ]
  },
  {
   "cell_type": "markdown",
   "metadata": {
    "id": "1nR913YuKYPv"
   },
   "source": [
    "# **Momentum**"
   ]
  },
  {
   "cell_type": "code",
   "execution_count": null,
   "metadata": {
    "id": "oV1jZxSWKEbl"
   },
   "outputs": [],
   "source": [
    "def create_model2(momentum):\n",
    "    model = tf.keras.Sequential()\n",
    "    model.add(tf.keras.layers.Dense(50, input_dim=2, activation='relu', kernel_initializer='he_uniform'))\n",
    "    model.add(tf.keras.layers.Dense(3, activation='softmax', kernel_initializer='he_uniform'))\n",
    "    \n",
    "    opt = tf.keras.optimizers.SGD(learning_rate=0.01, momentum=momentum)\n",
    "    model.compile(loss='categorical_crossentropy', optimizer=opt, metrics=['accuracy'])\n",
    "    \n",
    "    return model"
   ]
  },
  {
   "cell_type": "code",
   "execution_count": null,
   "metadata": {
    "id": "JOUYgtzSKdqj"
   },
   "outputs": [],
   "source": [
    "momentums = [0.0, 0.5, 0.9, 0.99]\n",
    "\n",
    "fig = make_subplots(\n",
    "    rows=4, cols=2,\n",
    "    subplot_titles=('Momentum=0.0', 'Momentum=0.5', 'Momentum=0.9', 'Momentum=0.99')\n",
    ")\n",
    "\n",
    "for i in range(len(momentums)):\n",
    "    model = create_model2(momentums[i])\n",
    "    \n",
    "    row = (i//2)+1\n",
    "    col = (i%2)+1\n",
    "    history = model.fit(x_train, y_train, validation_data=(x_val, y_val), epochs=200, verbose=0)\n",
    "    \n",
    "    fig.add_trace(go.Scatter(y=history.history['accuracy'], line=dict(color='blue')), row=row, col=col)\n",
    "    fig.add_trace(go.Scatter(y=history.history['val_accuracy'], line=dict(color='red')), row=row, col=col)\n",
    "    \n",
    "    fig.update_xaxes(title_text='Epochs', showgrid=False, row=row, col=col)\n",
    "    fig.update_yaxes(title_text='Accuracy', showgrid=False, row=row, col=col)\n",
    "    \n",
    "fig.update_layout(title_text='Impact of Momentum', height=750, showlegend=False)   \n"
   ]
  },
  {
   "cell_type": "markdown",
   "metadata": {
    "id": "GWtAcJ7nObvv"
   },
   "source": [
    "# **Learning Rate Decay**"
   ]
  },
  {
   "cell_type": "code",
   "execution_count": null,
   "metadata": {
    "id": "2Et3hMWWOXz7"
   },
   "outputs": [],
   "source": [
    "def decay_lrate(initial_lrate, decay, iteration):\n",
    "    return initial_lrate * (1.0 / (1.0 + decay * iteration))"
   ]
  },
  {
   "cell_type": "code",
   "execution_count": null,
   "metadata": {
    "id": "tjrUhes-OhWZ"
   },
   "outputs": [],
   "source": [
    "data = []\n",
    "decays = [0.1, 0.01, 0.001, 0.0001]\n",
    "learning_rate = 0.01\n",
    "EPOCH = 200\n",
    "colors = ['red', 'green', 'blue', 'orange']\n",
    "\n",
    "for i, decay in enumerate(decays):\n",
    "    learning_rates = [decay_lrate(learning_rate, decay, i) for i in range(EPOCH)]\n",
    "    \n",
    "    h = go.Scatter(y=learning_rates, \n",
    "                     mode=\"lines\",\n",
    "                     line=dict(\n",
    "                         width=2,\n",
    "                         color=colors[i]),\n",
    "                     name=str(decay))\n",
    "    \n",
    "    data.append(h)\n",
    "    \n",
    "layout1 = go.Layout(title='Learning Rate',\n",
    "                   xaxis=dict(title='Epochs'),\n",
    "                   yaxis=dict(title=''))\n",
    "fig1 = go.Figure(data, layout=layout1)\n",
    "plotly.offline.iplot(fig1)"
   ]
  },
  {
   "cell_type": "code",
   "execution_count": null,
   "metadata": {
    "id": "UHU7NIcLOpN9"
   },
   "outputs": [],
   "source": [
    "def create_model3(decay):\n",
    "    model = tf.keras.Sequential()\n",
    "    model.add(tf.keras.layers.Dense(50, input_dim=2, activation='relu', kernel_initializer='he_uniform'))\n",
    "    model.add(tf.keras.layers.Dense(3, activation='softmax', kernel_initializer='he_uniform'))\n",
    "    \n",
    "    opt = tf.keras.optimizers.SGD(learning_rate=0.01, decay=decay)\n",
    "    model.compile(loss='categorical_crossentropy', optimizer=opt, metrics=['accuracy'])\n",
    "    \n",
    "    return model"
   ]
  },
  {
   "cell_type": "code",
   "execution_count": null,
   "metadata": {
    "id": "R7m5dgS6OtE_"
   },
   "outputs": [],
   "source": [
    "fig = make_subplots(\n",
    "    rows=2, cols=2,\n",
    "    subplot_titles=('Decay=0.1', 'Decay=0.01', 'Decay=0.001', 'Decay=0.0001')\n",
    ")\n",
    "\n",
    "for i in range(len(decays)):\n",
    "    model = create_model3(decays[i])\n",
    "    \n",
    "    row = (i//2)+1\n",
    "    col = (i%2)+1\n",
    "    history = model.fit(x_train, y_train, validation_data=(x_val, y_val), epochs=200, verbose=0)\n",
    "    \n",
    "    fig.add_trace(go.Scatter(y=history.history['accuracy'], line=dict(color='blue')), row=row, col=col)\n",
    "    fig.add_trace(go.Scatter(y=history.history['val_accuracy'], line=dict(color='red')), row=row, col=col)\n",
    "    \n",
    "    fig.update_xaxes(title_text='Epochs', showgrid=False, row=row, col=col)\n",
    "    fig.update_yaxes(title_text='Accuracy', showgrid=False, row=row, col=col)\n",
    "    \n",
    "fig.update_layout(title_text='Impact of Decay', height=750, showlegend=False)   \n"
   ]
  },
  {
   "cell_type": "markdown",
   "metadata": {
    "id": "Paly6uxZPMLa"
   },
   "source": [
    "# **Drop Learning Rate on Plateau**"
   ]
  },
  {
   "cell_type": "code",
   "execution_count": null,
   "metadata": {
    "id": "FkO4u3KPOxHn"
   },
   "outputs": [],
   "source": [
    "class LearningRateMonitor(Callback):\n",
    "    def on_train_begin(self, logs={}):\n",
    "        self.learning_rates = list()\n",
    " \n",
    "    def on_epoch_end(self, epoch, logs={}):\n",
    "        optimizer = self.model.optimizer\n",
    "        learning_rate = float(K.get_value(self.model.optimizer.lr))\n",
    "        self.learning_rates.append(learning_rate)"
   ]
  },
  {
   "cell_type": "code",
   "execution_count": null,
   "metadata": {
    "id": "8FiXSUPFPcbq"
   },
   "outputs": [],
   "source": [
    "def create_model4(patience):\n",
    "    model = tf.keras.Sequential()\n",
    "    model.add(tf.keras.layers.Dense(50, input_dim=2, activation='relu', kernel_initializer='he_uniform'))\n",
    "    model.add(tf.keras.layers.Dense(3, activation='softmax', kernel_initializer='he_uniform'))\n",
    "    \n",
    "    opt = tf.keras.optimizers.SGD(learning_rate=0.01, decay=decay)\n",
    "    model.compile(loss='categorical_crossentropy', optimizer=opt, metrics=['accuracy'])\n",
    "    \n",
    "    rlrp = ReduceLROnPlateau(monitor='val_loss', factor=0.1, patience=patience)\n",
    "    lrm = LearningRateMonitor()\n",
    "    \n",
    "\n",
    "    return model, rlrp, lrm"
   ]
  },
  {
   "cell_type": "code",
   "execution_count": null,
   "metadata": {
    "id": "01vqhObrPlEq"
   },
   "outputs": [],
   "source": [
    "patiences = [2, 5, 10, 15]\n",
    "\n",
    "learning_rate_list=[]\n",
    "accuracy_list=[]\n",
    "loss_list=[]\n",
    "\n",
    "for i in range(len(patiences)):\n",
    "    model, rlrp, lrm = create_model4(patiences[i])\n",
    "    \n",
    "    history = model.fit(x_train, y_train, validation_data=(x_val, y_val), epochs=200, verbose=0, callbacks=[rlrp, lrm])\n",
    "    lrm.learning_rates\n",
    "    \n",
    "    learning_rate_list.append(lrm.learning_rates)\n",
    "    accuracy_list.append(history.history['val_accuracy'])\n",
    "    loss_list.append(history.history['val_loss'])"
   ]
  },
  {
   "cell_type": "code",
   "execution_count": null,
   "metadata": {
    "id": "AVTKDCslPp7N"
   },
   "outputs": [],
   "source": [
    "def patiences_plot(y, title_text):\n",
    "    fig = make_subplots(\n",
    "        rows=2, cols=2,\n",
    "        subplot_titles=('Patience=2', 'Patience=5', 'Patience=10', 'Patience=15')\n",
    "    )\n",
    "\n",
    "    for i in range(len(patiences)):\n",
    "        model = create_model4(patiences[i])\n",
    "\n",
    "        row = (i//2)+1\n",
    "        col = (i%2)+1\n",
    "        fig.add_trace(go.Scatter(y=y[i], line=dict(color='red')), row=row, col=col)\n",
    "        fig.update_xaxes(title_text='Epochs', showgrid=False, row=row, col=col)\n",
    "        fig.update_yaxes(title_text=title_text, showgrid=False, row=row, col=col)\n",
    "\n",
    "    fig.update_layout(title_text='Impact of Patience', height=750, showlegend=False)\n",
    "    fig.show()"
   ]
  },
  {
   "cell_type": "code",
   "execution_count": null,
   "metadata": {
    "id": "S8w64g72Puo7"
   },
   "outputs": [],
   "source": [
    "patiences_plot(learning_rate_list, 'Learning Rate')"
   ]
  },
  {
   "cell_type": "code",
   "execution_count": null,
   "metadata": {
    "id": "RUuZF700Py51"
   },
   "outputs": [],
   "source": [
    "patiences_plot(loss_list, 'val_loss')"
   ]
  },
  {
   "cell_type": "code",
   "execution_count": null,
   "metadata": {
    "id": "YDmvGBKwP3kR"
   },
   "outputs": [],
   "source": [
    "patiences_plot(accuracy_list, 'val_accuracy')"
   ]
  },
  {
   "cell_type": "markdown",
   "metadata": {
    "id": "Y20iwfoCP7Bf"
   },
   "source": [
    "# **Adaptive Learning Rates Gradient Descent**"
   ]
  },
  {
   "cell_type": "code",
   "execution_count": null,
   "metadata": {
    "id": "D10Su0geP-SG"
   },
   "outputs": [],
   "source": [
    "def create_model5(optimizer):\n",
    "    model = tf.keras.Sequential()\n",
    "    model.add(tf.keras.layers.Dense(50, input_dim=2, activation='relu', kernel_initializer='he_uniform'))\n",
    "    model.add(tf.keras.layers.Dense(3, activation='softmax', kernel_initializer='he_uniform'))\n",
    "    \n",
    "    model.compile(loss='categorical_crossentropy', optimizer=optimizer, metrics=['accuracy'])\n",
    "    \n",
    "    return model"
   ]
  },
  {
   "cell_type": "code",
   "execution_count": null,
   "metadata": {
    "id": "1XZ3rPppQBev"
   },
   "outputs": [],
   "source": [
    "optimizers = ['sgd', 'rmsprop', 'adagrad', 'adam']\n",
    "\n",
    "fig = make_subplots(\n",
    "    rows=2, cols=2,\n",
    "    subplot_titles=('Optimizer=sgd', 'Optimizer=rmsprop', 'Optimizer=adagrad', 'Optimizer=adam')\n",
    ")\n",
    "\n",
    "for i in range(len(optimizers)):\n",
    "    model = create_model5(optimizers[i])\n",
    "    \n",
    "    row = (i//2)+1\n",
    "    col = (i%2)+1\n",
    "    history = model.fit(x_train, y_train, validation_data=(x_val, y_val), epochs=200, verbose=0)\n",
    "    \n",
    "    fig.add_trace(go.Scatter(y=history.history['accuracy'], line=dict(color='blue')), row=row, col=col)\n",
    "    fig.add_trace(go.Scatter(y=history.history['val_accuracy'], line=dict(color='red')), row=row, col=col)\n",
    "    \n",
    "    fig.update_xaxes(title_text='Epochs', showgrid=False, row=row, col=col)\n",
    "    fig.update_yaxes(title_text='Accuracy', showgrid=False, row=row, col=col)\n",
    "    \n",
    "fig.update_layout(title_text='Impact of Optimizer', height=750, showlegend=False)   \n"
   ]
  },
  {
   "cell_type": "code",
   "execution_count": null,
   "metadata": {
    "id": "s35gDvEqQ7Ku"
   },
   "outputs": [],
   "source": []
  }
 ],
 "metadata": {
  "accelerator": "GPU",
  "colab": {
   "collapsed_sections": [],
   "name": "PDL_06.ipynb",
   "private_outputs": true,
   "provenance": []
  },
  "kernelspec": {
   "display_name": "Python 3 (ipykernel)",
   "language": "python",
   "name": "python3"
  },
  "language_info": {
   "codemirror_mode": {
    "name": "ipython",
    "version": 3
   },
   "file_extension": ".py",
   "mimetype": "text/x-python",
   "name": "python",
   "nbconvert_exporter": "python",
   "pygments_lexer": "ipython3",
   "version": "3.9.7"
  }
 },
 "nbformat": 4,
 "nbformat_minor": 1
}
